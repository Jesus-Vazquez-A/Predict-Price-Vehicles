{
 "cells": [
  {
   "cell_type": "markdown",
   "id": "c68f5b7a",
   "metadata": {},
   "source": [
    "## **Load Libraires**"
   ]
  },
  {
   "cell_type": "code",
   "execution_count": 1,
   "id": "442b54a1",
   "metadata": {},
   "outputs": [],
   "source": [
    "import pandas as pd\n",
    "from intervals import IntervalFit\n",
    "from histogram import histogram\n",
    "import warnings"
   ]
  },
  {
   "cell_type": "code",
   "execution_count": 2,
   "id": "1e130e9a",
   "metadata": {},
   "outputs": [],
   "source": [
    "warnings.filterwarnings(\"ignore\")"
   ]
  },
  {
   "cell_type": "code",
   "execution_count": 4,
   "id": "f382e37b",
   "metadata": {},
   "outputs": [],
   "source": [
    "ford = pd.read_csv('C:/Users/PC/Desktop/Car-Sales/data/cars_sales2.csv')\n",
    "ford = ford.query(\"manufacturer == 'Ford'\")"
   ]
  },
  {
   "cell_type": "code",
   "execution_count": 5,
   "id": "795500b1",
   "metadata": {},
   "outputs": [
    {
     "data": {
      "text/plain": [
       "array([' Fiesta', ' Focus', ' Kuga', ' EcoSport', ' C-MAX', ' Ka+',\n",
       "       ' Tourneo Custom', ' S-MAX', ' B-MAX', ' Edge', ' Tourneo Connect',\n",
       "       ' Puma', ' Mondeo', ' KA', ' Grand C-MAX', ' Galaxy', ' Mustang',\n",
       "       ' Grand Tourneo Connect', ' Fusion'], dtype=object)"
      ]
     },
     "execution_count": 5,
     "metadata": {},
     "output_type": "execute_result"
    }
   ],
   "source": [
    "ford.model.unique()"
   ]
  },
  {
   "cell_type": "code",
   "execution_count": 6,
   "id": "ca82ceb8",
   "metadata": {},
   "outputs": [
    {
     "data": {
      "text/plain": [
       "count    16965.000000\n",
       "mean     12041.257825\n",
       "std       4413.429620\n",
       "min       2095.000000\n",
       "25%       8995.000000\n",
       "50%      11000.000000\n",
       "75%      14990.000000\n",
       "max      54995.000000\n",
       "Name: price, dtype: float64"
      ]
     },
     "execution_count": 6,
     "metadata": {},
     "output_type": "execute_result"
    }
   ],
   "source": [
    "ford.price.describe()"
   ]
  },
  {
   "cell_type": "code",
   "execution_count": 7,
   "id": "f1757639",
   "metadata": {},
   "outputs": [
    {
     "data": {
      "image/png": "[encoded data removed]",
      "text/plain": [
       "<Figure size 1440x576 with 1 Axes>"
      ]
     },
     "metadata": {},
     "output_type": "display_data"
    }
   ],
   "source": [
    "_ = histogram(ford.price,\"Price\")"
   ]
  },
  {
   "cell_type": "code",
   "execution_count": 8,
   "id": "0f540d03",
   "metadata": {},
   "outputs": [
    {
     "data": {
      "text/html": [
       "<div><div id=dd97dd47-3687-47d7-821a-f6b8ea7ee051 style=\"display:none; background-color:#9D6CFF; color:white; width:200px; height:30px; padding-left:5px; border-radius:4px; flex-direction:row; justify-content:space-around; align-items:center;\" onmouseover=\"this.style.backgroundColor='#BA9BF8'\" onmouseout=\"this.style.backgroundColor='#9D6CFF'\" onclick=\"window.commands?.execute('create-mitosheet-from-dataframe-output');\">See Full Dataframe in Mito</div> <script> if (window.commands?.hasCommand('create-mitosheet-from-dataframe-output')) document.getElementById('dd97dd47-3687-47d7-821a-f6b8ea7ee051').style.display = 'flex' </script> <table border=\"1\" class=\"dataframe\">\n",
       "  <thead>\n",
       "    <tr style=\"text-align: right;\">\n",
       "      <th></th>\n",
       "      <th>model</th>\n",
       "      <th>year</th>\n",
       "      <th>price</th>\n",
       "      <th>transmission</th>\n",
       "      <th>mileage</th>\n",
       "      <th>fuelType</th>\n",
       "      <th>engineSize</th>\n",
       "      <th>manufacturer</th>\n",
       "    </tr>\n",
       "  </thead>\n",
       "  <tbody>\n",
       "    <tr>\n",
       "      <th>17138</th>\n",
       "      <td>Focus</td>\n",
       "      <td>2018</td>\n",
       "      <td>54995</td>\n",
       "      <td>Manual</td>\n",
       "      <td>11000</td>\n",
       "      <td>Petrol</td>\n",
       "      <td>2.3</td>\n",
       "      <td>Ford</td>\n",
       "    </tr>\n",
       "  </tbody>\n",
       "</table></div>"
      ],
      "text/plain": [
       "        model  year  price transmission  mileage fuelType  engineSize  \\\n",
       "17138   Focus  2018  54995       Manual    11000   Petrol         2.3   \n",
       "\n",
       "      manufacturer  \n",
       "17138         Ford  "
      ]
     },
     "execution_count": 8,
     "metadata": {},
     "output_type": "execute_result"
    }
   ],
   "source": [
    "ford[ford.price == ford.price.max()]"
   ]
  },
  {
   "cell_type": "markdown",
   "id": "ce69af72",
   "metadata": {},
   "source": [
    "It seems strange to me that the highest price belongs to a Ford Focus model year 2019."
   ]
  },
  {
   "cell_type": "code",
   "execution_count": 9,
   "id": "06166f22",
   "metadata": {},
   "outputs": [
    {
     "data": {
      "text/html": [
       "<div><div id=93114e65-a25c-4bfb-b1d2-7f7150ba441a style=\"display:none; background-color:#9D6CFF; color:white; width:200px; height:30px; padding-left:5px; border-radius:4px; flex-direction:row; justify-content:space-around; align-items:center;\" onmouseover=\"this.style.backgroundColor='#BA9BF8'\" onmouseout=\"this.style.backgroundColor='#9D6CFF'\" onclick=\"window.commands?.execute('create-mitosheet-from-dataframe-output');\">See Full Dataframe in Mito</div> <script> if (window.commands?.hasCommand('create-mitosheet-from-dataframe-output')) document.getElementById('93114e65-a25c-4bfb-b1d2-7f7150ba441a').style.display = 'flex' </script> <table border=\"1\" class=\"dataframe\">\n",
       "  <thead>\n",
       "    <tr style=\"text-align: right;\">\n",
       "      <th></th>\n",
       "      <th>model</th>\n",
       "      <th>year</th>\n",
       "      <th>price</th>\n",
       "      <th>transmission</th>\n",
       "      <th>mileage</th>\n",
       "      <th>fuelType</th>\n",
       "      <th>engineSize</th>\n",
       "      <th>manufacturer</th>\n",
       "    </tr>\n",
       "  </thead>\n",
       "  <tbody>\n",
       "    <tr>\n",
       "      <th>18240</th>\n",
       "      <td>Edge</td>\n",
       "      <td>2019</td>\n",
       "      <td>36000</td>\n",
       "      <td>Automatic</td>\n",
       "      <td>4921</td>\n",
       "      <td>Diesel</td>\n",
       "      <td>2.0</td>\n",
       "      <td>Ford</td>\n",
       "    </tr>\n",
       "    <tr>\n",
       "      <th>16503</th>\n",
       "      <td>Mustang</td>\n",
       "      <td>2019</td>\n",
       "      <td>36799</td>\n",
       "      <td>Semi-Auto</td>\n",
       "      <td>10810</td>\n",
       "      <td>Petrol</td>\n",
       "      <td>5.0</td>\n",
       "      <td>Ford</td>\n",
       "    </tr>\n",
       "    <tr>\n",
       "      <th>18431</th>\n",
       "      <td>Mustang</td>\n",
       "      <td>2018</td>\n",
       "      <td>37500</td>\n",
       "      <td>Manual</td>\n",
       "      <td>5572</td>\n",
       "      <td>Petrol</td>\n",
       "      <td>5.0</td>\n",
       "      <td>Ford</td>\n",
       "    </tr>\n",
       "    <tr>\n",
       "      <th>6377</th>\n",
       "      <td>Mustang</td>\n",
       "      <td>2020</td>\n",
       "      <td>38489</td>\n",
       "      <td>Automatic</td>\n",
       "      <td>3500</td>\n",
       "      <td>Petrol</td>\n",
       "      <td>2.3</td>\n",
       "      <td>Ford</td>\n",
       "    </tr>\n",
       "    <tr>\n",
       "      <th>6421</th>\n",
       "      <td>Mustang</td>\n",
       "      <td>2019</td>\n",
       "      <td>39998</td>\n",
       "      <td>Automatic</td>\n",
       "      <td>5000</td>\n",
       "      <td>Petrol</td>\n",
       "      <td>5.0</td>\n",
       "      <td>Ford</td>\n",
       "    </tr>\n",
       "    <tr>\n",
       "      <th>12852</th>\n",
       "      <td>Mustang</td>\n",
       "      <td>2020</td>\n",
       "      <td>40495</td>\n",
       "      <td>Semi-Auto</td>\n",
       "      <td>3200</td>\n",
       "      <td>Petrol</td>\n",
       "      <td>5.0</td>\n",
       "      <td>Ford</td>\n",
       "    </tr>\n",
       "    <tr>\n",
       "      <th>6343</th>\n",
       "      <td>Mustang</td>\n",
       "      <td>2020</td>\n",
       "      <td>42489</td>\n",
       "      <td>Automatic</td>\n",
       "      <td>3500</td>\n",
       "      <td>Petrol</td>\n",
       "      <td>5.0</td>\n",
       "      <td>Ford</td>\n",
       "    </tr>\n",
       "    <tr>\n",
       "      <th>17136</th>\n",
       "      <td>Mustang</td>\n",
       "      <td>2017</td>\n",
       "      <td>48999</td>\n",
       "      <td>Automatic</td>\n",
       "      <td>7546</td>\n",
       "      <td>Petrol</td>\n",
       "      <td>5.0</td>\n",
       "      <td>Ford</td>\n",
       "    </tr>\n",
       "    <tr>\n",
       "      <th>17139</th>\n",
       "      <td>Mustang</td>\n",
       "      <td>2017</td>\n",
       "      <td>49999</td>\n",
       "      <td>Manual</td>\n",
       "      <td>21575</td>\n",
       "      <td>Petrol</td>\n",
       "      <td>5.0</td>\n",
       "      <td>Ford</td>\n",
       "    </tr>\n",
       "    <tr>\n",
       "      <th>17138</th>\n",
       "      <td>Focus</td>\n",
       "      <td>2018</td>\n",
       "      <td>54995</td>\n",
       "      <td>Manual</td>\n",
       "      <td>11000</td>\n",
       "      <td>Petrol</td>\n",
       "      <td>2.3</td>\n",
       "      <td>Ford</td>\n",
       "    </tr>\n",
       "  </tbody>\n",
       "</table></div>"
      ],
      "text/plain": [
       "          model  year  price transmission  mileage fuelType  engineSize  \\\n",
       "18240      Edge  2019  36000    Automatic     4921   Diesel         2.0   \n",
       "16503   Mustang  2019  36799    Semi-Auto    10810   Petrol         5.0   \n",
       "18431   Mustang  2018  37500       Manual     5572   Petrol         5.0   \n",
       "6377    Mustang  2020  38489    Automatic     3500   Petrol         2.3   \n",
       "6421    Mustang  2019  39998    Automatic     5000   Petrol         5.0   \n",
       "12852   Mustang  2020  40495    Semi-Auto     3200   Petrol         5.0   \n",
       "6343    Mustang  2020  42489    Automatic     3500   Petrol         5.0   \n",
       "17136   Mustang  2017  48999    Automatic     7546   Petrol         5.0   \n",
       "17139   Mustang  2017  49999       Manual    21575   Petrol         5.0   \n",
       "17138     Focus  2018  54995       Manual    11000   Petrol         2.3   \n",
       "\n",
       "      manufacturer  \n",
       "18240         Ford  \n",
       "16503         Ford  \n",
       "18431         Ford  \n",
       "6377          Ford  \n",
       "6421          Ford  \n",
       "12852         Ford  \n",
       "6343          Ford  \n",
       "17136         Ford  \n",
       "17139         Ford  \n",
       "17138         Ford  "
      ]
     },
     "execution_count": 9,
     "metadata": {},
     "output_type": "execute_result"
    }
   ],
   "source": [
    "ford.query(\"price > 35000\").sort_values(by = \"price\")"
   ]
  },
  {
   "cell_type": "markdown",
   "id": "c1d84c2f",
   "metadata": {},
   "source": [
    "The £35k+ price range leads the Ford Mustang, I find it strange that a 2017 Ford Mustang costs even more than a 2020 model year."
   ]
  },
  {
   "cell_type": "code",
   "execution_count": 10,
   "id": "1444f467",
   "metadata": {},
   "outputs": [],
   "source": [
    "ford = ford.query(\"price < 43000\")"
   ]
  },
  {
   "cell_type": "code",
   "execution_count": 11,
   "id": "306f0966",
   "metadata": {},
   "outputs": [
    {
     "data": {
      "text/html": [
       "<div><div id=cd0fc682-a6cd-4cd8-8d50-af5fc8cc215a style=\"display:none; background-color:#9D6CFF; color:white; width:200px; height:30px; padding-left:5px; border-radius:4px; flex-direction:row; justify-content:space-around; align-items:center;\" onmouseover=\"this.style.backgroundColor='#BA9BF8'\" onmouseout=\"this.style.backgroundColor='#9D6CFF'\" onclick=\"window.commands?.execute('create-mitosheet-from-dataframe-output');\">See Full Dataframe in Mito</div> <script> if (window.commands?.hasCommand('create-mitosheet-from-dataframe-output')) document.getElementById('cd0fc682-a6cd-4cd8-8d50-af5fc8cc215a').style.display = 'flex' </script> <table border=\"1\" class=\"dataframe\">\n",
       "  <thead>\n",
       "    <tr style=\"text-align: right;\">\n",
       "      <th></th>\n",
       "      <th>model</th>\n",
       "      <th>year</th>\n",
       "      <th>price</th>\n",
       "      <th>transmission</th>\n",
       "      <th>mileage</th>\n",
       "      <th>fuelType</th>\n",
       "      <th>engineSize</th>\n",
       "      <th>manufacturer</th>\n",
       "    </tr>\n",
       "  </thead>\n",
       "  <tbody>\n",
       "    <tr>\n",
       "      <th>18240</th>\n",
       "      <td>Edge</td>\n",
       "      <td>2019</td>\n",
       "      <td>36000</td>\n",
       "      <td>Automatic</td>\n",
       "      <td>4921</td>\n",
       "      <td>Diesel</td>\n",
       "      <td>2.0</td>\n",
       "      <td>Ford</td>\n",
       "    </tr>\n",
       "    <tr>\n",
       "      <th>16503</th>\n",
       "      <td>Mustang</td>\n",
       "      <td>2019</td>\n",
       "      <td>36799</td>\n",
       "      <td>Semi-Auto</td>\n",
       "      <td>10810</td>\n",
       "      <td>Petrol</td>\n",
       "      <td>5.0</td>\n",
       "      <td>Ford</td>\n",
       "    </tr>\n",
       "    <tr>\n",
       "      <th>18431</th>\n",
       "      <td>Mustang</td>\n",
       "      <td>2018</td>\n",
       "      <td>37500</td>\n",
       "      <td>Manual</td>\n",
       "      <td>5572</td>\n",
       "      <td>Petrol</td>\n",
       "      <td>5.0</td>\n",
       "      <td>Ford</td>\n",
       "    </tr>\n",
       "    <tr>\n",
       "      <th>6377</th>\n",
       "      <td>Mustang</td>\n",
       "      <td>2020</td>\n",
       "      <td>38489</td>\n",
       "      <td>Automatic</td>\n",
       "      <td>3500</td>\n",
       "      <td>Petrol</td>\n",
       "      <td>2.3</td>\n",
       "      <td>Ford</td>\n",
       "    </tr>\n",
       "    <tr>\n",
       "      <th>6421</th>\n",
       "      <td>Mustang</td>\n",
       "      <td>2019</td>\n",
       "      <td>39998</td>\n",
       "      <td>Automatic</td>\n",
       "      <td>5000</td>\n",
       "      <td>Petrol</td>\n",
       "      <td>5.0</td>\n",
       "      <td>Ford</td>\n",
       "    </tr>\n",
       "    <tr>\n",
       "      <th>12852</th>\n",
       "      <td>Mustang</td>\n",
       "      <td>2020</td>\n",
       "      <td>40495</td>\n",
       "      <td>Semi-Auto</td>\n",
       "      <td>3200</td>\n",
       "      <td>Petrol</td>\n",
       "      <td>5.0</td>\n",
       "      <td>Ford</td>\n",
       "    </tr>\n",
       "    <tr>\n",
       "      <th>6343</th>\n",
       "      <td>Mustang</td>\n",
       "      <td>2020</td>\n",
       "      <td>42489</td>\n",
       "      <td>Automatic</td>\n",
       "      <td>3500</td>\n",
       "      <td>Petrol</td>\n",
       "      <td>5.0</td>\n",
       "      <td>Ford</td>\n",
       "    </tr>\n",
       "  </tbody>\n",
       "</table></div>"
      ],
      "text/plain": [
       "          model  year  price transmission  mileage fuelType  engineSize  \\\n",
       "18240      Edge  2019  36000    Automatic     4921   Diesel         2.0   \n",
       "16503   Mustang  2019  36799    Semi-Auto    10810   Petrol         5.0   \n",
       "18431   Mustang  2018  37500       Manual     5572   Petrol         5.0   \n",
       "6377    Mustang  2020  38489    Automatic     3500   Petrol         2.3   \n",
       "6421    Mustang  2019  39998    Automatic     5000   Petrol         5.0   \n",
       "12852   Mustang  2020  40495    Semi-Auto     3200   Petrol         5.0   \n",
       "6343    Mustang  2020  42489    Automatic     3500   Petrol         5.0   \n",
       "\n",
       "      manufacturer  \n",
       "18240         Ford  \n",
       "16503         Ford  \n",
       "18431         Ford  \n",
       "6377          Ford  \n",
       "6421          Ford  \n",
       "12852         Ford  \n",
       "6343          Ford  "
      ]
     },
     "execution_count": 11,
     "metadata": {},
     "output_type": "execute_result"
    }
   ],
   "source": [
    "ford.query(\"price > 35000\").sort_values(by = \"price\")"
   ]
  },
  {
   "cell_type": "markdown",
   "id": "2f31804f",
   "metadata": {},
   "source": [
    "### *Save Dataset Clear*"
   ]
  },
  {
   "cell_type": "code",
   "execution_count": 12,
   "id": "64dbc3ee",
   "metadata": {},
   "outputs": [],
   "source": [
    "ford.to_csv('C:/Users/PC/Desktop/Car-Sales/data/ford_clear.csv',index = False)"
   ]
  }
 ],
 "metadata": {
  "kernelspec": {
   "display_name": "Python 3 (ipykernel)",
   "language": "python",
   "name": "python3"
  },
  "language_info": {
   "codemirror_mode": {
    "name": "ipython",
    "version": 3
   },
   "file_extension": ".py",
   "mimetype": "text/x-python",
   "name": "python",
   "nbconvert_exporter": "python",
   "pygments_lexer": "ipython3",
   "version": "3.9.7"
  }
 },
 "nbformat": 4,
 "nbformat_minor": 5
}
