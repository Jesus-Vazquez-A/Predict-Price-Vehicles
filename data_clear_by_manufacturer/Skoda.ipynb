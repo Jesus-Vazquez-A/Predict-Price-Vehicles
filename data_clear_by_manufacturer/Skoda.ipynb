{
 "cells": [
  {
   "cell_type": "markdown",
   "id": "c68f5b7a",
   "metadata": {},
   "source": [
    "## **Load Libraires**"
   ]
  },
  {
   "cell_type": "code",
   "execution_count": 1,
   "id": "442b54a1",
   "metadata": {},
   "outputs": [],
   "source": [
    "import pandas as pd\n",
    "from intervals import IntervalFit\n",
    "from histogram import histogram\n",
    "import warnings"
   ]
  },
  {
   "cell_type": "code",
   "execution_count": 2,
   "id": "1e130e9a",
   "metadata": {},
   "outputs": [],
   "source": [
    "warnings.filterwarnings(\"ignore\")"
   ]
  },
  {
   "cell_type": "code",
   "execution_count": 3,
   "id": "f382e37b",
   "metadata": {},
   "outputs": [],
   "source": [
    "skoda = pd.read_csv('C:/Users/PC/Desktop/Car-Sales/data/cars_sales2.csv')\n",
    "skoda = skoda.query(\"manufacturer == 'Skoda'\")"
   ]
  },
  {
   "cell_type": "code",
   "execution_count": 4,
   "id": "795500b1",
   "metadata": {},
   "outputs": [
    {
     "data": {
      "text/plain": [
       "array([' Octavia', ' Yeti Outdoor', ' Superb', ' Rapid', ' Karoq',\n",
       "       ' Fabia', ' Yeti', ' Kodiaq', ' Scala', ' Citigo', ' Roomster',\n",
       "       ' Kamiq'], dtype=object)"
      ]
     },
     "execution_count": 4,
     "metadata": {},
     "output_type": "execute_result"
    }
   ],
   "source": [
    "skoda.model.unique()"
   ]
  },
  {
   "cell_type": "code",
   "execution_count": 5,
   "id": "ca82ceb8",
   "metadata": {},
   "outputs": [
    {
     "data": {
      "text/plain": [
       "count     5293.000000\n",
       "mean     13526.271869\n",
       "std       5960.371458\n",
       "min       2495.000000\n",
       "25%       9000.000000\n",
       "50%      12495.000000\n",
       "75%      16490.000000\n",
       "max      91874.000000\n",
       "Name: price, dtype: float64"
      ]
     },
     "execution_count": 5,
     "metadata": {},
     "output_type": "execute_result"
    }
   ],
   "source": [
    "skoda.price.describe()"
   ]
  },
  {
   "cell_type": "code",
   "execution_count": 6,
   "id": "f1757639",
   "metadata": {},
   "outputs": [
    {
     "data": {
      "image/png": "[encoded data removed]",
      "text/plain": [
       "<Figure size 1440x576 with 1 Axes>"
      ]
     },
     "metadata": {},
     "output_type": "display_data"
    }
   ],
   "source": [
    "_ = histogram(skoda.price,\"Price\")"
   ]
  },
  {
   "cell_type": "code",
   "execution_count": 7,
   "id": "d7e5f844",
   "metadata": {},
   "outputs": [
    {
     "name": "stdout",
     "output_type": "stream",
     "text": [
      "Interval range STD 1.5: 22466.0\n",
      "Interval range STD 2: 25446.0\n",
      "Interval range STD 2.5: 28426.0\n",
      "Interval range STD 3.0: 31406.0\n",
      "Interval range STD 3.5: 34386.0\n",
      "Interval range STD 4: 37366.0\n"
     ]
    }
   ],
   "source": [
    "IntervalFit(skoda.price).Upper_Interval()"
   ]
  },
  {
   "cell_type": "code",
   "execution_count": 8,
   "id": "06166f22",
   "metadata": {},
   "outputs": [
    {
     "data": {
      "text/html": [
       "<div><div id=9d615d0b-43bc-46f2-a18e-c8fe5aa587a9 style=\"display:none; background-color:#9D6CFF; color:white; width:200px; height:30px; padding-left:5px; border-radius:4px; flex-direction:row; justify-content:space-around; align-items:center;\" onmouseover=\"this.style.backgroundColor='#BA9BF8'\" onmouseout=\"this.style.backgroundColor='#9D6CFF'\" onclick=\"window.commands?.execute('create-mitosheet-from-dataframe-output');\">See Full Dataframe in Mito</div> <script> if (window.commands?.hasCommand('create-mitosheet-from-dataframe-output')) document.getElementById('9d615d0b-43bc-46f2-a18e-c8fe5aa587a9').style.display = 'flex' </script> <table border=\"1\" class=\"dataframe\">\n",
       "  <thead>\n",
       "    <tr style=\"text-align: right;\">\n",
       "      <th></th>\n",
       "      <th>model</th>\n",
       "      <th>year</th>\n",
       "      <th>price</th>\n",
       "      <th>transmission</th>\n",
       "      <th>mileage</th>\n",
       "      <th>fuelType</th>\n",
       "      <th>engineSize</th>\n",
       "      <th>manufacturer</th>\n",
       "    </tr>\n",
       "  </thead>\n",
       "  <tbody>\n",
       "    <tr>\n",
       "      <th>84826</th>\n",
       "      <td>Karoq</td>\n",
       "      <td>2019</td>\n",
       "      <td>91874</td>\n",
       "      <td>Automatic</td>\n",
       "      <td>3764</td>\n",
       "      <td>Petrol</td>\n",
       "      <td>1.5</td>\n",
       "      <td>Skoda</td>\n",
       "    </tr>\n",
       "    <tr>\n",
       "      <th>84274</th>\n",
       "      <td>Superb</td>\n",
       "      <td>2019</td>\n",
       "      <td>39001</td>\n",
       "      <td>Semi-Auto</td>\n",
       "      <td>5000</td>\n",
       "      <td>Petrol</td>\n",
       "      <td>2.0</td>\n",
       "      <td>Skoda</td>\n",
       "    </tr>\n",
       "    <tr>\n",
       "      <th>84448</th>\n",
       "      <td>Kodiaq</td>\n",
       "      <td>2020</td>\n",
       "      <td>37999</td>\n",
       "      <td>Automatic</td>\n",
       "      <td>5600</td>\n",
       "      <td>Diesel</td>\n",
       "      <td>2.0</td>\n",
       "      <td>Skoda</td>\n",
       "    </tr>\n",
       "    <tr>\n",
       "      <th>84112</th>\n",
       "      <td>Kodiaq</td>\n",
       "      <td>2020</td>\n",
       "      <td>36750</td>\n",
       "      <td>Automatic</td>\n",
       "      <td>3678</td>\n",
       "      <td>Diesel</td>\n",
       "      <td>2.0</td>\n",
       "      <td>Skoda</td>\n",
       "    </tr>\n",
       "    <tr>\n",
       "      <th>84270</th>\n",
       "      <td>Superb</td>\n",
       "      <td>2020</td>\n",
       "      <td>36000</td>\n",
       "      <td>Semi-Auto</td>\n",
       "      <td>6968</td>\n",
       "      <td>Hybrid</td>\n",
       "      <td>1.4</td>\n",
       "      <td>Skoda</td>\n",
       "    </tr>\n",
       "  </tbody>\n",
       "</table></div>"
      ],
      "text/plain": [
       "         model  year  price transmission  mileage fuelType  engineSize  \\\n",
       "84826    Karoq  2019  91874    Automatic     3764   Petrol         1.5   \n",
       "84274   Superb  2019  39001    Semi-Auto     5000   Petrol         2.0   \n",
       "84448   Kodiaq  2020  37999    Automatic     5600   Diesel         2.0   \n",
       "84112   Kodiaq  2020  36750    Automatic     3678   Diesel         2.0   \n",
       "84270   Superb  2020  36000    Semi-Auto     6968   Hybrid         1.4   \n",
       "\n",
       "      manufacturer  \n",
       "84826        Skoda  \n",
       "84274        Skoda  \n",
       "84448        Skoda  \n",
       "84112        Skoda  \n",
       "84270        Skoda  "
      ]
     },
     "execution_count": 8,
     "metadata": {},
     "output_type": "execute_result"
    }
   ],
   "source": [
    "skoda.sort_values(by = \"price\",ascending = False).head(5)"
   ]
  },
  {
   "cell_type": "code",
   "execution_count": 9,
   "id": "511723a9",
   "metadata": {},
   "outputs": [
    {
     "data": {
      "text/html": [
       "<div><div id=1a9bb6cd-89bf-42e5-a8d7-19dfdad9d026 style=\"display:none; background-color:#9D6CFF; color:white; width:200px; height:30px; padding-left:5px; border-radius:4px; flex-direction:row; justify-content:space-around; align-items:center;\" onmouseover=\"this.style.backgroundColor='#BA9BF8'\" onmouseout=\"this.style.backgroundColor='#9D6CFF'\" onclick=\"window.commands?.execute('create-mitosheet-from-dataframe-output');\">See Full Dataframe in Mito</div> <script> if (window.commands?.hasCommand('create-mitosheet-from-dataframe-output')) document.getElementById('1a9bb6cd-89bf-42e5-a8d7-19dfdad9d026').style.display = 'flex' </script> <table border=\"1\" class=\"dataframe\">\n",
       "  <thead>\n",
       "    <tr style=\"text-align: right;\">\n",
       "      <th></th>\n",
       "      <th>model</th>\n",
       "      <th>year</th>\n",
       "      <th>price</th>\n",
       "      <th>transmission</th>\n",
       "      <th>mileage</th>\n",
       "      <th>fuelType</th>\n",
       "      <th>engineSize</th>\n",
       "      <th>manufacturer</th>\n",
       "    </tr>\n",
       "  </thead>\n",
       "  <tbody>\n",
       "    <tr>\n",
       "      <th>84826</th>\n",
       "      <td>Karoq</td>\n",
       "      <td>2019</td>\n",
       "      <td>91874</td>\n",
       "      <td>Automatic</td>\n",
       "      <td>3764</td>\n",
       "      <td>Petrol</td>\n",
       "      <td>1.5</td>\n",
       "      <td>Skoda</td>\n",
       "    </tr>\n",
       "    <tr>\n",
       "      <th>81531</th>\n",
       "      <td>Karoq</td>\n",
       "      <td>2019</td>\n",
       "      <td>30843</td>\n",
       "      <td>Manual</td>\n",
       "      <td>4521</td>\n",
       "      <td>Diesel</td>\n",
       "      <td>2.0</td>\n",
       "      <td>Skoda</td>\n",
       "    </tr>\n",
       "    <tr>\n",
       "      <th>83069</th>\n",
       "      <td>Karoq</td>\n",
       "      <td>2020</td>\n",
       "      <td>30490</td>\n",
       "      <td>Automatic</td>\n",
       "      <td>6560</td>\n",
       "      <td>Diesel</td>\n",
       "      <td>2.0</td>\n",
       "      <td>Skoda</td>\n",
       "    </tr>\n",
       "    <tr>\n",
       "      <th>83102</th>\n",
       "      <td>Karoq</td>\n",
       "      <td>2019</td>\n",
       "      <td>29995</td>\n",
       "      <td>Automatic</td>\n",
       "      <td>4786</td>\n",
       "      <td>Diesel</td>\n",
       "      <td>2.0</td>\n",
       "      <td>Skoda</td>\n",
       "    </tr>\n",
       "    <tr>\n",
       "      <th>83664</th>\n",
       "      <td>Karoq</td>\n",
       "      <td>2019</td>\n",
       "      <td>29995</td>\n",
       "      <td>Manual</td>\n",
       "      <td>4000</td>\n",
       "      <td>Diesel</td>\n",
       "      <td>2.0</td>\n",
       "      <td>Skoda</td>\n",
       "    </tr>\n",
       "  </tbody>\n",
       "</table></div>"
      ],
      "text/plain": [
       "        model  year  price transmission  mileage fuelType  engineSize  \\\n",
       "84826   Karoq  2019  91874    Automatic     3764   Petrol         1.5   \n",
       "81531   Karoq  2019  30843       Manual     4521   Diesel         2.0   \n",
       "83069   Karoq  2020  30490    Automatic     6560   Diesel         2.0   \n",
       "83102   Karoq  2019  29995    Automatic     4786   Diesel         2.0   \n",
       "83664   Karoq  2019  29995       Manual     4000   Diesel         2.0   \n",
       "\n",
       "      manufacturer  \n",
       "84826        Skoda  \n",
       "81531        Skoda  \n",
       "83069        Skoda  \n",
       "83102        Skoda  \n",
       "83664        Skoda  "
      ]
     },
     "execution_count": 9,
     "metadata": {},
     "output_type": "execute_result"
    }
   ],
   "source": [
    "skoda.query(\"model == ' Karoq'\").sort_values(by = \"price\",ascending = False).head(5)"
   ]
  },
  {
   "cell_type": "markdown",
   "id": "55018843",
   "metadata": {},
   "source": [
    "The highest price for this particular model belongs to a 2019 model, so that's kind of weird. Since generally the price is higher for more recent models."
   ]
  },
  {
   "cell_type": "code",
   "execution_count": 10,
   "id": "e08b9074",
   "metadata": {},
   "outputs": [
    {
     "data": {
      "text/html": [
       "<div><div id=09175b5e-5d26-4469-9593-b15c49cf4c02 style=\"display:none; background-color:#9D6CFF; color:white; width:200px; height:30px; padding-left:5px; border-radius:4px; flex-direction:row; justify-content:space-around; align-items:center;\" onmouseover=\"this.style.backgroundColor='#BA9BF8'\" onmouseout=\"this.style.backgroundColor='#9D6CFF'\" onclick=\"window.commands?.execute('create-mitosheet-from-dataframe-output');\">See Full Dataframe in Mito</div> <script> if (window.commands?.hasCommand('create-mitosheet-from-dataframe-output')) document.getElementById('09175b5e-5d26-4469-9593-b15c49cf4c02').style.display = 'flex' </script> <table border=\"1\" class=\"dataframe\">\n",
       "  <thead>\n",
       "    <tr style=\"text-align: right;\">\n",
       "      <th></th>\n",
       "      <th>model</th>\n",
       "      <th>year</th>\n",
       "      <th>price</th>\n",
       "      <th>transmission</th>\n",
       "      <th>mileage</th>\n",
       "      <th>fuelType</th>\n",
       "      <th>engineSize</th>\n",
       "      <th>manufacturer</th>\n",
       "    </tr>\n",
       "  </thead>\n",
       "  <tbody>\n",
       "    <tr>\n",
       "      <th>84274</th>\n",
       "      <td>Superb</td>\n",
       "      <td>2019</td>\n",
       "      <td>39001</td>\n",
       "      <td>Semi-Auto</td>\n",
       "      <td>5000</td>\n",
       "      <td>Petrol</td>\n",
       "      <td>2.0</td>\n",
       "      <td>Skoda</td>\n",
       "    </tr>\n",
       "    <tr>\n",
       "      <th>84270</th>\n",
       "      <td>Superb</td>\n",
       "      <td>2020</td>\n",
       "      <td>36000</td>\n",
       "      <td>Semi-Auto</td>\n",
       "      <td>6968</td>\n",
       "      <td>Hybrid</td>\n",
       "      <td>1.4</td>\n",
       "      <td>Skoda</td>\n",
       "    </tr>\n",
       "    <tr>\n",
       "      <th>83963</th>\n",
       "      <td>Superb</td>\n",
       "      <td>2020</td>\n",
       "      <td>35990</td>\n",
       "      <td>Semi-Auto</td>\n",
       "      <td>5000</td>\n",
       "      <td>Hybrid</td>\n",
       "      <td>1.4</td>\n",
       "      <td>Skoda</td>\n",
       "    </tr>\n",
       "    <tr>\n",
       "      <th>82964</th>\n",
       "      <td>Superb</td>\n",
       "      <td>2020</td>\n",
       "      <td>33995</td>\n",
       "      <td>Semi-Auto</td>\n",
       "      <td>6063</td>\n",
       "      <td>Hybrid</td>\n",
       "      <td>1.4</td>\n",
       "      <td>Skoda</td>\n",
       "    </tr>\n",
       "    <tr>\n",
       "      <th>83439</th>\n",
       "      <td>Superb</td>\n",
       "      <td>2020</td>\n",
       "      <td>33990</td>\n",
       "      <td>Semi-Auto</td>\n",
       "      <td>3500</td>\n",
       "      <td>Hybrid</td>\n",
       "      <td>1.4</td>\n",
       "      <td>Skoda</td>\n",
       "    </tr>\n",
       "  </tbody>\n",
       "</table></div>"
      ],
      "text/plain": [
       "         model  year  price transmission  mileage fuelType  engineSize  \\\n",
       "84274   Superb  2019  39001    Semi-Auto     5000   Petrol         2.0   \n",
       "84270   Superb  2020  36000    Semi-Auto     6968   Hybrid         1.4   \n",
       "83963   Superb  2020  35990    Semi-Auto     5000   Hybrid         1.4   \n",
       "82964   Superb  2020  33995    Semi-Auto     6063   Hybrid         1.4   \n",
       "83439   Superb  2020  33990    Semi-Auto     3500   Hybrid         1.4   \n",
       "\n",
       "      manufacturer  \n",
       "84274        Skoda  \n",
       "84270        Skoda  \n",
       "83963        Skoda  \n",
       "82964        Skoda  \n",
       "83439        Skoda  "
      ]
     },
     "execution_count": 10,
     "metadata": {},
     "output_type": "execute_result"
    }
   ],
   "source": [
    "skoda.query(\"model == ' Superb'\").sort_values(by = \"price\",ascending = False).head(5)"
   ]
  },
  {
   "cell_type": "markdown",
   "id": "57764553",
   "metadata": {},
   "source": [
    "A case similar to the previous one occurs."
   ]
  },
  {
   "cell_type": "code",
   "execution_count": 11,
   "id": "40bdf847",
   "metadata": {},
   "outputs": [
    {
     "data": {
      "text/html": [
       "<div><div id=3c0adf89-9dc7-4a34-af48-47082bb81b9d style=\"display:none; background-color:#9D6CFF; color:white; width:200px; height:30px; padding-left:5px; border-radius:4px; flex-direction:row; justify-content:space-around; align-items:center;\" onmouseover=\"this.style.backgroundColor='#BA9BF8'\" onmouseout=\"this.style.backgroundColor='#9D6CFF'\" onclick=\"window.commands?.execute('create-mitosheet-from-dataframe-output');\">See Full Dataframe in Mito</div> <script> if (window.commands?.hasCommand('create-mitosheet-from-dataframe-output')) document.getElementById('3c0adf89-9dc7-4a34-af48-47082bb81b9d').style.display = 'flex' </script> <table border=\"1\" class=\"dataframe\">\n",
       "  <thead>\n",
       "    <tr style=\"text-align: right;\">\n",
       "      <th></th>\n",
       "      <th>model</th>\n",
       "      <th>year</th>\n",
       "      <th>price</th>\n",
       "      <th>transmission</th>\n",
       "      <th>mileage</th>\n",
       "      <th>fuelType</th>\n",
       "      <th>engineSize</th>\n",
       "      <th>manufacturer</th>\n",
       "    </tr>\n",
       "  </thead>\n",
       "  <tbody>\n",
       "    <tr>\n",
       "      <th>84448</th>\n",
       "      <td>Kodiaq</td>\n",
       "      <td>2020</td>\n",
       "      <td>37999</td>\n",
       "      <td>Automatic</td>\n",
       "      <td>5600</td>\n",
       "      <td>Diesel</td>\n",
       "      <td>2.0</td>\n",
       "      <td>Skoda</td>\n",
       "    </tr>\n",
       "    <tr>\n",
       "      <th>84112</th>\n",
       "      <td>Kodiaq</td>\n",
       "      <td>2020</td>\n",
       "      <td>36750</td>\n",
       "      <td>Automatic</td>\n",
       "      <td>3678</td>\n",
       "      <td>Diesel</td>\n",
       "      <td>2.0</td>\n",
       "      <td>Skoda</td>\n",
       "    </tr>\n",
       "    <tr>\n",
       "      <th>81874</th>\n",
       "      <td>Kodiaq</td>\n",
       "      <td>2020</td>\n",
       "      <td>35990</td>\n",
       "      <td>Automatic</td>\n",
       "      <td>3500</td>\n",
       "      <td>Diesel</td>\n",
       "      <td>2.0</td>\n",
       "      <td>Skoda</td>\n",
       "    </tr>\n",
       "    <tr>\n",
       "      <th>82989</th>\n",
       "      <td>Kodiaq</td>\n",
       "      <td>2019</td>\n",
       "      <td>34995</td>\n",
       "      <td>Automatic</td>\n",
       "      <td>7303</td>\n",
       "      <td>Diesel</td>\n",
       "      <td>2.0</td>\n",
       "      <td>Skoda</td>\n",
       "    </tr>\n",
       "    <tr>\n",
       "      <th>84562</th>\n",
       "      <td>Kodiaq</td>\n",
       "      <td>2019</td>\n",
       "      <td>34995</td>\n",
       "      <td>Automatic</td>\n",
       "      <td>6000</td>\n",
       "      <td>Diesel</td>\n",
       "      <td>2.0</td>\n",
       "      <td>Skoda</td>\n",
       "    </tr>\n",
       "  </tbody>\n",
       "</table></div>"
      ],
      "text/plain": [
       "         model  year  price transmission  mileage fuelType  engineSize  \\\n",
       "84448   Kodiaq  2020  37999    Automatic     5600   Diesel         2.0   \n",
       "84112   Kodiaq  2020  36750    Automatic     3678   Diesel         2.0   \n",
       "81874   Kodiaq  2020  35990    Automatic     3500   Diesel         2.0   \n",
       "82989   Kodiaq  2019  34995    Automatic     7303   Diesel         2.0   \n",
       "84562   Kodiaq  2019  34995    Automatic     6000   Diesel         2.0   \n",
       "\n",
       "      manufacturer  \n",
       "84448        Skoda  \n",
       "84112        Skoda  \n",
       "81874        Skoda  \n",
       "82989        Skoda  \n",
       "84562        Skoda  "
      ]
     },
     "execution_count": 11,
     "metadata": {},
     "output_type": "execute_result"
    }
   ],
   "source": [
    "skoda.query(\"model == ' Kodiaq'\").sort_values(by = \"price\",ascending = False).head(5)"
   ]
  },
  {
   "cell_type": "code",
   "execution_count": 12,
   "id": "1e093897",
   "metadata": {},
   "outputs": [],
   "source": [
    "skoda = skoda.query(\"price < 36000\")"
   ]
  },
  {
   "cell_type": "code",
   "execution_count": 13,
   "id": "bc94f039",
   "metadata": {},
   "outputs": [
    {
     "data": {
      "text/html": [
       "<div><div id=86d5eb5a-add4-49a3-a03c-0e345bdfa906 style=\"display:none; background-color:#9D6CFF; color:white; width:200px; height:30px; padding-left:5px; border-radius:4px; flex-direction:row; justify-content:space-around; align-items:center;\" onmouseover=\"this.style.backgroundColor='#BA9BF8'\" onmouseout=\"this.style.backgroundColor='#9D6CFF'\" onclick=\"window.commands?.execute('create-mitosheet-from-dataframe-output');\">See Full Dataframe in Mito</div> <script> if (window.commands?.hasCommand('create-mitosheet-from-dataframe-output')) document.getElementById('86d5eb5a-add4-49a3-a03c-0e345bdfa906').style.display = 'flex' </script> <table border=\"1\" class=\"dataframe\">\n",
       "  <thead>\n",
       "    <tr style=\"text-align: right;\">\n",
       "      <th></th>\n",
       "      <th>model</th>\n",
       "      <th>year</th>\n",
       "      <th>price</th>\n",
       "      <th>transmission</th>\n",
       "      <th>mileage</th>\n",
       "      <th>fuelType</th>\n",
       "      <th>engineSize</th>\n",
       "      <th>manufacturer</th>\n",
       "    </tr>\n",
       "  </thead>\n",
       "  <tbody>\n",
       "    <tr>\n",
       "      <th>81874</th>\n",
       "      <td>Kodiaq</td>\n",
       "      <td>2020</td>\n",
       "      <td>35990</td>\n",
       "      <td>Automatic</td>\n",
       "      <td>3500</td>\n",
       "      <td>Diesel</td>\n",
       "      <td>2.0</td>\n",
       "      <td>Skoda</td>\n",
       "    </tr>\n",
       "    <tr>\n",
       "      <th>83963</th>\n",
       "      <td>Superb</td>\n",
       "      <td>2020</td>\n",
       "      <td>35990</td>\n",
       "      <td>Semi-Auto</td>\n",
       "      <td>5000</td>\n",
       "      <td>Hybrid</td>\n",
       "      <td>1.4</td>\n",
       "      <td>Skoda</td>\n",
       "    </tr>\n",
       "    <tr>\n",
       "      <th>84572</th>\n",
       "      <td>Kodiaq</td>\n",
       "      <td>2020</td>\n",
       "      <td>34995</td>\n",
       "      <td>Automatic</td>\n",
       "      <td>6000</td>\n",
       "      <td>Diesel</td>\n",
       "      <td>2.0</td>\n",
       "      <td>Skoda</td>\n",
       "    </tr>\n",
       "    <tr>\n",
       "      <th>82989</th>\n",
       "      <td>Kodiaq</td>\n",
       "      <td>2019</td>\n",
       "      <td>34995</td>\n",
       "      <td>Automatic</td>\n",
       "      <td>7303</td>\n",
       "      <td>Diesel</td>\n",
       "      <td>2.0</td>\n",
       "      <td>Skoda</td>\n",
       "    </tr>\n",
       "    <tr>\n",
       "      <th>81352</th>\n",
       "      <td>Kodiaq</td>\n",
       "      <td>2019</td>\n",
       "      <td>34995</td>\n",
       "      <td>Automatic</td>\n",
       "      <td>8966</td>\n",
       "      <td>Diesel</td>\n",
       "      <td>2.0</td>\n",
       "      <td>Skoda</td>\n",
       "    </tr>\n",
       "  </tbody>\n",
       "</table></div>"
      ],
      "text/plain": [
       "         model  year  price transmission  mileage fuelType  engineSize  \\\n",
       "81874   Kodiaq  2020  35990    Automatic     3500   Diesel         2.0   \n",
       "83963   Superb  2020  35990    Semi-Auto     5000   Hybrid         1.4   \n",
       "84572   Kodiaq  2020  34995    Automatic     6000   Diesel         2.0   \n",
       "82989   Kodiaq  2019  34995    Automatic     7303   Diesel         2.0   \n",
       "81352   Kodiaq  2019  34995    Automatic     8966   Diesel         2.0   \n",
       "\n",
       "      manufacturer  \n",
       "81874        Skoda  \n",
       "83963        Skoda  \n",
       "84572        Skoda  \n",
       "82989        Skoda  \n",
       "81352        Skoda  "
      ]
     },
     "execution_count": 13,
     "metadata": {},
     "output_type": "execute_result"
    }
   ],
   "source": [
    "skoda.sort_values(by = \"price\",ascending = False).head(5)"
   ]
  },
  {
   "cell_type": "markdown",
   "id": "2f31804f",
   "metadata": {},
   "source": [
    "### *Save Dataset Clear*"
   ]
  },
  {
   "cell_type": "code",
   "execution_count": 14,
   "id": "64dbc3ee",
   "metadata": {},
   "outputs": [],
   "source": [
    "skoda.to_csv('C:/Users/PC/Desktop/Car-Sales/data/skoda_clear.csv',index = False)"
   ]
  }
 ],
 "metadata": {
  "kernelspec": {
   "display_name": "Python 3 (ipykernel)",
   "language": "python",
   "name": "python3"
  },
  "language_info": {
   "codemirror_mode": {
    "name": "ipython",
    "version": 3
   },
   "file_extension": ".py",
   "mimetype": "text/x-python",
   "name": "python",
   "nbconvert_exporter": "python",
   "pygments_lexer": "ipython3",
   "version": "3.9.7"
  }
 },
 "nbformat": 4,
 "nbformat_minor": 5
}
