{
 "cells": [
  {
   "cell_type": "markdown",
   "id": "c68f5b7a",
   "metadata": {},
   "source": [
    "## **Load Libraires**"
   ]
  },
  {
   "cell_type": "code",
   "execution_count": 1,
   "id": "442b54a1",
   "metadata": {},
   "outputs": [],
   "source": [
    "import pandas as pd\n",
    "from intervals import IntervalFit\n",
    "from histogram import histogram\n",
    "import warnings"
   ]
  },
  {
   "cell_type": "code",
   "execution_count": 2,
   "id": "1e130e9a",
   "metadata": {},
   "outputs": [],
   "source": [
    "warnings.filterwarnings(\"ignore\")"
   ]
  },
  {
   "cell_type": "code",
   "execution_count": 3,
   "id": "f382e37b",
   "metadata": {},
   "outputs": [],
   "source": [
    "vw = pd.read_csv('C:/Users/PC/Desktop/Car-Sales/data/cars_sales2.csv')\n",
    "vw = vw.query(\"manufacturer == 'Volkswagen'\")"
   ]
  },
  {
   "cell_type": "code",
   "execution_count": 4,
   "id": "795500b1",
   "metadata": {},
   "outputs": [
    {
     "data": {
      "text/plain": [
       "array([' T-Roc', ' Golf', ' Passat', ' T-Cross', ' Polo', ' Tiguan',\n",
       "       ' Sharan', ' Up', ' Scirocco', ' Beetle', ' Caddy Maxi Life',\n",
       "       ' Caravelle', ' Touareg', ' Arteon', ' Touran', ' Golf SV',\n",
       "       ' Amarok', ' Tiguan Allspace', ' Shuttle', ' Jetta', ' CC',\n",
       "       ' California'], dtype=object)"
      ]
     },
     "execution_count": 4,
     "metadata": {},
     "output_type": "execute_result"
    }
   ],
   "source": [
    "vw.model.unique()"
   ]
  },
  {
   "cell_type": "code",
   "execution_count": 5,
   "id": "ca82ceb8",
   "metadata": {},
   "outputs": [
    {
     "data": {
      "text/plain": [
       "count    12633.000000\n",
       "mean     15954.464894\n",
       "std       7256.314185\n",
       "min       2295.000000\n",
       "25%      10500.000000\n",
       "50%      14488.000000\n",
       "75%      19819.000000\n",
       "max      69994.000000\n",
       "Name: price, dtype: float64"
      ]
     },
     "execution_count": 5,
     "metadata": {},
     "output_type": "execute_result"
    }
   ],
   "source": [
    "vw.price.describe()"
   ]
  },
  {
   "cell_type": "code",
   "execution_count": 6,
   "id": "f1757639",
   "metadata": {},
   "outputs": [
    {
     "data": {
      "image/png": "[encoded data removed]",
      "text/plain": [
       "<Figure size 1440x576 with 1 Axes>"
      ]
     },
     "metadata": {},
     "output_type": "display_data"
    }
   ],
   "source": [
    "_ = histogram(vw.price,\"Price\")"
   ]
  },
  {
   "cell_type": "code",
   "execution_count": 7,
   "id": "d7e5f844",
   "metadata": {},
   "outputs": [
    {
     "name": "stdout",
     "output_type": "stream",
     "text": [
      "Interval range STD 1.5: 26839.0\n",
      "Interval range STD 2: 30467.0\n",
      "Interval range STD 2.5: 34095.0\n",
      "Interval range STD 3.0: 37723.0\n",
      "Interval range STD 3.5: 41351.0\n",
      "Interval range STD 4: 44979.0\n"
     ]
    }
   ],
   "source": [
    "IntervalFit(vw.price).Upper_Interval()"
   ]
  },
  {
   "cell_type": "code",
   "execution_count": 8,
   "id": "65ce44a9",
   "metadata": {},
   "outputs": [
    {
     "data": {
      "text/html": [
       "<div><div id=fb632c64-06be-4889-a75f-0107eeb1366a style=\"display:none; background-color:#9D6CFF; color:white; width:200px; height:30px; padding-left:5px; border-radius:4px; flex-direction:row; justify-content:space-around; align-items:center;\" onmouseover=\"this.style.backgroundColor='#BA9BF8'\" onmouseout=\"this.style.backgroundColor='#9D6CFF'\" onclick=\"window.commands?.execute('create-mitosheet-from-dataframe-output');\">See Full Dataframe in Mito</div> <script> if (window.commands?.hasCommand('create-mitosheet-from-dataframe-output')) document.getElementById('fb632c64-06be-4889-a75f-0107eeb1366a').style.display = 'flex' </script> <table border=\"1\" class=\"dataframe\">\n",
       "  <thead>\n",
       "    <tr style=\"text-align: right;\">\n",
       "      <th></th>\n",
       "      <th>model</th>\n",
       "      <th>year</th>\n",
       "      <th>price</th>\n",
       "      <th>transmission</th>\n",
       "      <th>mileage</th>\n",
       "      <th>fuelType</th>\n",
       "      <th>engineSize</th>\n",
       "      <th>manufacturer</th>\n",
       "    </tr>\n",
       "  </thead>\n",
       "  <tbody>\n",
       "    <tr>\n",
       "      <th>39485</th>\n",
       "      <td>California</td>\n",
       "      <td>2019</td>\n",
       "      <td>69994</td>\n",
       "      <td>Semi-Auto</td>\n",
       "      <td>3544</td>\n",
       "      <td>Diesel</td>\n",
       "      <td>2.0</td>\n",
       "      <td>Volkswagen</td>\n",
       "    </tr>\n",
       "    <tr>\n",
       "      <th>38358</th>\n",
       "      <td>Touareg</td>\n",
       "      <td>2019</td>\n",
       "      <td>59990</td>\n",
       "      <td>Semi-Auto</td>\n",
       "      <td>9950</td>\n",
       "      <td>Diesel</td>\n",
       "      <td>3.0</td>\n",
       "      <td>Volkswagen</td>\n",
       "    </tr>\n",
       "    <tr>\n",
       "      <th>39493</th>\n",
       "      <td>California</td>\n",
       "      <td>2019</td>\n",
       "      <td>57991</td>\n",
       "      <td>Automatic</td>\n",
       "      <td>10080</td>\n",
       "      <td>Diesel</td>\n",
       "      <td>2.0</td>\n",
       "      <td>Volkswagen</td>\n",
       "    </tr>\n",
       "    <tr>\n",
       "      <th>39492</th>\n",
       "      <td>California</td>\n",
       "      <td>2019</td>\n",
       "      <td>57991</td>\n",
       "      <td>Automatic</td>\n",
       "      <td>7486</td>\n",
       "      <td>Diesel</td>\n",
       "      <td>2.0</td>\n",
       "      <td>Volkswagen</td>\n",
       "    </tr>\n",
       "    <tr>\n",
       "      <th>39491</th>\n",
       "      <td>California</td>\n",
       "      <td>2019</td>\n",
       "      <td>57991</td>\n",
       "      <td>Automatic</td>\n",
       "      <td>7259</td>\n",
       "      <td>Diesel</td>\n",
       "      <td>2.0</td>\n",
       "      <td>Volkswagen</td>\n",
       "    </tr>\n",
       "    <tr>\n",
       "      <th>39490</th>\n",
       "      <td>California</td>\n",
       "      <td>2019</td>\n",
       "      <td>57991</td>\n",
       "      <td>Automatic</td>\n",
       "      <td>6739</td>\n",
       "      <td>Diesel</td>\n",
       "      <td>2.0</td>\n",
       "      <td>Volkswagen</td>\n",
       "    </tr>\n",
       "    <tr>\n",
       "      <th>39489</th>\n",
       "      <td>California</td>\n",
       "      <td>2019</td>\n",
       "      <td>57991</td>\n",
       "      <td>Automatic</td>\n",
       "      <td>10288</td>\n",
       "      <td>Diesel</td>\n",
       "      <td>2.0</td>\n",
       "      <td>Volkswagen</td>\n",
       "    </tr>\n",
       "    <tr>\n",
       "      <th>39488</th>\n",
       "      <td>California</td>\n",
       "      <td>2019</td>\n",
       "      <td>57991</td>\n",
       "      <td>Automatic</td>\n",
       "      <td>4653</td>\n",
       "      <td>Diesel</td>\n",
       "      <td>2.0</td>\n",
       "      <td>Volkswagen</td>\n",
       "    </tr>\n",
       "    <tr>\n",
       "      <th>38360</th>\n",
       "      <td>Touareg</td>\n",
       "      <td>2018</td>\n",
       "      <td>57295</td>\n",
       "      <td>Automatic</td>\n",
       "      <td>10000</td>\n",
       "      <td>Diesel</td>\n",
       "      <td>3.0</td>\n",
       "      <td>Volkswagen</td>\n",
       "    </tr>\n",
       "    <tr>\n",
       "      <th>39481</th>\n",
       "      <td>California</td>\n",
       "      <td>2019</td>\n",
       "      <td>56995</td>\n",
       "      <td>Semi-Auto</td>\n",
       "      <td>8991</td>\n",
       "      <td>Diesel</td>\n",
       "      <td>2.0</td>\n",
       "      <td>Volkswagen</td>\n",
       "    </tr>\n",
       "  </tbody>\n",
       "</table></div>"
      ],
      "text/plain": [
       "             model  year  price transmission  mileage fuelType  engineSize  \\\n",
       "39485   California  2019  69994    Semi-Auto     3544   Diesel         2.0   \n",
       "38358      Touareg  2019  59990    Semi-Auto     9950   Diesel         3.0   \n",
       "39493   California  2019  57991    Automatic    10080   Diesel         2.0   \n",
       "39492   California  2019  57991    Automatic     7486   Diesel         2.0   \n",
       "39491   California  2019  57991    Automatic     7259   Diesel         2.0   \n",
       "39490   California  2019  57991    Automatic     6739   Diesel         2.0   \n",
       "39489   California  2019  57991    Automatic    10288   Diesel         2.0   \n",
       "39488   California  2019  57991    Automatic     4653   Diesel         2.0   \n",
       "38360      Touareg  2018  57295    Automatic    10000   Diesel         3.0   \n",
       "39481   California  2019  56995    Semi-Auto     8991   Diesel         2.0   \n",
       "\n",
       "      manufacturer  \n",
       "39485   Volkswagen  \n",
       "38358   Volkswagen  \n",
       "39493   Volkswagen  \n",
       "39492   Volkswagen  \n",
       "39491   Volkswagen  \n",
       "39490   Volkswagen  \n",
       "39489   Volkswagen  \n",
       "39488   Volkswagen  \n",
       "38360   Volkswagen  \n",
       "39481   Volkswagen  "
      ]
     },
     "execution_count": 8,
     "metadata": {},
     "output_type": "execute_result"
    }
   ],
   "source": [
    "vw.sort_values(by = \"price\").sort_values(by = \"price\",ascending = False).head(10)"
   ]
  },
  {
   "cell_type": "markdown",
   "id": "66da92e9",
   "metadata": {},
   "source": [
    "The highest price belongs to the VW California since it has a different transmission and lower mileage."
   ]
  },
  {
   "cell_type": "code",
   "execution_count": 13,
   "id": "c80a3637",
   "metadata": {},
   "outputs": [
    {
     "data": {
      "text/html": [
       "<div><div id=1eafdc10-8aa5-40a4-a7c1-fef7fe0e9401 style=\"display:none; background-color:#9D6CFF; color:white; width:200px; height:30px; padding-left:5px; border-radius:4px; flex-direction:row; justify-content:space-around; align-items:center;\" onmouseover=\"this.style.backgroundColor='#BA9BF8'\" onmouseout=\"this.style.backgroundColor='#9D6CFF'\" onclick=\"window.commands?.execute('create-mitosheet-from-dataframe-output');\">See Full Dataframe in Mito</div> <script> if (window.commands?.hasCommand('create-mitosheet-from-dataframe-output')) document.getElementById('1eafdc10-8aa5-40a4-a7c1-fef7fe0e9401').style.display = 'flex' </script> <table border=\"1\" class=\"dataframe\">\n",
       "  <thead>\n",
       "    <tr style=\"text-align: right;\">\n",
       "      <th></th>\n",
       "      <th>model</th>\n",
       "      <th>year</th>\n",
       "      <th>price</th>\n",
       "      <th>transmission</th>\n",
       "      <th>mileage</th>\n",
       "      <th>fuelType</th>\n",
       "      <th>engineSize</th>\n",
       "      <th>manufacturer</th>\n",
       "    </tr>\n",
       "  </thead>\n",
       "  <tbody>\n",
       "    <tr>\n",
       "      <th>38358</th>\n",
       "      <td>Touareg</td>\n",
       "      <td>2019</td>\n",
       "      <td>59990</td>\n",
       "      <td>Semi-Auto</td>\n",
       "      <td>9950</td>\n",
       "      <td>Diesel</td>\n",
       "      <td>3.0</td>\n",
       "      <td>Volkswagen</td>\n",
       "    </tr>\n",
       "    <tr>\n",
       "      <th>38360</th>\n",
       "      <td>Touareg</td>\n",
       "      <td>2018</td>\n",
       "      <td>57295</td>\n",
       "      <td>Automatic</td>\n",
       "      <td>10000</td>\n",
       "      <td>Diesel</td>\n",
       "      <td>3.0</td>\n",
       "      <td>Volkswagen</td>\n",
       "    </tr>\n",
       "    <tr>\n",
       "      <th>38403</th>\n",
       "      <td>Touareg</td>\n",
       "      <td>2020</td>\n",
       "      <td>56989</td>\n",
       "      <td>Automatic</td>\n",
       "      <td>3895</td>\n",
       "      <td>Diesel</td>\n",
       "      <td>3.0</td>\n",
       "      <td>Volkswagen</td>\n",
       "    </tr>\n",
       "    <tr>\n",
       "      <th>38372</th>\n",
       "      <td>Touareg</td>\n",
       "      <td>2020</td>\n",
       "      <td>56499</td>\n",
       "      <td>Semi-Auto</td>\n",
       "      <td>5000</td>\n",
       "      <td>Petrol</td>\n",
       "      <td>3.0</td>\n",
       "      <td>Volkswagen</td>\n",
       "    </tr>\n",
       "    <tr>\n",
       "      <th>38326</th>\n",
       "      <td>Touareg</td>\n",
       "      <td>2020</td>\n",
       "      <td>54990</td>\n",
       "      <td>Semi-Auto</td>\n",
       "      <td>6000</td>\n",
       "      <td>Diesel</td>\n",
       "      <td>3.0</td>\n",
       "      <td>Volkswagen</td>\n",
       "    </tr>\n",
       "  </tbody>\n",
       "</table></div>"
      ],
      "text/plain": [
       "          model  year  price transmission  mileage fuelType  engineSize  \\\n",
       "38358   Touareg  2019  59990    Semi-Auto     9950   Diesel         3.0   \n",
       "38360   Touareg  2018  57295    Automatic    10000   Diesel         3.0   \n",
       "38403   Touareg  2020  56989    Automatic     3895   Diesel         3.0   \n",
       "38372   Touareg  2020  56499    Semi-Auto     5000   Petrol         3.0   \n",
       "38326   Touareg  2020  54990    Semi-Auto     6000   Diesel         3.0   \n",
       "\n",
       "      manufacturer  \n",
       "38358   Volkswagen  \n",
       "38360   Volkswagen  \n",
       "38403   Volkswagen  \n",
       "38372   Volkswagen  \n",
       "38326   Volkswagen  "
      ]
     },
     "execution_count": 13,
     "metadata": {},
     "output_type": "execute_result"
    }
   ],
   "source": [
    "vw.query(\"model == ' Touareg'\").sort_values(by = 'price',ascending = False).head()"
   ]
  },
  {
   "cell_type": "markdown",
   "id": "2f31804f",
   "metadata": {},
   "source": [
    "### *Save Dataset Clear*"
   ]
  },
  {
   "cell_type": "code",
   "execution_count": 14,
   "id": "64dbc3ee",
   "metadata": {},
   "outputs": [],
   "source": [
    "vw.to_csv('C:/Users/PC/Desktop/Car-Sales/data/vw_clear.csv',index = False)"
   ]
  }
 ],
 "metadata": {
  "kernelspec": {
   "display_name": "Python 3 (ipykernel)",
   "language": "python",
   "name": "python3"
  },
  "language_info": {
   "codemirror_mode": {
    "name": "ipython",
    "version": 3
   },
   "file_extension": ".py",
   "mimetype": "text/x-python",
   "name": "python",
   "nbconvert_exporter": "python",
   "pygments_lexer": "ipython3",
   "version": "3.9.7"
  }
 },
 "nbformat": 4,
 "nbformat_minor": 5
}
