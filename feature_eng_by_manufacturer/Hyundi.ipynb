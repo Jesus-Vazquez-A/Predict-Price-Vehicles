{
 "cells": [
  {
   "cell_type": "markdown",
   "id": "c68f5b7a",
   "metadata": {},
   "source": [
    "## **Load Libraires**"
   ]
  },
  {
   "cell_type": "code",
   "execution_count": 1,
   "id": "442b54a1",
   "metadata": {},
   "outputs": [],
   "source": [
    "import pandas as pd\n",
    "from intervals import IntervalFit\n",
    "from histogram import histogram\n",
    "import warnings"
   ]
  },
  {
   "cell_type": "code",
   "execution_count": 2,
   "id": "1e130e9a",
   "metadata": {},
   "outputs": [],
   "source": [
    "warnings.filterwarnings(\"ignore\")"
   ]
  },
  {
   "cell_type": "code",
   "execution_count": 3,
   "id": "f382e37b",
   "metadata": {},
   "outputs": [],
   "source": [
    "hyundi = pd.read_csv('C:/Users/PC/Desktop/Car-Sales/data/cars_sales2.csv')\n",
    "hyundi = hyundi.query(\"manufacturer == 'Hyundi'\")"
   ]
  },
  {
   "cell_type": "code",
   "execution_count": 4,
   "id": "795500b1",
   "metadata": {},
   "outputs": [
    {
     "data": {
      "text/plain": [
       "array([' I20', ' Tucson', ' I10', ' IX35', ' I30', ' I40', ' Ioniq',\n",
       "       ' Kona', ' I800', ' IX20', ' Santa Fe'], dtype=object)"
      ]
     },
     "execution_count": 4,
     "metadata": {},
     "output_type": "execute_result"
    }
   ],
   "source": [
    "hyundi.model.unique()"
   ]
  },
  {
   "cell_type": "code",
   "execution_count": 5,
   "id": "ca82ceb8",
   "metadata": {},
   "outputs": [
    {
     "data": {
      "text/plain": [
       "count     4228.000000\n",
       "mean     12083.280747\n",
       "std       5370.201585\n",
       "min       2488.000000\n",
       "25%       7994.000000\n",
       "50%      11320.000000\n",
       "75%      15114.250000\n",
       "max      92000.000000\n",
       "Name: price, dtype: float64"
      ]
     },
     "execution_count": 5,
     "metadata": {},
     "output_type": "execute_result"
    }
   ],
   "source": [
    "hyundi.price.describe()"
   ]
  },
  {
   "cell_type": "code",
   "execution_count": 6,
   "id": "f1757639",
   "metadata": {},
   "outputs": [
    {
     "data": {
      "image/png": "[encoded data removed]",
      "text/plain": [
       "<Figure size 1440x576 with 1 Axes>"
      ]
     },
     "metadata": {},
     "output_type": "display_data"
    }
   ],
   "source": [
    "_ = histogram(hyundi.price,\"Price\")"
   ]
  },
  {
   "cell_type": "code",
   "execution_count": 7,
   "id": "cdf82eb3",
   "metadata": {},
   "outputs": [
    {
     "data": {
      "text/html": [
       "<div><div id=81c029cc-16f8-403e-a67d-d7e2d55fd7f7 style=\"display:none; background-color:#9D6CFF; color:white; width:200px; height:30px; padding-left:5px; border-radius:4px; flex-direction:row; justify-content:space-around; align-items:center;\" onmouseover=\"this.style.backgroundColor='#BA9BF8'\" onmouseout=\"this.style.backgroundColor='#9D6CFF'\" onclick=\"window.commands?.execute('create-mitosheet-from-dataframe-output');\">See Full Dataframe in Mito</div> <script> if (window.commands?.hasCommand('create-mitosheet-from-dataframe-output')) document.getElementById('81c029cc-16f8-403e-a67d-d7e2d55fd7f7').style.display = 'flex' </script> <table border=\"1\" class=\"dataframe\">\n",
       "  <thead>\n",
       "    <tr style=\"text-align: right;\">\n",
       "      <th></th>\n",
       "      <th>model</th>\n",
       "      <th>year</th>\n",
       "      <th>price</th>\n",
       "      <th>transmission</th>\n",
       "      <th>mileage</th>\n",
       "      <th>fuelType</th>\n",
       "      <th>engineSize</th>\n",
       "      <th>manufacturer</th>\n",
       "    </tr>\n",
       "  </thead>\n",
       "  <tbody>\n",
       "    <tr>\n",
       "      <th>26305</th>\n",
       "      <td>I10</td>\n",
       "      <td>2017</td>\n",
       "      <td>92000</td>\n",
       "      <td>Automatic</td>\n",
       "      <td>35460</td>\n",
       "      <td>Petrol</td>\n",
       "      <td>1.2</td>\n",
       "      <td>Hyundi</td>\n",
       "    </tr>\n",
       "  </tbody>\n",
       "</table></div>"
      ],
      "text/plain": [
       "      model  year  price transmission  mileage fuelType  engineSize  \\\n",
       "26305   I10  2017  92000    Automatic    35460   Petrol         1.2   \n",
       "\n",
       "      manufacturer  \n",
       "26305       Hyundi  "
      ]
     },
     "execution_count": 7,
     "metadata": {},
     "output_type": "execute_result"
    }
   ],
   "source": [
    "hyundi[hyundi.price == hyundi.price.max()]"
   ]
  },
  {
   "cell_type": "markdown",
   "id": "48b5ad8e",
   "metadata": {},
   "source": [
    "I can't find a way to justify the huge price of a low value vehicle, aside from having considerable mileage."
   ]
  },
  {
   "cell_type": "code",
   "execution_count": 8,
   "id": "d7e5f844",
   "metadata": {},
   "outputs": [
    {
     "name": "stdout",
     "output_type": "stream",
     "text": [
      "Interval range STD 1.5: 20138.0\n",
      "Interval range STD 2: 22822.0\n",
      "Interval range STD 2.5: 25507.0\n",
      "Interval range STD 3.0: 28192.0\n",
      "Interval range STD 3.5: 30877.0\n",
      "Interval range STD 4: 33562.0\n"
     ]
    }
   ],
   "source": [
    "IntervalFit(hyundi.price).Upper_Interval()"
   ]
  },
  {
   "cell_type": "code",
   "execution_count": 9,
   "id": "65ce44a9",
   "metadata": {},
   "outputs": [],
   "source": [
    "hyundi = hyundi.query(\"price < 33000\")"
   ]
  },
  {
   "cell_type": "code",
   "execution_count": 10,
   "id": "b3ee1836",
   "metadata": {},
   "outputs": [
    {
     "data": {
      "text/html": [
       "<div><div id=f07870ef-c2c5-4da9-b095-41340a01254c style=\"display:none; background-color:#9D6CFF; color:white; width:200px; height:30px; padding-left:5px; border-radius:4px; flex-direction:row; justify-content:space-around; align-items:center;\" onmouseover=\"this.style.backgroundColor='#BA9BF8'\" onmouseout=\"this.style.backgroundColor='#9D6CFF'\" onclick=\"window.commands?.execute('create-mitosheet-from-dataframe-output');\">See Full Dataframe in Mito</div> <script> if (window.commands?.hasCommand('create-mitosheet-from-dataframe-output')) document.getElementById('f07870ef-c2c5-4da9-b095-41340a01254c').style.display = 'flex' </script> <table border=\"1\" class=\"dataframe\">\n",
       "  <thead>\n",
       "    <tr style=\"text-align: right;\">\n",
       "      <th></th>\n",
       "      <th>model</th>\n",
       "      <th>year</th>\n",
       "      <th>price</th>\n",
       "      <th>transmission</th>\n",
       "      <th>mileage</th>\n",
       "      <th>fuelType</th>\n",
       "      <th>engineSize</th>\n",
       "      <th>manufacturer</th>\n",
       "    </tr>\n",
       "  </thead>\n",
       "  <tbody>\n",
       "    <tr>\n",
       "      <th>25223</th>\n",
       "      <td>Santa Fe</td>\n",
       "      <td>2019</td>\n",
       "      <td>32995</td>\n",
       "      <td>Semi-Auto</td>\n",
       "      <td>7119</td>\n",
       "      <td>Diesel</td>\n",
       "      <td>2.2</td>\n",
       "      <td>Hyundi</td>\n",
       "    </tr>\n",
       "    <tr>\n",
       "      <th>26811</th>\n",
       "      <td>Santa Fe</td>\n",
       "      <td>2019</td>\n",
       "      <td>32995</td>\n",
       "      <td>Semi-Auto</td>\n",
       "      <td>3920</td>\n",
       "      <td>Diesel</td>\n",
       "      <td>2.2</td>\n",
       "      <td>Hyundi</td>\n",
       "    </tr>\n",
       "  </tbody>\n",
       "</table></div>"
      ],
      "text/plain": [
       "           model  year  price transmission  mileage fuelType  engineSize  \\\n",
       "25223   Santa Fe  2019  32995    Semi-Auto     7119   Diesel         2.2   \n",
       "26811   Santa Fe  2019  32995    Semi-Auto     3920   Diesel         2.2   \n",
       "\n",
       "      manufacturer  \n",
       "25223       Hyundi  \n",
       "26811       Hyundi  "
      ]
     },
     "execution_count": 10,
     "metadata": {},
     "output_type": "execute_result"
    }
   ],
   "source": [
    "hyundi[hyundi.price == hyundi.price.max()]"
   ]
  },
  {
   "cell_type": "markdown",
   "id": "2f31804f",
   "metadata": {},
   "source": [
    "### *Save Dataset Clear*"
   ]
  },
  {
   "cell_type": "code",
   "execution_count": 11,
   "id": "64dbc3ee",
   "metadata": {},
   "outputs": [],
   "source": [
    "hyundi.to_csv('C:/Users/PC/Desktop/Car-Sales/data/hyundi_clear.csv',index = False)"
   ]
  }
 ],
 "metadata": {
  "kernelspec": {
   "display_name": "Python 3 (ipykernel)",
   "language": "python",
   "name": "python3"
  },
  "language_info": {
   "codemirror_mode": {
    "name": "ipython",
    "version": 3
   },
   "file_extension": ".py",
   "mimetype": "text/x-python",
   "name": "python",
   "nbconvert_exporter": "python",
   "pygments_lexer": "ipython3",
   "version": "3.9.7"
  }
 },
 "nbformat": 4,
 "nbformat_minor": 5
}
