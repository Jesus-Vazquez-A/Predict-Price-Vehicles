{
 "cells": [
  {
   "cell_type": "markdown",
   "id": "c68f5b7a",
   "metadata": {},
   "source": [
    "## **Load Libraires**"
   ]
  },
  {
   "cell_type": "code",
   "execution_count": 1,
   "id": "442b54a1",
   "metadata": {},
   "outputs": [],
   "source": [
    "import pandas as pd\n",
    "from intervals import IntervalFit\n",
    "from histogram import histogram\n",
    "import warnings"
   ]
  },
  {
   "cell_type": "code",
   "execution_count": 2,
   "id": "1e130e9a",
   "metadata": {},
   "outputs": [],
   "source": [
    "warnings.filterwarnings(\"ignore\")"
   ]
  },
  {
   "cell_type": "code",
   "execution_count": 3,
   "id": "f382e37b",
   "metadata": {},
   "outputs": [],
   "source": [
    "vauxhall = pd.read_csv('C:/Users/PC/Desktop/Car-Sales/data/cars_sales2.csv')\n",
    "vauxhall = vauxhall.query(\"manufacturer == 'Vauxhall'\")"
   ]
  },
  {
   "cell_type": "code",
   "execution_count": 4,
   "id": "795500b1",
   "metadata": {},
   "outputs": [
    {
     "data": {
      "text/plain": [
       "array([' Corsa', ' Astra', ' Viva', ' Mokka', ' Mokka X', ' Crossland X',\n",
       "       ' Zafira', ' Meriva', ' Zafira Tourer', ' Adam', ' Grandland X',\n",
       "       ' Antara', ' Insignia', ' GTC', ' Combo Life', ' Vivaro', ' Agila'],\n",
       "      dtype=object)"
      ]
     },
     "execution_count": 4,
     "metadata": {},
     "output_type": "execute_result"
    }
   ],
   "source": [
    "vauxhall.model.unique()"
   ]
  },
  {
   "cell_type": "code",
   "execution_count": 5,
   "id": "ca82ceb8",
   "metadata": {},
   "outputs": [
    {
     "data": {
      "text/plain": [
       "count    12078.000000\n",
       "mean     10066.549429\n",
       "std       3214.813060\n",
       "min       2050.000000\n",
       "25%       7700.000000\n",
       "50%       9898.000000\n",
       "75%      11999.000000\n",
       "max      52489.000000\n",
       "Name: price, dtype: float64"
      ]
     },
     "execution_count": 5,
     "metadata": {},
     "output_type": "execute_result"
    }
   ],
   "source": [
    "vauxhall.price.describe()"
   ]
  },
  {
   "cell_type": "code",
   "execution_count": 6,
   "id": "f1757639",
   "metadata": {},
   "outputs": [
    {
     "data": {
      "image/png": "[encoded data removed]",
      "text/plain": [
       "<Figure size 1440x576 with 1 Axes>"
      ]
     },
     "metadata": {},
     "output_type": "display_data"
    }
   ],
   "source": [
    "_ = histogram(vauxhall.price,\"Price\")"
   ]
  },
  {
   "cell_type": "code",
   "execution_count": 7,
   "id": "d7e5f844",
   "metadata": {},
   "outputs": [
    {
     "name": "stdout",
     "output_type": "stream",
     "text": [
      "Interval range STD 1.5: 14889.0\n",
      "Interval range STD 2: 16496.0\n",
      "Interval range STD 2.5: 18103.0\n",
      "Interval range STD 3.0: 19711.0\n",
      "Interval range STD 3.5: 21318.0\n",
      "Interval range STD 4: 22925.0\n"
     ]
    }
   ],
   "source": [
    "IntervalFit(vauxhall.price).Upper_Interval()"
   ]
  },
  {
   "cell_type": "code",
   "execution_count": 8,
   "id": "06166f22",
   "metadata": {},
   "outputs": [
    {
     "data": {
      "text/html": [
       "<div><div id=e2f5e499-48f4-4460-be8e-42a70af7bf8a style=\"display:none; background-color:#9D6CFF; color:white; width:200px; height:30px; padding-left:5px; border-radius:4px; flex-direction:row; justify-content:space-around; align-items:center;\" onmouseover=\"this.style.backgroundColor='#BA9BF8'\" onmouseout=\"this.style.backgroundColor='#9D6CFF'\" onclick=\"window.commands?.execute('create-mitosheet-from-dataframe-output');\">See Full Dataframe in Mito</div> <script> if (window.commands?.hasCommand('create-mitosheet-from-dataframe-output')) document.getElementById('e2f5e499-48f4-4460-be8e-42a70af7bf8a').style.display = 'flex' </script> <table border=\"1\" class=\"dataframe\">\n",
       "  <thead>\n",
       "    <tr style=\"text-align: right;\">\n",
       "      <th></th>\n",
       "      <th>model</th>\n",
       "      <th>year</th>\n",
       "      <th>price</th>\n",
       "      <th>transmission</th>\n",
       "      <th>mileage</th>\n",
       "      <th>fuelType</th>\n",
       "      <th>engineSize</th>\n",
       "      <th>manufacturer</th>\n",
       "    </tr>\n",
       "  </thead>\n",
       "  <tbody>\n",
       "    <tr>\n",
       "      <th>74656</th>\n",
       "      <td>Mokka</td>\n",
       "      <td>2016</td>\n",
       "      <td>52489</td>\n",
       "      <td>Automatic</td>\n",
       "      <td>52489</td>\n",
       "      <td>Diesel</td>\n",
       "      <td>1.6</td>\n",
       "      <td>Vauxhall</td>\n",
       "    </tr>\n",
       "    <tr>\n",
       "      <th>80586</th>\n",
       "      <td>Vivaro</td>\n",
       "      <td>2018</td>\n",
       "      <td>27995</td>\n",
       "      <td>Manual</td>\n",
       "      <td>5000</td>\n",
       "      <td>Diesel</td>\n",
       "      <td>1.6</td>\n",
       "      <td>Vauxhall</td>\n",
       "    </tr>\n",
       "    <tr>\n",
       "      <th>79242</th>\n",
       "      <td>Grandland X</td>\n",
       "      <td>2018</td>\n",
       "      <td>26995</td>\n",
       "      <td>Manual</td>\n",
       "      <td>5000</td>\n",
       "      <td>Petrol</td>\n",
       "      <td>1.2</td>\n",
       "      <td>Vauxhall</td>\n",
       "    </tr>\n",
       "    <tr>\n",
       "      <th>79542</th>\n",
       "      <td>Insignia</td>\n",
       "      <td>2019</td>\n",
       "      <td>25995</td>\n",
       "      <td>Automatic</td>\n",
       "      <td>8363</td>\n",
       "      <td>Diesel</td>\n",
       "      <td>2.0</td>\n",
       "      <td>Vauxhall</td>\n",
       "    </tr>\n",
       "    <tr>\n",
       "      <th>78983</th>\n",
       "      <td>Grandland X</td>\n",
       "      <td>2019</td>\n",
       "      <td>23995</td>\n",
       "      <td>Automatic</td>\n",
       "      <td>6150</td>\n",
       "      <td>Diesel</td>\n",
       "      <td>1.5</td>\n",
       "      <td>Vauxhall</td>\n",
       "    </tr>\n",
       "  </tbody>\n",
       "</table></div>"
      ],
      "text/plain": [
       "              model  year  price transmission  mileage fuelType  engineSize  \\\n",
       "74656         Mokka  2016  52489    Automatic    52489   Diesel         1.6   \n",
       "80586        Vivaro  2018  27995       Manual     5000   Diesel         1.6   \n",
       "79242   Grandland X  2018  26995       Manual     5000   Petrol         1.2   \n",
       "79542      Insignia  2019  25995    Automatic     8363   Diesel         2.0   \n",
       "78983   Grandland X  2019  23995    Automatic     6150   Diesel         1.5   \n",
       "\n",
       "      manufacturer  \n",
       "74656     Vauxhall  \n",
       "80586     Vauxhall  \n",
       "79242     Vauxhall  \n",
       "79542     Vauxhall  \n",
       "78983     Vauxhall  "
      ]
     },
     "execution_count": 8,
     "metadata": {},
     "output_type": "execute_result"
    }
   ],
   "source": [
    "vauxhall.sort_values(by = \"price\",ascending = False).head(5)"
   ]
  },
  {
   "cell_type": "code",
   "execution_count": 9,
   "id": "511723a9",
   "metadata": {},
   "outputs": [
    {
     "data": {
      "text/html": [
       "<div><div id=2d65bff5-b7f0-46a8-8b39-04b201930f57 style=\"display:none; background-color:#9D6CFF; color:white; width:200px; height:30px; padding-left:5px; border-radius:4px; flex-direction:row; justify-content:space-around; align-items:center;\" onmouseover=\"this.style.backgroundColor='#BA9BF8'\" onmouseout=\"this.style.backgroundColor='#9D6CFF'\" onclick=\"window.commands?.execute('create-mitosheet-from-dataframe-output');\">See Full Dataframe in Mito</div> <script> if (window.commands?.hasCommand('create-mitosheet-from-dataframe-output')) document.getElementById('2d65bff5-b7f0-46a8-8b39-04b201930f57').style.display = 'flex' </script> <table border=\"1\" class=\"dataframe\">\n",
       "  <thead>\n",
       "    <tr style=\"text-align: right;\">\n",
       "      <th></th>\n",
       "      <th>model</th>\n",
       "      <th>year</th>\n",
       "      <th>price</th>\n",
       "      <th>transmission</th>\n",
       "      <th>mileage</th>\n",
       "      <th>fuelType</th>\n",
       "      <th>engineSize</th>\n",
       "      <th>manufacturer</th>\n",
       "    </tr>\n",
       "  </thead>\n",
       "  <tbody>\n",
       "    <tr>\n",
       "      <th>74656</th>\n",
       "      <td>Mokka</td>\n",
       "      <td>2016</td>\n",
       "      <td>52489</td>\n",
       "      <td>Automatic</td>\n",
       "      <td>52489</td>\n",
       "      <td>Diesel</td>\n",
       "      <td>1.6</td>\n",
       "      <td>Vauxhall</td>\n",
       "    </tr>\n",
       "    <tr>\n",
       "      <th>74932</th>\n",
       "      <td>Mokka</td>\n",
       "      <td>2019</td>\n",
       "      <td>15100</td>\n",
       "      <td>Manual</td>\n",
       "      <td>7457</td>\n",
       "      <td>Petrol</td>\n",
       "      <td>1.4</td>\n",
       "      <td>Vauxhall</td>\n",
       "    </tr>\n",
       "    <tr>\n",
       "      <th>74812</th>\n",
       "      <td>Mokka</td>\n",
       "      <td>2019</td>\n",
       "      <td>15000</td>\n",
       "      <td>Manual</td>\n",
       "      <td>8342</td>\n",
       "      <td>Petrol</td>\n",
       "      <td>1.4</td>\n",
       "      <td>Vauxhall</td>\n",
       "    </tr>\n",
       "    <tr>\n",
       "      <th>74922</th>\n",
       "      <td>Mokka</td>\n",
       "      <td>2018</td>\n",
       "      <td>15000</td>\n",
       "      <td>Automatic</td>\n",
       "      <td>11804</td>\n",
       "      <td>Petrol</td>\n",
       "      <td>1.4</td>\n",
       "      <td>Vauxhall</td>\n",
       "    </tr>\n",
       "    <tr>\n",
       "      <th>74905</th>\n",
       "      <td>Mokka</td>\n",
       "      <td>2019</td>\n",
       "      <td>15000</td>\n",
       "      <td>Manual</td>\n",
       "      <td>8961</td>\n",
       "      <td>Petrol</td>\n",
       "      <td>1.4</td>\n",
       "      <td>Vauxhall</td>\n",
       "    </tr>\n",
       "  </tbody>\n",
       "</table></div>"
      ],
      "text/plain": [
       "        model  year  price transmission  mileage fuelType  engineSize  \\\n",
       "74656   Mokka  2016  52489    Automatic    52489   Diesel         1.6   \n",
       "74932   Mokka  2019  15100       Manual     7457   Petrol         1.4   \n",
       "74812   Mokka  2019  15000       Manual     8342   Petrol         1.4   \n",
       "74922   Mokka  2018  15000    Automatic    11804   Petrol         1.4   \n",
       "74905   Mokka  2019  15000       Manual     8961   Petrol         1.4   \n",
       "\n",
       "      manufacturer  \n",
       "74656     Vauxhall  \n",
       "74932     Vauxhall  \n",
       "74812     Vauxhall  \n",
       "74922     Vauxhall  \n",
       "74905     Vauxhall  "
      ]
     },
     "execution_count": 9,
     "metadata": {},
     "output_type": "execute_result"
    }
   ],
   "source": [
    "vauxhall.query(\"model == ' Mokka'\").sort_values(by = \"price\",ascending = False).head(5)"
   ]
  },
  {
   "cell_type": "markdown",
   "id": "55018843",
   "metadata": {},
   "source": [
    "It's a clear outlier, as a 2016 model is priced considerably higher than a more recent model."
   ]
  },
  {
   "cell_type": "code",
   "execution_count": 10,
   "id": "e08b9074",
   "metadata": {},
   "outputs": [
    {
     "data": {
      "text/html": [
       "<div><div id=33cfb353-e063-4653-8cff-e39d8b0012e4 style=\"display:none; background-color:#9D6CFF; color:white; width:200px; height:30px; padding-left:5px; border-radius:4px; flex-direction:row; justify-content:space-around; align-items:center;\" onmouseover=\"this.style.backgroundColor='#BA9BF8'\" onmouseout=\"this.style.backgroundColor='#9D6CFF'\" onclick=\"window.commands?.execute('create-mitosheet-from-dataframe-output');\">See Full Dataframe in Mito</div> <script> if (window.commands?.hasCommand('create-mitosheet-from-dataframe-output')) document.getElementById('33cfb353-e063-4653-8cff-e39d8b0012e4').style.display = 'flex' </script> <table border=\"1\" class=\"dataframe\">\n",
       "  <thead>\n",
       "    <tr style=\"text-align: right;\">\n",
       "      <th></th>\n",
       "      <th>model</th>\n",
       "      <th>year</th>\n",
       "      <th>price</th>\n",
       "      <th>transmission</th>\n",
       "      <th>mileage</th>\n",
       "      <th>fuelType</th>\n",
       "      <th>engineSize</th>\n",
       "      <th>manufacturer</th>\n",
       "    </tr>\n",
       "  </thead>\n",
       "  <tbody>\n",
       "    <tr>\n",
       "      <th>80586</th>\n",
       "      <td>Vivaro</td>\n",
       "      <td>2018</td>\n",
       "      <td>27995</td>\n",
       "      <td>Manual</td>\n",
       "      <td>5000</td>\n",
       "      <td>Diesel</td>\n",
       "      <td>1.6</td>\n",
       "      <td>Vauxhall</td>\n",
       "    </tr>\n",
       "    <tr>\n",
       "      <th>80578</th>\n",
       "      <td>Vivaro</td>\n",
       "      <td>2018</td>\n",
       "      <td>20790</td>\n",
       "      <td>Manual</td>\n",
       "      <td>6392</td>\n",
       "      <td>Diesel</td>\n",
       "      <td>1.6</td>\n",
       "      <td>Vauxhall</td>\n",
       "    </tr>\n",
       "    <tr>\n",
       "      <th>80573</th>\n",
       "      <td>Vivaro</td>\n",
       "      <td>2018</td>\n",
       "      <td>19998</td>\n",
       "      <td>Manual</td>\n",
       "      <td>13585</td>\n",
       "      <td>Diesel</td>\n",
       "      <td>1.6</td>\n",
       "      <td>Vauxhall</td>\n",
       "    </tr>\n",
       "    <tr>\n",
       "      <th>80582</th>\n",
       "      <td>Vivaro</td>\n",
       "      <td>2018</td>\n",
       "      <td>19500</td>\n",
       "      <td>Manual</td>\n",
       "      <td>22036</td>\n",
       "      <td>Diesel</td>\n",
       "      <td>1.6</td>\n",
       "      <td>Vauxhall</td>\n",
       "    </tr>\n",
       "    <tr>\n",
       "      <th>80581</th>\n",
       "      <td>Vivaro</td>\n",
       "      <td>2018</td>\n",
       "      <td>18500</td>\n",
       "      <td>Manual</td>\n",
       "      <td>22036</td>\n",
       "      <td>Diesel</td>\n",
       "      <td>1.6</td>\n",
       "      <td>Vauxhall</td>\n",
       "    </tr>\n",
       "  </tbody>\n",
       "</table></div>"
      ],
      "text/plain": [
       "         model  year  price transmission  mileage fuelType  engineSize  \\\n",
       "80586   Vivaro  2018  27995       Manual     5000   Diesel         1.6   \n",
       "80578   Vivaro  2018  20790       Manual     6392   Diesel         1.6   \n",
       "80573   Vivaro  2018  19998       Manual    13585   Diesel         1.6   \n",
       "80582   Vivaro  2018  19500       Manual    22036   Diesel         1.6   \n",
       "80581   Vivaro  2018  18500       Manual    22036   Diesel         1.6   \n",
       "\n",
       "      manufacturer  \n",
       "80586     Vauxhall  \n",
       "80578     Vauxhall  \n",
       "80573     Vauxhall  \n",
       "80582     Vauxhall  \n",
       "80581     Vauxhall  "
      ]
     },
     "execution_count": 10,
     "metadata": {},
     "output_type": "execute_result"
    }
   ],
   "source": [
    "vauxhall.query(\"model == ' Vivaro'\").sort_values(by = \"price\",ascending = False).head(5)"
   ]
  },
  {
   "cell_type": "code",
   "execution_count": 11,
   "id": "40bdf847",
   "metadata": {},
   "outputs": [
    {
     "data": {
      "text/html": [
       "<div><div id=660d8a74-cac2-4d69-9439-0364471b708e style=\"display:none; background-color:#9D6CFF; color:white; width:200px; height:30px; padding-left:5px; border-radius:4px; flex-direction:row; justify-content:space-around; align-items:center;\" onmouseover=\"this.style.backgroundColor='#BA9BF8'\" onmouseout=\"this.style.backgroundColor='#9D6CFF'\" onclick=\"window.commands?.execute('create-mitosheet-from-dataframe-output');\">See Full Dataframe in Mito</div> <script> if (window.commands?.hasCommand('create-mitosheet-from-dataframe-output')) document.getElementById('660d8a74-cac2-4d69-9439-0364471b708e').style.display = 'flex' </script> <table border=\"1\" class=\"dataframe\">\n",
       "  <thead>\n",
       "    <tr style=\"text-align: right;\">\n",
       "      <th></th>\n",
       "      <th>model</th>\n",
       "      <th>year</th>\n",
       "      <th>price</th>\n",
       "      <th>transmission</th>\n",
       "      <th>mileage</th>\n",
       "      <th>fuelType</th>\n",
       "      <th>engineSize</th>\n",
       "      <th>manufacturer</th>\n",
       "    </tr>\n",
       "  </thead>\n",
       "  <tbody>\n",
       "    <tr>\n",
       "      <th>79242</th>\n",
       "      <td>Grandland X</td>\n",
       "      <td>2018</td>\n",
       "      <td>26995</td>\n",
       "      <td>Manual</td>\n",
       "      <td>5000</td>\n",
       "      <td>Petrol</td>\n",
       "      <td>1.2</td>\n",
       "      <td>Vauxhall</td>\n",
       "    </tr>\n",
       "    <tr>\n",
       "      <th>78983</th>\n",
       "      <td>Grandland X</td>\n",
       "      <td>2019</td>\n",
       "      <td>23995</td>\n",
       "      <td>Automatic</td>\n",
       "      <td>6150</td>\n",
       "      <td>Diesel</td>\n",
       "      <td>1.5</td>\n",
       "      <td>Vauxhall</td>\n",
       "    </tr>\n",
       "    <tr>\n",
       "      <th>79348</th>\n",
       "      <td>Grandland X</td>\n",
       "      <td>2019</td>\n",
       "      <td>23790</td>\n",
       "      <td>Automatic</td>\n",
       "      <td>6500</td>\n",
       "      <td>Petrol</td>\n",
       "      <td>1.2</td>\n",
       "      <td>Vauxhall</td>\n",
       "    </tr>\n",
       "    <tr>\n",
       "      <th>78916</th>\n",
       "      <td>Grandland X</td>\n",
       "      <td>2019</td>\n",
       "      <td>23495</td>\n",
       "      <td>Manual</td>\n",
       "      <td>4050</td>\n",
       "      <td>Petrol</td>\n",
       "      <td>1.2</td>\n",
       "      <td>Vauxhall</td>\n",
       "    </tr>\n",
       "    <tr>\n",
       "      <th>79029</th>\n",
       "      <td>Grandland X</td>\n",
       "      <td>2019</td>\n",
       "      <td>22999</td>\n",
       "      <td>Automatic</td>\n",
       "      <td>5000</td>\n",
       "      <td>Diesel</td>\n",
       "      <td>1.5</td>\n",
       "      <td>Vauxhall</td>\n",
       "    </tr>\n",
       "  </tbody>\n",
       "</table></div>"
      ],
      "text/plain": [
       "              model  year  price transmission  mileage fuelType  engineSize  \\\n",
       "79242   Grandland X  2018  26995       Manual     5000   Petrol         1.2   \n",
       "78983   Grandland X  2019  23995    Automatic     6150   Diesel         1.5   \n",
       "79348   Grandland X  2019  23790    Automatic     6500   Petrol         1.2   \n",
       "78916   Grandland X  2019  23495       Manual     4050   Petrol         1.2   \n",
       "79029   Grandland X  2019  22999    Automatic     5000   Diesel         1.5   \n",
       "\n",
       "      manufacturer  \n",
       "79242     Vauxhall  \n",
       "78983     Vauxhall  \n",
       "79348     Vauxhall  \n",
       "78916     Vauxhall  \n",
       "79029     Vauxhall  "
      ]
     },
     "execution_count": 11,
     "metadata": {},
     "output_type": "execute_result"
    }
   ],
   "source": [
    "vauxhall.query(\"model == ' Grandland X'\").sort_values(by = \"price\",ascending = False).head(5)"
   ]
  },
  {
   "cell_type": "code",
   "execution_count": 12,
   "id": "1e093897",
   "metadata": {},
   "outputs": [
    {
     "data": {
      "text/html": [
       "<div><div id=bb97586c-aab1-43b6-a259-d191e7aaca60 style=\"display:none; background-color:#9D6CFF; color:white; width:200px; height:30px; padding-left:5px; border-radius:4px; flex-direction:row; justify-content:space-around; align-items:center;\" onmouseover=\"this.style.backgroundColor='#BA9BF8'\" onmouseout=\"this.style.backgroundColor='#9D6CFF'\" onclick=\"window.commands?.execute('create-mitosheet-from-dataframe-output');\">See Full Dataframe in Mito</div> <script> if (window.commands?.hasCommand('create-mitosheet-from-dataframe-output')) document.getElementById('bb97586c-aab1-43b6-a259-d191e7aaca60').style.display = 'flex' </script> <table border=\"1\" class=\"dataframe\">\n",
       "  <thead>\n",
       "    <tr style=\"text-align: right;\">\n",
       "      <th></th>\n",
       "      <th>model</th>\n",
       "      <th>year</th>\n",
       "      <th>price</th>\n",
       "      <th>transmission</th>\n",
       "      <th>mileage</th>\n",
       "      <th>fuelType</th>\n",
       "      <th>engineSize</th>\n",
       "      <th>manufacturer</th>\n",
       "    </tr>\n",
       "  </thead>\n",
       "  <tbody>\n",
       "    <tr>\n",
       "      <th>79542</th>\n",
       "      <td>Insignia</td>\n",
       "      <td>2019</td>\n",
       "      <td>25995</td>\n",
       "      <td>Automatic</td>\n",
       "      <td>8363</td>\n",
       "      <td>Diesel</td>\n",
       "      <td>2.0</td>\n",
       "      <td>Vauxhall</td>\n",
       "    </tr>\n",
       "    <tr>\n",
       "      <th>79682</th>\n",
       "      <td>Insignia</td>\n",
       "      <td>2019</td>\n",
       "      <td>22999</td>\n",
       "      <td>Automatic</td>\n",
       "      <td>4888</td>\n",
       "      <td>Diesel</td>\n",
       "      <td>2.0</td>\n",
       "      <td>Vauxhall</td>\n",
       "    </tr>\n",
       "    <tr>\n",
       "      <th>79941</th>\n",
       "      <td>Insignia</td>\n",
       "      <td>2018</td>\n",
       "      <td>22290</td>\n",
       "      <td>Automatic</td>\n",
       "      <td>7825</td>\n",
       "      <td>Petrol</td>\n",
       "      <td>1.6</td>\n",
       "      <td>Vauxhall</td>\n",
       "    </tr>\n",
       "    <tr>\n",
       "      <th>79543</th>\n",
       "      <td>Insignia</td>\n",
       "      <td>2019</td>\n",
       "      <td>21995</td>\n",
       "      <td>Automatic</td>\n",
       "      <td>16666</td>\n",
       "      <td>Petrol</td>\n",
       "      <td>1.5</td>\n",
       "      <td>Vauxhall</td>\n",
       "    </tr>\n",
       "    <tr>\n",
       "      <th>80186</th>\n",
       "      <td>Insignia</td>\n",
       "      <td>2018</td>\n",
       "      <td>19999</td>\n",
       "      <td>Manual</td>\n",
       "      <td>6000</td>\n",
       "      <td>Diesel</td>\n",
       "      <td>2.0</td>\n",
       "      <td>Vauxhall</td>\n",
       "    </tr>\n",
       "  </tbody>\n",
       "</table></div>"
      ],
      "text/plain": [
       "           model  year  price transmission  mileage fuelType  engineSize  \\\n",
       "79542   Insignia  2019  25995    Automatic     8363   Diesel         2.0   \n",
       "79682   Insignia  2019  22999    Automatic     4888   Diesel         2.0   \n",
       "79941   Insignia  2018  22290    Automatic     7825   Petrol         1.6   \n",
       "79543   Insignia  2019  21995    Automatic    16666   Petrol         1.5   \n",
       "80186   Insignia  2018  19999       Manual     6000   Diesel         2.0   \n",
       "\n",
       "      manufacturer  \n",
       "79542     Vauxhall  \n",
       "79682     Vauxhall  \n",
       "79941     Vauxhall  \n",
       "79543     Vauxhall  \n",
       "80186     Vauxhall  "
      ]
     },
     "execution_count": 12,
     "metadata": {},
     "output_type": "execute_result"
    }
   ],
   "source": [
    "vauxhall.query(\"model == ' Insignia'\").sort_values(by = \"price\",ascending = False).head(5)"
   ]
  },
  {
   "cell_type": "code",
   "execution_count": 13,
   "id": "685a8f75",
   "metadata": {},
   "outputs": [],
   "source": [
    "vauxhall = vauxhall.query(\"price < 23000\")"
   ]
  },
  {
   "cell_type": "code",
   "execution_count": 14,
   "id": "27348f97",
   "metadata": {},
   "outputs": [
    {
     "data": {
      "text/html": [
       "<div><div id=b19e35b4-a4b5-4022-8819-3b472e4840d0 style=\"display:none; background-color:#9D6CFF; color:white; width:200px; height:30px; padding-left:5px; border-radius:4px; flex-direction:row; justify-content:space-around; align-items:center;\" onmouseover=\"this.style.backgroundColor='#BA9BF8'\" onmouseout=\"this.style.backgroundColor='#9D6CFF'\" onclick=\"window.commands?.execute('create-mitosheet-from-dataframe-output');\">See Full Dataframe in Mito</div> <script> if (window.commands?.hasCommand('create-mitosheet-from-dataframe-output')) document.getElementById('b19e35b4-a4b5-4022-8819-3b472e4840d0').style.display = 'flex' </script> <table border=\"1\" class=\"dataframe\">\n",
       "  <thead>\n",
       "    <tr style=\"text-align: right;\">\n",
       "      <th></th>\n",
       "      <th>model</th>\n",
       "      <th>year</th>\n",
       "      <th>price</th>\n",
       "      <th>transmission</th>\n",
       "      <th>mileage</th>\n",
       "      <th>fuelType</th>\n",
       "      <th>engineSize</th>\n",
       "      <th>manufacturer</th>\n",
       "    </tr>\n",
       "  </thead>\n",
       "  <tbody>\n",
       "    <tr>\n",
       "      <th>73479</th>\n",
       "      <td>Astra</td>\n",
       "      <td>2019</td>\n",
       "      <td>22999</td>\n",
       "      <td>Automatic</td>\n",
       "      <td>3668</td>\n",
       "      <td>Petrol</td>\n",
       "      <td>1.4</td>\n",
       "      <td>Vauxhall</td>\n",
       "    </tr>\n",
       "    <tr>\n",
       "      <th>79682</th>\n",
       "      <td>Insignia</td>\n",
       "      <td>2019</td>\n",
       "      <td>22999</td>\n",
       "      <td>Automatic</td>\n",
       "      <td>4888</td>\n",
       "      <td>Diesel</td>\n",
       "      <td>2.0</td>\n",
       "      <td>Vauxhall</td>\n",
       "    </tr>\n",
       "    <tr>\n",
       "      <th>79029</th>\n",
       "      <td>Grandland X</td>\n",
       "      <td>2019</td>\n",
       "      <td>22999</td>\n",
       "      <td>Automatic</td>\n",
       "      <td>5000</td>\n",
       "      <td>Diesel</td>\n",
       "      <td>1.5</td>\n",
       "      <td>Vauxhall</td>\n",
       "    </tr>\n",
       "    <tr>\n",
       "      <th>79259</th>\n",
       "      <td>Grandland X</td>\n",
       "      <td>2019</td>\n",
       "      <td>22995</td>\n",
       "      <td>Automatic</td>\n",
       "      <td>3652</td>\n",
       "      <td>Petrol</td>\n",
       "      <td>1.2</td>\n",
       "      <td>Vauxhall</td>\n",
       "    </tr>\n",
       "    <tr>\n",
       "      <th>79155</th>\n",
       "      <td>Grandland X</td>\n",
       "      <td>2019</td>\n",
       "      <td>22995</td>\n",
       "      <td>Automatic</td>\n",
       "      <td>5084</td>\n",
       "      <td>Diesel</td>\n",
       "      <td>1.5</td>\n",
       "      <td>Vauxhall</td>\n",
       "    </tr>\n",
       "  </tbody>\n",
       "</table></div>"
      ],
      "text/plain": [
       "              model  year  price transmission  mileage fuelType  engineSize  \\\n",
       "73479         Astra  2019  22999    Automatic     3668   Petrol         1.4   \n",
       "79682      Insignia  2019  22999    Automatic     4888   Diesel         2.0   \n",
       "79029   Grandland X  2019  22999    Automatic     5000   Diesel         1.5   \n",
       "79259   Grandland X  2019  22995    Automatic     3652   Petrol         1.2   \n",
       "79155   Grandland X  2019  22995    Automatic     5084   Diesel         1.5   \n",
       "\n",
       "      manufacturer  \n",
       "73479     Vauxhall  \n",
       "79682     Vauxhall  \n",
       "79029     Vauxhall  \n",
       "79259     Vauxhall  \n",
       "79155     Vauxhall  "
      ]
     },
     "execution_count": 14,
     "metadata": {},
     "output_type": "execute_result"
    }
   ],
   "source": [
    "vauxhall.sort_values(by = \"price\",ascending = False).head(5)"
   ]
  },
  {
   "cell_type": "markdown",
   "id": "fc4a535d",
   "metadata": {},
   "source": [
    "In both models there are outliers, l will choose to apply the upper range, we will select those models less than 23k GBP."
   ]
  },
  {
   "cell_type": "code",
   "execution_count": 15,
   "id": "7224c581",
   "metadata": {},
   "outputs": [
    {
     "data": {
      "image/png": "[encoded data removed]",
      "text/plain": [
       "<Figure size 1440x576 with 1 Axes>"
      ]
     },
     "metadata": {},
     "output_type": "display_data"
    }
   ],
   "source": [
    "_ = histogram(vauxhall.price,\"Price\")"
   ]
  },
  {
   "cell_type": "markdown",
   "id": "2f31804f",
   "metadata": {},
   "source": [
    "### *Save Dataset Clear*"
   ]
  },
  {
   "cell_type": "code",
   "execution_count": 16,
   "id": "64dbc3ee",
   "metadata": {},
   "outputs": [],
   "source": [
    "vauxhall.to_csv('C:/Users/PC/Desktop/Car-Sales/data/vauxhall_clear.csv',index = False)"
   ]
  }
 ],
 "metadata": {
  "kernelspec": {
   "display_name": "Python 3 (ipykernel)",
   "language": "python",
   "name": "python3"
  },
  "language_info": {
   "codemirror_mode": {
    "name": "ipython",
    "version": 3
   },
   "file_extension": ".py",
   "mimetype": "text/x-python",
   "name": "python",
   "nbconvert_exporter": "python",
   "pygments_lexer": "ipython3",
   "version": "3.9.7"
  }
 },
 "nbformat": 4,
 "nbformat_minor": 5
}
