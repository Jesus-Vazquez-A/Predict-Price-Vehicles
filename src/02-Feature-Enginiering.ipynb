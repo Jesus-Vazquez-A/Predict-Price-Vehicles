{
 "cells": [
  {
   "cell_type": "markdown",
   "id": "c68f5b7a",
   "metadata": {},
   "source": [
    "## **Load Libraires**"
   ]
  },
  {
   "cell_type": "code",
   "execution_count": 1,
   "id": "442b54a1",
   "metadata": {},
   "outputs": [],
   "source": [
    "import pandas as pd\n",
    "import numpy as np\n",
    "import matplotlib.pyplot as plt\n",
    "import seaborn as sns\n",
    "import warnings"
   ]
  },
  {
   "cell_type": "code",
   "execution_count": 2,
   "id": "33c3aaf9",
   "metadata": {},
   "outputs": [],
   "source": [
    "warnings.filterwarnings('ignore')"
   ]
  },
  {
   "cell_type": "markdown",
   "id": "307e0940",
   "metadata": {},
   "source": [
    "# **Feature Engineering**"
   ]
  },
  {
   "cell_type": "code",
   "execution_count": 3,
   "id": "1202baf0",
   "metadata": {},
   "outputs": [],
   "source": [
    "df = pd.read_csv('C:/Users/PC/Desktop/Car-Price-Proyect/data/cars.csv')"
   ]
  },
  {
   "cell_type": "code",
   "execution_count": 4,
   "id": "885f7297",
   "metadata": {},
   "outputs": [],
   "source": [
    "class Intervals():\n",
    "    \n",
    "    def __init__(self,feature):\n",
    "        \n",
    "        self.mean=np.mean(feature)\n",
    "        self.sd=np.std(feature)\n",
    "        self.interval_range=[1.5,2,2.5,3.0,3.5,4]\n",
    "        \n",
    "    def Upper_Interval(self):\n",
    "        \n",
    "        for interval in self.interval_range:\n",
    "            \n",
    "            upper_interval= self.mean+interval*self.sd\n",
    "            upper_interval=np.round(upper_interval)\n",
    "            \n",
    "            print(f\"Interval range STD {interval}: {upper_interval}\")\n",
    "        \n",
    "    def Lower_Interval(self):\n",
    "        \n",
    "         for interval in self.interval_range:\n",
    "            \n",
    "            lower_interval=self.mean-interval*self.sd\n",
    "            lower_interval=np.round(lower_interval)\n",
    "            \n",
    "            print(f\"Interval range STD {interval}: {lower_interval}\")"
   ]
  },
  {
   "cell_type": "code",
   "execution_count": 5,
   "id": "1e3d6e69",
   "metadata": {},
   "outputs": [],
   "source": [
    "class IntervalFit(Intervals):\n",
    "    def __init__(self,feature):\n",
    "        Intervals.__init__(self,feature)"
   ]
  },
  {
   "cell_type": "markdown",
   "id": "d796847f",
   "metadata": {},
   "source": [
    "Using object-oriented programming. We create a class that allows us to calculate the lower and upper interval, for the continuous numeric variable."
   ]
  },
  {
   "cell_type": "markdown",
   "id": "cd7b7f9d",
   "metadata": {},
   "source": [
    "### *Price*"
   ]
  },
  {
   "cell_type": "code",
   "execution_count": 6,
   "id": "9b9a360a",
   "metadata": {},
   "outputs": [
    {
     "data": {
      "text/plain": [
       "count     64132.000000\n",
       "mean      18404.653543\n",
       "std       10855.717134\n",
       "min         495.000000\n",
       "25%       10930.000000\n",
       "50%       15999.000000\n",
       "75%       22980.000000\n",
       "max      159999.000000\n",
       "Name: price, dtype: float64"
      ]
     },
     "execution_count": 6,
     "metadata": {},
     "output_type": "execute_result"
    }
   ],
   "source": [
    "df.price.describe()"
   ]
  },
  {
   "cell_type": "code",
   "execution_count": 7,
   "id": "ff6e21a9",
   "metadata": {
    "scrolled": true
   },
   "outputs": [
    {
     "name": "stdout",
     "output_type": "stream",
     "text": [
      "Interval range STD 1.5: 2121.0\n",
      "Interval range STD 2: -3307.0\n",
      "Interval range STD 2.5: -8734.0\n",
      "Interval range STD 3.0: -14162.0\n",
      "Interval range STD 3.5: -19590.0\n",
      "Interval range STD 4: -25018.0\n"
     ]
    }
   ],
   "source": [
    "IntervalFit(df.price).Lower_Interval()"
   ]
  },
  {
   "cell_type": "markdown",
   "id": "b1d28f02",
   "metadata": {},
   "source": [
    "We will take the minimum value of 2122 pounds sterling."
   ]
  },
  {
   "cell_type": "code",
   "execution_count": 14,
   "id": "8068e6aa",
   "metadata": {},
   "outputs": [
    {
     "name": "stdout",
     "output_type": "stream",
     "text": [
      "Interval range STD 1.5: 34688.0\n",
      "Interval range STD 2: 40116.0\n",
      "Interval range STD 2.5: 45544.0\n",
      "Interval range STD 3.0: 50972.0\n",
      "Interval range STD 3.5: 56399.0\n",
      "Interval range STD 4: 61827.0\n"
     ]
    }
   ],
   "source": [
    "IntervalFit(df.price).Upper_Interval()"
   ]
  },
  {
   "cell_type": "markdown",
   "id": "8594d7f6",
   "metadata": {},
   "source": [
    "I am not convinced by the upper range. Better I will choose to apply this interval, according to the make of the vehicle."
   ]
  },
  {
   "cell_type": "code",
   "execution_count": 15,
   "id": "dec545f8",
   "metadata": {},
   "outputs": [],
   "source": [
    "df = df.query(\"price > 2122\")"
   ]
  },
  {
   "cell_type": "markdown",
   "id": "a63ea47f",
   "metadata": {},
   "source": [
    "### *Mileage*"
   ]
  },
  {
   "cell_type": "code",
   "execution_count": 16,
   "id": "b17e7fa3",
   "metadata": {},
   "outputs": [
    {
     "name": "stdout",
     "output_type": "stream",
     "text": [
      "Interval range STD 1.5: 55113.0\n",
      "Interval range STD 2: 65704.0\n",
      "Interval range STD 2.5: 76295.0\n",
      "Interval range STD 3.0: 86886.0\n",
      "Interval range STD 3.5: 97478.0\n",
      "Interval range STD 4: 108069.0\n"
     ]
    }
   ],
   "source": [
    "IntervalFit(df.mileage).Upper_Interval()"
   ]
  },
  {
   "cell_type": "markdown",
   "id": "442e752c",
   "metadata": {},
   "source": [
    "I will choose to use an interval of 86,886 miles. Sounds like a reasonable amount to me."
   ]
  },
  {
   "cell_type": "code",
   "execution_count": 24,
   "id": "d98994d0",
   "metadata": {},
   "outputs": [],
   "source": [
    "df = df.query(\"mileage > 3106 and mileage < 86886\")"
   ]
  },
  {
   "cell_type": "markdown",
   "id": "ed739fd4",
   "metadata": {},
   "source": [
    "### *Year*"
   ]
  },
  {
   "cell_type": "code",
   "execution_count": 25,
   "id": "4eeac6d5",
   "metadata": {},
   "outputs": [
    {
     "data": {
      "text/plain": [
       "count    55851.000000\n",
       "mean      2016.875544\n",
       "std          1.942900\n",
       "min       1970.000000\n",
       "25%       2016.000000\n",
       "50%       2017.000000\n",
       "75%       2018.000000\n",
       "max       2060.000000\n",
       "Name: year, dtype: float64"
      ]
     },
     "execution_count": 25,
     "metadata": {},
     "output_type": "execute_result"
    }
   ],
   "source": [
    "df.year.describe()"
   ]
  },
  {
   "cell_type": "markdown",
   "id": "bf4bf99a",
   "metadata": {},
   "source": [
    "It is impossible that there is a manufacturing date of the year 2060. It is a clear data collection failure."
   ]
  },
  {
   "cell_type": "code",
   "execution_count": 43,
   "id": "d0cde47c",
   "metadata": {},
   "outputs": [],
   "source": [
    "df = df.query('year > 2000 and year <= 2020')"
   ]
  },
  {
   "cell_type": "markdown",
   "id": "9d6945c4",
   "metadata": {},
   "source": [
    "### *MPG*"
   ]
  },
  {
   "cell_type": "code",
   "execution_count": 13,
   "id": "9d209d5b",
   "metadata": {},
   "outputs": [
    {
     "data": {
      "text/plain": [
       "count    55104.000000\n",
       "mean        57.139837\n",
       "std         17.932148\n",
       "min          1.100000\n",
       "25%         47.900000\n",
       "50%         56.500000\n",
       "75%         65.700000\n",
       "max        470.800000\n",
       "Name: mpg, dtype: float64"
      ]
     },
     "execution_count": 13,
     "metadata": {},
     "output_type": "execute_result"
    }
   ],
   "source": [
    "df.mpg.describe()"
   ]
  },
  {
   "cell_type": "markdown",
   "id": "6876179a",
   "metadata": {},
   "source": [
    "There is a clear outlier for MPG of 1.0, which is illogical. While high MPG values can be justified by the vehicle's engine type."
   ]
  },
  {
   "cell_type": "code",
   "execution_count": 46,
   "id": "a90919aa",
   "metadata": {},
   "outputs": [
    {
     "name": "stdout",
     "output_type": "stream",
     "text": [
      "Interval range STD 1.5: 30.0\n",
      "Interval range STD 2: 21.0\n",
      "Interval range STD 2.5: 12.0\n",
      "Interval range STD 3.0: 3.0\n",
      "Interval range STD 3.5: -6.0\n",
      "Interval range STD 4: -15.0\n"
     ]
    }
   ],
   "source": [
    "IntervalFit(df.mpg).Lower_Interval()"
   ]
  },
  {
   "cell_type": "code",
   "execution_count": 80,
   "id": "e5022598",
   "metadata": {},
   "outputs": [],
   "source": [
    "df = df.query(\"mpg > 21.0\")"
   ]
  },
  {
   "cell_type": "code",
   "execution_count": 62,
   "id": "68179949",
   "metadata": {},
   "outputs": [
    {
     "data": {
      "text/plain": [
       "Petrol      27002\n",
       "Diesel      26061\n",
       "Hybrid       2628\n",
       "Other         138\n",
       "Electric        5\n",
       "Name: fuelType, dtype: int64"
      ]
     },
     "execution_count": 62,
     "metadata": {},
     "output_type": "execute_result"
    }
   ],
   "source": [
    "df.fuelType.value_counts()"
   ]
  },
  {
   "cell_type": "markdown",
   "id": "0bca103b",
   "metadata": {},
   "source": [
    "To apply this interval, we first have to eliminate the other category, since it does not add value. Also eliminate those vehicles that have an electric fuel type. Since there are very few vehicles in the dataset and they can skew the results."
   ]
  },
  {
   "cell_type": "code",
   "execution_count": 63,
   "id": "ef513b3e",
   "metadata": {},
   "outputs": [],
   "source": [
    "df = df.query(\"fuelType != 'Other' and fuelType != 'Electric'\")"
   ]
  },
  {
   "cell_type": "code",
   "execution_count": 81,
   "id": "62c668c6",
   "metadata": {},
   "outputs": [
    {
     "data": {
      "text/plain": [
       "Petrol    26980\n",
       "Diesel    26055\n",
       "Hybrid     2615\n",
       "Name: fuelType, dtype: int64"
      ]
     },
     "execution_count": 81,
     "metadata": {},
     "output_type": "execute_result"
    }
   ],
   "source": [
    "df.fuelType.value_counts()"
   ]
  },
  {
   "cell_type": "code",
   "execution_count": 114,
   "id": "cc4b45fc",
   "metadata": {},
   "outputs": [],
   "source": [
    "def UppperLimitMPG(x):\n",
    "    \n",
    "    mean = np.mean(x)\n",
    "    std = np.std(x)\n",
    "    \n",
    "    return mean+2.5*std"
   ]
  },
  {
   "cell_type": "code",
   "execution_count": 115,
   "id": "0d82b36f",
   "metadata": {
    "scrolled": false
   },
   "outputs": [
    {
     "data": {
      "text/plain": [
       "fuelType\n",
       "Diesel     86.103206\n",
       "Hybrid    215.534904\n",
       "Petrol     77.932620\n",
       "Name: mpg, dtype: float64"
      ]
     },
     "execution_count": 115,
     "metadata": {},
     "output_type": "execute_result"
    }
   ],
   "source": [
    "df.groupby(\"fuelType\")[\"mpg\"].apply(UppperLimitMPG)"
   ]
  },
  {
   "cell_type": "markdown",
   "id": "f490f86e",
   "metadata": {},
   "source": [
    "We can use the maximum estimated interval of 215.53."
   ]
  },
  {
   "cell_type": "code",
   "execution_count": 116,
   "id": "563d25ea",
   "metadata": {},
   "outputs": [],
   "source": [
    "df = df.query(\"mpg < 215.53\")"
   ]
  },
  {
   "cell_type": "markdown",
   "id": "e4ac9c1b",
   "metadata": {},
   "source": [
    "## *Price*\n"
   ]
  },
  {
   "cell_type": "markdown",
   "id": "17bf58d7",
   "metadata": {},
   "source": [
    "### *Ford*"
   ]
  },
  {
   "cell_type": "code",
   "execution_count": 125,
   "id": "ab1d788e",
   "metadata": {},
   "outputs": [],
   "source": [
    "ford = df.query(\"manufacturer == 'Ford'\")"
   ]
  },
  {
   "cell_type": "code",
   "execution_count": 126,
   "id": "c8ab54a8",
   "metadata": {},
   "outputs": [
    {
     "data": {
      "text/plain": [
       "count    16546.000000\n",
       "mean     12035.749365\n",
       "std       4327.783541\n",
       "min       2250.000000\n",
       "25%       8998.000000\n",
       "50%      11000.000000\n",
       "75%      14899.000000\n",
       "max      54995.000000\n",
       "Name: price, dtype: float64"
      ]
     },
     "execution_count": 126,
     "metadata": {},
     "output_type": "execute_result"
    }
   ],
   "source": [
    "ford.price.describe()"
   ]
  },
  {
   "cell_type": "code",
   "execution_count": 127,
   "id": "3e504b17",
   "metadata": {},
   "outputs": [
    {
     "data": {
      "text/html": [
       "<div><div id=4caf1529-df4d-4f3b-8729-5240c09aaf58 style=\"display:none; background-color:#9D6CFF; color:white; width:200px; height:30px; padding-left:5px; border-radius:4px; flex-direction:row; justify-content:space-around; align-items:center;\" onmouseover=\"this.style.backgroundColor='#BA9BF8'\" onmouseout=\"this.style.backgroundColor='#9D6CFF'\" onclick=\"window.commands?.execute('create-mitosheet-from-dataframe-output');\">See Full Dataframe in Mito</div> <script> if (window.commands?.hasCommand('create-mitosheet-from-dataframe-output')) document.getElementById('4caf1529-df4d-4f3b-8729-5240c09aaf58').style.display = 'flex' </script> <table border=\"1\" class=\"dataframe\">\n",
       "  <thead>\n",
       "    <tr style=\"text-align: right;\">\n",
       "      <th></th>\n",
       "      <th>model</th>\n",
       "      <th>year</th>\n",
       "      <th>price</th>\n",
       "      <th>transmission</th>\n",
       "      <th>mileage</th>\n",
       "      <th>fuelType</th>\n",
       "      <th>tax</th>\n",
       "      <th>mpg</th>\n",
       "      <th>engineSize</th>\n",
       "      <th>manufacturer</th>\n",
       "    </tr>\n",
       "  </thead>\n",
       "  <tbody>\n",
       "    <tr>\n",
       "      <th>302</th>\n",
       "      <td>Mustang</td>\n",
       "      <td>2020</td>\n",
       "      <td>42489</td>\n",
       "      <td>Automatic</td>\n",
       "      <td>3500</td>\n",
       "      <td>Petrol</td>\n",
       "      <td>145</td>\n",
       "      <td>22.1</td>\n",
       "      <td>5.0</td>\n",
       "      <td>Ford</td>\n",
       "    </tr>\n",
       "    <tr>\n",
       "      <th>7164</th>\n",
       "      <td>Mustang</td>\n",
       "      <td>2020</td>\n",
       "      <td>40495</td>\n",
       "      <td>Semi-Auto</td>\n",
       "      <td>3200</td>\n",
       "      <td>Petrol</td>\n",
       "      <td>145</td>\n",
       "      <td>24.8</td>\n",
       "      <td>5.0</td>\n",
       "      <td>Ford</td>\n",
       "    </tr>\n",
       "    <tr>\n",
       "      <th>11910</th>\n",
       "      <td>Mustang</td>\n",
       "      <td>2017</td>\n",
       "      <td>48999</td>\n",
       "      <td>Automatic</td>\n",
       "      <td>7546</td>\n",
       "      <td>Petrol</td>\n",
       "      <td>145</td>\n",
       "      <td>23.5</td>\n",
       "      <td>5.0</td>\n",
       "      <td>Ford</td>\n",
       "    </tr>\n",
       "    <tr>\n",
       "      <th>11912</th>\n",
       "      <td>Focus</td>\n",
       "      <td>2018</td>\n",
       "      <td>54995</td>\n",
       "      <td>Manual</td>\n",
       "      <td>11000</td>\n",
       "      <td>Petrol</td>\n",
       "      <td>145</td>\n",
       "      <td>36.7</td>\n",
       "      <td>2.3</td>\n",
       "      <td>Ford</td>\n",
       "    </tr>\n",
       "  </tbody>\n",
       "</table></div>"
      ],
      "text/plain": [
       "          model  year  price transmission  mileage fuelType  tax   mpg  \\\n",
       "302     Mustang  2020  42489    Automatic     3500   Petrol  145  22.1   \n",
       "7164    Mustang  2020  40495    Semi-Auto     3200   Petrol  145  24.8   \n",
       "11910   Mustang  2017  48999    Automatic     7546   Petrol  145  23.5   \n",
       "11912     Focus  2018  54995       Manual    11000   Petrol  145  36.7   \n",
       "\n",
       "       engineSize manufacturer  \n",
       "302           5.0         Ford  \n",
       "7164          5.0         Ford  \n",
       "11910         5.0         Ford  \n",
       "11912         2.3         Ford  "
      ]
     },
     "execution_count": 127,
     "metadata": {},
     "output_type": "execute_result"
    }
   ],
   "source": [
    "ford.query('price >  40000')"
   ]
  },
  {
   "cell_type": "markdown",
   "id": "5a9f209d",
   "metadata": {},
   "source": [
    "* I do not find a logical explanation that supports the high price of the *Ford Focus*. Since it is a mid-range vehicle.\n",
    "\n",
    "\n",
    "\n",
    "* Model year 2017 *Ford Mustang* models are priced higher than a more recent model. In addition to having a higher mileage."
   ]
  },
  {
   "cell_type": "code",
   "execution_count": 128,
   "id": "a434203d",
   "metadata": {},
   "outputs": [],
   "source": [
    "ford = ford.query('price < 43000')"
   ]
  },
  {
   "cell_type": "markdown",
   "id": "e270775e",
   "metadata": {},
   "source": [
    "Select those vehicles with an amount less than 43k £."
   ]
  },
  {
   "cell_type": "code",
   "execution_count": 129,
   "id": "715eda2e",
   "metadata": {},
   "outputs": [
    {
     "data": {
      "text/html": [
       "<div><div id=95765695-1251-4132-8e63-6d921b7dd34d style=\"display:none; background-color:#9D6CFF; color:white; width:200px; height:30px; padding-left:5px; border-radius:4px; flex-direction:row; justify-content:space-around; align-items:center;\" onmouseover=\"this.style.backgroundColor='#BA9BF8'\" onmouseout=\"this.style.backgroundColor='#9D6CFF'\" onclick=\"window.commands?.execute('create-mitosheet-from-dataframe-output');\">See Full Dataframe in Mito</div> <script> if (window.commands?.hasCommand('create-mitosheet-from-dataframe-output')) document.getElementById('95765695-1251-4132-8e63-6d921b7dd34d').style.display = 'flex' </script> <table border=\"1\" class=\"dataframe\">\n",
       "  <thead>\n",
       "    <tr style=\"text-align: right;\">\n",
       "      <th></th>\n",
       "      <th>model</th>\n",
       "      <th>year</th>\n",
       "      <th>price</th>\n",
       "      <th>transmission</th>\n",
       "      <th>mileage</th>\n",
       "      <th>fuelType</th>\n",
       "      <th>tax</th>\n",
       "      <th>mpg</th>\n",
       "      <th>engineSize</th>\n",
       "      <th>manufacturer</th>\n",
       "    </tr>\n",
       "  </thead>\n",
       "  <tbody>\n",
       "    <tr>\n",
       "      <th>302</th>\n",
       "      <td>Mustang</td>\n",
       "      <td>2020</td>\n",
       "      <td>42489</td>\n",
       "      <td>Automatic</td>\n",
       "      <td>3500</td>\n",
       "      <td>Petrol</td>\n",
       "      <td>145</td>\n",
       "      <td>22.1</td>\n",
       "      <td>5.0</td>\n",
       "      <td>Ford</td>\n",
       "    </tr>\n",
       "    <tr>\n",
       "      <th>7164</th>\n",
       "      <td>Mustang</td>\n",
       "      <td>2020</td>\n",
       "      <td>40495</td>\n",
       "      <td>Semi-Auto</td>\n",
       "      <td>3200</td>\n",
       "      <td>Petrol</td>\n",
       "      <td>145</td>\n",
       "      <td>24.8</td>\n",
       "      <td>5.0</td>\n",
       "      <td>Ford</td>\n",
       "    </tr>\n",
       "  </tbody>\n",
       "</table></div>"
      ],
      "text/plain": [
       "         model  year  price transmission  mileage fuelType  tax   mpg  \\\n",
       "302    Mustang  2020  42489    Automatic     3500   Petrol  145  22.1   \n",
       "7164   Mustang  2020  40495    Semi-Auto     3200   Petrol  145  24.8   \n",
       "\n",
       "      engineSize manufacturer  \n",
       "302          5.0         Ford  \n",
       "7164         5.0         Ford  "
      ]
     },
     "execution_count": 129,
     "metadata": {},
     "output_type": "execute_result"
    }
   ],
   "source": [
    "ford.query('price >  40000')"
   ]
  },
  {
   "cell_type": "markdown",
   "id": "6f140695",
   "metadata": {},
   "source": [
    "## *Toyota*"
   ]
  },
  {
   "cell_type": "code",
   "execution_count": 130,
   "id": "59f829f4",
   "metadata": {},
   "outputs": [],
   "source": [
    "toyota = df.query(\"manufacturer == 'Toyota'\")"
   ]
  },
  {
   "cell_type": "code",
   "execution_count": 131,
   "id": "611bd54a",
   "metadata": {},
   "outputs": [
    {
     "data": {
      "text/plain": [
       "count     6029.000000\n",
       "mean     12215.275668\n",
       "std       5788.586299\n",
       "min       2295.000000\n",
       "25%       7999.000000\n",
       "50%      10645.000000\n",
       "75%      14695.000000\n",
       "max      54550.000000\n",
       "Name: price, dtype: float64"
      ]
     },
     "execution_count": 131,
     "metadata": {},
     "output_type": "execute_result"
    }
   ],
   "source": [
    "toyota.price.describe()"
   ]
  },
  {
   "cell_type": "code",
   "execution_count": 132,
   "id": "e4a34897",
   "metadata": {},
   "outputs": [
    {
     "data": {
      "text/html": [
       "<div><div id=50e1031d-098b-4ee9-a5a2-613932a04964 style=\"display:none; background-color:#9D6CFF; color:white; width:200px; height:30px; padding-left:5px; border-radius:4px; flex-direction:row; justify-content:space-around; align-items:center;\" onmouseover=\"this.style.backgroundColor='#BA9BF8'\" onmouseout=\"this.style.backgroundColor='#9D6CFF'\" onclick=\"window.commands?.execute('create-mitosheet-from-dataframe-output');\">See Full Dataframe in Mito</div> <script> if (window.commands?.hasCommand('create-mitosheet-from-dataframe-output')) document.getElementById('50e1031d-098b-4ee9-a5a2-613932a04964').style.display = 'flex' </script> <table border=\"1\" class=\"dataframe\">\n",
       "  <thead>\n",
       "    <tr style=\"text-align: right;\">\n",
       "      <th></th>\n",
       "      <th>model</th>\n",
       "      <th>year</th>\n",
       "      <th>price</th>\n",
       "      <th>transmission</th>\n",
       "      <th>mileage</th>\n",
       "      <th>fuelType</th>\n",
       "      <th>tax</th>\n",
       "      <th>mpg</th>\n",
       "      <th>engineSize</th>\n",
       "      <th>manufacturer</th>\n",
       "    </tr>\n",
       "  </thead>\n",
       "  <tbody>\n",
       "    <tr>\n",
       "      <th>24623</th>\n",
       "      <td>Land Cruiser</td>\n",
       "      <td>2019</td>\n",
       "      <td>42444</td>\n",
       "      <td>Semi-Auto</td>\n",
       "      <td>10083</td>\n",
       "      <td>Diesel</td>\n",
       "      <td>145</td>\n",
       "      <td>30.1</td>\n",
       "      <td>2.8</td>\n",
       "      <td>Toyota</td>\n",
       "    </tr>\n",
       "    <tr>\n",
       "      <th>24625</th>\n",
       "      <td>Land Cruiser</td>\n",
       "      <td>2019</td>\n",
       "      <td>42995</td>\n",
       "      <td>Semi-Auto</td>\n",
       "      <td>16634</td>\n",
       "      <td>Diesel</td>\n",
       "      <td>145</td>\n",
       "      <td>30.1</td>\n",
       "      <td>2.8</td>\n",
       "      <td>Toyota</td>\n",
       "    </tr>\n",
       "    <tr>\n",
       "      <th>24627</th>\n",
       "      <td>Land Cruiser</td>\n",
       "      <td>2020</td>\n",
       "      <td>50995</td>\n",
       "      <td>Semi-Auto</td>\n",
       "      <td>3390</td>\n",
       "      <td>Diesel</td>\n",
       "      <td>145</td>\n",
       "      <td>30.1</td>\n",
       "      <td>2.8</td>\n",
       "      <td>Toyota</td>\n",
       "    </tr>\n",
       "    <tr>\n",
       "      <th>24629</th>\n",
       "      <td>Land Cruiser</td>\n",
       "      <td>2019</td>\n",
       "      <td>45995</td>\n",
       "      <td>Semi-Auto</td>\n",
       "      <td>8967</td>\n",
       "      <td>Diesel</td>\n",
       "      <td>150</td>\n",
       "      <td>30.1</td>\n",
       "      <td>2.8</td>\n",
       "      <td>Toyota</td>\n",
       "    </tr>\n",
       "    <tr>\n",
       "      <th>24633</th>\n",
       "      <td>Land Cruiser</td>\n",
       "      <td>2019</td>\n",
       "      <td>50995</td>\n",
       "      <td>Semi-Auto</td>\n",
       "      <td>6254</td>\n",
       "      <td>Diesel</td>\n",
       "      <td>145</td>\n",
       "      <td>30.1</td>\n",
       "      <td>2.8</td>\n",
       "      <td>Toyota</td>\n",
       "    </tr>\n",
       "    <tr>\n",
       "      <th>...</th>\n",
       "      <td>...</td>\n",
       "      <td>...</td>\n",
       "      <td>...</td>\n",
       "      <td>...</td>\n",
       "      <td>...</td>\n",
       "      <td>...</td>\n",
       "      <td>...</td>\n",
       "      <td>...</td>\n",
       "      <td>...</td>\n",
       "      <td>...</td>\n",
       "    </tr>\n",
       "    <tr>\n",
       "      <th>24655</th>\n",
       "      <td>Land Cruiser</td>\n",
       "      <td>2019</td>\n",
       "      <td>44995</td>\n",
       "      <td>Automatic</td>\n",
       "      <td>4512</td>\n",
       "      <td>Diesel</td>\n",
       "      <td>145</td>\n",
       "      <td>30.1</td>\n",
       "      <td>2.8</td>\n",
       "      <td>Toyota</td>\n",
       "    </tr>\n",
       "    <tr>\n",
       "      <th>24661</th>\n",
       "      <td>Land Cruiser</td>\n",
       "      <td>2020</td>\n",
       "      <td>54550</td>\n",
       "      <td>Automatic</td>\n",
       "      <td>4000</td>\n",
       "      <td>Diesel</td>\n",
       "      <td>150</td>\n",
       "      <td>30.1</td>\n",
       "      <td>2.8</td>\n",
       "      <td>Toyota</td>\n",
       "    </tr>\n",
       "    <tr>\n",
       "      <th>24664</th>\n",
       "      <td>Land Cruiser</td>\n",
       "      <td>2014</td>\n",
       "      <td>44990</td>\n",
       "      <td>Automatic</td>\n",
       "      <td>60000</td>\n",
       "      <td>Diesel</td>\n",
       "      <td>540</td>\n",
       "      <td>29.7</td>\n",
       "      <td>4.5</td>\n",
       "      <td>Toyota</td>\n",
       "    </tr>\n",
       "    <tr>\n",
       "      <th>24665</th>\n",
       "      <td>Land Cruiser</td>\n",
       "      <td>2019</td>\n",
       "      <td>49995</td>\n",
       "      <td>Automatic</td>\n",
       "      <td>6836</td>\n",
       "      <td>Diesel</td>\n",
       "      <td>145</td>\n",
       "      <td>30.1</td>\n",
       "      <td>2.8</td>\n",
       "      <td>Toyota</td>\n",
       "    </tr>\n",
       "    <tr>\n",
       "      <th>24673</th>\n",
       "      <td>Supra</td>\n",
       "      <td>2019</td>\n",
       "      <td>51995</td>\n",
       "      <td>Semi-Auto</td>\n",
       "      <td>4153</td>\n",
       "      <td>Petrol</td>\n",
       "      <td>145</td>\n",
       "      <td>34.5</td>\n",
       "      <td>3.0</td>\n",
       "      <td>Toyota</td>\n",
       "    </tr>\n",
       "  </tbody>\n",
       "</table></div>"
      ],
      "text/plain": [
       "               model  year  price transmission  mileage fuelType  tax   mpg  \\\n",
       "24623   Land Cruiser  2019  42444    Semi-Auto    10083   Diesel  145  30.1   \n",
       "24625   Land Cruiser  2019  42995    Semi-Auto    16634   Diesel  145  30.1   \n",
       "24627   Land Cruiser  2020  50995    Semi-Auto     3390   Diesel  145  30.1   \n",
       "24629   Land Cruiser  2019  45995    Semi-Auto     8967   Diesel  150  30.1   \n",
       "24633   Land Cruiser  2019  50995    Semi-Auto     6254   Diesel  145  30.1   \n",
       "24637   Land Cruiser  2019  47795    Semi-Auto     8813   Diesel  145  30.1   \n",
       "24641   Land Cruiser  2019  44935    Semi-Auto    15200   Diesel  145  30.1   \n",
       "24643   Land Cruiser  2019  42990    Semi-Auto    22845   Diesel  150  30.1   \n",
       "24648   Land Cruiser  2020  50995    Automatic     3500   Diesel  145  30.1   \n",
       "24655   Land Cruiser  2019  44995    Automatic     4512   Diesel  145  30.1   \n",
       "24661   Land Cruiser  2020  54550    Automatic     4000   Diesel  150  30.1   \n",
       "24664   Land Cruiser  2014  44990    Automatic    60000   Diesel  540  29.7   \n",
       "24665   Land Cruiser  2019  49995    Automatic     6836   Diesel  145  30.1   \n",
       "24673          Supra  2019  51995    Semi-Auto     4153   Petrol  145  34.5   \n",
       "\n",
       "       engineSize manufacturer  \n",
       "24623         2.8       Toyota  \n",
       "24625         2.8       Toyota  \n",
       "24627         2.8       Toyota  \n",
       "24629         2.8       Toyota  \n",
       "24633         2.8       Toyota  \n",
       "24637         2.8       Toyota  \n",
       "24641         2.8       Toyota  \n",
       "24643         2.8       Toyota  \n",
       "24648         2.8       Toyota  \n",
       "24655         2.8       Toyota  \n",
       "24661         2.8       Toyota  \n",
       "24664         4.5       Toyota  \n",
       "24665         2.8       Toyota  \n",
       "24673         3.0       Toyota  "
      ]
     },
     "execution_count": 132,
     "metadata": {},
     "output_type": "execute_result"
    }
   ],
   "source": [
    "toyota.query('price > 42000')"
   ]
  },
  {
   "cell_type": "markdown",
   "id": "b27a33f3",
   "metadata": {},
   "source": [
    "Vehicles over £40k are heavily dominated by the Land Cruiser model."
   ]
  },
  {
   "cell_type": "code",
   "execution_count": 133,
   "id": "7b8b2466",
   "metadata": {},
   "outputs": [
    {
     "data": {
      "text/html": [
       "<div><div id=df7b7545-cc70-4767-90f8-8f34384efef4 style=\"display:none; background-color:#9D6CFF; color:white; width:200px; height:30px; padding-left:5px; border-radius:4px; flex-direction:row; justify-content:space-around; align-items:center;\" onmouseover=\"this.style.backgroundColor='#BA9BF8'\" onmouseout=\"this.style.backgroundColor='#9D6CFF'\" onclick=\"window.commands?.execute('create-mitosheet-from-dataframe-output');\">See Full Dataframe in Mito</div> <script> if (window.commands?.hasCommand('create-mitosheet-from-dataframe-output')) document.getElementById('df7b7545-cc70-4767-90f8-8f34384efef4').style.display = 'flex' </script> <table border=\"1\" class=\"dataframe\">\n",
       "  <thead>\n",
       "    <tr style=\"text-align: right;\">\n",
       "      <th></th>\n",
       "      <th>model</th>\n",
       "      <th>year</th>\n",
       "      <th>price</th>\n",
       "      <th>transmission</th>\n",
       "      <th>mileage</th>\n",
       "      <th>fuelType</th>\n",
       "      <th>tax</th>\n",
       "      <th>mpg</th>\n",
       "      <th>engineSize</th>\n",
       "      <th>manufacturer</th>\n",
       "    </tr>\n",
       "  </thead>\n",
       "  <tbody>\n",
       "    <tr>\n",
       "      <th>24673</th>\n",
       "      <td>Supra</td>\n",
       "      <td>2019</td>\n",
       "      <td>51995</td>\n",
       "      <td>Semi-Auto</td>\n",
       "      <td>4153</td>\n",
       "      <td>Petrol</td>\n",
       "      <td>145</td>\n",
       "      <td>34.5</td>\n",
       "      <td>3.0</td>\n",
       "      <td>Toyota</td>\n",
       "    </tr>\n",
       "  </tbody>\n",
       "</table></div>"
      ],
      "text/plain": [
       "        model  year  price transmission  mileage fuelType  tax   mpg  \\\n",
       "24673   Supra  2019  51995    Semi-Auto     4153   Petrol  145  34.5   \n",
       "\n",
       "       engineSize manufacturer  \n",
       "24673         3.0       Toyota  "
      ]
     },
     "execution_count": 133,
     "metadata": {},
     "output_type": "execute_result"
    }
   ],
   "source": [
    "toyota.query(\"model == ' Supra'\")"
   ]
  },
  {
   "cell_type": "markdown",
   "id": "f4acc961",
   "metadata": {},
   "source": [
    "There is only one single value. Which is better to remove as it can skew the model."
   ]
  },
  {
   "cell_type": "code",
   "execution_count": 134,
   "id": "114ac7cc",
   "metadata": {},
   "outputs": [],
   "source": [
    "toyota = toyota.query(\"model != ' Supra'\")"
   ]
  },
  {
   "cell_type": "code",
   "execution_count": 135,
   "id": "06f33473",
   "metadata": {},
   "outputs": [],
   "source": [
    "land_cruiser = toyota.query(\"model == ' Land Cruiser'\")"
   ]
  },
  {
   "cell_type": "code",
   "execution_count": 136,
   "id": "15f641bc",
   "metadata": {},
   "outputs": [],
   "source": [
    "other_vehicles_toyota = toyota.query(\"model != ' Land Cruiser'\")"
   ]
  },
  {
   "cell_type": "code",
   "execution_count": 137,
   "id": "873198c2",
   "metadata": {},
   "outputs": [],
   "source": [
    "land_cruiser_2019 = land_cruiser.query(\"year == 2019\")\n",
    "land_cruiser_2020 = land_cruiser.query(\"year == 2020\")"
   ]
  },
  {
   "cell_type": "code",
   "execution_count": 138,
   "id": "917a8bba",
   "metadata": {},
   "outputs": [],
   "source": [
    "land_cruiser = land_cruiser.query(\"year != 2019 and year != 2020\")"
   ]
  },
  {
   "cell_type": "code",
   "execution_count": 139,
   "id": "c61c3295",
   "metadata": {},
   "outputs": [
    {
     "data": {
      "text/html": [
       "<div><div id=5dfbc308-7c31-4a00-a49c-064a163fdff3 style=\"display:none; background-color:#9D6CFF; color:white; width:200px; height:30px; padding-left:5px; border-radius:4px; flex-direction:row; justify-content:space-around; align-items:center;\" onmouseover=\"this.style.backgroundColor='#BA9BF8'\" onmouseout=\"this.style.backgroundColor='#9D6CFF'\" onclick=\"window.commands?.execute('create-mitosheet-from-dataframe-output');\">See Full Dataframe in Mito</div> <script> if (window.commands?.hasCommand('create-mitosheet-from-dataframe-output')) document.getElementById('5dfbc308-7c31-4a00-a49c-064a163fdff3').style.display = 'flex' </script> <table border=\"1\" class=\"dataframe\">\n",
       "  <thead>\n",
       "    <tr style=\"text-align: right;\">\n",
       "      <th></th>\n",
       "      <th>model</th>\n",
       "      <th>year</th>\n",
       "      <th>price</th>\n",
       "      <th>transmission</th>\n",
       "      <th>mileage</th>\n",
       "      <th>fuelType</th>\n",
       "      <th>tax</th>\n",
       "      <th>mpg</th>\n",
       "      <th>engineSize</th>\n",
       "      <th>manufacturer</th>\n",
       "    </tr>\n",
       "  </thead>\n",
       "  <tbody>\n",
       "    <tr>\n",
       "      <th>24627</th>\n",
       "      <td>Land Cruiser</td>\n",
       "      <td>2020</td>\n",
       "      <td>50995</td>\n",
       "      <td>Semi-Auto</td>\n",
       "      <td>3390</td>\n",
       "      <td>Diesel</td>\n",
       "      <td>145</td>\n",
       "      <td>30.1</td>\n",
       "      <td>2.8</td>\n",
       "      <td>Toyota</td>\n",
       "    </tr>\n",
       "    <tr>\n",
       "      <th>24648</th>\n",
       "      <td>Land Cruiser</td>\n",
       "      <td>2020</td>\n",
       "      <td>50995</td>\n",
       "      <td>Automatic</td>\n",
       "      <td>3500</td>\n",
       "      <td>Diesel</td>\n",
       "      <td>145</td>\n",
       "      <td>30.1</td>\n",
       "      <td>2.8</td>\n",
       "      <td>Toyota</td>\n",
       "    </tr>\n",
       "    <tr>\n",
       "      <th>24661</th>\n",
       "      <td>Land Cruiser</td>\n",
       "      <td>2020</td>\n",
       "      <td>54550</td>\n",
       "      <td>Automatic</td>\n",
       "      <td>4000</td>\n",
       "      <td>Diesel</td>\n",
       "      <td>150</td>\n",
       "      <td>30.1</td>\n",
       "      <td>2.8</td>\n",
       "      <td>Toyota</td>\n",
       "    </tr>\n",
       "  </tbody>\n",
       "</table></div>"
      ],
      "text/plain": [
       "               model  year  price transmission  mileage fuelType  tax   mpg  \\\n",
       "24627   Land Cruiser  2020  50995    Semi-Auto     3390   Diesel  145  30.1   \n",
       "24648   Land Cruiser  2020  50995    Automatic     3500   Diesel  145  30.1   \n",
       "24661   Land Cruiser  2020  54550    Automatic     4000   Diesel  150  30.1   \n",
       "\n",
       "       engineSize manufacturer  \n",
       "24627         2.8       Toyota  \n",
       "24648         2.8       Toyota  \n",
       "24661         2.8       Toyota  "
      ]
     },
     "execution_count": 139,
     "metadata": {},
     "output_type": "execute_result"
    }
   ],
   "source": [
    "land_cruiser_2020"
   ]
  },
  {
   "cell_type": "markdown",
   "id": "f93eaf9c",
   "metadata": {},
   "source": [
    "For the 2020 Toyota Land Cruiser. It has a higher price and with a considerable amount of mileage."
   ]
  },
  {
   "cell_type": "code",
   "execution_count": 140,
   "id": "d0e4a325",
   "metadata": {},
   "outputs": [],
   "source": [
    "land_cruiser_2020 = land_cruiser_2020.query(\"price < 51000\")"
   ]
  },
  {
   "cell_type": "code",
   "execution_count": 141,
   "id": "94eff754",
   "metadata": {},
   "outputs": [
    {
     "data": {
      "text/html": [
       "<div><div id=20784ab3-f05e-483c-94e7-ac526346f72d style=\"display:none; background-color:#9D6CFF; color:white; width:200px; height:30px; padding-left:5px; border-radius:4px; flex-direction:row; justify-content:space-around; align-items:center;\" onmouseover=\"this.style.backgroundColor='#BA9BF8'\" onmouseout=\"this.style.backgroundColor='#9D6CFF'\" onclick=\"window.commands?.execute('create-mitosheet-from-dataframe-output');\">See Full Dataframe in Mito</div> <script> if (window.commands?.hasCommand('create-mitosheet-from-dataframe-output')) document.getElementById('20784ab3-f05e-483c-94e7-ac526346f72d').style.display = 'flex' </script> <table border=\"1\" class=\"dataframe\">\n",
       "  <thead>\n",
       "    <tr style=\"text-align: right;\">\n",
       "      <th></th>\n",
       "      <th>model</th>\n",
       "      <th>year</th>\n",
       "      <th>price</th>\n",
       "      <th>transmission</th>\n",
       "      <th>mileage</th>\n",
       "      <th>fuelType</th>\n",
       "      <th>tax</th>\n",
       "      <th>mpg</th>\n",
       "      <th>engineSize</th>\n",
       "      <th>manufacturer</th>\n",
       "    </tr>\n",
       "  </thead>\n",
       "  <tbody>\n",
       "    <tr>\n",
       "      <th>24627</th>\n",
       "      <td>Land Cruiser</td>\n",
       "      <td>2020</td>\n",
       "      <td>50995</td>\n",
       "      <td>Semi-Auto</td>\n",
       "      <td>3390</td>\n",
       "      <td>Diesel</td>\n",
       "      <td>145</td>\n",
       "      <td>30.1</td>\n",
       "      <td>2.8</td>\n",
       "      <td>Toyota</td>\n",
       "    </tr>\n",
       "    <tr>\n",
       "      <th>24648</th>\n",
       "      <td>Land Cruiser</td>\n",
       "      <td>2020</td>\n",
       "      <td>50995</td>\n",
       "      <td>Automatic</td>\n",
       "      <td>3500</td>\n",
       "      <td>Diesel</td>\n",
       "      <td>145</td>\n",
       "      <td>30.1</td>\n",
       "      <td>2.8</td>\n",
       "      <td>Toyota</td>\n",
       "    </tr>\n",
       "  </tbody>\n",
       "</table></div>"
      ],
      "text/plain": [
       "               model  year  price transmission  mileage fuelType  tax   mpg  \\\n",
       "24627   Land Cruiser  2020  50995    Semi-Auto     3390   Diesel  145  30.1   \n",
       "24648   Land Cruiser  2020  50995    Automatic     3500   Diesel  145  30.1   \n",
       "\n",
       "       engineSize manufacturer  \n",
       "24627         2.8       Toyota  \n",
       "24648         2.8       Toyota  "
      ]
     },
     "execution_count": 141,
     "metadata": {},
     "output_type": "execute_result"
    }
   ],
   "source": [
    "land_cruiser_2020"
   ]
  },
  {
   "cell_type": "code",
   "execution_count": 142,
   "id": "cc3985a0",
   "metadata": {},
   "outputs": [
    {
     "data": {
      "text/html": [
       "<div><div id=7c6ca755-5dcf-49fe-be50-36ccc49f8ef9 style=\"display:none; background-color:#9D6CFF; color:white; width:200px; height:30px; padding-left:5px; border-radius:4px; flex-direction:row; justify-content:space-around; align-items:center;\" onmouseover=\"this.style.backgroundColor='#BA9BF8'\" onmouseout=\"this.style.backgroundColor='#9D6CFF'\" onclick=\"window.commands?.execute('create-mitosheet-from-dataframe-output');\">See Full Dataframe in Mito</div> <script> if (window.commands?.hasCommand('create-mitosheet-from-dataframe-output')) document.getElementById('7c6ca755-5dcf-49fe-be50-36ccc49f8ef9').style.display = 'flex' </script> <table border=\"1\" class=\"dataframe\">\n",
       "  <thead>\n",
       "    <tr style=\"text-align: right;\">\n",
       "      <th></th>\n",
       "      <th>model</th>\n",
       "      <th>year</th>\n",
       "      <th>price</th>\n",
       "      <th>transmission</th>\n",
       "      <th>mileage</th>\n",
       "      <th>fuelType</th>\n",
       "      <th>tax</th>\n",
       "      <th>mpg</th>\n",
       "      <th>engineSize</th>\n",
       "      <th>manufacturer</th>\n",
       "    </tr>\n",
       "  </thead>\n",
       "  <tbody>\n",
       "    <tr>\n",
       "      <th>24615</th>\n",
       "      <td>Land Cruiser</td>\n",
       "      <td>2019</td>\n",
       "      <td>39498</td>\n",
       "      <td>Semi-Auto</td>\n",
       "      <td>11712</td>\n",
       "      <td>Diesel</td>\n",
       "      <td>145</td>\n",
       "      <td>30.1</td>\n",
       "      <td>2.8</td>\n",
       "      <td>Toyota</td>\n",
       "    </tr>\n",
       "    <tr>\n",
       "      <th>24619</th>\n",
       "      <td>Land Cruiser</td>\n",
       "      <td>2019</td>\n",
       "      <td>39498</td>\n",
       "      <td>Semi-Auto</td>\n",
       "      <td>12543</td>\n",
       "      <td>Diesel</td>\n",
       "      <td>145</td>\n",
       "      <td>30.1</td>\n",
       "      <td>2.8</td>\n",
       "      <td>Toyota</td>\n",
       "    </tr>\n",
       "    <tr>\n",
       "      <th>24623</th>\n",
       "      <td>Land Cruiser</td>\n",
       "      <td>2019</td>\n",
       "      <td>42444</td>\n",
       "      <td>Semi-Auto</td>\n",
       "      <td>10083</td>\n",
       "      <td>Diesel</td>\n",
       "      <td>145</td>\n",
       "      <td>30.1</td>\n",
       "      <td>2.8</td>\n",
       "      <td>Toyota</td>\n",
       "    </tr>\n",
       "    <tr>\n",
       "      <th>24624</th>\n",
       "      <td>Land Cruiser</td>\n",
       "      <td>2019</td>\n",
       "      <td>40999</td>\n",
       "      <td>Semi-Auto</td>\n",
       "      <td>11619</td>\n",
       "      <td>Diesel</td>\n",
       "      <td>145</td>\n",
       "      <td>30.1</td>\n",
       "      <td>2.8</td>\n",
       "      <td>Toyota</td>\n",
       "    </tr>\n",
       "    <tr>\n",
       "      <th>24625</th>\n",
       "      <td>Land Cruiser</td>\n",
       "      <td>2019</td>\n",
       "      <td>42995</td>\n",
       "      <td>Semi-Auto</td>\n",
       "      <td>16634</td>\n",
       "      <td>Diesel</td>\n",
       "      <td>145</td>\n",
       "      <td>30.1</td>\n",
       "      <td>2.8</td>\n",
       "      <td>Toyota</td>\n",
       "    </tr>\n",
       "    <tr>\n",
       "      <th>...</th>\n",
       "      <td>...</td>\n",
       "      <td>...</td>\n",
       "      <td>...</td>\n",
       "      <td>...</td>\n",
       "      <td>...</td>\n",
       "      <td>...</td>\n",
       "      <td>...</td>\n",
       "      <td>...</td>\n",
       "      <td>...</td>\n",
       "      <td>...</td>\n",
       "    </tr>\n",
       "    <tr>\n",
       "      <th>24637</th>\n",
       "      <td>Land Cruiser</td>\n",
       "      <td>2019</td>\n",
       "      <td>47795</td>\n",
       "      <td>Semi-Auto</td>\n",
       "      <td>8813</td>\n",
       "      <td>Diesel</td>\n",
       "      <td>145</td>\n",
       "      <td>30.1</td>\n",
       "      <td>2.8</td>\n",
       "      <td>Toyota</td>\n",
       "    </tr>\n",
       "    <tr>\n",
       "      <th>24641</th>\n",
       "      <td>Land Cruiser</td>\n",
       "      <td>2019</td>\n",
       "      <td>44935</td>\n",
       "      <td>Semi-Auto</td>\n",
       "      <td>15200</td>\n",
       "      <td>Diesel</td>\n",
       "      <td>145</td>\n",
       "      <td>30.1</td>\n",
       "      <td>2.8</td>\n",
       "      <td>Toyota</td>\n",
       "    </tr>\n",
       "    <tr>\n",
       "      <th>24643</th>\n",
       "      <td>Land Cruiser</td>\n",
       "      <td>2019</td>\n",
       "      <td>42990</td>\n",
       "      <td>Semi-Auto</td>\n",
       "      <td>22845</td>\n",
       "      <td>Diesel</td>\n",
       "      <td>150</td>\n",
       "      <td>30.1</td>\n",
       "      <td>2.8</td>\n",
       "      <td>Toyota</td>\n",
       "    </tr>\n",
       "    <tr>\n",
       "      <th>24655</th>\n",
       "      <td>Land Cruiser</td>\n",
       "      <td>2019</td>\n",
       "      <td>44995</td>\n",
       "      <td>Automatic</td>\n",
       "      <td>4512</td>\n",
       "      <td>Diesel</td>\n",
       "      <td>145</td>\n",
       "      <td>30.1</td>\n",
       "      <td>2.8</td>\n",
       "      <td>Toyota</td>\n",
       "    </tr>\n",
       "    <tr>\n",
       "      <th>24665</th>\n",
       "      <td>Land Cruiser</td>\n",
       "      <td>2019</td>\n",
       "      <td>49995</td>\n",
       "      <td>Automatic</td>\n",
       "      <td>6836</td>\n",
       "      <td>Diesel</td>\n",
       "      <td>145</td>\n",
       "      <td>30.1</td>\n",
       "      <td>2.8</td>\n",
       "      <td>Toyota</td>\n",
       "    </tr>\n",
       "  </tbody>\n",
       "</table></div>"
      ],
      "text/plain": [
       "               model  year  price transmission  mileage fuelType  tax   mpg  \\\n",
       "24615   Land Cruiser  2019  39498    Semi-Auto    11712   Diesel  145  30.1   \n",
       "24619   Land Cruiser  2019  39498    Semi-Auto    12543   Diesel  145  30.1   \n",
       "24623   Land Cruiser  2019  42444    Semi-Auto    10083   Diesel  145  30.1   \n",
       "24624   Land Cruiser  2019  40999    Semi-Auto    11619   Diesel  145  30.1   \n",
       "24625   Land Cruiser  2019  42995    Semi-Auto    16634   Diesel  145  30.1   \n",
       "24629   Land Cruiser  2019  45995    Semi-Auto     8967   Diesel  150  30.1   \n",
       "24632   Land Cruiser  2019  40995    Semi-Auto    11404   Diesel  145  30.1   \n",
       "24633   Land Cruiser  2019  50995    Semi-Auto     6254   Diesel  145  30.1   \n",
       "24637   Land Cruiser  2019  47795    Semi-Auto     8813   Diesel  145  30.1   \n",
       "24641   Land Cruiser  2019  44935    Semi-Auto    15200   Diesel  145  30.1   \n",
       "24643   Land Cruiser  2019  42990    Semi-Auto    22845   Diesel  150  30.1   \n",
       "24655   Land Cruiser  2019  44995    Automatic     4512   Diesel  145  30.1   \n",
       "24665   Land Cruiser  2019  49995    Automatic     6836   Diesel  145  30.1   \n",
       "\n",
       "       engineSize manufacturer  \n",
       "24615         2.8       Toyota  \n",
       "24619         2.8       Toyota  \n",
       "24623         2.8       Toyota  \n",
       "24624         2.8       Toyota  \n",
       "24625         2.8       Toyota  \n",
       "24629         2.8       Toyota  \n",
       "24632         2.8       Toyota  \n",
       "24633         2.8       Toyota  \n",
       "24637         2.8       Toyota  \n",
       "24641         2.8       Toyota  \n",
       "24643         2.8       Toyota  \n",
       "24655         2.8       Toyota  \n",
       "24665         2.8       Toyota  "
      ]
     },
     "execution_count": 142,
     "metadata": {},
     "output_type": "execute_result"
    }
   ],
   "source": [
    "land_cruiser_2019"
   ]
  },
  {
   "cell_type": "markdown",
   "id": "935d2a43",
   "metadata": {},
   "source": [
    "For the same vehicle with a slightly older model it has a higher price. Therefore, we will proceed to eliminate them."
   ]
  },
  {
   "cell_type": "code",
   "execution_count": 143,
   "id": "d5725d55",
   "metadata": {},
   "outputs": [],
   "source": [
    "land_cruiser_2019 = land_cruiser_2019.query(\"price < 48000\")"
   ]
  },
  {
   "cell_type": "code",
   "execution_count": 144,
   "id": "fd8bb7bf",
   "metadata": {},
   "outputs": [
    {
     "data": {
      "text/html": [
       "<div><div id=1040f01c-389e-4cdb-b8f0-7fdbf8044b99 style=\"display:none; background-color:#9D6CFF; color:white; width:200px; height:30px; padding-left:5px; border-radius:4px; flex-direction:row; justify-content:space-around; align-items:center;\" onmouseover=\"this.style.backgroundColor='#BA9BF8'\" onmouseout=\"this.style.backgroundColor='#9D6CFF'\" onclick=\"window.commands?.execute('create-mitosheet-from-dataframe-output');\">See Full Dataframe in Mito</div> <script> if (window.commands?.hasCommand('create-mitosheet-from-dataframe-output')) document.getElementById('1040f01c-389e-4cdb-b8f0-7fdbf8044b99').style.display = 'flex' </script> <table border=\"1\" class=\"dataframe\">\n",
       "  <thead>\n",
       "    <tr style=\"text-align: right;\">\n",
       "      <th></th>\n",
       "      <th>model</th>\n",
       "      <th>year</th>\n",
       "      <th>price</th>\n",
       "      <th>transmission</th>\n",
       "      <th>mileage</th>\n",
       "      <th>fuelType</th>\n",
       "      <th>tax</th>\n",
       "      <th>mpg</th>\n",
       "      <th>engineSize</th>\n",
       "      <th>manufacturer</th>\n",
       "    </tr>\n",
       "  </thead>\n",
       "  <tbody>\n",
       "    <tr>\n",
       "      <th>24615</th>\n",
       "      <td>Land Cruiser</td>\n",
       "      <td>2019</td>\n",
       "      <td>39498</td>\n",
       "      <td>Semi-Auto</td>\n",
       "      <td>11712</td>\n",
       "      <td>Diesel</td>\n",
       "      <td>145</td>\n",
       "      <td>30.1</td>\n",
       "      <td>2.8</td>\n",
       "      <td>Toyota</td>\n",
       "    </tr>\n",
       "    <tr>\n",
       "      <th>24619</th>\n",
       "      <td>Land Cruiser</td>\n",
       "      <td>2019</td>\n",
       "      <td>39498</td>\n",
       "      <td>Semi-Auto</td>\n",
       "      <td>12543</td>\n",
       "      <td>Diesel</td>\n",
       "      <td>145</td>\n",
       "      <td>30.1</td>\n",
       "      <td>2.8</td>\n",
       "      <td>Toyota</td>\n",
       "    </tr>\n",
       "    <tr>\n",
       "      <th>24623</th>\n",
       "      <td>Land Cruiser</td>\n",
       "      <td>2019</td>\n",
       "      <td>42444</td>\n",
       "      <td>Semi-Auto</td>\n",
       "      <td>10083</td>\n",
       "      <td>Diesel</td>\n",
       "      <td>145</td>\n",
       "      <td>30.1</td>\n",
       "      <td>2.8</td>\n",
       "      <td>Toyota</td>\n",
       "    </tr>\n",
       "    <tr>\n",
       "      <th>24624</th>\n",
       "      <td>Land Cruiser</td>\n",
       "      <td>2019</td>\n",
       "      <td>40999</td>\n",
       "      <td>Semi-Auto</td>\n",
       "      <td>11619</td>\n",
       "      <td>Diesel</td>\n",
       "      <td>145</td>\n",
       "      <td>30.1</td>\n",
       "      <td>2.8</td>\n",
       "      <td>Toyota</td>\n",
       "    </tr>\n",
       "    <tr>\n",
       "      <th>24625</th>\n",
       "      <td>Land Cruiser</td>\n",
       "      <td>2019</td>\n",
       "      <td>42995</td>\n",
       "      <td>Semi-Auto</td>\n",
       "      <td>16634</td>\n",
       "      <td>Diesel</td>\n",
       "      <td>145</td>\n",
       "      <td>30.1</td>\n",
       "      <td>2.8</td>\n",
       "      <td>Toyota</td>\n",
       "    </tr>\n",
       "    <tr>\n",
       "      <th>...</th>\n",
       "      <td>...</td>\n",
       "      <td>...</td>\n",
       "      <td>...</td>\n",
       "      <td>...</td>\n",
       "      <td>...</td>\n",
       "      <td>...</td>\n",
       "      <td>...</td>\n",
       "      <td>...</td>\n",
       "      <td>...</td>\n",
       "      <td>...</td>\n",
       "    </tr>\n",
       "    <tr>\n",
       "      <th>24632</th>\n",
       "      <td>Land Cruiser</td>\n",
       "      <td>2019</td>\n",
       "      <td>40995</td>\n",
       "      <td>Semi-Auto</td>\n",
       "      <td>11404</td>\n",
       "      <td>Diesel</td>\n",
       "      <td>145</td>\n",
       "      <td>30.1</td>\n",
       "      <td>2.8</td>\n",
       "      <td>Toyota</td>\n",
       "    </tr>\n",
       "    <tr>\n",
       "      <th>24637</th>\n",
       "      <td>Land Cruiser</td>\n",
       "      <td>2019</td>\n",
       "      <td>47795</td>\n",
       "      <td>Semi-Auto</td>\n",
       "      <td>8813</td>\n",
       "      <td>Diesel</td>\n",
       "      <td>145</td>\n",
       "      <td>30.1</td>\n",
       "      <td>2.8</td>\n",
       "      <td>Toyota</td>\n",
       "    </tr>\n",
       "    <tr>\n",
       "      <th>24641</th>\n",
       "      <td>Land Cruiser</td>\n",
       "      <td>2019</td>\n",
       "      <td>44935</td>\n",
       "      <td>Semi-Auto</td>\n",
       "      <td>15200</td>\n",
       "      <td>Diesel</td>\n",
       "      <td>145</td>\n",
       "      <td>30.1</td>\n",
       "      <td>2.8</td>\n",
       "      <td>Toyota</td>\n",
       "    </tr>\n",
       "    <tr>\n",
       "      <th>24643</th>\n",
       "      <td>Land Cruiser</td>\n",
       "      <td>2019</td>\n",
       "      <td>42990</td>\n",
       "      <td>Semi-Auto</td>\n",
       "      <td>22845</td>\n",
       "      <td>Diesel</td>\n",
       "      <td>150</td>\n",
       "      <td>30.1</td>\n",
       "      <td>2.8</td>\n",
       "      <td>Toyota</td>\n",
       "    </tr>\n",
       "    <tr>\n",
       "      <th>24655</th>\n",
       "      <td>Land Cruiser</td>\n",
       "      <td>2019</td>\n",
       "      <td>44995</td>\n",
       "      <td>Automatic</td>\n",
       "      <td>4512</td>\n",
       "      <td>Diesel</td>\n",
       "      <td>145</td>\n",
       "      <td>30.1</td>\n",
       "      <td>2.8</td>\n",
       "      <td>Toyota</td>\n",
       "    </tr>\n",
       "  </tbody>\n",
       "</table></div>"
      ],
      "text/plain": [
       "               model  year  price transmission  mileage fuelType  tax   mpg  \\\n",
       "24615   Land Cruiser  2019  39498    Semi-Auto    11712   Diesel  145  30.1   \n",
       "24619   Land Cruiser  2019  39498    Semi-Auto    12543   Diesel  145  30.1   \n",
       "24623   Land Cruiser  2019  42444    Semi-Auto    10083   Diesel  145  30.1   \n",
       "24624   Land Cruiser  2019  40999    Semi-Auto    11619   Diesel  145  30.1   \n",
       "24625   Land Cruiser  2019  42995    Semi-Auto    16634   Diesel  145  30.1   \n",
       "24629   Land Cruiser  2019  45995    Semi-Auto     8967   Diesel  150  30.1   \n",
       "24632   Land Cruiser  2019  40995    Semi-Auto    11404   Diesel  145  30.1   \n",
       "24637   Land Cruiser  2019  47795    Semi-Auto     8813   Diesel  145  30.1   \n",
       "24641   Land Cruiser  2019  44935    Semi-Auto    15200   Diesel  145  30.1   \n",
       "24643   Land Cruiser  2019  42990    Semi-Auto    22845   Diesel  150  30.1   \n",
       "24655   Land Cruiser  2019  44995    Automatic     4512   Diesel  145  30.1   \n",
       "\n",
       "       engineSize manufacturer  \n",
       "24615         2.8       Toyota  \n",
       "24619         2.8       Toyota  \n",
       "24623         2.8       Toyota  \n",
       "24624         2.8       Toyota  \n",
       "24625         2.8       Toyota  \n",
       "24629         2.8       Toyota  \n",
       "24632         2.8       Toyota  \n",
       "24637         2.8       Toyota  \n",
       "24641         2.8       Toyota  \n",
       "24643         2.8       Toyota  \n",
       "24655         2.8       Toyota  "
      ]
     },
     "execution_count": 144,
     "metadata": {},
     "output_type": "execute_result"
    }
   ],
   "source": [
    "land_cruiser_2019"
   ]
  },
  {
   "cell_type": "code",
   "execution_count": 145,
   "id": "10fcd555",
   "metadata": {},
   "outputs": [],
   "source": [
    "land_cruiser = pd.concat([land_cruiser,land_cruiser_2019,land_cruiser_2020])"
   ]
  },
  {
   "cell_type": "code",
   "execution_count": 146,
   "id": "3c0f27b6",
   "metadata": {},
   "outputs": [],
   "source": [
    "toyota = pd.concat([other_vehicles_toyota,land_cruiser])"
   ]
  },
  {
   "cell_type": "code",
   "execution_count": 147,
   "id": "3527ecc8",
   "metadata": {},
   "outputs": [
    {
     "data": {
      "text/html": [
       "<div><div id=95c60a77-5a56-470f-af55-8c2e1ba9d92f style=\"display:none; background-color:#9D6CFF; color:white; width:200px; height:30px; padding-left:5px; border-radius:4px; flex-direction:row; justify-content:space-around; align-items:center;\" onmouseover=\"this.style.backgroundColor='#BA9BF8'\" onmouseout=\"this.style.backgroundColor='#9D6CFF'\" onclick=\"window.commands?.execute('create-mitosheet-from-dataframe-output');\">See Full Dataframe in Mito</div> <script> if (window.commands?.hasCommand('create-mitosheet-from-dataframe-output')) document.getElementById('95c60a77-5a56-470f-af55-8c2e1ba9d92f').style.display = 'flex' </script> <table border=\"1\" class=\"dataframe\">\n",
       "  <thead>\n",
       "    <tr style=\"text-align: right;\">\n",
       "      <th></th>\n",
       "      <th>model</th>\n",
       "      <th>year</th>\n",
       "      <th>price</th>\n",
       "      <th>transmission</th>\n",
       "      <th>mileage</th>\n",
       "      <th>fuelType</th>\n",
       "      <th>tax</th>\n",
       "      <th>mpg</th>\n",
       "      <th>engineSize</th>\n",
       "      <th>manufacturer</th>\n",
       "    </tr>\n",
       "  </thead>\n",
       "  <tbody>\n",
       "    <tr>\n",
       "      <th>24664</th>\n",
       "      <td>Land Cruiser</td>\n",
       "      <td>2014</td>\n",
       "      <td>44990</td>\n",
       "      <td>Automatic</td>\n",
       "      <td>60000</td>\n",
       "      <td>Diesel</td>\n",
       "      <td>540</td>\n",
       "      <td>29.7</td>\n",
       "      <td>4.5</td>\n",
       "      <td>Toyota</td>\n",
       "    </tr>\n",
       "    <tr>\n",
       "      <th>24623</th>\n",
       "      <td>Land Cruiser</td>\n",
       "      <td>2019</td>\n",
       "      <td>42444</td>\n",
       "      <td>Semi-Auto</td>\n",
       "      <td>10083</td>\n",
       "      <td>Diesel</td>\n",
       "      <td>145</td>\n",
       "      <td>30.1</td>\n",
       "      <td>2.8</td>\n",
       "      <td>Toyota</td>\n",
       "    </tr>\n",
       "    <tr>\n",
       "      <th>24625</th>\n",
       "      <td>Land Cruiser</td>\n",
       "      <td>2019</td>\n",
       "      <td>42995</td>\n",
       "      <td>Semi-Auto</td>\n",
       "      <td>16634</td>\n",
       "      <td>Diesel</td>\n",
       "      <td>145</td>\n",
       "      <td>30.1</td>\n",
       "      <td>2.8</td>\n",
       "      <td>Toyota</td>\n",
       "    </tr>\n",
       "    <tr>\n",
       "      <th>24629</th>\n",
       "      <td>Land Cruiser</td>\n",
       "      <td>2019</td>\n",
       "      <td>45995</td>\n",
       "      <td>Semi-Auto</td>\n",
       "      <td>8967</td>\n",
       "      <td>Diesel</td>\n",
       "      <td>150</td>\n",
       "      <td>30.1</td>\n",
       "      <td>2.8</td>\n",
       "      <td>Toyota</td>\n",
       "    </tr>\n",
       "    <tr>\n",
       "      <th>24637</th>\n",
       "      <td>Land Cruiser</td>\n",
       "      <td>2019</td>\n",
       "      <td>47795</td>\n",
       "      <td>Semi-Auto</td>\n",
       "      <td>8813</td>\n",
       "      <td>Diesel</td>\n",
       "      <td>145</td>\n",
       "      <td>30.1</td>\n",
       "      <td>2.8</td>\n",
       "      <td>Toyota</td>\n",
       "    </tr>\n",
       "    <tr>\n",
       "      <th>24641</th>\n",
       "      <td>Land Cruiser</td>\n",
       "      <td>2019</td>\n",
       "      <td>44935</td>\n",
       "      <td>Semi-Auto</td>\n",
       "      <td>15200</td>\n",
       "      <td>Diesel</td>\n",
       "      <td>145</td>\n",
       "      <td>30.1</td>\n",
       "      <td>2.8</td>\n",
       "      <td>Toyota</td>\n",
       "    </tr>\n",
       "    <tr>\n",
       "      <th>24643</th>\n",
       "      <td>Land Cruiser</td>\n",
       "      <td>2019</td>\n",
       "      <td>42990</td>\n",
       "      <td>Semi-Auto</td>\n",
       "      <td>22845</td>\n",
       "      <td>Diesel</td>\n",
       "      <td>150</td>\n",
       "      <td>30.1</td>\n",
       "      <td>2.8</td>\n",
       "      <td>Toyota</td>\n",
       "    </tr>\n",
       "    <tr>\n",
       "      <th>24655</th>\n",
       "      <td>Land Cruiser</td>\n",
       "      <td>2019</td>\n",
       "      <td>44995</td>\n",
       "      <td>Automatic</td>\n",
       "      <td>4512</td>\n",
       "      <td>Diesel</td>\n",
       "      <td>145</td>\n",
       "      <td>30.1</td>\n",
       "      <td>2.8</td>\n",
       "      <td>Toyota</td>\n",
       "    </tr>\n",
       "    <tr>\n",
       "      <th>24627</th>\n",
       "      <td>Land Cruiser</td>\n",
       "      <td>2020</td>\n",
       "      <td>50995</td>\n",
       "      <td>Semi-Auto</td>\n",
       "      <td>3390</td>\n",
       "      <td>Diesel</td>\n",
       "      <td>145</td>\n",
       "      <td>30.1</td>\n",
       "      <td>2.8</td>\n",
       "      <td>Toyota</td>\n",
       "    </tr>\n",
       "    <tr>\n",
       "      <th>24648</th>\n",
       "      <td>Land Cruiser</td>\n",
       "      <td>2020</td>\n",
       "      <td>50995</td>\n",
       "      <td>Automatic</td>\n",
       "      <td>3500</td>\n",
       "      <td>Diesel</td>\n",
       "      <td>145</td>\n",
       "      <td>30.1</td>\n",
       "      <td>2.8</td>\n",
       "      <td>Toyota</td>\n",
       "    </tr>\n",
       "  </tbody>\n",
       "</table></div>"
      ],
      "text/plain": [
       "               model  year  price transmission  mileage fuelType  tax   mpg  \\\n",
       "24664   Land Cruiser  2014  44990    Automatic    60000   Diesel  540  29.7   \n",
       "24623   Land Cruiser  2019  42444    Semi-Auto    10083   Diesel  145  30.1   \n",
       "24625   Land Cruiser  2019  42995    Semi-Auto    16634   Diesel  145  30.1   \n",
       "24629   Land Cruiser  2019  45995    Semi-Auto     8967   Diesel  150  30.1   \n",
       "24637   Land Cruiser  2019  47795    Semi-Auto     8813   Diesel  145  30.1   \n",
       "24641   Land Cruiser  2019  44935    Semi-Auto    15200   Diesel  145  30.1   \n",
       "24643   Land Cruiser  2019  42990    Semi-Auto    22845   Diesel  150  30.1   \n",
       "24655   Land Cruiser  2019  44995    Automatic     4512   Diesel  145  30.1   \n",
       "24627   Land Cruiser  2020  50995    Semi-Auto     3390   Diesel  145  30.1   \n",
       "24648   Land Cruiser  2020  50995    Automatic     3500   Diesel  145  30.1   \n",
       "\n",
       "       engineSize manufacturer  \n",
       "24664         4.5       Toyota  \n",
       "24623         2.8       Toyota  \n",
       "24625         2.8       Toyota  \n",
       "24629         2.8       Toyota  \n",
       "24637         2.8       Toyota  \n",
       "24641         2.8       Toyota  \n",
       "24643         2.8       Toyota  \n",
       "24655         2.8       Toyota  \n",
       "24627         2.8       Toyota  \n",
       "24648         2.8       Toyota  "
      ]
     },
     "execution_count": 147,
     "metadata": {},
     "output_type": "execute_result"
    }
   ],
   "source": [
    "toyota.query(\"price > 42000\")"
   ]
  },
  {
   "cell_type": "markdown",
   "id": "c692c7a4",
   "metadata": {},
   "source": [
    "A 2014 model is priced similarly to a 2019. We are going to proceed to remove it. It also has considerably better mileage."
   ]
  },
  {
   "cell_type": "code",
   "execution_count": 148,
   "id": "03e49135",
   "metadata": {},
   "outputs": [],
   "source": [
    "toyota = toyota.query(\"price != 44990\")"
   ]
  },
  {
   "cell_type": "code",
   "execution_count": 149,
   "id": "6b6232b5",
   "metadata": {},
   "outputs": [
    {
     "data": {
      "text/html": [
       "<div><div id=f775d85c-e959-42c1-a27b-28720041a49f style=\"display:none; background-color:#9D6CFF; color:white; width:200px; height:30px; padding-left:5px; border-radius:4px; flex-direction:row; justify-content:space-around; align-items:center;\" onmouseover=\"this.style.backgroundColor='#BA9BF8'\" onmouseout=\"this.style.backgroundColor='#9D6CFF'\" onclick=\"window.commands?.execute('create-mitosheet-from-dataframe-output');\">See Full Dataframe in Mito</div> <script> if (window.commands?.hasCommand('create-mitosheet-from-dataframe-output')) document.getElementById('f775d85c-e959-42c1-a27b-28720041a49f').style.display = 'flex' </script> <table border=\"1\" class=\"dataframe\">\n",
       "  <thead>\n",
       "    <tr style=\"text-align: right;\">\n",
       "      <th></th>\n",
       "      <th>model</th>\n",
       "      <th>year</th>\n",
       "      <th>price</th>\n",
       "      <th>transmission</th>\n",
       "      <th>mileage</th>\n",
       "      <th>fuelType</th>\n",
       "      <th>tax</th>\n",
       "      <th>mpg</th>\n",
       "      <th>engineSize</th>\n",
       "      <th>manufacturer</th>\n",
       "    </tr>\n",
       "  </thead>\n",
       "  <tbody>\n",
       "    <tr>\n",
       "      <th>24623</th>\n",
       "      <td>Land Cruiser</td>\n",
       "      <td>2019</td>\n",
       "      <td>42444</td>\n",
       "      <td>Semi-Auto</td>\n",
       "      <td>10083</td>\n",
       "      <td>Diesel</td>\n",
       "      <td>145</td>\n",
       "      <td>30.1</td>\n",
       "      <td>2.8</td>\n",
       "      <td>Toyota</td>\n",
       "    </tr>\n",
       "    <tr>\n",
       "      <th>24625</th>\n",
       "      <td>Land Cruiser</td>\n",
       "      <td>2019</td>\n",
       "      <td>42995</td>\n",
       "      <td>Semi-Auto</td>\n",
       "      <td>16634</td>\n",
       "      <td>Diesel</td>\n",
       "      <td>145</td>\n",
       "      <td>30.1</td>\n",
       "      <td>2.8</td>\n",
       "      <td>Toyota</td>\n",
       "    </tr>\n",
       "    <tr>\n",
       "      <th>24629</th>\n",
       "      <td>Land Cruiser</td>\n",
       "      <td>2019</td>\n",
       "      <td>45995</td>\n",
       "      <td>Semi-Auto</td>\n",
       "      <td>8967</td>\n",
       "      <td>Diesel</td>\n",
       "      <td>150</td>\n",
       "      <td>30.1</td>\n",
       "      <td>2.8</td>\n",
       "      <td>Toyota</td>\n",
       "    </tr>\n",
       "    <tr>\n",
       "      <th>24637</th>\n",
       "      <td>Land Cruiser</td>\n",
       "      <td>2019</td>\n",
       "      <td>47795</td>\n",
       "      <td>Semi-Auto</td>\n",
       "      <td>8813</td>\n",
       "      <td>Diesel</td>\n",
       "      <td>145</td>\n",
       "      <td>30.1</td>\n",
       "      <td>2.8</td>\n",
       "      <td>Toyota</td>\n",
       "    </tr>\n",
       "    <tr>\n",
       "      <th>24641</th>\n",
       "      <td>Land Cruiser</td>\n",
       "      <td>2019</td>\n",
       "      <td>44935</td>\n",
       "      <td>Semi-Auto</td>\n",
       "      <td>15200</td>\n",
       "      <td>Diesel</td>\n",
       "      <td>145</td>\n",
       "      <td>30.1</td>\n",
       "      <td>2.8</td>\n",
       "      <td>Toyota</td>\n",
       "    </tr>\n",
       "    <tr>\n",
       "      <th>24643</th>\n",
       "      <td>Land Cruiser</td>\n",
       "      <td>2019</td>\n",
       "      <td>42990</td>\n",
       "      <td>Semi-Auto</td>\n",
       "      <td>22845</td>\n",
       "      <td>Diesel</td>\n",
       "      <td>150</td>\n",
       "      <td>30.1</td>\n",
       "      <td>2.8</td>\n",
       "      <td>Toyota</td>\n",
       "    </tr>\n",
       "    <tr>\n",
       "      <th>24655</th>\n",
       "      <td>Land Cruiser</td>\n",
       "      <td>2019</td>\n",
       "      <td>44995</td>\n",
       "      <td>Automatic</td>\n",
       "      <td>4512</td>\n",
       "      <td>Diesel</td>\n",
       "      <td>145</td>\n",
       "      <td>30.1</td>\n",
       "      <td>2.8</td>\n",
       "      <td>Toyota</td>\n",
       "    </tr>\n",
       "    <tr>\n",
       "      <th>24627</th>\n",
       "      <td>Land Cruiser</td>\n",
       "      <td>2020</td>\n",
       "      <td>50995</td>\n",
       "      <td>Semi-Auto</td>\n",
       "      <td>3390</td>\n",
       "      <td>Diesel</td>\n",
       "      <td>145</td>\n",
       "      <td>30.1</td>\n",
       "      <td>2.8</td>\n",
       "      <td>Toyota</td>\n",
       "    </tr>\n",
       "    <tr>\n",
       "      <th>24648</th>\n",
       "      <td>Land Cruiser</td>\n",
       "      <td>2020</td>\n",
       "      <td>50995</td>\n",
       "      <td>Automatic</td>\n",
       "      <td>3500</td>\n",
       "      <td>Diesel</td>\n",
       "      <td>145</td>\n",
       "      <td>30.1</td>\n",
       "      <td>2.8</td>\n",
       "      <td>Toyota</td>\n",
       "    </tr>\n",
       "  </tbody>\n",
       "</table></div>"
      ],
      "text/plain": [
       "               model  year  price transmission  mileage fuelType  tax   mpg  \\\n",
       "24623   Land Cruiser  2019  42444    Semi-Auto    10083   Diesel  145  30.1   \n",
       "24625   Land Cruiser  2019  42995    Semi-Auto    16634   Diesel  145  30.1   \n",
       "24629   Land Cruiser  2019  45995    Semi-Auto     8967   Diesel  150  30.1   \n",
       "24637   Land Cruiser  2019  47795    Semi-Auto     8813   Diesel  145  30.1   \n",
       "24641   Land Cruiser  2019  44935    Semi-Auto    15200   Diesel  145  30.1   \n",
       "24643   Land Cruiser  2019  42990    Semi-Auto    22845   Diesel  150  30.1   \n",
       "24655   Land Cruiser  2019  44995    Automatic     4512   Diesel  145  30.1   \n",
       "24627   Land Cruiser  2020  50995    Semi-Auto     3390   Diesel  145  30.1   \n",
       "24648   Land Cruiser  2020  50995    Automatic     3500   Diesel  145  30.1   \n",
       "\n",
       "       engineSize manufacturer  \n",
       "24623         2.8       Toyota  \n",
       "24625         2.8       Toyota  \n",
       "24629         2.8       Toyota  \n",
       "24637         2.8       Toyota  \n",
       "24641         2.8       Toyota  \n",
       "24643         2.8       Toyota  \n",
       "24655         2.8       Toyota  \n",
       "24627         2.8       Toyota  \n",
       "24648         2.8       Toyota  "
      ]
     },
     "execution_count": 149,
     "metadata": {},
     "output_type": "execute_result"
    }
   ],
   "source": [
    "toyota.query(\"price > 42000\")"
   ]
  },
  {
   "cell_type": "markdown",
   "id": "98bd9d42",
   "metadata": {},
   "source": [
    "## *Hyundi*"
   ]
  },
  {
   "cell_type": "code",
   "execution_count": 150,
   "id": "263be504",
   "metadata": {},
   "outputs": [],
   "source": [
    "hyundi = df.query(\"manufacturer == 'Hyundi'\")"
   ]
  },
  {
   "cell_type": "code",
   "execution_count": 151,
   "id": "331a5a93",
   "metadata": {},
   "outputs": [
    {
     "data": {
      "text/plain": [
       "count     4257.000000\n",
       "mean     12090.109467\n",
       "std       5379.541576\n",
       "min       2195.000000\n",
       "25%       7995.000000\n",
       "50%      11298.000000\n",
       "75%      15127.000000\n",
       "max      92000.000000\n",
       "Name: price, dtype: float64"
      ]
     },
     "execution_count": 151,
     "metadata": {},
     "output_type": "execute_result"
    }
   ],
   "source": [
    "hyundi.price.describe()"
   ]
  },
  {
   "cell_type": "code",
   "execution_count": 152,
   "id": "f587f4f5",
   "metadata": {},
   "outputs": [
    {
     "data": {
      "text/html": [
       "<div><div id=61d0a069-c611-4f76-9bd4-2e33b7916096 style=\"display:none; background-color:#9D6CFF; color:white; width:200px; height:30px; padding-left:5px; border-radius:4px; flex-direction:row; justify-content:space-around; align-items:center;\" onmouseover=\"this.style.backgroundColor='#BA9BF8'\" onmouseout=\"this.style.backgroundColor='#9D6CFF'\" onclick=\"window.commands?.execute('create-mitosheet-from-dataframe-output');\">See Full Dataframe in Mito</div> <script> if (window.commands?.hasCommand('create-mitosheet-from-dataframe-output')) document.getElementById('61d0a069-c611-4f76-9bd4-2e33b7916096').style.display = 'flex' </script> <table border=\"1\" class=\"dataframe\">\n",
       "  <thead>\n",
       "    <tr style=\"text-align: right;\">\n",
       "      <th></th>\n",
       "      <th>model</th>\n",
       "      <th>year</th>\n",
       "      <th>price</th>\n",
       "      <th>transmission</th>\n",
       "      <th>mileage</th>\n",
       "      <th>fuelType</th>\n",
       "      <th>tax</th>\n",
       "      <th>mpg</th>\n",
       "      <th>engineSize</th>\n",
       "      <th>manufacturer</th>\n",
       "    </tr>\n",
       "  </thead>\n",
       "  <tbody>\n",
       "    <tr>\n",
       "      <th>28951</th>\n",
       "      <td>I10</td>\n",
       "      <td>2017</td>\n",
       "      <td>92000</td>\n",
       "      <td>Automatic</td>\n",
       "      <td>35460</td>\n",
       "      <td>Petrol</td>\n",
       "      <td>150</td>\n",
       "      <td>47.9</td>\n",
       "      <td>1.2</td>\n",
       "      <td>Hyundi</td>\n",
       "    </tr>\n",
       "  </tbody>\n",
       "</table></div>"
      ],
      "text/plain": [
       "      model  year  price transmission  mileage fuelType  tax   mpg  \\\n",
       "28951   I10  2017  92000    Automatic    35460   Petrol  150  47.9   \n",
       "\n",
       "       engineSize manufacturer  \n",
       "28951         1.2       Hyundi  "
      ]
     },
     "execution_count": 152,
     "metadata": {},
     "output_type": "execute_result"
    }
   ],
   "source": [
    "hyundi.query(\"price > 40000\")"
   ]
  },
  {
   "cell_type": "markdown",
   "id": "f7d04571",
   "metadata": {},
   "source": [
    "It is a clear outlier. Since it is a relatively economical vehicle."
   ]
  },
  {
   "cell_type": "code",
   "execution_count": 153,
   "id": "deeb39c8",
   "metadata": {},
   "outputs": [
    {
     "name": "stdout",
     "output_type": "stream",
     "text": [
      "Interval range STD 1.5: 20158.0\n",
      "Interval range STD 2: 22848.0\n",
      "Interval range STD 2.5: 25537.0\n",
      "Interval range STD 3.0: 28227.0\n",
      "Interval range STD 3.5: 30916.0\n",
      "Interval range STD 4: 33606.0\n"
     ]
    }
   ],
   "source": [
    "IntervalFit(hyundi.price).Upper_Interval()"
   ]
  },
  {
   "cell_type": "code",
   "execution_count": 154,
   "id": "aabeb84d",
   "metadata": {},
   "outputs": [
    {
     "data": {
      "text/html": [
       "<div><div id=8511d254-ab97-44a8-ae81-a4f9e91d6f16 style=\"display:none; background-color:#9D6CFF; color:white; width:200px; height:30px; padding-left:5px; border-radius:4px; flex-direction:row; justify-content:space-around; align-items:center;\" onmouseover=\"this.style.backgroundColor='#BA9BF8'\" onmouseout=\"this.style.backgroundColor='#9D6CFF'\" onclick=\"window.commands?.execute('create-mitosheet-from-dataframe-output');\">See Full Dataframe in Mito</div> <script> if (window.commands?.hasCommand('create-mitosheet-from-dataframe-output')) document.getElementById('8511d254-ab97-44a8-ae81-a4f9e91d6f16').style.display = 'flex' </script> <table border=\"1\" class=\"dataframe\">\n",
       "  <thead>\n",
       "    <tr style=\"text-align: right;\">\n",
       "      <th></th>\n",
       "      <th>model</th>\n",
       "      <th>year</th>\n",
       "      <th>price</th>\n",
       "      <th>transmission</th>\n",
       "      <th>mileage</th>\n",
       "      <th>fuelType</th>\n",
       "      <th>tax</th>\n",
       "      <th>mpg</th>\n",
       "      <th>engineSize</th>\n",
       "      <th>manufacturer</th>\n",
       "    </tr>\n",
       "  </thead>\n",
       "  <tbody>\n",
       "    <tr>\n",
       "      <th>24874</th>\n",
       "      <td>Santa Fe</td>\n",
       "      <td>2019</td>\n",
       "      <td>34998</td>\n",
       "      <td>Semi-Auto</td>\n",
       "      <td>4133</td>\n",
       "      <td>Diesel</td>\n",
       "      <td>145</td>\n",
       "      <td>39.2</td>\n",
       "      <td>2.2</td>\n",
       "      <td>Hyundi</td>\n",
       "    </tr>\n",
       "    <tr>\n",
       "      <th>24875</th>\n",
       "      <td>Santa Fe</td>\n",
       "      <td>2019</td>\n",
       "      <td>34998</td>\n",
       "      <td>Semi-Auto</td>\n",
       "      <td>4956</td>\n",
       "      <td>Diesel</td>\n",
       "      <td>145</td>\n",
       "      <td>39.2</td>\n",
       "      <td>2.2</td>\n",
       "      <td>Hyundi</td>\n",
       "    </tr>\n",
       "    <tr>\n",
       "      <th>25198</th>\n",
       "      <td>Santa Fe</td>\n",
       "      <td>2019</td>\n",
       "      <td>33998</td>\n",
       "      <td>Semi-Auto</td>\n",
       "      <td>3122</td>\n",
       "      <td>Diesel</td>\n",
       "      <td>145</td>\n",
       "      <td>39.8</td>\n",
       "      <td>2.2</td>\n",
       "      <td>Hyundi</td>\n",
       "    </tr>\n",
       "    <tr>\n",
       "      <th>25700</th>\n",
       "      <td>Santa Fe</td>\n",
       "      <td>2019</td>\n",
       "      <td>34000</td>\n",
       "      <td>Semi-Auto</td>\n",
       "      <td>5931</td>\n",
       "      <td>Diesel</td>\n",
       "      <td>145</td>\n",
       "      <td>39.2</td>\n",
       "      <td>2.2</td>\n",
       "      <td>Hyundi</td>\n",
       "    </tr>\n",
       "    <tr>\n",
       "      <th>25790</th>\n",
       "      <td>Santa Fe</td>\n",
       "      <td>2019</td>\n",
       "      <td>33995</td>\n",
       "      <td>Automatic</td>\n",
       "      <td>6363</td>\n",
       "      <td>Diesel</td>\n",
       "      <td>145</td>\n",
       "      <td>42.8</td>\n",
       "      <td>2.2</td>\n",
       "      <td>Hyundi</td>\n",
       "    </tr>\n",
       "    <tr>\n",
       "      <th>...</th>\n",
       "      <td>...</td>\n",
       "      <td>...</td>\n",
       "      <td>...</td>\n",
       "      <td>...</td>\n",
       "      <td>...</td>\n",
       "      <td>...</td>\n",
       "      <td>...</td>\n",
       "      <td>...</td>\n",
       "      <td>...</td>\n",
       "      <td>...</td>\n",
       "    </tr>\n",
       "    <tr>\n",
       "      <th>28819</th>\n",
       "      <td>Santa Fe</td>\n",
       "      <td>2020</td>\n",
       "      <td>36999</td>\n",
       "      <td>Semi-Auto</td>\n",
       "      <td>6000</td>\n",
       "      <td>Diesel</td>\n",
       "      <td>150</td>\n",
       "      <td>39.2</td>\n",
       "      <td>2.2</td>\n",
       "      <td>Hyundi</td>\n",
       "    </tr>\n",
       "    <tr>\n",
       "      <th>28843</th>\n",
       "      <td>Santa Fe</td>\n",
       "      <td>2019</td>\n",
       "      <td>33949</td>\n",
       "      <td>Semi-Auto</td>\n",
       "      <td>6982</td>\n",
       "      <td>Diesel</td>\n",
       "      <td>145</td>\n",
       "      <td>39.2</td>\n",
       "      <td>2.2</td>\n",
       "      <td>Hyundi</td>\n",
       "    </tr>\n",
       "    <tr>\n",
       "      <th>28873</th>\n",
       "      <td>Santa Fe</td>\n",
       "      <td>2019</td>\n",
       "      <td>33999</td>\n",
       "      <td>Semi-Auto</td>\n",
       "      <td>6697</td>\n",
       "      <td>Diesel</td>\n",
       "      <td>150</td>\n",
       "      <td>39.2</td>\n",
       "      <td>2.2</td>\n",
       "      <td>Hyundi</td>\n",
       "    </tr>\n",
       "    <tr>\n",
       "      <th>28951</th>\n",
       "      <td>I10</td>\n",
       "      <td>2017</td>\n",
       "      <td>92000</td>\n",
       "      <td>Automatic</td>\n",
       "      <td>35460</td>\n",
       "      <td>Petrol</td>\n",
       "      <td>150</td>\n",
       "      <td>47.9</td>\n",
       "      <td>1.2</td>\n",
       "      <td>Hyundi</td>\n",
       "    </tr>\n",
       "    <tr>\n",
       "      <th>29522</th>\n",
       "      <td>Santa Fe</td>\n",
       "      <td>2019</td>\n",
       "      <td>35995</td>\n",
       "      <td>Semi-Auto</td>\n",
       "      <td>6918</td>\n",
       "      <td>Diesel</td>\n",
       "      <td>145</td>\n",
       "      <td>39.2</td>\n",
       "      <td>2.2</td>\n",
       "      <td>Hyundi</td>\n",
       "    </tr>\n",
       "  </tbody>\n",
       "</table></div>"
      ],
      "text/plain": [
       "           model  year  price transmission  mileage fuelType  tax   mpg  \\\n",
       "24874   Santa Fe  2019  34998    Semi-Auto     4133   Diesel  145  39.2   \n",
       "24875   Santa Fe  2019  34998    Semi-Auto     4956   Diesel  145  39.2   \n",
       "25198   Santa Fe  2019  33998    Semi-Auto     3122   Diesel  145  39.8   \n",
       "25700   Santa Fe  2019  34000    Semi-Auto     5931   Diesel  145  39.2   \n",
       "25790   Santa Fe  2019  33995    Automatic     6363   Diesel  145  42.8   \n",
       "26316   Santa Fe  2019  36495    Automatic     5000   Diesel  145  39.8   \n",
       "26485   Santa Fe  2020  36495    Semi-Auto     6073   Diesel  145  39.2   \n",
       "26590   Santa Fe  2019  35490    Semi-Auto    17568   Diesel  150  39.8   \n",
       "26805   Santa Fe  2019  33970    Semi-Auto     3580   Diesel  145  39.8   \n",
       "26991   Santa Fe  2019  33495    Semi-Auto     6209   Diesel  145  39.2   \n",
       "27403   Santa Fe  2020  36995    Semi-Auto     5000   Diesel  145  39.2   \n",
       "27815   Santa Fe  2019  34864    Automatic     4000   Diesel  145  39.2   \n",
       "27879   Santa Fe  2019  34495    Semi-Auto     4890   Diesel  145  39.2   \n",
       "28033   Santa Fe  2019  33250    Semi-Auto     3620   Diesel  145  42.8   \n",
       "28112   Santa Fe  2019  33950    Automatic     6813   Diesel  145  39.2   \n",
       "28310   Santa Fe  2019  33799    Automatic     5732   Diesel  145  39.2   \n",
       "28311   Santa Fe  2019  33799    Semi-Auto     5473   Diesel  145  39.2   \n",
       "28355   Santa Fe  2019  33699    Semi-Auto     4372   Diesel  145  39.2   \n",
       "28369   Santa Fe  2019  34495    Semi-Auto     3837   Diesel  145  39.2   \n",
       "28411   Santa Fe  2019  33791    Semi-Auto     5883   Diesel  145  39.2   \n",
       "28454   Santa Fe  2019  35456    Semi-Auto     8000   Diesel  145  39.2   \n",
       "28694   Santa Fe  2019  33992    Semi-Auto     7130   Diesel  145  39.2   \n",
       "28713   Santa Fe  2019  33999    Semi-Auto     6697   Diesel  145  39.2   \n",
       "28738   Santa Fe  2019  33999    Semi-Auto     3735   Diesel  145  39.2   \n",
       "28793   Santa Fe  2019  33791    Semi-Auto     5117   Diesel  145  39.2   \n",
       "28819   Santa Fe  2020  36999    Semi-Auto     6000   Diesel  150  39.2   \n",
       "28843   Santa Fe  2019  33949    Semi-Auto     6982   Diesel  145  39.2   \n",
       "28873   Santa Fe  2019  33999    Semi-Auto     6697   Diesel  150  39.2   \n",
       "28951        I10  2017  92000    Automatic    35460   Petrol  150  47.9   \n",
       "29522   Santa Fe  2019  35995    Semi-Auto     6918   Diesel  145  39.2   \n",
       "\n",
       "       engineSize manufacturer  \n",
       "24874         2.2       Hyundi  \n",
       "24875         2.2       Hyundi  \n",
       "25198         2.2       Hyundi  \n",
       "25700         2.2       Hyundi  \n",
       "25790         2.2       Hyundi  \n",
       "26316         2.2       Hyundi  \n",
       "26485         2.2       Hyundi  \n",
       "26590         2.2       Hyundi  \n",
       "26805         2.2       Hyundi  \n",
       "26991         2.2       Hyundi  \n",
       "27403         2.2       Hyundi  \n",
       "27815         2.2       Hyundi  \n",
       "27879         2.2       Hyundi  \n",
       "28033         2.2       Hyundi  \n",
       "28112         2.2       Hyundi  \n",
       "28310         2.2       Hyundi  \n",
       "28311         2.2       Hyundi  \n",
       "28355         2.2       Hyundi  \n",
       "28369         2.2       Hyundi  \n",
       "28411         2.2       Hyundi  \n",
       "28454         2.2       Hyundi  \n",
       "28694         2.2       Hyundi  \n",
       "28713         2.2       Hyundi  \n",
       "28738         2.2       Hyundi  \n",
       "28793         2.2       Hyundi  \n",
       "28819         2.2       Hyundi  \n",
       "28843         2.2       Hyundi  \n",
       "28873         2.2       Hyundi  \n",
       "28951         1.2       Hyundi  \n",
       "29522         2.2       Hyundi  "
      ]
     },
     "execution_count": 154,
     "metadata": {},
     "output_type": "execute_result"
    }
   ],
   "source": [
    "hyundi.query(\"price > 33000\")"
   ]
  },
  {
   "cell_type": "markdown",
   "id": "1b534b18",
   "metadata": {},
   "source": [
    "The Hyundai Santa Fe strongly dominates this price range."
   ]
  },
  {
   "cell_type": "code",
   "execution_count": 155,
   "id": "67704cb8",
   "metadata": {},
   "outputs": [],
   "source": [
    "hyundi = hyundi.query(\"price < 37000\")"
   ]
  },
  {
   "cell_type": "markdown",
   "id": "818468b5",
   "metadata": {},
   "source": [
    "### *Audi*"
   ]
  },
  {
   "cell_type": "code",
   "execution_count": 156,
   "id": "b1181bdb",
   "metadata": {},
   "outputs": [],
   "source": [
    "audi = df.query(\"manufacturer == 'Audi'\")"
   ]
  },
  {
   "cell_type": "code",
   "execution_count": 157,
   "id": "2fbd560e",
   "metadata": {},
   "outputs": [
    {
     "data": {
      "text/plain": [
       "count      9104.000000\n",
       "mean      21912.766037\n",
       "std       10699.966856\n",
       "min        3490.000000\n",
       "25%       14990.000000\n",
       "50%       19495.000000\n",
       "75%       25999.000000\n",
       "max      129000.000000\n",
       "Name: price, dtype: float64"
      ]
     },
     "execution_count": 157,
     "metadata": {},
     "output_type": "execute_result"
    }
   ],
   "source": [
    "audi.price.describe()"
   ]
  },
  {
   "cell_type": "code",
   "execution_count": 158,
   "id": "ae6f1386",
   "metadata": {},
   "outputs": [
    {
     "name": "stdout",
     "output_type": "stream",
     "text": [
      "Interval range STD 1.5: 5864.0\n",
      "Interval range STD 2: 514.0\n",
      "Interval range STD 2.5: -4836.0\n",
      "Interval range STD 3.0: -10185.0\n",
      "Interval range STD 3.5: -15535.0\n",
      "Interval range STD 4: -20885.0\n"
     ]
    }
   ],
   "source": [
    "IntervalFit(audi.price).Lower_Interval()"
   ]
  },
  {
   "cell_type": "code",
   "execution_count": 159,
   "id": "a04e7b77",
   "metadata": {},
   "outputs": [],
   "source": [
    "audi  = audi.query(\"price > 6000\")"
   ]
  },
  {
   "cell_type": "code",
   "execution_count": 160,
   "id": "c36e4d00",
   "metadata": {},
   "outputs": [
    {
     "data": {
      "text/html": [
       "<div><div id=a8ef03af-0ae5-4a3b-a829-34ba6966287b style=\"display:none; background-color:#9D6CFF; color:white; width:200px; height:30px; padding-left:5px; border-radius:4px; flex-direction:row; justify-content:space-around; align-items:center;\" onmouseover=\"this.style.backgroundColor='#BA9BF8'\" onmouseout=\"this.style.backgroundColor='#9D6CFF'\" onclick=\"window.commands?.execute('create-mitosheet-from-dataframe-output');\">See Full Dataframe in Mito</div> <script> if (window.commands?.hasCommand('create-mitosheet-from-dataframe-output')) document.getElementById('a8ef03af-0ae5-4a3b-a829-34ba6966287b').style.display = 'flex' </script> <table border=\"1\" class=\"dataframe\">\n",
       "  <thead>\n",
       "    <tr style=\"text-align: right;\">\n",
       "      <th></th>\n",
       "      <th>model</th>\n",
       "      <th>year</th>\n",
       "      <th>price</th>\n",
       "      <th>transmission</th>\n",
       "      <th>mileage</th>\n",
       "      <th>fuelType</th>\n",
       "      <th>tax</th>\n",
       "      <th>mpg</th>\n",
       "      <th>engineSize</th>\n",
       "      <th>manufacturer</th>\n",
       "    </tr>\n",
       "  </thead>\n",
       "  <tbody>\n",
       "    <tr>\n",
       "      <th>55110</th>\n",
       "      <td>R8</td>\n",
       "      <td>2019</td>\n",
       "      <td>129000</td>\n",
       "      <td>Semi-Auto</td>\n",
       "      <td>4000</td>\n",
       "      <td>Petrol</td>\n",
       "      <td>145</td>\n",
       "      <td>21.4</td>\n",
       "      <td>5.2</td>\n",
       "      <td>Audi</td>\n",
       "    </tr>\n",
       "    <tr>\n",
       "      <th>57403</th>\n",
       "      <td>R8</td>\n",
       "      <td>2019</td>\n",
       "      <td>112990</td>\n",
       "      <td>Automatic</td>\n",
       "      <td>8175</td>\n",
       "      <td>Petrol</td>\n",
       "      <td>145</td>\n",
       "      <td>21.6</td>\n",
       "      <td>5.2</td>\n",
       "      <td>Audi</td>\n",
       "    </tr>\n",
       "    <tr>\n",
       "      <th>58206</th>\n",
       "      <td>R8</td>\n",
       "      <td>2019</td>\n",
       "      <td>117990</td>\n",
       "      <td>Automatic</td>\n",
       "      <td>11936</td>\n",
       "      <td>Petrol</td>\n",
       "      <td>145</td>\n",
       "      <td>21.4</td>\n",
       "      <td>5.2</td>\n",
       "      <td>Audi</td>\n",
       "    </tr>\n",
       "    <tr>\n",
       "      <th>58418</th>\n",
       "      <td>R8</td>\n",
       "      <td>2019</td>\n",
       "      <td>109990</td>\n",
       "      <td>Automatic</td>\n",
       "      <td>6954</td>\n",
       "      <td>Petrol</td>\n",
       "      <td>145</td>\n",
       "      <td>21.6</td>\n",
       "      <td>5.2</td>\n",
       "      <td>Audi</td>\n",
       "    </tr>\n",
       "    <tr>\n",
       "      <th>60909</th>\n",
       "      <td>R8</td>\n",
       "      <td>2019</td>\n",
       "      <td>119995</td>\n",
       "      <td>Semi-Auto</td>\n",
       "      <td>7800</td>\n",
       "      <td>Petrol</td>\n",
       "      <td>145</td>\n",
       "      <td>21.4</td>\n",
       "      <td>5.2</td>\n",
       "      <td>Audi</td>\n",
       "    </tr>\n",
       "    <tr>\n",
       "      <th>63932</th>\n",
       "      <td>R8</td>\n",
       "      <td>2019</td>\n",
       "      <td>125000</td>\n",
       "      <td>Automatic</td>\n",
       "      <td>13663</td>\n",
       "      <td>Petrol</td>\n",
       "      <td>150</td>\n",
       "      <td>21.4</td>\n",
       "      <td>5.2</td>\n",
       "      <td>Audi</td>\n",
       "    </tr>\n",
       "  </tbody>\n",
       "</table></div>"
      ],
      "text/plain": [
       "      model  year   price transmission  mileage fuelType  tax   mpg  \\\n",
       "55110    R8  2019  129000    Semi-Auto     4000   Petrol  145  21.4   \n",
       "57403    R8  2019  112990    Automatic     8175   Petrol  145  21.6   \n",
       "58206    R8  2019  117990    Automatic    11936   Petrol  145  21.4   \n",
       "58418    R8  2019  109990    Automatic     6954   Petrol  145  21.6   \n",
       "60909    R8  2019  119995    Semi-Auto     7800   Petrol  145  21.4   \n",
       "63932    R8  2019  125000    Automatic    13663   Petrol  150  21.4   \n",
       "\n",
       "       engineSize manufacturer  \n",
       "55110         5.2         Audi  \n",
       "57403         5.2         Audi  \n",
       "58206         5.2         Audi  \n",
       "58418         5.2         Audi  \n",
       "60909         5.2         Audi  \n",
       "63932         5.2         Audi  "
      ]
     },
     "execution_count": 160,
     "metadata": {},
     "output_type": "execute_result"
    }
   ],
   "source": [
    "audi.query(\"price > 100000\")"
   ]
  },
  {
   "cell_type": "markdown",
   "id": "e4e2043f",
   "metadata": {},
   "source": [
    "There is a higher priced 2019 model year R8 that has more mileage. So I will choose to remove it."
   ]
  },
  {
   "cell_type": "code",
   "execution_count": 161,
   "id": "b282ead3",
   "metadata": {},
   "outputs": [],
   "source": [
    "audi_R8 = audi.query(\"model == ' R8'\")\n",
    "audi_R8_2019 = audi_R8.query(\"year == 2019\")\n",
    "audi_R8 = audi_R8.query(\"year != 2019\")"
   ]
  },
  {
   "cell_type": "code",
   "execution_count": 162,
   "id": "d0473b96",
   "metadata": {},
   "outputs": [],
   "source": [
    "other_audi_cars = audi.query(\"model != ' R8'\")"
   ]
  },
  {
   "cell_type": "code",
   "execution_count": 163,
   "id": "08f727ed",
   "metadata": {},
   "outputs": [
    {
     "data": {
      "text/html": [
       "<div><div id=eaac5744-4dd7-47f9-b8dd-dd6935d575e9 style=\"display:none; background-color:#9D6CFF; color:white; width:200px; height:30px; padding-left:5px; border-radius:4px; flex-direction:row; justify-content:space-around; align-items:center;\" onmouseover=\"this.style.backgroundColor='#BA9BF8'\" onmouseout=\"this.style.backgroundColor='#9D6CFF'\" onclick=\"window.commands?.execute('create-mitosheet-from-dataframe-output');\">See Full Dataframe in Mito</div> <script> if (window.commands?.hasCommand('create-mitosheet-from-dataframe-output')) document.getElementById('eaac5744-4dd7-47f9-b8dd-dd6935d575e9').style.display = 'flex' </script> <table border=\"1\" class=\"dataframe\">\n",
       "  <thead>\n",
       "    <tr style=\"text-align: right;\">\n",
       "      <th></th>\n",
       "      <th>model</th>\n",
       "      <th>year</th>\n",
       "      <th>price</th>\n",
       "      <th>transmission</th>\n",
       "      <th>mileage</th>\n",
       "      <th>fuelType</th>\n",
       "      <th>tax</th>\n",
       "      <th>mpg</th>\n",
       "      <th>engineSize</th>\n",
       "      <th>manufacturer</th>\n",
       "    </tr>\n",
       "  </thead>\n",
       "  <tbody>\n",
       "    <tr>\n",
       "      <th>55110</th>\n",
       "      <td>R8</td>\n",
       "      <td>2019</td>\n",
       "      <td>129000</td>\n",
       "      <td>Semi-Auto</td>\n",
       "      <td>4000</td>\n",
       "      <td>Petrol</td>\n",
       "      <td>145</td>\n",
       "      <td>21.4</td>\n",
       "      <td>5.2</td>\n",
       "      <td>Audi</td>\n",
       "    </tr>\n",
       "    <tr>\n",
       "      <th>57403</th>\n",
       "      <td>R8</td>\n",
       "      <td>2019</td>\n",
       "      <td>112990</td>\n",
       "      <td>Automatic</td>\n",
       "      <td>8175</td>\n",
       "      <td>Petrol</td>\n",
       "      <td>145</td>\n",
       "      <td>21.6</td>\n",
       "      <td>5.2</td>\n",
       "      <td>Audi</td>\n",
       "    </tr>\n",
       "    <tr>\n",
       "      <th>58206</th>\n",
       "      <td>R8</td>\n",
       "      <td>2019</td>\n",
       "      <td>117990</td>\n",
       "      <td>Automatic</td>\n",
       "      <td>11936</td>\n",
       "      <td>Petrol</td>\n",
       "      <td>145</td>\n",
       "      <td>21.4</td>\n",
       "      <td>5.2</td>\n",
       "      <td>Audi</td>\n",
       "    </tr>\n",
       "    <tr>\n",
       "      <th>58418</th>\n",
       "      <td>R8</td>\n",
       "      <td>2019</td>\n",
       "      <td>109990</td>\n",
       "      <td>Automatic</td>\n",
       "      <td>6954</td>\n",
       "      <td>Petrol</td>\n",
       "      <td>145</td>\n",
       "      <td>21.6</td>\n",
       "      <td>5.2</td>\n",
       "      <td>Audi</td>\n",
       "    </tr>\n",
       "    <tr>\n",
       "      <th>60909</th>\n",
       "      <td>R8</td>\n",
       "      <td>2019</td>\n",
       "      <td>119995</td>\n",
       "      <td>Semi-Auto</td>\n",
       "      <td>7800</td>\n",
       "      <td>Petrol</td>\n",
       "      <td>145</td>\n",
       "      <td>21.4</td>\n",
       "      <td>5.2</td>\n",
       "      <td>Audi</td>\n",
       "    </tr>\n",
       "    <tr>\n",
       "      <th>63932</th>\n",
       "      <td>R8</td>\n",
       "      <td>2019</td>\n",
       "      <td>125000</td>\n",
       "      <td>Automatic</td>\n",
       "      <td>13663</td>\n",
       "      <td>Petrol</td>\n",
       "      <td>150</td>\n",
       "      <td>21.4</td>\n",
       "      <td>5.2</td>\n",
       "      <td>Audi</td>\n",
       "    </tr>\n",
       "  </tbody>\n",
       "</table></div>"
      ],
      "text/plain": [
       "      model  year   price transmission  mileage fuelType  tax   mpg  \\\n",
       "55110    R8  2019  129000    Semi-Auto     4000   Petrol  145  21.4   \n",
       "57403    R8  2019  112990    Automatic     8175   Petrol  145  21.6   \n",
       "58206    R8  2019  117990    Automatic    11936   Petrol  145  21.4   \n",
       "58418    R8  2019  109990    Automatic     6954   Petrol  145  21.6   \n",
       "60909    R8  2019  119995    Semi-Auto     7800   Petrol  145  21.4   \n",
       "63932    R8  2019  125000    Automatic    13663   Petrol  150  21.4   \n",
       "\n",
       "       engineSize manufacturer  \n",
       "55110         5.2         Audi  \n",
       "57403         5.2         Audi  \n",
       "58206         5.2         Audi  \n",
       "58418         5.2         Audi  \n",
       "60909         5.2         Audi  \n",
       "63932         5.2         Audi  "
      ]
     },
     "execution_count": 163,
     "metadata": {},
     "output_type": "execute_result"
    }
   ],
   "source": [
    "audi_R8_2019"
   ]
  },
  {
   "cell_type": "code",
   "execution_count": 164,
   "id": "dcf182ec",
   "metadata": {},
   "outputs": [],
   "source": [
    "audi_R8_2019 = audi_R8_2019.query(\"price != 125000 and price != 117990\")"
   ]
  },
  {
   "cell_type": "code",
   "execution_count": 165,
   "id": "4602a72f",
   "metadata": {},
   "outputs": [
    {
     "data": {
      "text/html": [
       "<div><div id=a611bb74-9ca1-4a43-99b3-7d268a13b0bd style=\"display:none; background-color:#9D6CFF; color:white; width:200px; height:30px; padding-left:5px; border-radius:4px; flex-direction:row; justify-content:space-around; align-items:center;\" onmouseover=\"this.style.backgroundColor='#BA9BF8'\" onmouseout=\"this.style.backgroundColor='#9D6CFF'\" onclick=\"window.commands?.execute('create-mitosheet-from-dataframe-output');\">See Full Dataframe in Mito</div> <script> if (window.commands?.hasCommand('create-mitosheet-from-dataframe-output')) document.getElementById('a611bb74-9ca1-4a43-99b3-7d268a13b0bd').style.display = 'flex' </script> <table border=\"1\" class=\"dataframe\">\n",
       "  <thead>\n",
       "    <tr style=\"text-align: right;\">\n",
       "      <th></th>\n",
       "      <th>model</th>\n",
       "      <th>year</th>\n",
       "      <th>price</th>\n",
       "      <th>transmission</th>\n",
       "      <th>mileage</th>\n",
       "      <th>fuelType</th>\n",
       "      <th>tax</th>\n",
       "      <th>mpg</th>\n",
       "      <th>engineSize</th>\n",
       "      <th>manufacturer</th>\n",
       "    </tr>\n",
       "  </thead>\n",
       "  <tbody>\n",
       "    <tr>\n",
       "      <th>55110</th>\n",
       "      <td>R8</td>\n",
       "      <td>2019</td>\n",
       "      <td>129000</td>\n",
       "      <td>Semi-Auto</td>\n",
       "      <td>4000</td>\n",
       "      <td>Petrol</td>\n",
       "      <td>145</td>\n",
       "      <td>21.4</td>\n",
       "      <td>5.2</td>\n",
       "      <td>Audi</td>\n",
       "    </tr>\n",
       "    <tr>\n",
       "      <th>57403</th>\n",
       "      <td>R8</td>\n",
       "      <td>2019</td>\n",
       "      <td>112990</td>\n",
       "      <td>Automatic</td>\n",
       "      <td>8175</td>\n",
       "      <td>Petrol</td>\n",
       "      <td>145</td>\n",
       "      <td>21.6</td>\n",
       "      <td>5.2</td>\n",
       "      <td>Audi</td>\n",
       "    </tr>\n",
       "    <tr>\n",
       "      <th>58418</th>\n",
       "      <td>R8</td>\n",
       "      <td>2019</td>\n",
       "      <td>109990</td>\n",
       "      <td>Automatic</td>\n",
       "      <td>6954</td>\n",
       "      <td>Petrol</td>\n",
       "      <td>145</td>\n",
       "      <td>21.6</td>\n",
       "      <td>5.2</td>\n",
       "      <td>Audi</td>\n",
       "    </tr>\n",
       "    <tr>\n",
       "      <th>60909</th>\n",
       "      <td>R8</td>\n",
       "      <td>2019</td>\n",
       "      <td>119995</td>\n",
       "      <td>Semi-Auto</td>\n",
       "      <td>7800</td>\n",
       "      <td>Petrol</td>\n",
       "      <td>145</td>\n",
       "      <td>21.4</td>\n",
       "      <td>5.2</td>\n",
       "      <td>Audi</td>\n",
       "    </tr>\n",
       "  </tbody>\n",
       "</table></div>"
      ],
      "text/plain": [
       "      model  year   price transmission  mileage fuelType  tax   mpg  \\\n",
       "55110    R8  2019  129000    Semi-Auto     4000   Petrol  145  21.4   \n",
       "57403    R8  2019  112990    Automatic     8175   Petrol  145  21.6   \n",
       "58418    R8  2019  109990    Automatic     6954   Petrol  145  21.6   \n",
       "60909    R8  2019  119995    Semi-Auto     7800   Petrol  145  21.4   \n",
       "\n",
       "       engineSize manufacturer  \n",
       "55110         5.2         Audi  \n",
       "57403         5.2         Audi  \n",
       "58418         5.2         Audi  \n",
       "60909         5.2         Audi  "
      ]
     },
     "execution_count": 165,
     "metadata": {},
     "output_type": "execute_result"
    }
   ],
   "source": [
    "audi_R8_2019"
   ]
  },
  {
   "cell_type": "code",
   "execution_count": 166,
   "id": "b5169ea0",
   "metadata": {},
   "outputs": [],
   "source": [
    "R8 = pd.concat([audi_R8,audi_R8_2019])"
   ]
  },
  {
   "cell_type": "code",
   "execution_count": 167,
   "id": "7c03b16a",
   "metadata": {},
   "outputs": [],
   "source": [
    "audi = pd.concat([other_audi_cars,R8])"
   ]
  },
  {
   "cell_type": "markdown",
   "id": "4871dd4f",
   "metadata": {},
   "source": [
    "## *BMW*"
   ]
  },
  {
   "cell_type": "code",
   "execution_count": 169,
   "id": "3a7ff910",
   "metadata": {},
   "outputs": [],
   "source": [
    "bmw = df.query(\"manufacturer == 'BMW'\")"
   ]
  },
  {
   "cell_type": "code",
   "execution_count": 170,
   "id": "008168fa",
   "metadata": {},
   "outputs": [
    {
     "data": {
      "text/plain": [
       "count      8689.000000\n",
       "mean      21292.924272\n",
       "std       10384.602002\n",
       "min        2795.000000\n",
       "25%       14412.000000\n",
       "50%       18995.000000\n",
       "75%       25450.000000\n",
       "max      123456.000000\n",
       "Name: price, dtype: float64"
      ]
     },
     "execution_count": 170,
     "metadata": {},
     "output_type": "execute_result"
    }
   ],
   "source": [
    "bmw.price.describe()"
   ]
  },
  {
   "cell_type": "code",
   "execution_count": 171,
   "id": "0fbe725a",
   "metadata": {},
   "outputs": [
    {
     "name": "stdout",
     "output_type": "stream",
     "text": [
      "Interval range STD 1.5: 5717.0\n",
      "Interval range STD 2: 525.0\n",
      "Interval range STD 2.5: -4667.0\n",
      "Interval range STD 3.0: -9859.0\n",
      "Interval range STD 3.5: -15051.0\n",
      "Interval range STD 4: -20243.0\n"
     ]
    }
   ],
   "source": [
    "IntervalFit(bmw.price).Lower_Interval()"
   ]
  },
  {
   "cell_type": "code",
   "execution_count": 172,
   "id": "93931f29",
   "metadata": {},
   "outputs": [
    {
     "data": {
      "text/html": [
       "<div><div id=7f596c0f-7534-4bb7-b26f-f00b68508e24 style=\"display:none; background-color:#9D6CFF; color:white; width:200px; height:30px; padding-left:5px; border-radius:4px; flex-direction:row; justify-content:space-around; align-items:center;\" onmouseover=\"this.style.backgroundColor='#BA9BF8'\" onmouseout=\"this.style.backgroundColor='#9D6CFF'\" onclick=\"window.commands?.execute('create-mitosheet-from-dataframe-output');\">See Full Dataframe in Mito</div> <script> if (window.commands?.hasCommand('create-mitosheet-from-dataframe-output')) document.getElementById('7f596c0f-7534-4bb7-b26f-f00b68508e24').style.display = 'flex' </script> <table border=\"1\" class=\"dataframe\">\n",
       "  <thead>\n",
       "    <tr style=\"text-align: right;\">\n",
       "      <th></th>\n",
       "      <th>model</th>\n",
       "      <th>year</th>\n",
       "      <th>price</th>\n",
       "      <th>transmission</th>\n",
       "      <th>mileage</th>\n",
       "      <th>fuelType</th>\n",
       "      <th>tax</th>\n",
       "      <th>mpg</th>\n",
       "      <th>engineSize</th>\n",
       "      <th>manufacturer</th>\n",
       "    </tr>\n",
       "  </thead>\n",
       "  <tbody>\n",
       "    <tr>\n",
       "      <th>39583</th>\n",
       "      <td>3 Series</td>\n",
       "      <td>2006</td>\n",
       "      <td>2795</td>\n",
       "      <td>Manual</td>\n",
       "      <td>76000</td>\n",
       "      <td>Diesel</td>\n",
       "      <td>160</td>\n",
       "      <td>50.4</td>\n",
       "      <td>2.0</td>\n",
       "      <td>BMW</td>\n",
       "    </tr>\n",
       "  </tbody>\n",
       "</table></div>"
      ],
      "text/plain": [
       "           model  year  price transmission  mileage fuelType  tax   mpg  \\\n",
       "39583   3 Series  2006   2795       Manual    76000   Diesel  160  50.4   \n",
       "\n",
       "       engineSize manufacturer  \n",
       "39583         2.0          BMW  "
      ]
     },
     "execution_count": 172,
     "metadata": {},
     "output_type": "execute_result"
    }
   ],
   "source": [
    "bmw.query(\"price < 3000\")"
   ]
  },
  {
   "cell_type": "code",
   "execution_count": 173,
   "id": "34835261",
   "metadata": {},
   "outputs": [
    {
     "data": {
      "text/html": [
       "<div><div id=586b7c1a-6cfb-481c-946d-3f7320d5378a style=\"display:none; background-color:#9D6CFF; color:white; width:200px; height:30px; padding-left:5px; border-radius:4px; flex-direction:row; justify-content:space-around; align-items:center;\" onmouseover=\"this.style.backgroundColor='#BA9BF8'\" onmouseout=\"this.style.backgroundColor='#9D6CFF'\" onclick=\"window.commands?.execute('create-mitosheet-from-dataframe-output');\">See Full Dataframe in Mito</div> <script> if (window.commands?.hasCommand('create-mitosheet-from-dataframe-output')) document.getElementById('586b7c1a-6cfb-481c-946d-3f7320d5378a').style.display = 'flex' </script> <table border=\"1\" class=\"dataframe\">\n",
       "  <thead>\n",
       "    <tr style=\"text-align: right;\">\n",
       "      <th></th>\n",
       "      <th>model</th>\n",
       "      <th>year</th>\n",
       "      <th>price</th>\n",
       "      <th>transmission</th>\n",
       "      <th>mileage</th>\n",
       "      <th>fuelType</th>\n",
       "      <th>tax</th>\n",
       "      <th>mpg</th>\n",
       "      <th>engineSize</th>\n",
       "      <th>manufacturer</th>\n",
       "    </tr>\n",
       "  </thead>\n",
       "  <tbody>\n",
       "    <tr>\n",
       "      <th>29805</th>\n",
       "      <td>X7</td>\n",
       "      <td>2020</td>\n",
       "      <td>78000</td>\n",
       "      <td>Semi-Auto</td>\n",
       "      <td>5000</td>\n",
       "      <td>Diesel</td>\n",
       "      <td>150</td>\n",
       "      <td>31.4</td>\n",
       "      <td>3.0</td>\n",
       "      <td>BMW</td>\n",
       "    </tr>\n",
       "    <tr>\n",
       "      <th>30285</th>\n",
       "      <td>8 Series</td>\n",
       "      <td>2019</td>\n",
       "      <td>84898</td>\n",
       "      <td>Semi-Auto</td>\n",
       "      <td>3185</td>\n",
       "      <td>Petrol</td>\n",
       "      <td>145</td>\n",
       "      <td>24.4</td>\n",
       "      <td>4.4</td>\n",
       "      <td>BMW</td>\n",
       "    </tr>\n",
       "    <tr>\n",
       "      <th>32106</th>\n",
       "      <td>X7</td>\n",
       "      <td>2020</td>\n",
       "      <td>77990</td>\n",
       "      <td>Semi-Auto</td>\n",
       "      <td>5656</td>\n",
       "      <td>Diesel</td>\n",
       "      <td>150</td>\n",
       "      <td>31.4</td>\n",
       "      <td>3.0</td>\n",
       "      <td>BMW</td>\n",
       "    </tr>\n",
       "    <tr>\n",
       "      <th>32108</th>\n",
       "      <td>X7</td>\n",
       "      <td>2019</td>\n",
       "      <td>77880</td>\n",
       "      <td>Semi-Auto</td>\n",
       "      <td>6506</td>\n",
       "      <td>Diesel</td>\n",
       "      <td>150</td>\n",
       "      <td>31.4</td>\n",
       "      <td>3.0</td>\n",
       "      <td>BMW</td>\n",
       "    </tr>\n",
       "    <tr>\n",
       "      <th>32166</th>\n",
       "      <td>X7</td>\n",
       "      <td>2020</td>\n",
       "      <td>78490</td>\n",
       "      <td>Semi-Auto</td>\n",
       "      <td>4919</td>\n",
       "      <td>Diesel</td>\n",
       "      <td>145</td>\n",
       "      <td>31.4</td>\n",
       "      <td>3.0</td>\n",
       "      <td>BMW</td>\n",
       "    </tr>\n",
       "    <tr>\n",
       "      <th>32502</th>\n",
       "      <td>X7</td>\n",
       "      <td>2019</td>\n",
       "      <td>77880</td>\n",
       "      <td>Semi-Auto</td>\n",
       "      <td>6506</td>\n",
       "      <td>Diesel</td>\n",
       "      <td>145</td>\n",
       "      <td>31.4</td>\n",
       "      <td>3.0</td>\n",
       "      <td>BMW</td>\n",
       "    </tr>\n",
       "    <tr>\n",
       "      <th>33202</th>\n",
       "      <td>2 Series</td>\n",
       "      <td>2015</td>\n",
       "      <td>123456</td>\n",
       "      <td>Semi-Auto</td>\n",
       "      <td>33419</td>\n",
       "      <td>Diesel</td>\n",
       "      <td>20</td>\n",
       "      <td>68.9</td>\n",
       "      <td>2.0</td>\n",
       "      <td>BMW</td>\n",
       "    </tr>\n",
       "    <tr>\n",
       "      <th>36676</th>\n",
       "      <td>X7</td>\n",
       "      <td>2020</td>\n",
       "      <td>77995</td>\n",
       "      <td>Semi-Auto</td>\n",
       "      <td>7500</td>\n",
       "      <td>Diesel</td>\n",
       "      <td>150</td>\n",
       "      <td>31.4</td>\n",
       "      <td>3.0</td>\n",
       "      <td>BMW</td>\n",
       "    </tr>\n",
       "    <tr>\n",
       "      <th>36958</th>\n",
       "      <td>M4</td>\n",
       "      <td>2016</td>\n",
       "      <td>76990</td>\n",
       "      <td>Automatic</td>\n",
       "      <td>4550</td>\n",
       "      <td>Petrol</td>\n",
       "      <td>300</td>\n",
       "      <td>33.2</td>\n",
       "      <td>3.0</td>\n",
       "      <td>BMW</td>\n",
       "    </tr>\n",
       "  </tbody>\n",
       "</table></div>"
      ],
      "text/plain": [
       "           model  year   price transmission  mileage fuelType  tax   mpg  \\\n",
       "29805         X7  2020   78000    Semi-Auto     5000   Diesel  150  31.4   \n",
       "30285   8 Series  2019   84898    Semi-Auto     3185   Petrol  145  24.4   \n",
       "32106         X7  2020   77990    Semi-Auto     5656   Diesel  150  31.4   \n",
       "32108         X7  2019   77880    Semi-Auto     6506   Diesel  150  31.4   \n",
       "32166         X7  2020   78490    Semi-Auto     4919   Diesel  145  31.4   \n",
       "32502         X7  2019   77880    Semi-Auto     6506   Diesel  145  31.4   \n",
       "33202   2 Series  2015  123456    Semi-Auto    33419   Diesel   20  68.9   \n",
       "36676         X7  2020   77995    Semi-Auto     7500   Diesel  150  31.4   \n",
       "36958         M4  2016   76990    Automatic     4550   Petrol  300  33.2   \n",
       "\n",
       "       engineSize manufacturer  \n",
       "29805         3.0          BMW  \n",
       "30285         4.4          BMW  \n",
       "32106         3.0          BMW  \n",
       "32108         3.0          BMW  \n",
       "32166         3.0          BMW  \n",
       "32502         3.0          BMW  \n",
       "33202         2.0          BMW  \n",
       "36676         3.0          BMW  \n",
       "36958         3.0          BMW  "
      ]
     },
     "execution_count": 173,
     "metadata": {},
     "output_type": "execute_result"
    }
   ],
   "source": [
    "bmw.query(\"price > 75000\")"
   ]
  },
  {
   "cell_type": "markdown",
   "id": "069b8e7c",
   "metadata": {},
   "source": [
    "The 2 series model I do not find an explanation that supports the high price. Since it exceeds the price of the most expensive vehicles of the brand. It is also a model with more mileage and a longer manufacturing date."
   ]
  },
  {
   "cell_type": "code",
   "execution_count": 174,
   "id": "9e4a7249",
   "metadata": {},
   "outputs": [],
   "source": [
    "bmw = bmw.query(\"price > 6000 and price < 85000\")"
   ]
  },
  {
   "cell_type": "code",
   "execution_count": 175,
   "id": "055655b8",
   "metadata": {},
   "outputs": [
    {
     "data": {
      "text/html": [
       "<div><div id=46397f15-288d-4dfa-a6b2-4d79ac85ff3e style=\"display:none; background-color:#9D6CFF; color:white; width:200px; height:30px; padding-left:5px; border-radius:4px; flex-direction:row; justify-content:space-around; align-items:center;\" onmouseover=\"this.style.backgroundColor='#BA9BF8'\" onmouseout=\"this.style.backgroundColor='#9D6CFF'\" onclick=\"window.commands?.execute('create-mitosheet-from-dataframe-output');\">See Full Dataframe in Mito</div> <script> if (window.commands?.hasCommand('create-mitosheet-from-dataframe-output')) document.getElementById('46397f15-288d-4dfa-a6b2-4d79ac85ff3e').style.display = 'flex' </script> <table border=\"1\" class=\"dataframe\">\n",
       "  <thead>\n",
       "    <tr style=\"text-align: right;\">\n",
       "      <th></th>\n",
       "      <th>model</th>\n",
       "      <th>year</th>\n",
       "      <th>price</th>\n",
       "      <th>transmission</th>\n",
       "      <th>mileage</th>\n",
       "      <th>fuelType</th>\n",
       "      <th>tax</th>\n",
       "      <th>mpg</th>\n",
       "      <th>engineSize</th>\n",
       "      <th>manufacturer</th>\n",
       "    </tr>\n",
       "  </thead>\n",
       "  <tbody>\n",
       "    <tr>\n",
       "      <th>29805</th>\n",
       "      <td>X7</td>\n",
       "      <td>2020</td>\n",
       "      <td>78000</td>\n",
       "      <td>Semi-Auto</td>\n",
       "      <td>5000</td>\n",
       "      <td>Diesel</td>\n",
       "      <td>150</td>\n",
       "      <td>31.4</td>\n",
       "      <td>3.0</td>\n",
       "      <td>BMW</td>\n",
       "    </tr>\n",
       "    <tr>\n",
       "      <th>30285</th>\n",
       "      <td>8 Series</td>\n",
       "      <td>2019</td>\n",
       "      <td>84898</td>\n",
       "      <td>Semi-Auto</td>\n",
       "      <td>3185</td>\n",
       "      <td>Petrol</td>\n",
       "      <td>145</td>\n",
       "      <td>24.4</td>\n",
       "      <td>4.4</td>\n",
       "      <td>BMW</td>\n",
       "    </tr>\n",
       "    <tr>\n",
       "      <th>32106</th>\n",
       "      <td>X7</td>\n",
       "      <td>2020</td>\n",
       "      <td>77990</td>\n",
       "      <td>Semi-Auto</td>\n",
       "      <td>5656</td>\n",
       "      <td>Diesel</td>\n",
       "      <td>150</td>\n",
       "      <td>31.4</td>\n",
       "      <td>3.0</td>\n",
       "      <td>BMW</td>\n",
       "    </tr>\n",
       "    <tr>\n",
       "      <th>32108</th>\n",
       "      <td>X7</td>\n",
       "      <td>2019</td>\n",
       "      <td>77880</td>\n",
       "      <td>Semi-Auto</td>\n",
       "      <td>6506</td>\n",
       "      <td>Diesel</td>\n",
       "      <td>150</td>\n",
       "      <td>31.4</td>\n",
       "      <td>3.0</td>\n",
       "      <td>BMW</td>\n",
       "    </tr>\n",
       "    <tr>\n",
       "      <th>32166</th>\n",
       "      <td>X7</td>\n",
       "      <td>2020</td>\n",
       "      <td>78490</td>\n",
       "      <td>Semi-Auto</td>\n",
       "      <td>4919</td>\n",
       "      <td>Diesel</td>\n",
       "      <td>145</td>\n",
       "      <td>31.4</td>\n",
       "      <td>3.0</td>\n",
       "      <td>BMW</td>\n",
       "    </tr>\n",
       "    <tr>\n",
       "      <th>32502</th>\n",
       "      <td>X7</td>\n",
       "      <td>2019</td>\n",
       "      <td>77880</td>\n",
       "      <td>Semi-Auto</td>\n",
       "      <td>6506</td>\n",
       "      <td>Diesel</td>\n",
       "      <td>145</td>\n",
       "      <td>31.4</td>\n",
       "      <td>3.0</td>\n",
       "      <td>BMW</td>\n",
       "    </tr>\n",
       "    <tr>\n",
       "      <th>36676</th>\n",
       "      <td>X7</td>\n",
       "      <td>2020</td>\n",
       "      <td>77995</td>\n",
       "      <td>Semi-Auto</td>\n",
       "      <td>7500</td>\n",
       "      <td>Diesel</td>\n",
       "      <td>150</td>\n",
       "      <td>31.4</td>\n",
       "      <td>3.0</td>\n",
       "      <td>BMW</td>\n",
       "    </tr>\n",
       "    <tr>\n",
       "      <th>36958</th>\n",
       "      <td>M4</td>\n",
       "      <td>2016</td>\n",
       "      <td>76990</td>\n",
       "      <td>Automatic</td>\n",
       "      <td>4550</td>\n",
       "      <td>Petrol</td>\n",
       "      <td>300</td>\n",
       "      <td>33.2</td>\n",
       "      <td>3.0</td>\n",
       "      <td>BMW</td>\n",
       "    </tr>\n",
       "  </tbody>\n",
       "</table></div>"
      ],
      "text/plain": [
       "           model  year  price transmission  mileage fuelType  tax   mpg  \\\n",
       "29805         X7  2020  78000    Semi-Auto     5000   Diesel  150  31.4   \n",
       "30285   8 Series  2019  84898    Semi-Auto     3185   Petrol  145  24.4   \n",
       "32106         X7  2020  77990    Semi-Auto     5656   Diesel  150  31.4   \n",
       "32108         X7  2019  77880    Semi-Auto     6506   Diesel  150  31.4   \n",
       "32166         X7  2020  78490    Semi-Auto     4919   Diesel  145  31.4   \n",
       "32502         X7  2019  77880    Semi-Auto     6506   Diesel  145  31.4   \n",
       "36676         X7  2020  77995    Semi-Auto     7500   Diesel  150  31.4   \n",
       "36958         M4  2016  76990    Automatic     4550   Petrol  300  33.2   \n",
       "\n",
       "       engineSize manufacturer  \n",
       "29805         3.0          BMW  \n",
       "30285         4.4          BMW  \n",
       "32106         3.0          BMW  \n",
       "32108         3.0          BMW  \n",
       "32166         3.0          BMW  \n",
       "32502         3.0          BMW  \n",
       "36676         3.0          BMW  \n",
       "36958         3.0          BMW  "
      ]
     },
     "execution_count": 175,
     "metadata": {},
     "output_type": "execute_result"
    }
   ],
   "source": [
    "bmw.query(\"price > 75000\")"
   ]
  },
  {
   "cell_type": "markdown",
   "id": "2a4807fe",
   "metadata": {},
   "source": [
    "## *Mercedes*"
   ]
  },
  {
   "cell_type": "code",
   "execution_count": 178,
   "id": "455c561b",
   "metadata": {},
   "outputs": [],
   "source": [
    "mercedes = df.query(\"manufacturer== 'Mercedes-Benz'\")"
   ]
  },
  {
   "cell_type": "code",
   "execution_count": 179,
   "id": "c93d2e7f",
   "metadata": {},
   "outputs": [
    {
     "data": {
      "text/plain": [
       "count     10974.000000\n",
       "mean      23049.840259\n",
       "std        9737.201283\n",
       "min        2140.000000\n",
       "25%       16899.000000\n",
       "50%       20899.000000\n",
       "75%       26980.000000\n",
       "max      139995.000000\n",
       "Name: price, dtype: float64"
      ]
     },
     "execution_count": 179,
     "metadata": {},
     "output_type": "execute_result"
    }
   ],
   "source": [
    "mercedes.price.describe()"
   ]
  },
  {
   "cell_type": "code",
   "execution_count": 180,
   "id": "30b0aba1",
   "metadata": {},
   "outputs": [],
   "source": [
    "mercedes = mercedes.query(\"price > 6000\")"
   ]
  },
  {
   "cell_type": "code",
   "execution_count": 181,
   "id": "9e50167d",
   "metadata": {},
   "outputs": [
    {
     "data": {
      "text/plain": [
       "count     10918.000000\n",
       "mean      23144.747481\n",
       "std        9671.031970\n",
       "min        6495.000000\n",
       "25%       16980.500000\n",
       "50%       20980.000000\n",
       "75%       26980.000000\n",
       "max      139995.000000\n",
       "Name: price, dtype: float64"
      ]
     },
     "execution_count": 181,
     "metadata": {},
     "output_type": "execute_result"
    }
   ],
   "source": [
    "mercedes.price.describe()"
   ]
  },
  {
   "cell_type": "code",
   "execution_count": 182,
   "id": "1ead9810",
   "metadata": {},
   "outputs": [
    {
     "data": {
      "text/html": [
       "<div><div id=5f4cbe7b-e726-486f-ac7e-77c1745ff6ea style=\"display:none; background-color:#9D6CFF; color:white; width:200px; height:30px; padding-left:5px; border-radius:4px; flex-direction:row; justify-content:space-around; align-items:center;\" onmouseover=\"this.style.backgroundColor='#BA9BF8'\" onmouseout=\"this.style.backgroundColor='#9D6CFF'\" onclick=\"window.commands?.execute('create-mitosheet-from-dataframe-output');\">See Full Dataframe in Mito</div> <script> if (window.commands?.hasCommand('create-mitosheet-from-dataframe-output')) document.getElementById('5f4cbe7b-e726-486f-ac7e-77c1745ff6ea').style.display = 'flex' </script> <table border=\"1\" class=\"dataframe\">\n",
       "  <thead>\n",
       "    <tr style=\"text-align: right;\">\n",
       "      <th></th>\n",
       "      <th>model</th>\n",
       "      <th>year</th>\n",
       "      <th>price</th>\n",
       "      <th>transmission</th>\n",
       "      <th>mileage</th>\n",
       "      <th>fuelType</th>\n",
       "      <th>tax</th>\n",
       "      <th>mpg</th>\n",
       "      <th>engineSize</th>\n",
       "      <th>manufacturer</th>\n",
       "    </tr>\n",
       "  </thead>\n",
       "  <tbody>\n",
       "    <tr>\n",
       "      <th>40353</th>\n",
       "      <td>G Class</td>\n",
       "      <td>2019</td>\n",
       "      <td>139948</td>\n",
       "      <td>Automatic</td>\n",
       "      <td>12000</td>\n",
       "      <td>Petrol</td>\n",
       "      <td>145</td>\n",
       "      <td>21.4</td>\n",
       "      <td>4.0</td>\n",
       "      <td>Mercedes-Benz</td>\n",
       "    </tr>\n",
       "    <tr>\n",
       "      <th>46247</th>\n",
       "      <td>G Class</td>\n",
       "      <td>2018</td>\n",
       "      <td>135771</td>\n",
       "      <td>Semi-Auto</td>\n",
       "      <td>19000</td>\n",
       "      <td>Petrol</td>\n",
       "      <td>145</td>\n",
       "      <td>21.4</td>\n",
       "      <td>4.0</td>\n",
       "      <td>Mercedes-Benz</td>\n",
       "    </tr>\n",
       "    <tr>\n",
       "      <th>46731</th>\n",
       "      <td>G Class</td>\n",
       "      <td>2018</td>\n",
       "      <td>139995</td>\n",
       "      <td>Semi-Auto</td>\n",
       "      <td>13046</td>\n",
       "      <td>Petrol</td>\n",
       "      <td>145</td>\n",
       "      <td>21.4</td>\n",
       "      <td>4.0</td>\n",
       "      <td>Mercedes-Benz</td>\n",
       "    </tr>\n",
       "    <tr>\n",
       "      <th>48209</th>\n",
       "      <td>G Class</td>\n",
       "      <td>2018</td>\n",
       "      <td>135124</td>\n",
       "      <td>Semi-Auto</td>\n",
       "      <td>18234</td>\n",
       "      <td>Petrol</td>\n",
       "      <td>150</td>\n",
       "      <td>21.4</td>\n",
       "      <td>4.0</td>\n",
       "      <td>Mercedes-Benz</td>\n",
       "    </tr>\n",
       "  </tbody>\n",
       "</table></div>"
      ],
      "text/plain": [
       "          model  year   price transmission  mileage fuelType  tax   mpg  \\\n",
       "40353   G Class  2019  139948    Automatic    12000   Petrol  145  21.4   \n",
       "46247   G Class  2018  135771    Semi-Auto    19000   Petrol  145  21.4   \n",
       "46731   G Class  2018  139995    Semi-Auto    13046   Petrol  145  21.4   \n",
       "48209   G Class  2018  135124    Semi-Auto    18234   Petrol  150  21.4   \n",
       "\n",
       "       engineSize   manufacturer  \n",
       "40353         4.0  Mercedes-Benz  \n",
       "46247         4.0  Mercedes-Benz  \n",
       "46731         4.0  Mercedes-Benz  \n",
       "48209         4.0  Mercedes-Benz  "
      ]
     },
     "execution_count": 182,
     "metadata": {},
     "output_type": "execute_result"
    }
   ],
   "source": [
    "mercedes.query(\"price > 125000\")"
   ]
  },
  {
   "cell_type": "code",
   "execution_count": 183,
   "id": "a1ef0f84",
   "metadata": {},
   "outputs": [],
   "source": [
    "df2 = pd.concat([ford,toyota,hyundi,mercedes,bmw,audi])"
   ]
  },
  {
   "cell_type": "markdown",
   "id": "d1d163dc",
   "metadata": {},
   "source": [
    "We create a new dataset, which has the cleanest data."
   ]
  },
  {
   "cell_type": "code",
   "execution_count": 184,
   "id": "9751e785",
   "metadata": {},
   "outputs": [],
   "source": [
    "models = df2.model.value_counts()"
   ]
  },
  {
   "cell_type": "code",
   "execution_count": 185,
   "id": "79e105da",
   "metadata": {},
   "outputs": [
    {
     "data": {
      "text/plain": [
       " Puma               9\n",
       " IQ                 8\n",
       " SQ7                8\n",
       " M6                 7\n",
       " PROACE VERSO       6\n",
       " S4                 6\n",
       " S8                 4\n",
       " Urban Cruiser      4\n",
       " Veloster           3\n",
       " Verso-S            3\n",
       " S5                 2\n",
       " R Class            2\n",
       " GLB Class          2\n",
       " Getz               2\n",
       " Transit Tourneo    1\n",
       "180                 1\n",
       " Terracan           1\n",
       " Z3                 1\n",
       "220                 1\n",
       "Focus               1\n",
       " RS7                1\n",
       "200                 1\n",
       "Name: model, dtype: int64"
      ]
     },
     "execution_count": 185,
     "metadata": {},
     "output_type": "execute_result"
    }
   ],
   "source": [
    "models[models < 10]"
   ]
  },
  {
   "cell_type": "code",
   "execution_count": 186,
   "id": "3f8f348c",
   "metadata": {},
   "outputs": [],
   "source": [
    "models = models[models < 10]"
   ]
  },
  {
   "cell_type": "code",
   "execution_count": 187,
   "id": "ae99c5ab",
   "metadata": {},
   "outputs": [],
   "source": [
    "df2['model'] = df2['model'].apply(lambda x: \"Other\" if x in models else x)"
   ]
  },
  {
   "cell_type": "code",
   "execution_count": 188,
   "id": "d640e81f",
   "metadata": {},
   "outputs": [
    {
     "data": {
      "text/html": [
       "<div><div id=548892cf-6bb0-4480-bcba-59bd3e732db3 style=\"display:none; background-color:#9D6CFF; color:white; width:200px; height:30px; padding-left:5px; border-radius:4px; flex-direction:row; justify-content:space-around; align-items:center;\" onmouseover=\"this.style.backgroundColor='#BA9BF8'\" onmouseout=\"this.style.backgroundColor='#9D6CFF'\" onclick=\"window.commands?.execute('create-mitosheet-from-dataframe-output');\">See Full Dataframe in Mito</div> <script> if (window.commands?.hasCommand('create-mitosheet-from-dataframe-output')) document.getElementById('548892cf-6bb0-4480-bcba-59bd3e732db3').style.display = 'flex' </script> <table border=\"1\" class=\"dataframe\">\n",
       "  <thead>\n",
       "    <tr style=\"text-align: right;\">\n",
       "      <th></th>\n",
       "      <th>model</th>\n",
       "      <th>year</th>\n",
       "      <th>price</th>\n",
       "      <th>transmission</th>\n",
       "      <th>mileage</th>\n",
       "      <th>fuelType</th>\n",
       "      <th>tax</th>\n",
       "      <th>mpg</th>\n",
       "      <th>engineSize</th>\n",
       "      <th>manufacturer</th>\n",
       "    </tr>\n",
       "  </thead>\n",
       "  <tbody>\n",
       "    <tr>\n",
       "      <th>122</th>\n",
       "      <td>Other</td>\n",
       "      <td>2020</td>\n",
       "      <td>21995</td>\n",
       "      <td>Manual</td>\n",
       "      <td>4111</td>\n",
       "      <td>Petrol</td>\n",
       "      <td>145</td>\n",
       "      <td>50.4</td>\n",
       "      <td>1.0</td>\n",
       "      <td>Ford</td>\n",
       "    </tr>\n",
       "    <tr>\n",
       "      <th>1141</th>\n",
       "      <td>Other</td>\n",
       "      <td>2020</td>\n",
       "      <td>20991</td>\n",
       "      <td>Manual</td>\n",
       "      <td>5750</td>\n",
       "      <td>Petrol</td>\n",
       "      <td>145</td>\n",
       "      <td>49.6</td>\n",
       "      <td>1.0</td>\n",
       "      <td>Ford</td>\n",
       "    </tr>\n",
       "    <tr>\n",
       "      <th>3318</th>\n",
       "      <td>Other</td>\n",
       "      <td>2020</td>\n",
       "      <td>20491</td>\n",
       "      <td>Manual</td>\n",
       "      <td>4998</td>\n",
       "      <td>Petrol</td>\n",
       "      <td>145</td>\n",
       "      <td>50.4</td>\n",
       "      <td>1.0</td>\n",
       "      <td>Ford</td>\n",
       "    </tr>\n",
       "    <tr>\n",
       "      <th>5880</th>\n",
       "      <td>Other</td>\n",
       "      <td>2020</td>\n",
       "      <td>21500</td>\n",
       "      <td>Manual</td>\n",
       "      <td>3198</td>\n",
       "      <td>Petrol</td>\n",
       "      <td>145</td>\n",
       "      <td>50.4</td>\n",
       "      <td>1.0</td>\n",
       "      <td>Ford</td>\n",
       "    </tr>\n",
       "    <tr>\n",
       "      <th>7117</th>\n",
       "      <td>Other</td>\n",
       "      <td>2020</td>\n",
       "      <td>20590</td>\n",
       "      <td>Manual</td>\n",
       "      <td>3214</td>\n",
       "      <td>Petrol</td>\n",
       "      <td>145</td>\n",
       "      <td>50.4</td>\n",
       "      <td>1.0</td>\n",
       "      <td>Ford</td>\n",
       "    </tr>\n",
       "  </tbody>\n",
       "</table></div>"
      ],
      "text/plain": [
       "      model  year  price transmission  mileage fuelType  tax   mpg  \\\n",
       "122   Other  2020  21995       Manual     4111   Petrol  145  50.4   \n",
       "1141  Other  2020  20991       Manual     5750   Petrol  145  49.6   \n",
       "3318  Other  2020  20491       Manual     4998   Petrol  145  50.4   \n",
       "5880  Other  2020  21500       Manual     3198   Petrol  145  50.4   \n",
       "7117  Other  2020  20590       Manual     3214   Petrol  145  50.4   \n",
       "\n",
       "      engineSize manufacturer  \n",
       "122          1.0         Ford  \n",
       "1141         1.0         Ford  \n",
       "3318         1.0         Ford  \n",
       "5880         1.0         Ford  \n",
       "7117         1.0         Ford  "
      ]
     },
     "execution_count": 188,
     "metadata": {},
     "output_type": "execute_result"
    }
   ],
   "source": [
    "df2.query(\"model == 'Other'\").head()"
   ]
  },
  {
   "cell_type": "code",
   "execution_count": 189,
   "id": "31d864c3",
   "metadata": {},
   "outputs": [],
   "source": [
    "engineSize = df2.engineSize.value_counts()"
   ]
  },
  {
   "cell_type": "code",
   "execution_count": 190,
   "id": "db6e57a7",
   "metadata": {},
   "outputs": [
    {
     "data": {
      "text/plain": [
       "6.2    9\n",
       "3.2    8\n",
       "6.6    2\n",
       "4.1    2\n",
       "5.4    1\n",
       "3.7    1\n",
       "6.0    1\n",
       "2.7    1\n",
       "6.3    1\n",
       "Name: engineSize, dtype: int64"
      ]
     },
     "execution_count": 190,
     "metadata": {},
     "output_type": "execute_result"
    }
   ],
   "source": [
    "engineSize[engineSize < 10]"
   ]
  },
  {
   "cell_type": "code",
   "execution_count": 191,
   "id": "e0ca3986",
   "metadata": {},
   "outputs": [],
   "source": [
    "engineSize = engineSize[engineSize < 10]"
   ]
  },
  {
   "cell_type": "code",
   "execution_count": 192,
   "id": "86fb957c",
   "metadata": {},
   "outputs": [],
   "source": [
    "df2['engineSize'] = df2['engineSize'].apply(lambda x: \"Other\" if x in engineSize else x)"
   ]
  },
  {
   "cell_type": "code",
   "execution_count": 193,
   "id": "cc9adec2",
   "metadata": {},
   "outputs": [
    {
     "data": {
      "text/plain": [
       "array([1.0, 1.5, 1.6, 1.2, 2.0, 1.1, 2.3, 1.4, 5.0, 2.2, 2.5, 1.8, 1.3,\n",
       "       0.0, 2.4, 3.0, 2.8, 1.7, 2.9, 2.1, 5.5, 4.0, 3.5, 4.7, 'Other',\n",
       "       4.4, 4.2, 5.2], dtype=object)"
      ]
     },
     "execution_count": 193,
     "metadata": {},
     "output_type": "execute_result"
    }
   ],
   "source": [
    "df2.engineSize.unique()"
   ]
  },
  {
   "cell_type": "code",
   "execution_count": 194,
   "id": "e305b173",
   "metadata": {
    "scrolled": true
   },
   "outputs": [
    {
     "data": {
      "text/plain": [
       "array(['Automatic', 'Manual', 'Semi-Auto', 'Other'], dtype=object)"
      ]
     },
     "execution_count": 194,
     "metadata": {},
     "output_type": "execute_result"
    }
   ],
   "source": [
    "df2.transmission.unique()"
   ]
  },
  {
   "cell_type": "markdown",
   "id": "2ee6c69e",
   "metadata": {},
   "source": [
    "For those categories that are repeated less than 10 times. We convert them to another category called \"Other\". To later delete them."
   ]
  },
  {
   "cell_type": "markdown",
   "id": "05c070c8",
   "metadata": {},
   "source": [
    "### *Delete Other Values*\n",
    "\n",
    "Since they do not add significant value."
   ]
  },
  {
   "cell_type": "code",
   "execution_count": 195,
   "id": "9c9006ee",
   "metadata": {},
   "outputs": [],
   "source": [
    "df2 = df2.query(\"model != 'Other'\")\n",
    "df2 = df2.query(\"engineSize\t!= 'Other'\")\n",
    "df2 = df2.query(\"transmission != 'Other'\")"
   ]
  },
  {
   "cell_type": "code",
   "execution_count": 196,
   "id": "9a4e3bd0",
   "metadata": {},
   "outputs": [
    {
     "data": {
      "text/plain": [
       "array(['Petrol', 'Diesel', 'Hybrid'], dtype=object)"
      ]
     },
     "execution_count": 196,
     "metadata": {},
     "output_type": "execute_result"
    }
   ],
   "source": [
    "df2.fuelType.unique()"
   ]
  },
  {
   "cell_type": "code",
   "execution_count": 197,
   "id": "1528c20c",
   "metadata": {},
   "outputs": [
    {
     "data": {
      "text/plain": [
       "array([1.0, 1.5, 1.6, 1.2, 2.0, 1.1, 2.3, 1.4, 5.0, 2.2, 2.5, 1.8, 1.3,\n",
       "       0.0, 2.4, 3.0, 2.8, 1.7, 2.1, 5.5, 4.0, 2.9, 3.5, 4.7, 4.4, 4.2,\n",
       "       5.2], dtype=object)"
      ]
     },
     "execution_count": 197,
     "metadata": {},
     "output_type": "execute_result"
    }
   ],
   "source": [
    "df2.engineSize.unique()"
   ]
  },
  {
   "cell_type": "code",
   "execution_count": 198,
   "id": "fa13102a",
   "metadata": {},
   "outputs": [],
   "source": [
    "df2.engineSize = df2.engineSize.astype(float)"
   ]
  },
  {
   "cell_type": "code",
   "execution_count": 199,
   "id": "11609427",
   "metadata": {},
   "outputs": [
    {
     "data": {
      "text/plain": [
       "array([1. , 1.5, 1.6, 1.2, 2. , 1.1, 2.3, 1.4, 5. , 2.2, 2.5, 1.8, 1.3,\n",
       "       0. , 2.4, 3. , 2.8, 1.7, 2.1, 5.5, 4. , 2.9, 3.5, 4.7, 4.4, 4.2,\n",
       "       5.2])"
      ]
     },
     "execution_count": 199,
     "metadata": {},
     "output_type": "execute_result"
    }
   ],
   "source": [
    "df2.engineSize.unique()"
   ]
  },
  {
   "cell_type": "code",
   "execution_count": 200,
   "id": "2f0265d9",
   "metadata": {},
   "outputs": [
    {
     "data": {
      "text/html": [
       "<div><div id=45149cb4-dac7-461e-ae87-470a2094bdbe style=\"display:none; background-color:#9D6CFF; color:white; width:200px; height:30px; padding-left:5px; border-radius:4px; flex-direction:row; justify-content:space-around; align-items:center;\" onmouseover=\"this.style.backgroundColor='#BA9BF8'\" onmouseout=\"this.style.backgroundColor='#9D6CFF'\" onclick=\"window.commands?.execute('create-mitosheet-from-dataframe-output');\">See Full Dataframe in Mito</div> <script> if (window.commands?.hasCommand('create-mitosheet-from-dataframe-output')) document.getElementById('45149cb4-dac7-461e-ae87-470a2094bdbe').style.display = 'flex' </script> <table border=\"1\" class=\"dataframe\">\n",
       "  <thead>\n",
       "    <tr style=\"text-align: right;\">\n",
       "      <th></th>\n",
       "      <th>model</th>\n",
       "      <th>year</th>\n",
       "      <th>price</th>\n",
       "      <th>transmission</th>\n",
       "      <th>mileage</th>\n",
       "      <th>fuelType</th>\n",
       "      <th>tax</th>\n",
       "      <th>mpg</th>\n",
       "      <th>engineSize</th>\n",
       "      <th>manufacturer</th>\n",
       "    </tr>\n",
       "  </thead>\n",
       "  <tbody>\n",
       "  </tbody>\n",
       "</table></div>"
      ],
      "text/plain": [
       "Empty DataFrame\n",
       "Columns: [model, year, price, transmission, mileage, fuelType, tax, mpg, engineSize, manufacturer]\n",
       "Index: []"
      ]
     },
     "execution_count": 200,
     "metadata": {},
     "output_type": "execute_result"
    }
   ],
   "source": [
    "df2.query(\"model == 'Other'\")"
   ]
  },
  {
   "cell_type": "markdown",
   "id": "209b4333",
   "metadata": {},
   "source": [
    "## **Save Data Clear**"
   ]
  },
  {
   "cell_type": "code",
   "execution_count": 202,
   "id": "057ca045",
   "metadata": {},
   "outputs": [],
   "source": [
    "df2.to_csv('C:/Users/PC/Desktop/Car-Price-Proyect/data/car_clear.csv',index = False)"
   ]
  }
 ],
 "metadata": {
  "kernelspec": {
   "display_name": "Python 3 (ipykernel)",
   "language": "python",
   "name": "python3"
  },
  "language_info": {
   "codemirror_mode": {
    "name": "ipython",
    "version": 3
   },
   "file_extension": ".py",
   "mimetype": "text/x-python",
   "name": "python",
   "nbconvert_exporter": "python",
   "pygments_lexer": "ipython3",
   "version": "3.9.7"
  }
 },
 "nbformat": 4,
 "nbformat_minor": 5
}
