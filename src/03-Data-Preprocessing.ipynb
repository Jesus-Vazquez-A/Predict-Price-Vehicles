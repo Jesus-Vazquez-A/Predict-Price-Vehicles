{
 "cells": [
  {
   "cell_type": "markdown",
   "id": "a995f21f",
   "metadata": {},
   "source": [
    "## *Import Libraries*"
   ]
  },
  {
   "cell_type": "code",
   "execution_count": 1,
   "id": "08b18b2d",
   "metadata": {},
   "outputs": [],
   "source": [
    "import pandas as pd\n",
    "import numpy as np\n",
    "import string\n",
    "import warnings"
   ]
  },
  {
   "cell_type": "code",
   "execution_count": 2,
   "id": "f6ad1099",
   "metadata": {},
   "outputs": [],
   "source": [
    "warnings.filterwarnings(\"ignore\")"
   ]
  },
  {
   "cell_type": "markdown",
   "id": "343efce6",
   "metadata": {},
   "source": [
    "### *Load Data*"
   ]
  },
  {
   "cell_type": "code",
   "execution_count": 3,
   "id": "e8017f15",
   "metadata": {},
   "outputs": [],
   "source": [
    "df = pd.read_csv(\"C:/Users/PC/Desktop/Car-Sales/data/cars_sales_clear.csv\")"
   ]
  },
  {
   "cell_type": "code",
   "execution_count": 4,
   "id": "fe11b3fa",
   "metadata": {},
   "outputs": [
    {
     "data": {
      "text/plain": [
       "(86168, 8)"
      ]
     },
     "execution_count": 4,
     "metadata": {},
     "output_type": "execute_result"
    }
   ],
   "source": [
    "df.shape"
   ]
  },
  {
   "cell_type": "markdown",
   "id": "ef4bab6e",
   "metadata": {},
   "source": [
    "### *One Hot Encoding*"
   ]
  },
  {
   "cell_type": "markdown",
   "id": "88e3a6e0",
   "metadata": {},
   "source": [
    "<img src = \"https://www.statology.org/wp-content/uploads/2021/09/oneHot1.png\">"
   ]
  },
  {
   "cell_type": "markdown",
   "id": "d2632c09",
   "metadata": {},
   "source": [
    "It consists of creating several dummy variables. According to the number of categories of the variable to transform.It consists of creating several dummy variables. According to the number of categories of the variable to transform. If the observation meets the category, it will be assigned a 1 and the other columns will be filled with a 0."
   ]
  },
  {
   "cell_type": "code",
   "execution_count": 6,
   "id": "5c0dc93d",
   "metadata": {},
   "outputs": [],
   "source": [
    "def OHE():\n",
    "    \n",
    "    manufacturer_ohe = pd.get_dummies(df.manufacturer)\n",
    "    model_ohe = pd.get_dummies(df.model)\n",
    "    transmission_ohe = pd.get_dummies(df.transmission)\n",
    "    fuelType_ohe = pd.get_dummies(df.fuelType)\n",
    "    \n",
    "    \n",
    "    return manufacturer_ohe,model_ohe,transmission_ohe,fuelType_ohe"
   ]
  },
  {
   "cell_type": "code",
   "execution_count": 9,
   "id": "0a17729d",
   "metadata": {},
   "outputs": [],
   "source": [
    "def concatene_df():\n",
    "    \n",
    "    manufacturer_ohe,model_ohe,transmission_ohe,fuelType_ohe = OHE()\n",
    "    \n",
    "    new_df = pd.concat([manufacturer_ohe,model_ohe,transmission_ohe,df.year,\n",
    "                        fuelType_ohe,df.engineSize,\n",
    "                        df.mileage,df.price],axis = 'columns')\n",
    "    return new_df"
   ]
  },
  {
   "cell_type": "code",
   "execution_count": 10,
   "id": "71eae59a",
   "metadata": {},
   "outputs": [],
   "source": [
    "df_ohe = concatene_df()"
   ]
  },
  {
   "cell_type": "markdown",
   "id": "4ca51e20",
   "metadata": {},
   "source": [
    "## *Remove White Spaces*"
   ]
  },
  {
   "cell_type": "code",
   "execution_count": 11,
   "id": "7d44b16a",
   "metadata": {},
   "outputs": [],
   "source": [
    "columns = df_ohe.columns"
   ]
  },
  {
   "cell_type": "code",
   "execution_count": 12,
   "id": "47a68fa8",
   "metadata": {
    "scrolled": true
   },
   "outputs": [
    {
     "data": {
      "text/plain": [
       "Index(['Audi', 'BMW', 'Ford', 'Hyundi', 'Mercedes-Benz', 'Skoda', 'Toyota',\n",
       "       'Vauxhall', 'Volkswagen', ' 1 Series',\n",
       "       ...\n",
       "       'Manual', 'Semi-Auto', 'year', 'Diesel', 'Electric', 'Hybrid', 'Petrol',\n",
       "       'engineSize', 'mileage', 'price'],\n",
       "      dtype='object', length=173)"
      ]
     },
     "execution_count": 12,
     "metadata": {},
     "output_type": "execute_result"
    }
   ],
   "source": [
    "columns"
   ]
  },
  {
   "cell_type": "markdown",
   "id": "fff18354",
   "metadata": {},
   "source": [
    "Some variables have blank spaces. For which I will eliminate these spaces. Since when generating new predictions it can be uncomfortable to enter the data."
   ]
  },
  {
   "cell_type": "code",
   "execution_count": 13,
   "id": "0cf4abab",
   "metadata": {},
   "outputs": [],
   "source": [
    " remove_spaces_columns = [column.strip(' ') for column in columns]"
   ]
  },
  {
   "cell_type": "code",
   "execution_count": 14,
   "id": "ba243ec4",
   "metadata": {},
   "outputs": [
    {
     "data": {
      "text/plain": [
       "['Audi',\n",
       " 'BMW',\n",
       " 'Ford',\n",
       " 'Hyundi',\n",
       " 'Mercedes-Benz',\n",
       " 'Skoda',\n",
       " 'Toyota',\n",
       " 'Vauxhall',\n",
       " 'Volkswagen',\n",
       " '1 Series',\n",
       " '2 Series',\n",
       " '3 Series',\n",
       " '4 Series',\n",
       " '5 Series',\n",
       " '6 Series',\n",
       " '7 Series',\n",
       " '8 Series',\n",
       " 'A Class',\n",
       " 'A1',\n",
       " 'A3',\n",
       " 'A4',\n",
       " 'A5',\n",
       " 'A6',\n",
       " 'A7',\n",
       " 'A8',\n",
       " 'Adam',\n",
       " 'Agila',\n",
       " 'Amarok',\n",
       " 'Antara',\n",
       " 'Arteon',\n",
       " 'Astra',\n",
       " 'Auris',\n",
       " 'Avensis',\n",
       " 'Aygo',\n",
       " 'B Class',\n",
       " 'B-MAX',\n",
       " 'Beetle',\n",
       " 'C Class',\n",
       " 'C-HR',\n",
       " 'C-MAX',\n",
       " 'CC',\n",
       " 'CL Class',\n",
       " 'CLA Class',\n",
       " 'CLS Class',\n",
       " 'Caddy Maxi Life',\n",
       " 'California',\n",
       " 'Camry',\n",
       " 'Caravelle',\n",
       " 'Citigo',\n",
       " 'Combo Life',\n",
       " 'Corolla',\n",
       " 'Corsa',\n",
       " 'Crossland X',\n",
       " 'E Class',\n",
       " 'EcoSport',\n",
       " 'Edge',\n",
       " 'Fabia',\n",
       " 'Fiesta',\n",
       " 'Focus',\n",
       " 'Fusion',\n",
       " 'GL Class',\n",
       " 'GLA Class',\n",
       " 'GLC Class',\n",
       " 'GLE Class',\n",
       " 'GLS Class',\n",
       " 'GT86',\n",
       " 'GTC',\n",
       " 'Galaxy',\n",
       " 'Golf',\n",
       " 'Golf SV',\n",
       " 'Grand C-MAX',\n",
       " 'Grand Tourneo Connect',\n",
       " 'Grandland X',\n",
       " 'Hilux',\n",
       " 'I10',\n",
       " 'I20',\n",
       " 'I30',\n",
       " 'I40',\n",
       " 'I800',\n",
       " 'IX20',\n",
       " 'IX35',\n",
       " 'Insignia',\n",
       " 'Ioniq',\n",
       " 'Jetta',\n",
       " 'KA',\n",
       " 'Ka+',\n",
       " 'Kamiq',\n",
       " 'Karoq',\n",
       " 'Kodiaq',\n",
       " 'Kona',\n",
       " 'Kuga',\n",
       " 'Land Cruiser',\n",
       " 'M Class',\n",
       " 'M2',\n",
       " 'M3',\n",
       " 'M4',\n",
       " 'M5',\n",
       " 'Meriva',\n",
       " 'Mokka',\n",
       " 'Mokka X',\n",
       " 'Mondeo',\n",
       " 'Mustang',\n",
       " 'Octavia',\n",
       " 'Passat',\n",
       " 'Polo',\n",
       " 'Prius',\n",
       " 'Puma',\n",
       " 'Q2',\n",
       " 'Q3',\n",
       " 'Q5',\n",
       " 'Q7',\n",
       " 'Q8',\n",
       " 'R8',\n",
       " 'RAV4',\n",
       " 'RS3',\n",
       " 'RS4',\n",
       " 'RS5',\n",
       " 'RS6',\n",
       " 'Rapid',\n",
       " 'Roomster',\n",
       " 'S Class',\n",
       " 'S-MAX',\n",
       " 'S3',\n",
       " 'SL CLASS',\n",
       " 'SLK',\n",
       " 'SQ5',\n",
       " 'Santa Fe',\n",
       " 'Scala',\n",
       " 'Scirocco',\n",
       " 'Sharan',\n",
       " 'Shuttle',\n",
       " 'Superb',\n",
       " 'T-Cross',\n",
       " 'T-Roc',\n",
       " 'TT',\n",
       " 'Tiguan',\n",
       " 'Tiguan Allspace',\n",
       " 'Touareg',\n",
       " 'Touran',\n",
       " 'Tourneo Connect',\n",
       " 'Tourneo Custom',\n",
       " 'Tucson',\n",
       " 'Up',\n",
       " 'V Class',\n",
       " 'Verso',\n",
       " 'Viva',\n",
       " 'Vivaro',\n",
       " 'X-CLASS',\n",
       " 'X1',\n",
       " 'X2',\n",
       " 'X3',\n",
       " 'X4',\n",
       " 'X5',\n",
       " 'X6',\n",
       " 'Yaris',\n",
       " 'Yeti',\n",
       " 'Yeti Outdoor',\n",
       " 'Z4',\n",
       " 'Zafira',\n",
       " 'Zafira Tourer',\n",
       " 'i3',\n",
       " 'i8',\n",
       " 'Automatic',\n",
       " 'Manual',\n",
       " 'Semi-Auto',\n",
       " 'year',\n",
       " 'Diesel',\n",
       " 'Electric',\n",
       " 'Hybrid',\n",
       " 'Petrol',\n",
       " 'engineSize',\n",
       " 'mileage',\n",
       " 'price']"
      ]
     },
     "execution_count": 14,
     "metadata": {},
     "output_type": "execute_result"
    }
   ],
   "source": [
    "remove_spaces_columns"
   ]
  },
  {
   "cell_type": "code",
   "execution_count": 15,
   "id": "f725f23f",
   "metadata": {},
   "outputs": [],
   "source": [
    "df_ohe.columns = remove_spaces_columns"
   ]
  },
  {
   "cell_type": "code",
   "execution_count": 16,
   "id": "cc20b347",
   "metadata": {},
   "outputs": [
    {
     "data": {
      "text/plain": [
       "Index(['Audi', 'BMW', 'Ford', 'Hyundi', 'Mercedes-Benz', 'Skoda', 'Toyota',\n",
       "       'Vauxhall', 'Volkswagen', '1 Series'],\n",
       "      dtype='object')"
      ]
     },
     "execution_count": 16,
     "metadata": {},
     "output_type": "execute_result"
    }
   ],
   "source": [
    "df_ohe.columns[:10]"
   ]
  },
  {
   "cell_type": "markdown",
   "id": "278b9f15",
   "metadata": {},
   "source": [
    "## **Save CSV File**"
   ]
  },
  {
   "cell_type": "code",
   "execution_count": 17,
   "id": "798a9f66",
   "metadata": {},
   "outputs": [],
   "source": [
    "df_ohe.to_csv(\"C:/Users/PC/Desktop/Car-Sales/data/cars_sales_ohe.csv\",\n",
    "               index = False)"
   ]
  }
 ],
 "metadata": {
  "kernelspec": {
   "display_name": "Python 3 (ipykernel)",
   "language": "python",
   "name": "python3"
  },
  "language_info": {
   "codemirror_mode": {
    "name": "ipython",
    "version": 3
   },
   "file_extension": ".py",
   "mimetype": "text/x-python",
   "name": "python",
   "nbconvert_exporter": "python",
   "pygments_lexer": "ipython3",
   "version": "3.9.7"
  }
 },
 "nbformat": 4,
 "nbformat_minor": 5
}
