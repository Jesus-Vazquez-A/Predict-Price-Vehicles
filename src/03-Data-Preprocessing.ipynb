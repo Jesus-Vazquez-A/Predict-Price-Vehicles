{
 "cells": [
  {
   "cell_type": "markdown",
   "id": "a995f21f",
   "metadata": {},
   "source": [
    "## *Import Libraries*"
   ]
  },
  {
   "cell_type": "code",
   "execution_count": 1,
   "id": "08b18b2d",
   "metadata": {},
   "outputs": [],
   "source": [
    "import pandas as pd\n",
    "import numpy as np\n",
    "import string\n",
    "import warnings"
   ]
  },
  {
   "cell_type": "code",
   "execution_count": 2,
   "id": "f6ad1099",
   "metadata": {},
   "outputs": [],
   "source": [
    "warnings.filterwarnings(\"ignore\")"
   ]
  },
  {
   "cell_type": "markdown",
   "id": "343efce6",
   "metadata": {},
   "source": [
    "### *Load Data*"
   ]
  },
  {
   "cell_type": "code",
   "execution_count": 4,
   "id": "e8017f15",
   "metadata": {},
   "outputs": [],
   "source": [
    "df = pd.read_csv(\"C:/Users/PC/Desktop/Car-Price-Proyect/data/car_clear.csv\")"
   ]
  },
  {
   "cell_type": "code",
   "execution_count": 5,
   "id": "0aa44b53",
   "metadata": {},
   "outputs": [
    {
     "data": {
      "text/html": [
       "<div><div id=cef3626f-42f8-4ee3-a1b9-d1388f1465f8 style=\"display:none; background-color:#9D6CFF; color:white; width:200px; height:30px; padding-left:5px; border-radius:4px; flex-direction:row; justify-content:space-around; align-items:center;\" onmouseover=\"this.style.backgroundColor='#BA9BF8'\" onmouseout=\"this.style.backgroundColor='#9D6CFF'\" onclick=\"window.commands?.execute('create-mitosheet-from-dataframe-output');\">See Full Dataframe in Mito</div> <script> if (window.commands?.hasCommand('create-mitosheet-from-dataframe-output')) document.getElementById('cef3626f-42f8-4ee3-a1b9-d1388f1465f8').style.display = 'flex' </script> <table border=\"1\" class=\"dataframe\">\n",
       "  <thead>\n",
       "    <tr style=\"text-align: right;\">\n",
       "      <th></th>\n",
       "      <th>model</th>\n",
       "      <th>year</th>\n",
       "      <th>price</th>\n",
       "      <th>transmission</th>\n",
       "      <th>mileage</th>\n",
       "      <th>fuelType</th>\n",
       "      <th>tax</th>\n",
       "      <th>mpg</th>\n",
       "      <th>engineSize</th>\n",
       "      <th>manufacturer</th>\n",
       "    </tr>\n",
       "  </thead>\n",
       "  <tbody>\n",
       "    <tr>\n",
       "      <th>0</th>\n",
       "      <td>Fiesta</td>\n",
       "      <td>2017</td>\n",
       "      <td>12000</td>\n",
       "      <td>Automatic</td>\n",
       "      <td>15944</td>\n",
       "      <td>Petrol</td>\n",
       "      <td>150</td>\n",
       "      <td>57.7</td>\n",
       "      <td>1.0</td>\n",
       "      <td>Ford</td>\n",
       "    </tr>\n",
       "    <tr>\n",
       "      <th>1</th>\n",
       "      <td>Focus</td>\n",
       "      <td>2018</td>\n",
       "      <td>14000</td>\n",
       "      <td>Manual</td>\n",
       "      <td>9083</td>\n",
       "      <td>Petrol</td>\n",
       "      <td>150</td>\n",
       "      <td>57.7</td>\n",
       "      <td>1.0</td>\n",
       "      <td>Ford</td>\n",
       "    </tr>\n",
       "    <tr>\n",
       "      <th>2</th>\n",
       "      <td>Focus</td>\n",
       "      <td>2017</td>\n",
       "      <td>13000</td>\n",
       "      <td>Manual</td>\n",
       "      <td>12456</td>\n",
       "      <td>Petrol</td>\n",
       "      <td>150</td>\n",
       "      <td>57.7</td>\n",
       "      <td>1.0</td>\n",
       "      <td>Ford</td>\n",
       "    </tr>\n",
       "    <tr>\n",
       "      <th>3</th>\n",
       "      <td>Fiesta</td>\n",
       "      <td>2019</td>\n",
       "      <td>17500</td>\n",
       "      <td>Manual</td>\n",
       "      <td>10460</td>\n",
       "      <td>Petrol</td>\n",
       "      <td>145</td>\n",
       "      <td>40.3</td>\n",
       "      <td>1.5</td>\n",
       "      <td>Ford</td>\n",
       "    </tr>\n",
       "    <tr>\n",
       "      <th>4</th>\n",
       "      <td>Fiesta</td>\n",
       "      <td>2015</td>\n",
       "      <td>10500</td>\n",
       "      <td>Manual</td>\n",
       "      <td>35432</td>\n",
       "      <td>Petrol</td>\n",
       "      <td>145</td>\n",
       "      <td>47.9</td>\n",
       "      <td>1.6</td>\n",
       "      <td>Ford</td>\n",
       "    </tr>\n",
       "  </tbody>\n",
       "</table></div>"
      ],
      "text/plain": [
       "     model  year  price transmission  mileage fuelType  tax   mpg  engineSize  \\\n",
       "0   Fiesta  2017  12000    Automatic    15944   Petrol  150  57.7         1.0   \n",
       "1    Focus  2018  14000       Manual     9083   Petrol  150  57.7         1.0   \n",
       "2    Focus  2017  13000       Manual    12456   Petrol  150  57.7         1.0   \n",
       "3   Fiesta  2019  17500       Manual    10460   Petrol  145  40.3         1.5   \n",
       "4   Fiesta  2015  10500       Manual    35432   Petrol  145  47.9         1.6   \n",
       "\n",
       "  manufacturer  \n",
       "0         Ford  \n",
       "1         Ford  \n",
       "2         Ford  \n",
       "3         Ford  \n",
       "4         Ford  "
      ]
     },
     "execution_count": 5,
     "metadata": {},
     "output_type": "execute_result"
    }
   ],
   "source": [
    "df.head()"
   ]
  },
  {
   "cell_type": "markdown",
   "id": "ef4bab6e",
   "metadata": {},
   "source": [
    "### *One Hot Encoding*"
   ]
  },
  {
   "cell_type": "markdown",
   "id": "88e3a6e0",
   "metadata": {},
   "source": [
    "<img src = \"https://www.statology.org/wp-content/uploads/2021/09/oneHot1.png\">"
   ]
  },
  {
   "cell_type": "markdown",
   "id": "d2632c09",
   "metadata": {},
   "source": [
    "It consists of creating several dummy variables. According to the number of categories of the variable to transform.It consists of creating several dummy variables. According to the number of categories of the variable to transform. If the observation meets the category, it will be assigned a 1 and the other columns will be filled with a 0."
   ]
  },
  {
   "cell_type": "code",
   "execution_count": 6,
   "id": "5c0dc93d",
   "metadata": {},
   "outputs": [],
   "source": [
    "def OHE():\n",
    "    \n",
    "    manufacturer_ohe = pd.get_dummies(df.manufacturer)\n",
    "    model_ohe = pd.get_dummies(df.model)\n",
    "    transmission_ohe = pd.get_dummies(df.transmission)\n",
    "    fuelType_ohe = pd.get_dummies(df.fuelType)\n",
    "    \n",
    "    return manufacturer_ohe,model_ohe,transmission_ohe,fuelType_ohe"
   ]
  },
  {
   "cell_type": "code",
   "execution_count": 7,
   "id": "0a17729d",
   "metadata": {},
   "outputs": [],
   "source": [
    "def concatene_df():\n",
    "    \n",
    "    manufacturer_ohe,model_ohe,transmission_ohe,fuelType_ohe = OHE()\n",
    "    \n",
    "    new_df = pd.concat([manufacturer_ohe,model_ohe,transmission_ohe,df.year,\n",
    "                        fuelType_ohe,df.engineSize,\n",
    "                        df.mileage,df.tax,df.mpg,df.price],axis = 'columns')\n",
    "    return new_df"
   ]
  },
  {
   "cell_type": "code",
   "execution_count": 8,
   "id": "71eae59a",
   "metadata": {},
   "outputs": [],
   "source": [
    "df_ohe = concatene_df()"
   ]
  },
  {
   "cell_type": "markdown",
   "id": "4ca51e20",
   "metadata": {},
   "source": [
    "## *Remove White Spaces*"
   ]
  },
  {
   "cell_type": "code",
   "execution_count": 9,
   "id": "7d44b16a",
   "metadata": {},
   "outputs": [],
   "source": [
    "columns = df_ohe.columns"
   ]
  },
  {
   "cell_type": "code",
   "execution_count": 10,
   "id": "47a68fa8",
   "metadata": {
    "scrolled": true
   },
   "outputs": [
    {
     "data": {
      "text/plain": [
       "Index(['Audi', 'BMW', 'Ford', 'Hyundi', 'Mercedes-Benz', 'Toyota', ' 1 Series',\n",
       "       ' 2 Series', ' 3 Series', ' 4 Series',\n",
       "       ...\n",
       "       'Semi-Auto', 'year', 'Diesel', 'Hybrid', 'Petrol', 'engineSize',\n",
       "       'mileage', 'tax', 'mpg', 'price'],\n",
       "      dtype='object', length=120)"
      ]
     },
     "execution_count": 10,
     "metadata": {},
     "output_type": "execute_result"
    }
   ],
   "source": [
    "columns"
   ]
  },
  {
   "cell_type": "markdown",
   "id": "fff18354",
   "metadata": {},
   "source": [
    "Some variables have blank spaces. For which I will eliminate these spaces. Since when generating new predictions it can be uncomfortable to enter the data."
   ]
  },
  {
   "cell_type": "code",
   "execution_count": 11,
   "id": "0cf4abab",
   "metadata": {},
   "outputs": [],
   "source": [
    " remove_spaces_columns = [column.strip(' ') for column in columns]"
   ]
  },
  {
   "cell_type": "code",
   "execution_count": 12,
   "id": "ba243ec4",
   "metadata": {},
   "outputs": [
    {
     "data": {
      "text/plain": [
       "['Audi',\n",
       " 'BMW',\n",
       " 'Ford',\n",
       " 'Hyundi',\n",
       " 'Mercedes-Benz',\n",
       " 'Toyota',\n",
       " '1 Series',\n",
       " '2 Series',\n",
       " '3 Series',\n",
       " '4 Series',\n",
       " '5 Series',\n",
       " '6 Series',\n",
       " '7 Series',\n",
       " '8 Series',\n",
       " 'A Class',\n",
       " 'A1',\n",
       " 'A3',\n",
       " 'A4',\n",
       " 'A5',\n",
       " 'A6',\n",
       " 'A7',\n",
       " 'A8',\n",
       " 'Auris',\n",
       " 'Avensis',\n",
       " 'Aygo',\n",
       " 'B Class',\n",
       " 'B-MAX',\n",
       " 'C Class',\n",
       " 'C-HR',\n",
       " 'C-MAX',\n",
       " 'CL Class',\n",
       " 'CLA Class',\n",
       " 'CLS Class',\n",
       " 'Camry',\n",
       " 'Corolla',\n",
       " 'E Class',\n",
       " 'EcoSport',\n",
       " 'Edge',\n",
       " 'Fiesta',\n",
       " 'Focus',\n",
       " 'Fusion',\n",
       " 'G Class',\n",
       " 'GL Class',\n",
       " 'GLA Class',\n",
       " 'GLC Class',\n",
       " 'GLE Class',\n",
       " 'GLS Class',\n",
       " 'GT86',\n",
       " 'Galaxy',\n",
       " 'Grand C-MAX',\n",
       " 'Grand Tourneo Connect',\n",
       " 'Hilux',\n",
       " 'I10',\n",
       " 'I20',\n",
       " 'I30',\n",
       " 'I40',\n",
       " 'I800',\n",
       " 'IX20',\n",
       " 'IX35',\n",
       " 'Ioniq',\n",
       " 'KA',\n",
       " 'Ka+',\n",
       " 'Kona',\n",
       " 'Kuga',\n",
       " 'Land Cruiser',\n",
       " 'M Class',\n",
       " 'M2',\n",
       " 'M3',\n",
       " 'M4',\n",
       " 'M5',\n",
       " 'Mondeo',\n",
       " 'Mustang',\n",
       " 'Prius',\n",
       " 'Q2',\n",
       " 'Q3',\n",
       " 'Q5',\n",
       " 'Q7',\n",
       " 'Q8',\n",
       " 'R8',\n",
       " 'RAV4',\n",
       " 'RS3',\n",
       " 'RS4',\n",
       " 'RS5',\n",
       " 'RS6',\n",
       " 'S Class',\n",
       " 'S-MAX',\n",
       " 'S3',\n",
       " 'SL CLASS',\n",
       " 'SLK',\n",
       " 'SQ5',\n",
       " 'Santa Fe',\n",
       " 'TT',\n",
       " 'Tourneo Connect',\n",
       " 'Tourneo Custom',\n",
       " 'Tucson',\n",
       " 'V Class',\n",
       " 'Verso',\n",
       " 'X-CLASS',\n",
       " 'X1',\n",
       " 'X2',\n",
       " 'X3',\n",
       " 'X4',\n",
       " 'X5',\n",
       " 'X6',\n",
       " 'X7',\n",
       " 'Yaris',\n",
       " 'Z4',\n",
       " 'i8',\n",
       " 'Automatic',\n",
       " 'Manual',\n",
       " 'Semi-Auto',\n",
       " 'year',\n",
       " 'Diesel',\n",
       " 'Hybrid',\n",
       " 'Petrol',\n",
       " 'engineSize',\n",
       " 'mileage',\n",
       " 'tax',\n",
       " 'mpg',\n",
       " 'price']"
      ]
     },
     "execution_count": 12,
     "metadata": {},
     "output_type": "execute_result"
    }
   ],
   "source": [
    "remove_spaces_columns"
   ]
  },
  {
   "cell_type": "code",
   "execution_count": 13,
   "id": "f725f23f",
   "metadata": {},
   "outputs": [],
   "source": [
    "df_ohe.columns = remove_spaces_columns"
   ]
  },
  {
   "cell_type": "code",
   "execution_count": 14,
   "id": "cc20b347",
   "metadata": {},
   "outputs": [
    {
     "data": {
      "text/plain": [
       "Index(['Audi', 'BMW', 'Ford', 'Hyundi', 'Mercedes-Benz', 'Toyota', '1 Series',\n",
       "       '2 Series', '3 Series', '4 Series'],\n",
       "      dtype='object')"
      ]
     },
     "execution_count": 14,
     "metadata": {},
     "output_type": "execute_result"
    }
   ],
   "source": [
    "df_ohe.columns[:10]"
   ]
  },
  {
   "cell_type": "markdown",
   "id": "278b9f15",
   "metadata": {},
   "source": [
    "## **Save CSV File**"
   ]
  },
  {
   "cell_type": "code",
   "execution_count": 15,
   "id": "798a9f66",
   "metadata": {},
   "outputs": [],
   "source": [
    "df_ohe.to_csv(\"C:/Users/PC/Desktop/Car-Price-Proyect/data/cars_ohe.csv\",index = False)"
   ]
  }
 ],
 "metadata": {
  "kernelspec": {
   "display_name": "Python 3 (ipykernel)",
   "language": "python",
   "name": "python3"
  },
  "language_info": {
   "codemirror_mode": {
    "name": "ipython",
    "version": 3
   },
   "file_extension": ".py",
   "mimetype": "text/x-python",
   "name": "python",
   "nbconvert_exporter": "python",
   "pygments_lexer": "ipython3",
   "version": "3.9.7"
  }
 },
 "nbformat": 4,
 "nbformat_minor": 5
}
