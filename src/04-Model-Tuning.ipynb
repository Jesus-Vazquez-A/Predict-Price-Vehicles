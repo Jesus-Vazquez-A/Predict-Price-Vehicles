{
 "cells": [
  {
   "cell_type": "markdown",
   "id": "c3c6dfc3",
   "metadata": {},
   "source": [
    "## *Import Libraries*"
   ]
  },
  {
   "cell_type": "code",
   "execution_count": 1,
   "id": "67d657ef",
   "metadata": {},
   "outputs": [],
   "source": [
    "import pandas as pd\n",
    "import numpy as np\n",
    "import warnings"
   ]
  },
  {
   "cell_type": "code",
   "execution_count": 2,
   "id": "e4d6b2a4",
   "metadata": {},
   "outputs": [],
   "source": [
    "warnings.filterwarnings(\"ignore\")"
   ]
  },
  {
   "cell_type": "markdown",
   "id": "4734929a",
   "metadata": {},
   "source": [
    "## *Load Dataset*"
   ]
  },
  {
   "cell_type": "code",
   "execution_count": 3,
   "id": "7bc270df",
   "metadata": {},
   "outputs": [],
   "source": [
    "df = pd.read_csv(\"C:/Users/PC/Desktop/Car-Sales/data/cars_sales_ohe.csv\")"
   ]
  },
  {
   "cell_type": "code",
   "execution_count": 4,
   "id": "7059fd0f",
   "metadata": {},
   "outputs": [],
   "source": [
    "def load_inputs_outputs():\n",
    "\n",
    "    X = df.drop(columns=['price'])\n",
    "    y = df.price\n",
    "    \n",
    "    return X,y"
   ]
  },
  {
   "cell_type": "code",
   "execution_count": 5,
   "id": "c51491e7",
   "metadata": {},
   "outputs": [],
   "source": [
    "X,y = load_inputs_outputs()"
   ]
  },
  {
   "cell_type": "markdown",
   "id": "fae48cfb",
   "metadata": {},
   "source": [
    "## *Split Data*"
   ]
  },
  {
   "cell_type": "code",
   "execution_count": 6,
   "id": "4950703f",
   "metadata": {},
   "outputs": [],
   "source": [
    "from sklearn.model_selection import train_test_split"
   ]
  },
  {
   "cell_type": "code",
   "execution_count": 7,
   "id": "e271d2ef",
   "metadata": {},
   "outputs": [],
   "source": [
    "X_train,X_test,Y_train,Y_test = train_test_split(X,y,test_size = 0.2,random_state = 42)"
   ]
  },
  {
   "cell_type": "markdown",
   "id": "f6ac3925",
   "metadata": {},
   "source": [
    "### *Array Transform*"
   ]
  },
  {
   "cell_type": "code",
   "execution_count": 8,
   "id": "e1e1cdc2",
   "metadata": {},
   "outputs": [],
   "source": [
    "def array(x):\n",
    "    return np.asarray(x)"
   ]
  },
  {
   "cell_type": "code",
   "execution_count": 9,
   "id": "17ec05bf",
   "metadata": {},
   "outputs": [],
   "source": [
    "X_train,Y_train = array(X_train),array(Y_train)\n",
    "X_test,Y_test = array(X_test),array(Y_test)"
   ]
  },
  {
   "cell_type": "markdown",
   "id": "5d37cc21",
   "metadata": {},
   "source": [
    "We create numpy arrays, as it will speed up the model training process."
   ]
  },
  {
   "cell_type": "code",
   "execution_count": 10,
   "id": "8f1ec2c4",
   "metadata": {},
   "outputs": [
    {
     "data": {
      "text/plain": [
       "((68934, 172), (17234, 172))"
      ]
     },
     "execution_count": 10,
     "metadata": {},
     "output_type": "execute_result"
    }
   ],
   "source": [
    "X_train.shape,X_test.shape"
   ]
  },
  {
   "cell_type": "markdown",
   "id": "4568ba00",
   "metadata": {},
   "source": [
    "## *Model Creation*"
   ]
  },
  {
   "cell_type": "code",
   "execution_count": 11,
   "id": "32c8e3a9",
   "metadata": {},
   "outputs": [],
   "source": [
    "from xgboost import XGBRegressor"
   ]
  },
  {
   "cell_type": "markdown",
   "id": "fc33ffef",
   "metadata": {},
   "source": [
    "### *Explanation of Parameters*\n",
    "\n",
    "* max_depth: Maximum depth of a tree. Increasing this value will make the model more complex and more likely to overfit. \n",
    "\n",
    "\n",
    "\n",
    "* learning_rate: Step size shrinkage used in update to prevents overfitting. After each boosting step, we can directly get the weights of new features, and eta shrinks the feature weights to make the boosting process more conservative.\n",
    "\n",
    "\n",
    "\n",
    "* subsample: Subsample ratio of the training instances. \n",
    "\n",
    "\n",
    "\n",
    "* colsample_bytree: colsample_bytree is the subsample ratio of columns when constructing each tree. Subsampling occurs once for every tree constructed.\n",
    "\n",
    "\n",
    "\n",
    "* colsample_bynode: colsample_bynode is the subsample ratio of columns for each node (split) subsampling occurs once every time a new split is evaluated. Columns are subsampled from the set of columns chosen for the current level.\n",
    "\n",
    "\n",
    "\n",
    "* gamma: Minimum loss reduction required to make a further partition on a leaf node of the tree. The larger gamma is, the more conservative the algorithm will be range.\n"
   ]
  },
  {
   "cell_type": "code",
   "execution_count": 21,
   "id": "1e540c21",
   "metadata": {},
   "outputs": [],
   "source": [
    "params1 = {\"max_depth\":8,\n",
    "           \"learning_rate\":0.01,\n",
    "           \"subsample\":0.9,\n",
    "           \"n_jobs\":-1,\n",
    "           \"n_estimators\":900}\n",
    "\n",
    "params2 = {\"max_depth\":9,\n",
    "           \"learning_rate\":0.01,\n",
    "           \"subsample\":0.8,\n",
    "           \"n_jobs\":-1,\n",
    "           \"n_estimators\":800}\n",
    "\n",
    "params3 = {\"max_depth\":10,\n",
    "           \"learning_rate\":0.01,\n",
    "           \"subsample\":0.7,\n",
    "           \"colsample_bytree\":0.7,\n",
    "            \"colsample_bynode\" : 0.8,\n",
    "           \"n_jobs\": -1,\n",
    "           \"gamma\":20,\n",
    "          \"n_estimators\":700}"
   ]
  },
  {
   "cell_type": "markdown",
   "id": "1cf75d22",
   "metadata": {},
   "source": [
    "In the last model, since you assign a max_depth equal to 10, you will have more chance of overfitting. Therefore, I chose to use other hyperparameters in order to minimize the effect, in addition to drastically reducing the number of estimators."
   ]
  },
  {
   "cell_type": "code",
   "execution_count": 22,
   "id": "7378fad3",
   "metadata": {},
   "outputs": [],
   "source": [
    "models = {'XGB 1':XGBRegressor(**params1),\n",
    "          'XGB 2':XGBRegressor(**params2),\n",
    "          'XGB 3':XGBRegressor(**params3)}"
   ]
  },
  {
   "cell_type": "markdown",
   "id": "66d7c257",
   "metadata": {},
   "source": [
    "Pass the parameters corresponding to each model as a dictionary argument."
   ]
  },
  {
   "cell_type": "markdown",
   "id": "be3aa859",
   "metadata": {},
   "source": [
    "### *Train Models*"
   ]
  },
  {
   "cell_type": "code",
   "execution_count": 23,
   "id": "738a2ea0",
   "metadata": {},
   "outputs": [],
   "source": [
    "def train_model(model):\n",
    "    return model.fit(X_train,Y_train)"
   ]
  },
  {
   "cell_type": "code",
   "execution_count": 24,
   "id": "7b7fe384",
   "metadata": {},
   "outputs": [],
   "source": [
    "for model in models.values():\n",
    "    train_model(model)"
   ]
  },
  {
   "cell_type": "code",
   "execution_count": 16,
   "id": "dd4bc5ef",
   "metadata": {},
   "outputs": [],
   "source": [
    "from sklearn.metrics import mean_squared_error"
   ]
  },
  {
   "cell_type": "code",
   "execution_count": 17,
   "id": "733ebe01",
   "metadata": {},
   "outputs": [],
   "source": [
    "def MSE(model):\n",
    "    \n",
    "    pred_train = model.predict(X_train)\n",
    "    pred_test = model.predict(X_test)\n",
    "    \n",
    "    mse_train = mean_squared_error(Y_train,pred_train)\n",
    "    mse_test = mean_squared_error(Y_test,pred_test)\n",
    "    \n",
    "    return mse_train,mse_test"
   ]
  },
  {
   "cell_type": "code",
   "execution_count": 25,
   "id": "10ef0e53",
   "metadata": {},
   "outputs": [
    {
     "name": "stdout",
     "output_type": "stream",
     "text": [
      "XGB 1 Train MSE: 3529642.3710864894\n",
      "XGB 1 Test MSE:  4172624.033367634\n",
      "XGB 2 Train MSE: 3179521.841193567\n",
      "XGB 2 Test MSE:  3909151.1972787254\n",
      "XGB 3 Train MSE: 3135273.8591617798\n",
      "XGB 3 Test MSE:  3723530.933794483\n"
     ]
    }
   ],
   "source": [
    "for name,model in models.items():\n",
    "    mse_train,mse_test = MSE(model)\n",
    "    print(f\"{name} Train MSE: {mse_train}\")\n",
    "    print(f\"{name} Test MSE:  {mse_test}\")"
   ]
  },
  {
   "cell_type": "markdown",
   "id": "cbbb7546",
   "metadata": {},
   "source": [
    "The last model offers a good result, however we can still help you with more parameters to make the model more robust."
   ]
  },
  {
   "cell_type": "markdown",
   "id": "57b522e3",
   "metadata": {},
   "source": [
    "## *GridSearch CV*"
   ]
  },
  {
   "cell_type": "code",
   "execution_count": 52,
   "id": "31266142",
   "metadata": {},
   "outputs": [],
   "source": [
    "from sklearn.model_selection import GridSearchCV"
   ]
  },
  {
   "cell_type": "markdown",
   "id": "489dbec5",
   "metadata": {},
   "source": [
    "* n_estimators: Number of trees.\n",
    "* reg_alpha: L1 regularization term on weights. Increasing this value will make model more conservative."
   ]
  },
  {
   "cell_type": "code",
   "execution_count": 54,
   "id": "0d688806",
   "metadata": {},
   "outputs": [],
   "source": [
    "params = {\"n_estimators\":[600,700,800],\"reg_alpha\":[0.1,0.5,0.8]}"
   ]
  },
  {
   "cell_type": "code",
   "execution_count": 55,
   "id": "26e766c9",
   "metadata": {},
   "outputs": [],
   "source": [
    "base_model = XGBRegressor(max_depth = 10,\n",
    "                   learning_rate = 0.01,\n",
    "                   colsample_bytree = 0.7,\n",
    "                   subsample = 0.8,\n",
    "                   colsample_bynode = 0.8,\n",
    "                   gamma = 20,\n",
    "                 n_jobs = -1)"
   ]
  },
  {
   "cell_type": "code",
   "execution_count": 56,
   "id": "c26d2e2e",
   "metadata": {},
   "outputs": [],
   "source": [
    "grid = GridSearchCV(base_model,params,cv = 3,n_jobs = -1)"
   ]
  },
  {
   "cell_type": "code",
   "execution_count": 57,
   "id": "7fc3a7c0",
   "metadata": {},
   "outputs": [
    {
     "data": {
      "text/plain": [
       "GridSearchCV(cv=3,\n",
       "             estimator=XGBRegressor(base_score=None, booster=None,\n",
       "                                    callbacks=None, colsample_bylevel=None,\n",
       "                                    colsample_bynode=0.8, colsample_bytree=0.7,\n",
       "                                    early_stopping_rounds=None,\n",
       "                                    enable_categorical=False, eval_metric=None,\n",
       "                                    gamma=20, gpu_id=None, grow_policy=None,\n",
       "                                    importance_type=None,\n",
       "                                    interaction_constraints=None,\n",
       "                                    learning_rate=0.01, max_bin=None,\n",
       "                                    max_cat_to_onehot=None, max_delta_step=None,\n",
       "                                    max_depth=10, max_leaves=None,\n",
       "                                    min_child_weight=None, missing=nan,\n",
       "                                    monotone_constraints=None, n_estimators=100,\n",
       "                                    n_jobs=-1, num_parallel_tree=None,\n",
       "                                    predictor=None, random_state=None,\n",
       "                                    reg_alpha=None, reg_lambda=None, ...),\n",
       "             n_jobs=-1,\n",
       "             param_grid={'n_estimators': [600, 700, 800],\n",
       "                         'reg_alpha': [0.1, 0.5, 0.8]})"
      ]
     },
     "execution_count": 57,
     "metadata": {},
     "output_type": "execute_result"
    }
   ],
   "source": [
    "grid.fit(X_train,Y_train)"
   ]
  },
  {
   "cell_type": "code",
   "execution_count": 58,
   "id": "6da7c47b",
   "metadata": {},
   "outputs": [
    {
     "data": {
      "text/plain": [
       "{'n_estimators': 800, 'reg_alpha': 0.1}"
      ]
     },
     "execution_count": 58,
     "metadata": {},
     "output_type": "execute_result"
    }
   ],
   "source": [
    "grid.best_params_"
   ]
  },
  {
   "cell_type": "markdown",
   "id": "c1fd2eed",
   "metadata": {},
   "source": [
    "## *Best Model*"
   ]
  },
  {
   "cell_type": "code",
   "execution_count": 59,
   "id": "ae2bc71c",
   "metadata": {},
   "outputs": [],
   "source": [
    "best_model = grid.best_estimator_"
   ]
  },
  {
   "cell_type": "code",
   "execution_count": 60,
   "id": "22140427",
   "metadata": {},
   "outputs": [],
   "source": [
    "mse_train,mse_test = MSE(best_model)"
   ]
  },
  {
   "cell_type": "code",
   "execution_count": 61,
   "id": "3b5b0d6a",
   "metadata": {
    "scrolled": true
   },
   "outputs": [
    {
     "name": "stdout",
     "output_type": "stream",
     "text": [
      " Train MSE: 3015699.837966533\n",
      " Test MSE:  3646377.6882630386\n"
     ]
    }
   ],
   "source": [
    "print(f\" Train MSE: {mse_train}\")\n",
    "print(f\" Test MSE:  {mse_test}\")"
   ]
  },
  {
   "cell_type": "markdown",
   "id": "2278c694",
   "metadata": {},
   "source": [
    "Thanks to the parameters, the MSE for the test data decreases, something that is very positive, reducing the effect of overfitting the model."
   ]
  }
 ],
 "metadata": {
  "kernelspec": {
   "display_name": "Python 3 (ipykernel)",
   "language": "python",
   "name": "python3"
  },
  "language_info": {
   "codemirror_mode": {
    "name": "ipython",
    "version": 3
   },
   "file_extension": ".py",
   "mimetype": "text/x-python",
   "name": "python",
   "nbconvert_exporter": "python",
   "pygments_lexer": "ipython3",
   "version": "3.9.7"
  }
 },
 "nbformat": 4,
 "nbformat_minor": 5
}
