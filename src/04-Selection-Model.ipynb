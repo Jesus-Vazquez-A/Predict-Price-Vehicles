{
  "nbformat": 4,
  "nbformat_minor": 0,
  "metadata": {
    "colab": {
      "provenance": [],
      "collapsed_sections": []
    },
    "kernelspec": {
      "name": "python3",
      "display_name": "Python 3"
    },
    "language_info": {
      "name": "python"
    },
    "accelerator": "GPU",
    "gpuClass": "standard"
  },
  "cells": [
    {
      "cell_type": "markdown",
      "source": [
        "## *Import Libraries*"
      ],
      "metadata": {
        "id": "YhDATudI7nz2"
      }
    },
    {
      "cell_type": "code",
      "source": [
        "from google.colab import drive\n",
        "drive.mount('/content/drive')"
      ],
      "metadata": {
        "colab": {
          "base_uri": "https://localhost:8080/"
        },
        "id": "MhFTI_5Kc1oU",
        "outputId": "b10368a5-1655-4bfc-e0e4-5eff8c3cafc3"
      },
      "execution_count": 1,
      "outputs": [
        {
          "output_type": "stream",
          "name": "stdout",
          "text": [
            "Mounted at /content/drive\n"
          ]
        }
      ]
    },
    {
      "cell_type": "code",
      "source": [
        "import pandas as pd\n",
        "import numpy as np\n",
        "import matplotlib.pyplot as plt\n",
        "import seaborn as sns\n",
        "import warnings"
      ],
      "metadata": {
        "id": "jHPrhgSn818G"
      },
      "execution_count": 2,
      "outputs": []
    },
    {
      "cell_type": "code",
      "source": [
        "warnings.filterwarnings(\"ignore\")"
      ],
      "metadata": {
        "id": "ScWKtgK68S8R"
      },
      "execution_count": 3,
      "outputs": []
    },
    {
      "cell_type": "code",
      "source": [
        "!unzip /content/drive/MyDrive/cars_ohe.zip"
      ],
      "metadata": {
        "colab": {
          "base_uri": "https://localhost:8080/"
        },
        "id": "4vyievKy835G",
        "outputId": "a22e9d49-8ed7-438b-e7c8-4ae91fbf20bf"
      },
      "execution_count": 4,
      "outputs": [
        {
          "output_type": "stream",
          "name": "stdout",
          "text": [
            "Archive:  /content/drive/MyDrive/cars_ohe.zip\n",
            "  inflating: cars_ohe.csv            \n"
          ]
        }
      ]
    },
    {
      "cell_type": "code",
      "source": [
        "df = pd.read_csv(\"/content/cars_ohe.csv\")"
      ],
      "metadata": {
        "id": "iyB9eI3c747N"
      },
      "execution_count": 5,
      "outputs": []
    },
    {
      "cell_type": "code",
      "source": [
        "def load_inputs_outputs():\n",
        "\n",
        "  X = df.drop([\"price\"],axis = \"columns\")\n",
        "  y = df.price\n",
        "\n",
        "  return X,y"
      ],
      "metadata": {
        "id": "bE2Edgh69-46"
      },
      "execution_count": 6,
      "outputs": []
    },
    {
      "cell_type": "markdown",
      "source": [
        "## *Load Inputs and Targets*"
      ],
      "metadata": {
        "id": "jnVjyb0u-Gc-"
      }
    },
    {
      "cell_type": "code",
      "source": [
        "X,y = load_inputs_outputs()  "
      ],
      "metadata": {
        "id": "KmWqQUkh-Cgt"
      },
      "execution_count": 7,
      "outputs": []
    },
    {
      "cell_type": "markdown",
      "source": [
        "## *Split Data*"
      ],
      "metadata": {
        "id": "tK-O7dPc-TlH"
      }
    },
    {
      "cell_type": "code",
      "source": [
        "from sklearn.model_selection import train_test_split"
      ],
      "metadata": {
        "id": "VxfYtgFK-Rmg"
      },
      "execution_count": 8,
      "outputs": []
    },
    {
      "cell_type": "code",
      "source": [
        "X_train,X_test,Y_train,Y_test = train_test_split(X,y,test_size = 0.2 ,random_state = 42)"
      ],
      "metadata": {
        "id": "K1yjyRYy-fU3"
      },
      "execution_count": 9,
      "outputs": []
    },
    {
      "cell_type": "markdown",
      "source": [
        "## *Numpy Transform*"
      ],
      "metadata": {
        "id": "KEuIRmCd-wDG"
      }
    },
    {
      "cell_type": "code",
      "source": [
        "X_train,Y_train = np.asarray(X_train),np.asarray(Y_train)"
      ],
      "metadata": {
        "id": "GRU6gikD-u8v"
      },
      "execution_count": 10,
      "outputs": []
    },
    {
      "cell_type": "code",
      "source": [
        "X_test,Y_test = np.asarray(X_test),np.asarray(Y_test)"
      ],
      "metadata": {
        "id": "ryWxSbbK--Cc"
      },
      "execution_count": 11,
      "outputs": []
    },
    {
      "cell_type": "markdown",
      "source": [
        "The Numpy library allows the transformation of variables to arrays. This allows the training algorithm to train faster."
      ],
      "metadata": {
        "id": "z4BaoXOf_Dl9"
      }
    },
    {
      "cell_type": "markdown",
      "source": [
        "# *XGBoost*"
      ],
      "metadata": {
        "id": "o425nWp1HI5K"
      }
    },
    {
      "cell_type": "code",
      "source": [
        "from xgboost import XGBRegressor"
      ],
      "metadata": {
        "id": "Z7EZVKuJHN5X"
      },
      "execution_count": 12,
      "outputs": []
    },
    {
      "cell_type": "markdown",
      "source": [
        "## Number Estimators Ideal\n",
        "\n",
        "We will use the mean square error as a metric, which consists of measuring the average error between the original and predicted values. We will use a range of estimators from 100 to 1000 estimators of 10 in 10."
      ],
      "metadata": {
        "id": "D5M8TgtCHPaH"
      }
    },
    {
      "cell_type": "code",
      "source": [
        "from sklearn.metrics import mean_squared_error"
      ],
      "metadata": {
        "id": "bOcdaVcZHYxM"
      },
      "execution_count": 13,
      "outputs": []
    },
    {
      "cell_type": "code",
      "source": [
        "n_estimators = np.arange(100,1010,10)"
      ],
      "metadata": {
        "id": "UOLArRNa8tX1"
      },
      "execution_count": 14,
      "outputs": []
    },
    {
      "cell_type": "code",
      "source": [
        "class Estimators():\n",
        "\n",
        "  def __init__(self,max_depth):\n",
        "\n",
        "    self.max_depth = max_depth\n",
        "\n",
        "  def EstimatorsFit(self):\n",
        "\n",
        "\n",
        "    mse_train_list,mse_test_list = list(),list()\n",
        "\n",
        "    for n_estimator in n_estimators:\n",
        "\n",
        "      model = XGBRegressor(max_depth = self.max_depth,\n",
        "                   learning_rate=0.01,\n",
        "                   n_estimators=n_estimator,\n",
        "                   subsample=0.8,\n",
        "                   silent=True,\n",
        "                   random_state = 42,\n",
        "                   verbose = 0,\n",
        "                   tree_method='gpu_hist')\n",
        "    \n",
        "      model.fit(X_train,Y_train)\n",
        "\n",
        "      pred_train,pred_test = model.predict(X_train),model.predict(X_test)\n",
        "      mse_train,mse_test = mean_squared_error(Y_train,pred_train),mean_squared_error(Y_test,pred_test)\n",
        "\n",
        "\n",
        "      mse_train_list.append(mse_train)\n",
        "      mse_test_list.append(mse_test)\n",
        "\n",
        "    return mse_train_list,mse_test_list\n",
        "\n",
        "\n",
        "\n",
        "  def History(mse_train_list,mse_test_list):\n",
        "\n",
        "    fig,ax = plt.subplots(1,1,figsize = (20,8))\n",
        "    ax.set_title(\"Number of Estimators\")\n",
        "    ax.plot(n_estimators,mse_train_list,label = \"MSE Train\")\n",
        "    ax.plot(n_estimators,mse_test_list,label = \"MSE Test\")\n",
        "    ax.legend()\n",
        "\n"
      ],
      "metadata": {
        "id": "98N5P5s5O4NT"
      },
      "execution_count": 27,
      "outputs": []
    },
    {
      "cell_type": "markdown",
      "source": [
        "## *First Model*\n",
        "\n"
      ],
      "metadata": {
        "id": "W2h15IddHqWM"
      }
    },
    {
      "cell_type": "code",
      "source": [
        "sns.set_style(\"whitegrid\")"
      ],
      "metadata": {
        "id": "S7hYyPzMNKTB"
      },
      "execution_count": 16,
      "outputs": []
    },
    {
      "cell_type": "code",
      "source": [
        "evaluate_estimators = Estimators(max_depth = 4)"
      ],
      "metadata": {
        "id": "8EWi1ncMt8-Z"
      },
      "execution_count": 28,
      "outputs": []
    },
    {
      "cell_type": "code",
      "source": [
        "mse_train_list,mse_test_list = evaluate_estimators.EstimatorsFit()"
      ],
      "metadata": {
        "id": "UTIOX4SpWH6K"
      },
      "execution_count": 18,
      "outputs": []
    },
    {
      "cell_type": "code",
      "source": [
        "_ = Estimators.History(mse_train_list,mse_test_list)"
      ],
      "metadata": {
        "colab": {
          "base_uri": "https://localhost:8080/",
          "height": 499
        },
        "id": "RNU8bf6NH1l7",
        "outputId": "3c6746e8-0225-4660-8357-97673608cc90"
      },
      "execution_count": 19,
      "outputs": [
        {
          "output_type": "display_data",
          "data": {
            "text/plain": [
              "<Figure size 1440x576 with 1 Axes>"
            ],
            "image/png": "[encoded data removed]"
          },
          "metadata": {}
        }
      ]
    },
    {
      "cell_type": "code",
      "source": [
        "df_estimators = pd.DataFrame({\"Estimators\":n_estimators,\"MSE Train\":mse_train_list,\"MSE test\":mse_test_list})"
      ],
      "metadata": {
        "id": "AEucB2k6Dkc7"
      },
      "execution_count": 31,
      "outputs": []
    },
    {
      "cell_type": "code",
      "source": [
        "df_estimators.query(\"Estimators > 800\")"
      ],
      "metadata": {
        "colab": {
          "base_uri": "https://localhost:8080/",
          "height": 676
        },
        "id": "5OZQfANxEdBL",
        "outputId": "4721a826-fe22-4a42-951a-1f0f36813299"
      },
      "execution_count": 33,
      "outputs": [
        {
          "output_type": "execute_result",
          "data": {
            "text/plain": [
              "    Estimators     MSE Train      MSE test\n",
              "71         810  6.722375e+06  6.842067e+06\n",
              "72         820  6.694565e+06  6.814678e+06\n",
              "73         830  6.665883e+06  6.786119e+06\n",
              "74         840  6.639272e+06  6.757266e+06\n",
              "75         850  6.608606e+06  6.729103e+06\n",
              "76         860  6.579484e+06  6.699720e+06\n",
              "77         870  6.554096e+06  6.672732e+06\n",
              "78         880  6.528502e+06  6.648662e+06\n",
              "79         890  6.503009e+06  6.623262e+06\n",
              "80         900  6.478089e+06  6.601195e+06\n",
              "81         910  6.453036e+06  6.575094e+06\n",
              "82         920  6.428610e+06  6.553324e+06\n",
              "83         930  6.404111e+06  6.529622e+06\n",
              "84         940  6.378572e+06  6.503858e+06\n",
              "85         950  6.357529e+06  6.483890e+06\n",
              "86         960  6.327306e+06  6.458104e+06\n",
              "87         970  6.296919e+06  6.429836e+06\n",
              "88         980  6.279055e+06  6.411768e+06\n",
              "89         990  6.259594e+06  6.391236e+06\n",
              "90        1000  6.234236e+06  6.364715e+06"
            ],
            "text/html": [
              "\n",
              "  <div id=\"df-fedf4e38-dac3-4905-b718-3528d3381d3b\">\n",
              "    <div class=\"colab-df-container\">\n",
              "      <div>\n",
              "<style scoped>\n",
              "    .dataframe tbody tr th:only-of-type {\n",
              "        vertical-align: middle;\n",
              "    }\n",
              "\n",
              "    .dataframe tbody tr th {\n",
              "        vertical-align: top;\n",
              "    }\n",
              "\n",
              "    .dataframe thead th {\n",
              "        text-align: right;\n",
              "    }\n",
              "</style>\n",
              "<table border=\"1\" class=\"dataframe\">\n",
              "  <thead>\n",
              "    <tr style=\"text-align: right;\">\n",
              "      <th></th>\n",
              "      <th>Estimators</th>\n",
              "      <th>MSE Train</th>\n",
              "      <th>MSE test</th>\n",
              "    </tr>\n",
              "  </thead>\n",
              "  <tbody>\n",
              "    <tr>\n",
              "      <th>71</th>\n",
              "      <td>810</td>\n",
              "      <td>6.722375e+06</td>\n",
              "      <td>6.842067e+06</td>\n",
              "    </tr>\n",
              "    <tr>\n",
              "      <th>72</th>\n",
              "      <td>820</td>\n",
              "      <td>6.694565e+06</td>\n",
              "      <td>6.814678e+06</td>\n",
              "    </tr>\n",
              "    <tr>\n",
              "      <th>73</th>\n",
              "      <td>830</td>\n",
              "      <td>6.665883e+06</td>\n",
              "      <td>6.786119e+06</td>\n",
              "    </tr>\n",
              "    <tr>\n",
              "      <th>74</th>\n",
              "      <td>840</td>\n",
              "      <td>6.639272e+06</td>\n",
              "      <td>6.757266e+06</td>\n",
              "    </tr>\n",
              "    <tr>\n",
              "      <th>75</th>\n",
              "      <td>850</td>\n",
              "      <td>6.608606e+06</td>\n",
              "      <td>6.729103e+06</td>\n",
              "    </tr>\n",
              "    <tr>\n",
              "      <th>76</th>\n",
              "      <td>860</td>\n",
              "      <td>6.579484e+06</td>\n",
              "      <td>6.699720e+06</td>\n",
              "    </tr>\n",
              "    <tr>\n",
              "      <th>77</th>\n",
              "      <td>870</td>\n",
              "      <td>6.554096e+06</td>\n",
              "      <td>6.672732e+06</td>\n",
              "    </tr>\n",
              "    <tr>\n",
              "      <th>78</th>\n",
              "      <td>880</td>\n",
              "      <td>6.528502e+06</td>\n",
              "      <td>6.648662e+06</td>\n",
              "    </tr>\n",
              "    <tr>\n",
              "      <th>79</th>\n",
              "      <td>890</td>\n",
              "      <td>6.503009e+06</td>\n",
              "      <td>6.623262e+06</td>\n",
              "    </tr>\n",
              "    <tr>\n",
              "      <th>80</th>\n",
              "      <td>900</td>\n",
              "      <td>6.478089e+06</td>\n",
              "      <td>6.601195e+06</td>\n",
              "    </tr>\n",
              "    <tr>\n",
              "      <th>81</th>\n",
              "      <td>910</td>\n",
              "      <td>6.453036e+06</td>\n",
              "      <td>6.575094e+06</td>\n",
              "    </tr>\n",
              "    <tr>\n",
              "      <th>82</th>\n",
              "      <td>920</td>\n",
              "      <td>6.428610e+06</td>\n",
              "      <td>6.553324e+06</td>\n",
              "    </tr>\n",
              "    <tr>\n",
              "      <th>83</th>\n",
              "      <td>930</td>\n",
              "      <td>6.404111e+06</td>\n",
              "      <td>6.529622e+06</td>\n",
              "    </tr>\n",
              "    <tr>\n",
              "      <th>84</th>\n",
              "      <td>940</td>\n",
              "      <td>6.378572e+06</td>\n",
              "      <td>6.503858e+06</td>\n",
              "    </tr>\n",
              "    <tr>\n",
              "      <th>85</th>\n",
              "      <td>950</td>\n",
              "      <td>6.357529e+06</td>\n",
              "      <td>6.483890e+06</td>\n",
              "    </tr>\n",
              "    <tr>\n",
              "      <th>86</th>\n",
              "      <td>960</td>\n",
              "      <td>6.327306e+06</td>\n",
              "      <td>6.458104e+06</td>\n",
              "    </tr>\n",
              "    <tr>\n",
              "      <th>87</th>\n",
              "      <td>970</td>\n",
              "      <td>6.296919e+06</td>\n",
              "      <td>6.429836e+06</td>\n",
              "    </tr>\n",
              "    <tr>\n",
              "      <th>88</th>\n",
              "      <td>980</td>\n",
              "      <td>6.279055e+06</td>\n",
              "      <td>6.411768e+06</td>\n",
              "    </tr>\n",
              "    <tr>\n",
              "      <th>89</th>\n",
              "      <td>990</td>\n",
              "      <td>6.259594e+06</td>\n",
              "      <td>6.391236e+06</td>\n",
              "    </tr>\n",
              "    <tr>\n",
              "      <th>90</th>\n",
              "      <td>1000</td>\n",
              "      <td>6.234236e+06</td>\n",
              "      <td>6.364715e+06</td>\n",
              "    </tr>\n",
              "  </tbody>\n",
              "</table>\n",
              "</div>\n",
              "      <button class=\"colab-df-convert\" onclick=\"convertToInteractive('df-fedf4e38-dac3-4905-b718-3528d3381d3b')\"\n",
              "              title=\"Convert this dataframe to an interactive table.\"\n",
              "              style=\"display:none;\">\n",
              "        \n",
              "  <svg xmlns=\"http://www.w3.org/2000/svg\" height=\"24px\"viewBox=\"0 0 24 24\"\n",
              "       width=\"24px\">\n",
              "    <path d=\"M0 0h24v24H0V0z\" fill=\"none\"/>\n",
              "    <path d=\"M18.56 5.44l.94 2.06.94-2.06 2.06-.94-2.06-.94-.94-2.06-.94 2.06-2.06.94zm-11 1L8.5 8.5l.94-2.06 2.06-.94-2.06-.94L8.5 2.5l-.94 2.06-2.06.94zm10 10l.94 2.06.94-2.06 2.06-.94-2.06-.94-.94-2.06-.94 2.06-2.06.94z\"/><path d=\"M17.41 7.96l-1.37-1.37c-.4-.4-.92-.59-1.43-.59-.52 0-1.04.2-1.43.59L10.3 9.45l-7.72 7.72c-.78.78-.78 2.05 0 2.83L4 21.41c.39.39.9.59 1.41.59.51 0 1.02-.2 1.41-.59l7.78-7.78 2.81-2.81c.8-.78.8-2.07 0-2.86zM5.41 20L4 18.59l7.72-7.72 1.47 1.35L5.41 20z\"/>\n",
              "  </svg>\n",
              "      </button>\n",
              "      \n",
              "  <style>\n",
              "    .colab-df-container {\n",
              "      display:flex;\n",
              "      flex-wrap:wrap;\n",
              "      gap: 12px;\n",
              "    }\n",
              "\n",
              "    .colab-df-convert {\n",
              "      background-color: #E8F0FE;\n",
              "      border: none;\n",
              "      border-radius: 50%;\n",
              "      cursor: pointer;\n",
              "      display: none;\n",
              "      fill: #1967D2;\n",
              "      height: 32px;\n",
              "      padding: 0 0 0 0;\n",
              "      width: 32px;\n",
              "    }\n",
              "\n",
              "    .colab-df-convert:hover {\n",
              "      background-color: #E2EBFA;\n",
              "      box-shadow: 0px 1px 2px rgba(60, 64, 67, 0.3), 0px 1px 3px 1px rgba(60, 64, 67, 0.15);\n",
              "      fill: #174EA6;\n",
              "    }\n",
              "\n",
              "    [theme=dark] .colab-df-convert {\n",
              "      background-color: #3B4455;\n",
              "      fill: #D2E3FC;\n",
              "    }\n",
              "\n",
              "    [theme=dark] .colab-df-convert:hover {\n",
              "      background-color: #434B5C;\n",
              "      box-shadow: 0px 1px 3px 1px rgba(0, 0, 0, 0.15);\n",
              "      filter: drop-shadow(0px 1px 2px rgba(0, 0, 0, 0.3));\n",
              "      fill: #FFFFFF;\n",
              "    }\n",
              "  </style>\n",
              "\n",
              "      <script>\n",
              "        const buttonEl =\n",
              "          document.querySelector('#df-fedf4e38-dac3-4905-b718-3528d3381d3b button.colab-df-convert');\n",
              "        buttonEl.style.display =\n",
              "          google.colab.kernel.accessAllowed ? 'block' : 'none';\n",
              "\n",
              "        async function convertToInteractive(key) {\n",
              "          const element = document.querySelector('#df-fedf4e38-dac3-4905-b718-3528d3381d3b');\n",
              "          const dataTable =\n",
              "            await google.colab.kernel.invokeFunction('convertToInteractive',\n",
              "                                                     [key], {});\n",
              "          if (!dataTable) return;\n",
              "\n",
              "          const docLinkHtml = 'Like what you see? Visit the ' +\n",
              "            '<a target=\"_blank\" href=https://colab.research.google.com/notebooks/data_table.ipynb>data table notebook</a>'\n",
              "            + ' to learn more about interactive tables.';\n",
              "          element.innerHTML = '';\n",
              "          dataTable['output_type'] = 'display_data';\n",
              "          await google.colab.output.renderOutput(dataTable, element);\n",
              "          const docLink = document.createElement('div');\n",
              "          docLink.innerHTML = docLinkHtml;\n",
              "          element.appendChild(docLink);\n",
              "        }\n",
              "      </script>\n",
              "    </div>\n",
              "  </div>\n",
              "  "
            ]
          },
          "metadata": {},
          "execution_count": 33
        }
      ]
    },
    {
      "cell_type": "markdown",
      "source": [
        "For this case we can use a maximum number of estimators of 1000."
      ],
      "metadata": {
        "id": "DKvz2ltfEq1A"
      }
    },
    {
      "cell_type": "code",
      "source": [
        "xgb = XGBRegressor(max_depth = 4,\n",
        "                   learning_rate=0.01,\n",
        "                   n_estimators=1000,\n",
        "                   subsample=0.8,\n",
        "                   silent=True,\n",
        "                   random_state = 42,\n",
        "                   verbose = 0,\n",
        "                   tree_method='gpu_hist')"
      ],
      "metadata": {
        "id": "iBlvieNb_olh"
      },
      "execution_count": 34,
      "outputs": []
    },
    {
      "cell_type": "code",
      "source": [
        "xgb.fit(X_train,Y_train)"
      ],
      "metadata": {
        "id": "ajEW2HkDAWaR",
        "colab": {
          "base_uri": "https://localhost:8080/"
        },
        "outputId": "c402670e-bdba-46ef-e4b8-918d1843abf1"
      },
      "execution_count": 35,
      "outputs": [
        {
          "output_type": "execute_result",
          "data": {
            "text/plain": [
              "XGBRegressor(learning_rate=0.01, max_depth=4, n_estimators=1000,\n",
              "             random_state=42, silent=True, subsample=0.8,\n",
              "             tree_method='gpu_hist', verbose=0)"
            ]
          },
          "metadata": {},
          "execution_count": 35
        }
      ]
    },
    {
      "cell_type": "code",
      "source": [
        "print(\"MSE train: {}\".format(mean_squared_error(Y_train,xgb.predict(X_train))))\n",
        "print(\"MSE test: {}\".format(mean_squared_error(Y_test,xgb.predict(X_test))))"
      ],
      "metadata": {
        "colab": {
          "base_uri": "https://localhost:8080/"
        },
        "id": "7Euqj2xdAdgf",
        "outputId": "9f406e85-6823-4d0d-bcde-91a4a324e6e2"
      },
      "execution_count": 36,
      "outputs": [
        {
          "output_type": "stream",
          "name": "stdout",
          "text": [
            "MSE train: 6234236.213113722\n",
            "MSE test: 6364715.41894107\n"
          ]
        }
      ]
    },
    {
      "cell_type": "markdown",
      "source": [
        "## *Second Model*\n",
        "\n"
      ],
      "metadata": {
        "id": "AojPNvRh6F_1"
      }
    },
    {
      "cell_type": "code",
      "source": [
        "evaluate_estimators = Estimators(max_depth = 7)"
      ],
      "metadata": {
        "id": "VjrrKYI46nuy"
      },
      "execution_count": 37,
      "outputs": []
    },
    {
      "cell_type": "code",
      "source": [
        "mse_train_list,mse_test_list = evaluate_estimators.EstimatorsFit()"
      ],
      "metadata": {
        "id": "SG_pOLK_6FTN"
      },
      "execution_count": 38,
      "outputs": []
    },
    {
      "cell_type": "code",
      "source": [
        "_ = Estimators.History(mse_train_list,mse_test_list)"
      ],
      "metadata": {
        "colab": {
          "base_uri": "https://localhost:8080/",
          "height": 499
        },
        "id": "6irlyX7G6Pqz",
        "outputId": "548d235e-0a5a-4487-88e6-c1a79253d639"
      },
      "execution_count": 39,
      "outputs": [
        {
          "output_type": "display_data",
          "data": {
            "text/plain": [
              "<Figure size 1440x576 with 1 Axes>"
            ],
            "image/png": "[encoded data removed]"
          },
          "metadata": {}
        }
      ]
    },
    {
      "cell_type": "code",
      "source": [
        "df_estimators = pd.DataFrame({\"Estimators\":n_estimators,\"MSE Train\":mse_train_list,\"MSE test\":mse_test_list})"
      ],
      "metadata": {
        "id": "wk0JMDUVE-Pm"
      },
      "execution_count": 40,
      "outputs": []
    },
    {
      "cell_type": "code",
      "source": [
        "df_estimators.query(\"Estimators > 800\")"
      ],
      "metadata": {
        "colab": {
          "base_uri": "https://localhost:8080/",
          "height": 676
        },
        "id": "5exzcS3DHYtT",
        "outputId": "455a877d-7067-4cb1-b99d-b6c7a47fb2e7"
      },
      "execution_count": 41,
      "outputs": [
        {
          "output_type": "execute_result",
          "data": {
            "text/plain": [
              "    Estimators     MSE Train      MSE test\n",
              "71         810  3.314752e+06  3.858372e+06\n",
              "72         820  3.300623e+06  3.844581e+06\n",
              "73         830  3.288430e+06  3.833102e+06\n",
              "74         840  3.275562e+06  3.821095e+06\n",
              "75         850  3.262508e+06  3.809613e+06\n",
              "76         860  3.249451e+06  3.798995e+06\n",
              "77         870  3.238829e+06  3.789806e+06\n",
              "78         880  3.227334e+06  3.781534e+06\n",
              "79         890  3.216145e+06  3.771786e+06\n",
              "80         900  3.203753e+06  3.760776e+06\n",
              "81         910  3.192995e+06  3.751569e+06\n",
              "82         920  3.181297e+06  3.742585e+06\n",
              "83         930  3.169009e+06  3.731352e+06\n",
              "84         940  3.157855e+06  3.722765e+06\n",
              "85         950  3.148579e+06  3.713454e+06\n",
              "86         960  3.138964e+06  3.703586e+06\n",
              "87         970  3.128468e+06  3.694203e+06\n",
              "88         980  3.117691e+06  3.686105e+06\n",
              "89         990  3.110645e+06  3.680089e+06\n",
              "90        1000  3.095661e+06  3.667926e+06"
            ],
            "text/html": [
              "\n",
              "  <div id=\"df-72d3bcd9-c9cd-43da-b161-e015d8764e70\">\n",
              "    <div class=\"colab-df-container\">\n",
              "      <div>\n",
              "<style scoped>\n",
              "    .dataframe tbody tr th:only-of-type {\n",
              "        vertical-align: middle;\n",
              "    }\n",
              "\n",
              "    .dataframe tbody tr th {\n",
              "        vertical-align: top;\n",
              "    }\n",
              "\n",
              "    .dataframe thead th {\n",
              "        text-align: right;\n",
              "    }\n",
              "</style>\n",
              "<table border=\"1\" class=\"dataframe\">\n",
              "  <thead>\n",
              "    <tr style=\"text-align: right;\">\n",
              "      <th></th>\n",
              "      <th>Estimators</th>\n",
              "      <th>MSE Train</th>\n",
              "      <th>MSE test</th>\n",
              "    </tr>\n",
              "  </thead>\n",
              "  <tbody>\n",
              "    <tr>\n",
              "      <th>71</th>\n",
              "      <td>810</td>\n",
              "      <td>3.314752e+06</td>\n",
              "      <td>3.858372e+06</td>\n",
              "    </tr>\n",
              "    <tr>\n",
              "      <th>72</th>\n",
              "      <td>820</td>\n",
              "      <td>3.300623e+06</td>\n",
              "      <td>3.844581e+06</td>\n",
              "    </tr>\n",
              "    <tr>\n",
              "      <th>73</th>\n",
              "      <td>830</td>\n",
              "      <td>3.288430e+06</td>\n",
              "      <td>3.833102e+06</td>\n",
              "    </tr>\n",
              "    <tr>\n",
              "      <th>74</th>\n",
              "      <td>840</td>\n",
              "      <td>3.275562e+06</td>\n",
              "      <td>3.821095e+06</td>\n",
              "    </tr>\n",
              "    <tr>\n",
              "      <th>75</th>\n",
              "      <td>850</td>\n",
              "      <td>3.262508e+06</td>\n",
              "      <td>3.809613e+06</td>\n",
              "    </tr>\n",
              "    <tr>\n",
              "      <th>76</th>\n",
              "      <td>860</td>\n",
              "      <td>3.249451e+06</td>\n",
              "      <td>3.798995e+06</td>\n",
              "    </tr>\n",
              "    <tr>\n",
              "      <th>77</th>\n",
              "      <td>870</td>\n",
              "      <td>3.238829e+06</td>\n",
              "      <td>3.789806e+06</td>\n",
              "    </tr>\n",
              "    <tr>\n",
              "      <th>78</th>\n",
              "      <td>880</td>\n",
              "      <td>3.227334e+06</td>\n",
              "      <td>3.781534e+06</td>\n",
              "    </tr>\n",
              "    <tr>\n",
              "      <th>79</th>\n",
              "      <td>890</td>\n",
              "      <td>3.216145e+06</td>\n",
              "      <td>3.771786e+06</td>\n",
              "    </tr>\n",
              "    <tr>\n",
              "      <th>80</th>\n",
              "      <td>900</td>\n",
              "      <td>3.203753e+06</td>\n",
              "      <td>3.760776e+06</td>\n",
              "    </tr>\n",
              "    <tr>\n",
              "      <th>81</th>\n",
              "      <td>910</td>\n",
              "      <td>3.192995e+06</td>\n",
              "      <td>3.751569e+06</td>\n",
              "    </tr>\n",
              "    <tr>\n",
              "      <th>82</th>\n",
              "      <td>920</td>\n",
              "      <td>3.181297e+06</td>\n",
              "      <td>3.742585e+06</td>\n",
              "    </tr>\n",
              "    <tr>\n",
              "      <th>83</th>\n",
              "      <td>930</td>\n",
              "      <td>3.169009e+06</td>\n",
              "      <td>3.731352e+06</td>\n",
              "    </tr>\n",
              "    <tr>\n",
              "      <th>84</th>\n",
              "      <td>940</td>\n",
              "      <td>3.157855e+06</td>\n",
              "      <td>3.722765e+06</td>\n",
              "    </tr>\n",
              "    <tr>\n",
              "      <th>85</th>\n",
              "      <td>950</td>\n",
              "      <td>3.148579e+06</td>\n",
              "      <td>3.713454e+06</td>\n",
              "    </tr>\n",
              "    <tr>\n",
              "      <th>86</th>\n",
              "      <td>960</td>\n",
              "      <td>3.138964e+06</td>\n",
              "      <td>3.703586e+06</td>\n",
              "    </tr>\n",
              "    <tr>\n",
              "      <th>87</th>\n",
              "      <td>970</td>\n",
              "      <td>3.128468e+06</td>\n",
              "      <td>3.694203e+06</td>\n",
              "    </tr>\n",
              "    <tr>\n",
              "      <th>88</th>\n",
              "      <td>980</td>\n",
              "      <td>3.117691e+06</td>\n",
              "      <td>3.686105e+06</td>\n",
              "    </tr>\n",
              "    <tr>\n",
              "      <th>89</th>\n",
              "      <td>990</td>\n",
              "      <td>3.110645e+06</td>\n",
              "      <td>3.680089e+06</td>\n",
              "    </tr>\n",
              "    <tr>\n",
              "      <th>90</th>\n",
              "      <td>1000</td>\n",
              "      <td>3.095661e+06</td>\n",
              "      <td>3.667926e+06</td>\n",
              "    </tr>\n",
              "  </tbody>\n",
              "</table>\n",
              "</div>\n",
              "      <button class=\"colab-df-convert\" onclick=\"convertToInteractive('df-72d3bcd9-c9cd-43da-b161-e015d8764e70')\"\n",
              "              title=\"Convert this dataframe to an interactive table.\"\n",
              "              style=\"display:none;\">\n",
              "        \n",
              "  <svg xmlns=\"http://www.w3.org/2000/svg\" height=\"24px\"viewBox=\"0 0 24 24\"\n",
              "       width=\"24px\">\n",
              "    <path d=\"M0 0h24v24H0V0z\" fill=\"none\"/>\n",
              "    <path d=\"M18.56 5.44l.94 2.06.94-2.06 2.06-.94-2.06-.94-.94-2.06-.94 2.06-2.06.94zm-11 1L8.5 8.5l.94-2.06 2.06-.94-2.06-.94L8.5 2.5l-.94 2.06-2.06.94zm10 10l.94 2.06.94-2.06 2.06-.94-2.06-.94-.94-2.06-.94 2.06-2.06.94z\"/><path d=\"M17.41 7.96l-1.37-1.37c-.4-.4-.92-.59-1.43-.59-.52 0-1.04.2-1.43.59L10.3 9.45l-7.72 7.72c-.78.78-.78 2.05 0 2.83L4 21.41c.39.39.9.59 1.41.59.51 0 1.02-.2 1.41-.59l7.78-7.78 2.81-2.81c.8-.78.8-2.07 0-2.86zM5.41 20L4 18.59l7.72-7.72 1.47 1.35L5.41 20z\"/>\n",
              "  </svg>\n",
              "      </button>\n",
              "      \n",
              "  <style>\n",
              "    .colab-df-container {\n",
              "      display:flex;\n",
              "      flex-wrap:wrap;\n",
              "      gap: 12px;\n",
              "    }\n",
              "\n",
              "    .colab-df-convert {\n",
              "      background-color: #E8F0FE;\n",
              "      border: none;\n",
              "      border-radius: 50%;\n",
              "      cursor: pointer;\n",
              "      display: none;\n",
              "      fill: #1967D2;\n",
              "      height: 32px;\n",
              "      padding: 0 0 0 0;\n",
              "      width: 32px;\n",
              "    }\n",
              "\n",
              "    .colab-df-convert:hover {\n",
              "      background-color: #E2EBFA;\n",
              "      box-shadow: 0px 1px 2px rgba(60, 64, 67, 0.3), 0px 1px 3px 1px rgba(60, 64, 67, 0.15);\n",
              "      fill: #174EA6;\n",
              "    }\n",
              "\n",
              "    [theme=dark] .colab-df-convert {\n",
              "      background-color: #3B4455;\n",
              "      fill: #D2E3FC;\n",
              "    }\n",
              "\n",
              "    [theme=dark] .colab-df-convert:hover {\n",
              "      background-color: #434B5C;\n",
              "      box-shadow: 0px 1px 3px 1px rgba(0, 0, 0, 0.15);\n",
              "      filter: drop-shadow(0px 1px 2px rgba(0, 0, 0, 0.3));\n",
              "      fill: #FFFFFF;\n",
              "    }\n",
              "  </style>\n",
              "\n",
              "      <script>\n",
              "        const buttonEl =\n",
              "          document.querySelector('#df-72d3bcd9-c9cd-43da-b161-e015d8764e70 button.colab-df-convert');\n",
              "        buttonEl.style.display =\n",
              "          google.colab.kernel.accessAllowed ? 'block' : 'none';\n",
              "\n",
              "        async function convertToInteractive(key) {\n",
              "          const element = document.querySelector('#df-72d3bcd9-c9cd-43da-b161-e015d8764e70');\n",
              "          const dataTable =\n",
              "            await google.colab.kernel.invokeFunction('convertToInteractive',\n",
              "                                                     [key], {});\n",
              "          if (!dataTable) return;\n",
              "\n",
              "          const docLinkHtml = 'Like what you see? Visit the ' +\n",
              "            '<a target=\"_blank\" href=https://colab.research.google.com/notebooks/data_table.ipynb>data table notebook</a>'\n",
              "            + ' to learn more about interactive tables.';\n",
              "          element.innerHTML = '';\n",
              "          dataTable['output_type'] = 'display_data';\n",
              "          await google.colab.output.renderOutput(dataTable, element);\n",
              "          const docLink = document.createElement('div');\n",
              "          docLink.innerHTML = docLinkHtml;\n",
              "          element.appendChild(docLink);\n",
              "        }\n",
              "      </script>\n",
              "    </div>\n",
              "  </div>\n",
              "  "
            ]
          },
          "metadata": {},
          "execution_count": 41
        }
      ]
    },
    {
      "cell_type": "code",
      "source": [
        "xgb2 = XGBRegressor(max_depth = 7,\n",
        "                   learning_rate=0.01,\n",
        "                   n_estimators=1000,\n",
        "                   subsample=0.8,\n",
        "                   silent=True,\n",
        "                   random_state = 42,\n",
        "                   verbose = 0,\n",
        "                   tree_method='gpu_hist')"
      ],
      "metadata": {
        "id": "mQIa5US19Hw5"
      },
      "execution_count": 42,
      "outputs": []
    },
    {
      "cell_type": "code",
      "source": [
        "xgb2.fit(X_train,Y_train)"
      ],
      "metadata": {
        "colab": {
          "base_uri": "https://localhost:8080/"
        },
        "id": "uiDM8eEW9n3G",
        "outputId": "3d150ff3-dd78-44c5-be3b-36cc2c31cb71"
      },
      "execution_count": 43,
      "outputs": [
        {
          "output_type": "execute_result",
          "data": {
            "text/plain": [
              "XGBRegressor(learning_rate=0.01, max_depth=7, n_estimators=1000,\n",
              "             random_state=42, silent=True, subsample=0.8,\n",
              "             tree_method='gpu_hist', verbose=0)"
            ]
          },
          "metadata": {},
          "execution_count": 43
        }
      ]
    },
    {
      "cell_type": "code",
      "source": [
        "print(\"MSE train: {}\".format(mean_squared_error(Y_train,xgb2.predict(X_train))))\n",
        "print(\"MSE test: {}\".format(mean_squared_error(Y_test,xgb2.predict(X_test))))"
      ],
      "metadata": {
        "colab": {
          "base_uri": "https://localhost:8080/"
        },
        "id": "rXB2SCyq9t8G",
        "outputId": "3d7be5dc-76ed-470c-f132-3a934c9f2271"
      },
      "execution_count": 44,
      "outputs": [
        {
          "output_type": "stream",
          "name": "stdout",
          "text": [
            "MSE train: 3095661.1142512737\n",
            "MSE test: 3667925.983376153\n"
          ]
        }
      ]
    },
    {
      "cell_type": "markdown",
      "source": [
        "## *Third Model*"
      ],
      "metadata": {
        "id": "r4HUuuFGfZqx"
      }
    },
    {
      "cell_type": "code",
      "source": [
        "evaluate_estimators = Estimators(max_depth = 9)"
      ],
      "metadata": {
        "id": "K7EzDIXpzOjz"
      },
      "execution_count": 45,
      "outputs": []
    },
    {
      "cell_type": "code",
      "source": [
        "mse_train_list,mse_test_list = evaluate_estimators.EstimatorsFit()"
      ],
      "metadata": {
        "id": "4cSJFkU-feNc"
      },
      "execution_count": 46,
      "outputs": []
    },
    {
      "cell_type": "code",
      "source": [
        "_ = Estimators.History(mse_train_list,mse_test_list)"
      ],
      "metadata": {
        "colab": {
          "base_uri": "https://localhost:8080/",
          "height": 499
        },
        "id": "pd181eMckzHa",
        "outputId": "e36ac188-1f24-42a2-a7cd-5b72087519a9"
      },
      "execution_count": 47,
      "outputs": [
        {
          "output_type": "display_data",
          "data": {
            "text/plain": [
              "<Figure size 1440x576 with 1 Axes>"
            ],
            "image/png": "[encoded data removed]"
          },
          "metadata": {}
        }
      ]
    },
    {
      "cell_type": "code",
      "source": [
        "df_estimators = pd.DataFrame({\"Estimators\":n_estimators,\"MSE Train\":mse_train_list,\"MSE test\":mse_test_list})"
      ],
      "metadata": {
        "id": "jkG5WBNGHv1p"
      },
      "execution_count": 48,
      "outputs": []
    },
    {
      "cell_type": "code",
      "source": [
        "df_estimators.query(\"Estimators >800 and Estimators < 900\")"
      ],
      "metadata": {
        "colab": {
          "base_uri": "https://localhost:8080/",
          "height": 332
        },
        "id": "EcRi6SU1HwjE",
        "outputId": "cb1b5134-ec3d-463b-aebf-dda843d425a8"
      },
      "execution_count": 56,
      "outputs": [
        {
          "output_type": "execute_result",
          "data": {
            "text/plain": [
              "    Estimators     MSE Train      MSE test\n",
              "71         810  2.252244e+06  3.117369e+06\n",
              "72         820  2.244980e+06  3.111294e+06\n",
              "73         830  2.238693e+06  3.107420e+06\n",
              "74         840  2.230378e+06  3.101069e+06\n",
              "75         850  2.221979e+06  3.094851e+06\n",
              "76         860  2.211843e+06  3.087721e+06\n",
              "77         870  2.205886e+06  3.083223e+06\n",
              "78         880  2.198115e+06  3.078738e+06\n",
              "79         890  2.186850e+06  3.069444e+06"
            ],
            "text/html": [
              "\n",
              "  <div id=\"df-c4b6f2af-905e-4da5-bf25-d60aa918c5b1\">\n",
              "    <div class=\"colab-df-container\">\n",
              "      <div>\n",
              "<style scoped>\n",
              "    .dataframe tbody tr th:only-of-type {\n",
              "        vertical-align: middle;\n",
              "    }\n",
              "\n",
              "    .dataframe tbody tr th {\n",
              "        vertical-align: top;\n",
              "    }\n",
              "\n",
              "    .dataframe thead th {\n",
              "        text-align: right;\n",
              "    }\n",
              "</style>\n",
              "<table border=\"1\" class=\"dataframe\">\n",
              "  <thead>\n",
              "    <tr style=\"text-align: right;\">\n",
              "      <th></th>\n",
              "      <th>Estimators</th>\n",
              "      <th>MSE Train</th>\n",
              "      <th>MSE test</th>\n",
              "    </tr>\n",
              "  </thead>\n",
              "  <tbody>\n",
              "    <tr>\n",
              "      <th>71</th>\n",
              "      <td>810</td>\n",
              "      <td>2.252244e+06</td>\n",
              "      <td>3.117369e+06</td>\n",
              "    </tr>\n",
              "    <tr>\n",
              "      <th>72</th>\n",
              "      <td>820</td>\n",
              "      <td>2.244980e+06</td>\n",
              "      <td>3.111294e+06</td>\n",
              "    </tr>\n",
              "    <tr>\n",
              "      <th>73</th>\n",
              "      <td>830</td>\n",
              "      <td>2.238693e+06</td>\n",
              "      <td>3.107420e+06</td>\n",
              "    </tr>\n",
              "    <tr>\n",
              "      <th>74</th>\n",
              "      <td>840</td>\n",
              "      <td>2.230378e+06</td>\n",
              "      <td>3.101069e+06</td>\n",
              "    </tr>\n",
              "    <tr>\n",
              "      <th>75</th>\n",
              "      <td>850</td>\n",
              "      <td>2.221979e+06</td>\n",
              "      <td>3.094851e+06</td>\n",
              "    </tr>\n",
              "    <tr>\n",
              "      <th>76</th>\n",
              "      <td>860</td>\n",
              "      <td>2.211843e+06</td>\n",
              "      <td>3.087721e+06</td>\n",
              "    </tr>\n",
              "    <tr>\n",
              "      <th>77</th>\n",
              "      <td>870</td>\n",
              "      <td>2.205886e+06</td>\n",
              "      <td>3.083223e+06</td>\n",
              "    </tr>\n",
              "    <tr>\n",
              "      <th>78</th>\n",
              "      <td>880</td>\n",
              "      <td>2.198115e+06</td>\n",
              "      <td>3.078738e+06</td>\n",
              "    </tr>\n",
              "    <tr>\n",
              "      <th>79</th>\n",
              "      <td>890</td>\n",
              "      <td>2.186850e+06</td>\n",
              "      <td>3.069444e+06</td>\n",
              "    </tr>\n",
              "  </tbody>\n",
              "</table>\n",
              "</div>\n",
              "      <button class=\"colab-df-convert\" onclick=\"convertToInteractive('df-c4b6f2af-905e-4da5-bf25-d60aa918c5b1')\"\n",
              "              title=\"Convert this dataframe to an interactive table.\"\n",
              "              style=\"display:none;\">\n",
              "        \n",
              "  <svg xmlns=\"http://www.w3.org/2000/svg\" height=\"24px\"viewBox=\"0 0 24 24\"\n",
              "       width=\"24px\">\n",
              "    <path d=\"M0 0h24v24H0V0z\" fill=\"none\"/>\n",
              "    <path d=\"M18.56 5.44l.94 2.06.94-2.06 2.06-.94-2.06-.94-.94-2.06-.94 2.06-2.06.94zm-11 1L8.5 8.5l.94-2.06 2.06-.94-2.06-.94L8.5 2.5l-.94 2.06-2.06.94zm10 10l.94 2.06.94-2.06 2.06-.94-2.06-.94-.94-2.06-.94 2.06-2.06.94z\"/><path d=\"M17.41 7.96l-1.37-1.37c-.4-.4-.92-.59-1.43-.59-.52 0-1.04.2-1.43.59L10.3 9.45l-7.72 7.72c-.78.78-.78 2.05 0 2.83L4 21.41c.39.39.9.59 1.41.59.51 0 1.02-.2 1.41-.59l7.78-7.78 2.81-2.81c.8-.78.8-2.07 0-2.86zM5.41 20L4 18.59l7.72-7.72 1.47 1.35L5.41 20z\"/>\n",
              "  </svg>\n",
              "      </button>\n",
              "      \n",
              "  <style>\n",
              "    .colab-df-container {\n",
              "      display:flex;\n",
              "      flex-wrap:wrap;\n",
              "      gap: 12px;\n",
              "    }\n",
              "\n",
              "    .colab-df-convert {\n",
              "      background-color: #E8F0FE;\n",
              "      border: none;\n",
              "      border-radius: 50%;\n",
              "      cursor: pointer;\n",
              "      display: none;\n",
              "      fill: #1967D2;\n",
              "      height: 32px;\n",
              "      padding: 0 0 0 0;\n",
              "      width: 32px;\n",
              "    }\n",
              "\n",
              "    .colab-df-convert:hover {\n",
              "      background-color: #E2EBFA;\n",
              "      box-shadow: 0px 1px 2px rgba(60, 64, 67, 0.3), 0px 1px 3px 1px rgba(60, 64, 67, 0.15);\n",
              "      fill: #174EA6;\n",
              "    }\n",
              "\n",
              "    [theme=dark] .colab-df-convert {\n",
              "      background-color: #3B4455;\n",
              "      fill: #D2E3FC;\n",
              "    }\n",
              "\n",
              "    [theme=dark] .colab-df-convert:hover {\n",
              "      background-color: #434B5C;\n",
              "      box-shadow: 0px 1px 3px 1px rgba(0, 0, 0, 0.15);\n",
              "      filter: drop-shadow(0px 1px 2px rgba(0, 0, 0, 0.3));\n",
              "      fill: #FFFFFF;\n",
              "    }\n",
              "  </style>\n",
              "\n",
              "      <script>\n",
              "        const buttonEl =\n",
              "          document.querySelector('#df-c4b6f2af-905e-4da5-bf25-d60aa918c5b1 button.colab-df-convert');\n",
              "        buttonEl.style.display =\n",
              "          google.colab.kernel.accessAllowed ? 'block' : 'none';\n",
              "\n",
              "        async function convertToInteractive(key) {\n",
              "          const element = document.querySelector('#df-c4b6f2af-905e-4da5-bf25-d60aa918c5b1');\n",
              "          const dataTable =\n",
              "            await google.colab.kernel.invokeFunction('convertToInteractive',\n",
              "                                                     [key], {});\n",
              "          if (!dataTable) return;\n",
              "\n",
              "          const docLinkHtml = 'Like what you see? Visit the ' +\n",
              "            '<a target=\"_blank\" href=https://colab.research.google.com/notebooks/data_table.ipynb>data table notebook</a>'\n",
              "            + ' to learn more about interactive tables.';\n",
              "          element.innerHTML = '';\n",
              "          dataTable['output_type'] = 'display_data';\n",
              "          await google.colab.output.renderOutput(dataTable, element);\n",
              "          const docLink = document.createElement('div');\n",
              "          docLink.innerHTML = docLinkHtml;\n",
              "          element.appendChild(docLink);\n",
              "        }\n",
              "      </script>\n",
              "    </div>\n",
              "  </div>\n",
              "  "
            ]
          },
          "metadata": {},
          "execution_count": 56
        }
      ]
    },
    {
      "cell_type": "markdown",
      "source": [
        "From estimator number 850 there is no significant improvement for the validation data.."
      ],
      "metadata": {
        "id": "D5X-d5SlM4c6"
      }
    },
    {
      "cell_type": "code",
      "source": [
        "xgb3 = XGBRegressor(max_depth = 9,\n",
        "                   learning_rate=0.01,\n",
        "                   n_estimators=850,\n",
        "                   subsample=0.8,\n",
        "                   silent=True,\n",
        "                   random_state = 42,\n",
        "                   verbose = 0,\n",
        "                   tree_method='gpu_hist')"
      ],
      "metadata": {
        "id": "IrwJ5XvOlC6z"
      },
      "execution_count": 57,
      "outputs": []
    },
    {
      "cell_type": "code",
      "source": [
        "xgb3.fit(X_train,Y_train)"
      ],
      "metadata": {
        "colab": {
          "base_uri": "https://localhost:8080/"
        },
        "id": "7jDwZUFulLwg",
        "outputId": "73ec8691-b14b-4afa-b8df-a6c9763dc1af"
      },
      "execution_count": 58,
      "outputs": [
        {
          "output_type": "execute_result",
          "data": {
            "text/plain": [
              "XGBRegressor(learning_rate=0.01, max_depth=9, n_estimators=850, random_state=42,\n",
              "             silent=True, subsample=0.8, tree_method='gpu_hist', verbose=0)"
            ]
          },
          "metadata": {},
          "execution_count": 58
        }
      ]
    },
    {
      "cell_type": "code",
      "source": [
        "print(\"MSE train: {}\".format(mean_squared_error(Y_train,xgb3.predict(X_train))))\n",
        "print(\"MSE test: {}\".format(mean_squared_error(Y_test,xgb3.predict(X_test))))"
      ],
      "metadata": {
        "colab": {
          "base_uri": "https://localhost:8080/"
        },
        "id": "URoSe_T3lTBn",
        "outputId": "ef21e34a-9d91-4507-a49d-0b76f47fb990"
      },
      "execution_count": 59,
      "outputs": [
        {
          "output_type": "stream",
          "name": "stdout",
          "text": [
            "MSE train: 2221978.722236222\n",
            "MSE test: 3094850.7223704504\n"
          ]
        }
      ]
    },
    {
      "cell_type": "markdown",
      "source": [
        "## *GridSearchCV*\n",
        "\n",
        "We use GridSearchCV to find the best possible combination of parameters. the best combination of parameters.\n",
        "\n",
        "### *Explanation of parameters*\n",
        "\n",
        "* max_depth: Maximum depth of each tree.\n",
        "* n_estimators: Number of decision trees.\n",
        "* learning_rate: Room for improvement of each estimator.\n",
        "* subsample: Number of training samples. Instead of selecting 100% of the data, you can use 80 or 85% of the data. Preventing the model from overfitting the training data\n",
        "* gamma: It serves to regularize the data, preventing the model from overfitting. High gamma values are used when shooting at high depths."
      ],
      "metadata": {
        "id": "-BI5xO-hN_a_"
      }
    },
    {
      "cell_type": "code",
      "source": [
        "from sklearn.model_selection import GridSearchCV"
      ],
      "metadata": {
        "id": "syZLwg1eBjJa"
      },
      "execution_count": 60,
      "outputs": []
    },
    {
      "cell_type": "code",
      "source": [
        "params1 = dict(max_depth = [7],\n",
        "                   learning_rate=[0.01],\n",
        "                   n_estimators=[1000],\n",
        "                   subsample=[0.75,0.8,0.85],\n",
        "                   silent=[True],\n",
        "                   random_state = [42],\n",
        "                   verbose = [0],\n",
        "                  gamma = [10,12,14],\n",
        "                   tree_method=['gpu_hist'])\n",
        "\n",
        "\n",
        "params2 =  dict(max_depth = [9],\n",
        "                   learning_rate=[0.01],\n",
        "                   n_estimators=[850],\n",
        "                   subsample=[0.75,0.8,0.85],\n",
        "                   silent=[True],\n",
        "                   random_state = [42],\n",
        "                   verbose = [0],\n",
        "                  gamma = [16,18,20],\n",
        "                   tree_method=['gpu_hist'])"
      ],
      "metadata": {
        "id": "TZ_ANEUaBqmT"
      },
      "execution_count": 69,
      "outputs": []
    },
    {
      "cell_type": "markdown",
      "source": [
        "### *GridSearchCV 1*"
      ],
      "metadata": {
        "id": "M3xsgE25UuZB"
      }
    },
    {
      "cell_type": "code",
      "source": [
        "grid_search1 = GridSearchCV(XGBRegressor(),params1,cv = 5)"
      ],
      "metadata": {
        "id": "nxcjJGLJB8e3"
      },
      "execution_count": 70,
      "outputs": []
    },
    {
      "cell_type": "code",
      "source": [
        "grid_search1.fit(X_train,Y_train)"
      ],
      "metadata": {
        "id": "sjTixrJFNPYi",
        "colab": {
          "base_uri": "https://localhost:8080/"
        },
        "outputId": "ff0276bd-832a-4e65-bb0b-4e494a4a6a83"
      },
      "execution_count": 71,
      "outputs": [
        {
          "output_type": "execute_result",
          "data": {
            "text/plain": [
              "GridSearchCV(cv=5, estimator=XGBRegressor(),\n",
              "             param_grid={'gamma': [10, 12, 14], 'learning_rate': [0.01],\n",
              "                         'max_depth': [7], 'n_estimators': [1000],\n",
              "                         'random_state': [42], 'silent': [True],\n",
              "                         'subsample': [0.75, 0.8, 0.85],\n",
              "                         'tree_method': ['gpu_hist'], 'verbose': [0]})"
            ]
          },
          "metadata": {},
          "execution_count": 71
        }
      ]
    },
    {
      "cell_type": "code",
      "source": [
        "grid_search1.best_params_"
      ],
      "metadata": {
        "colab": {
          "base_uri": "https://localhost:8080/"
        },
        "id": "KTwz8NPWUSMm",
        "outputId": "5444f7bb-e15e-46bb-93ef-29fbc93c06b7"
      },
      "execution_count": 72,
      "outputs": [
        {
          "output_type": "execute_result",
          "data": {
            "text/plain": [
              "{'gamma': 10,\n",
              " 'learning_rate': 0.01,\n",
              " 'max_depth': 7,\n",
              " 'n_estimators': 1000,\n",
              " 'random_state': 42,\n",
              " 'silent': True,\n",
              " 'subsample': 0.85,\n",
              " 'tree_method': 'gpu_hist',\n",
              " 'verbose': 0}"
            ]
          },
          "metadata": {},
          "execution_count": 72
        }
      ]
    },
    {
      "cell_type": "markdown",
      "source": [
        "### *GridSearchCV 2*"
      ],
      "metadata": {
        "id": "bBmnMYw5U1y5"
      }
    },
    {
      "cell_type": "code",
      "source": [
        "grid_search2 = GridSearchCV(XGBRegressor(),params2,cv = 5)"
      ],
      "metadata": {
        "id": "KjpQtgriRP0A"
      },
      "execution_count": 66,
      "outputs": []
    },
    {
      "cell_type": "code",
      "source": [
        "grid_search2.fit(X_train,Y_train)"
      ],
      "metadata": {
        "colab": {
          "base_uri": "https://localhost:8080/"
        },
        "id": "5jGSoXcOSteR",
        "outputId": "23862460-5fe1-4f2f-95ab-3ab0b19f8afd"
      },
      "execution_count": 67,
      "outputs": [
        {
          "output_type": "execute_result",
          "data": {
            "text/plain": [
              "GridSearchCV(cv=5, estimator=XGBRegressor(),\n",
              "             param_grid={'gamma': [16, 18, 20], 'learning_rate': [0.01],\n",
              "                         'max_depth': [9], 'n_estimators': [850],\n",
              "                         'random_state': [42], 'silent': [True],\n",
              "                         'subsample': [0.75, 0.8, 0.85],\n",
              "                         'tree_method': ['gpu_hist'], 'verbose': [0]})"
            ]
          },
          "metadata": {},
          "execution_count": 67
        }
      ]
    },
    {
      "cell_type": "code",
      "source": [
        "grid_search2.best_params_"
      ],
      "metadata": {
        "colab": {
          "base_uri": "https://localhost:8080/"
        },
        "id": "BTWrjUfuVjGd",
        "outputId": "4498292b-2271-472c-824e-82ced4ccc4c5"
      },
      "execution_count": 68,
      "outputs": [
        {
          "output_type": "execute_result",
          "data": {
            "text/plain": [
              "{'gamma': 16,\n",
              " 'learning_rate': 0.01,\n",
              " 'max_depth': 9,\n",
              " 'n_estimators': 850,\n",
              " 'random_state': 42,\n",
              " 'silent': True,\n",
              " 'subsample': 0.85,\n",
              " 'tree_method': 'gpu_hist',\n",
              " 'verbose': 0}"
            ]
          },
          "metadata": {},
          "execution_count": 68
        }
      ]
    },
    {
      "cell_type": "markdown",
      "source": [
        "## *Model Selection*"
      ],
      "metadata": {
        "id": "T5Zm9A2sVvBq"
      }
    },
    {
      "cell_type": "code",
      "source": [
        "models = {\"Model 1\":XGBRegressor(**grid_search1.best_params_),\n",
        "          \"Model 2\":XGBRegressor(**grid_search2.best_params_)}"
      ],
      "metadata": {
        "id": "XwAtvBHbVrnr"
      },
      "execution_count": 73,
      "outputs": []
    },
    {
      "cell_type": "code",
      "source": [
        "def train_model(model):\n",
        "\n",
        "  return model.fit(X_train,Y_train)"
      ],
      "metadata": {
        "id": "vruZBAJuWTfo"
      },
      "execution_count": 74,
      "outputs": []
    },
    {
      "cell_type": "code",
      "source": [
        "for model in models.values():\n",
        "\n",
        "  train_model(model)"
      ],
      "metadata": {
        "id": "7ZldhdMrWZwR"
      },
      "execution_count": 75,
      "outputs": []
    },
    {
      "cell_type": "code",
      "source": [
        "for name,model in models.items():\n",
        "\n",
        "  print(f\"{name}: MSE Train {mean_squared_error(Y_train,model.predict(X_train))}\")\n",
        "  print(f\"{name}: MSE Test {mean_squared_error(Y_test,model.predict(X_test))}\")\n",
        "  print(\"=====================================================================\")"
      ],
      "metadata": {
        "colab": {
          "base_uri": "https://localhost:8080/"
        },
        "id": "9a3SCHtuWlng",
        "outputId": "2f894842-6631-474a-fdfa-c5ce5d3a5410"
      },
      "execution_count": 76,
      "outputs": [
        {
          "output_type": "stream",
          "name": "stdout",
          "text": [
            "Model 1: MSE Train 3088417.5120324683\n",
            "Model 1: MSE Test 3670214.1574856504\n",
            "=====================================================================\n",
            "Model 2: MSE Train 2214555.981457809\n",
            "Model 2: MSE Test 3100916.617127418\n",
            "=====================================================================\n"
          ]
        }
      ]
    },
    {
      "cell_type": "markdown",
      "source": [
        "The second model has better metrics. But the first model has a more equal MSE, for the training and validation data. Therefore, I consider it more robust, since the first model has more difference between the training and validation MSE, which can mean that the model is overwhelmed with the training data."
      ],
      "metadata": {
        "id": "Qb3O5XXg-MU-"
      }
    }
  ]
}