{
 "cells": [
  {
   "cell_type": "markdown",
   "id": "c3c6dfc3",
   "metadata": {},
   "source": [
    "## *Import Libraries*"
   ]
  },
  {
   "cell_type": "code",
   "execution_count": 1,
   "id": "67d657ef",
   "metadata": {},
   "outputs": [],
   "source": [
    "import pandas as pd\n",
    "import numpy as np\n",
    "import matplotlib.pyplot as plt\n",
    "import seaborn as sns\n",
    "import warnings"
   ]
  },
  {
   "cell_type": "code",
   "execution_count": 2,
   "id": "e4d6b2a4",
   "metadata": {},
   "outputs": [],
   "source": [
    "warnings.filterwarnings(\"ignore\")"
   ]
  },
  {
   "cell_type": "markdown",
   "id": "4734929a",
   "metadata": {},
   "source": [
    "## *Load Dataset*"
   ]
  },
  {
   "cell_type": "code",
   "execution_count": 2,
   "id": "7bc270df",
   "metadata": {},
   "outputs": [],
   "source": [
    "df = pd.read_csv(\"C:/Users/PC/Desktop/Car-Sales/data/cars_sales_ohe.csv\")"
   ]
  },
  {
   "cell_type": "code",
   "execution_count": 3,
   "id": "7059fd0f",
   "metadata": {},
   "outputs": [],
   "source": [
    "def load_inputs_outputs():\n",
    "\n",
    "    X = df.drop(columns=['price'])\n",
    "    y = df.price\n",
    "    \n",
    "    return X,y"
   ]
  },
  {
   "cell_type": "code",
   "execution_count": 4,
   "id": "c51491e7",
   "metadata": {},
   "outputs": [],
   "source": [
    "X,y = load_inputs_outputs()"
   ]
  },
  {
   "cell_type": "markdown",
   "id": "fae48cfb",
   "metadata": {},
   "source": [
    "## *Split Data*"
   ]
  },
  {
   "cell_type": "code",
   "execution_count": 5,
   "id": "4950703f",
   "metadata": {},
   "outputs": [],
   "source": [
    "from sklearn.model_selection import train_test_split"
   ]
  },
  {
   "cell_type": "code",
   "execution_count": 6,
   "id": "e271d2ef",
   "metadata": {},
   "outputs": [],
   "source": [
    "X_train,X_test,Y_train,Y_test = train_test_split(X,y,test_size = 0.2,random_state = 42)"
   ]
  },
  {
   "cell_type": "markdown",
   "id": "f6ac3925",
   "metadata": {},
   "source": [
    "### *Array Transform*"
   ]
  },
  {
   "cell_type": "code",
   "execution_count": 7,
   "id": "e1e1cdc2",
   "metadata": {},
   "outputs": [],
   "source": [
    "def array(x):\n",
    "    return np.asarray(x)"
   ]
  },
  {
   "cell_type": "code",
   "execution_count": 8,
   "id": "17ec05bf",
   "metadata": {},
   "outputs": [],
   "source": [
    "X_train,Y_train = array(X_train),array(Y_train)\n",
    "X_test,Y_test = array(X_test),array(Y_test)"
   ]
  },
  {
   "cell_type": "markdown",
   "id": "5d37cc21",
   "metadata": {},
   "source": [
    "We create numpy arrays, as it will speed up the model training process."
   ]
  },
  {
   "cell_type": "code",
   "execution_count": 9,
   "id": "8f1ec2c4",
   "metadata": {},
   "outputs": [
    {
     "data": {
      "text/plain": [
       "((68934, 172), (17234, 172))"
      ]
     },
     "execution_count": 9,
     "metadata": {},
     "output_type": "execute_result"
    }
   ],
   "source": [
    "X_train.shape,X_test.shape"
   ]
  },
  {
   "cell_type": "markdown",
   "id": "4568ba00",
   "metadata": {},
   "source": [
    "## *Model Creation*"
   ]
  },
  {
   "cell_type": "code",
   "execution_count": 10,
   "id": "8188d316",
   "metadata": {},
   "outputs": [],
   "source": [
    "from xgboost import XGBRegressor"
   ]
  },
  {
   "cell_type": "code",
   "execution_count": 11,
   "id": "6f56b0c9",
   "metadata": {},
   "outputs": [],
   "source": [
    "xgb = XGBRegressor(max_depth = 10,\n",
    "                   n_estimators = 800,\n",
    "                   learning_rate = 0.01,\n",
    "                   colsample_bytree = 0.7,\n",
    "                   subsample = 0.7,\n",
    "                   colsample_bynode = 0.8,\n",
    "                   reg_alpha = 0.1,\n",
    "                   gamma = 20,\n",
    "                    n_jobs = -1)"
   ]
  },
  {
   "cell_type": "code",
   "execution_count": 12,
   "id": "3fbd15dd",
   "metadata": {},
   "outputs": [
    {
     "data": {
      "text/plain": [
       "XGBRegressor(base_score=0.5, booster='gbtree', callbacks=None,\n",
       "             colsample_bylevel=1, colsample_bynode=0.8, colsample_bytree=0.7,\n",
       "             early_stopping_rounds=None, enable_categorical=False,\n",
       "             eval_metric=None, gamma=20, gpu_id=-1, grow_policy='depthwise',\n",
       "             importance_type=None, interaction_constraints='',\n",
       "             learning_rate=0.01, max_bin=256, max_cat_to_onehot=4,\n",
       "             max_delta_step=0, max_depth=10, max_leaves=0, min_child_weight=1,\n",
       "             missing=nan, monotone_constraints='()', n_estimators=800,\n",
       "             n_jobs=-1, num_parallel_tree=1, predictor='auto', random_state=0,\n",
       "             reg_alpha=0.1, reg_lambda=1, ...)"
      ]
     },
     "execution_count": 12,
     "metadata": {},
     "output_type": "execute_result"
    }
   ],
   "source": [
    "xgb.fit(X_train,Y_train)"
   ]
  },
  {
   "cell_type": "markdown",
   "id": "49623013",
   "metadata": {},
   "source": [
    "## *Evaluation*"
   ]
  },
  {
   "cell_type": "markdown",
   "id": "c5837614",
   "metadata": {},
   "source": [
    "### *Mean Squared Error*"
   ]
  },
  {
   "cell_type": "code",
   "execution_count": 13,
   "id": "1ff36fa7",
   "metadata": {},
   "outputs": [],
   "source": [
    "from sklearn.metrics import mean_squared_error"
   ]
  },
  {
   "cell_type": "code",
   "execution_count": 15,
   "id": "e0b2a5c7",
   "metadata": {},
   "outputs": [],
   "source": [
    "def MSE(model):\n",
    "    \n",
    "    pred_train = model.predict(X_train)\n",
    "    pred_test = model.predict(X_test)\n",
    "    \n",
    "    mse_train = mean_squared_error(Y_train,pred_train)\n",
    "    mse_test = mean_squared_error(Y_test,pred_test)\n",
    "    \n",
    "    \n",
    "    return mse_train,mse_test"
   ]
  },
  {
   "cell_type": "code",
   "execution_count": 16,
   "id": "44835a1a",
   "metadata": {},
   "outputs": [],
   "source": [
    "mse_train,mse_test = MSE(xgb)"
   ]
  },
  {
   "cell_type": "code",
   "execution_count": 17,
   "id": "32e7a312",
   "metadata": {},
   "outputs": [
    {
     "name": "stdout",
     "output_type": "stream",
     "text": [
      "MSE Train: 3034388.046137365\n",
      "MSE Train: 3636468.513883122\n"
     ]
    }
   ],
   "source": [
    "print(f\"MSE Train: {mse_train}\")\n",
    "print(f\"MSE Train: {mse_test}\")"
   ]
  },
  {
   "cell_type": "markdown",
   "id": "4033a6a0",
   "metadata": {},
   "source": [
    "### *Cross Validation*"
   ]
  },
  {
   "cell_type": "code",
   "execution_count": 18,
   "id": "183d68b3",
   "metadata": {},
   "outputs": [],
   "source": [
    "from sklearn.model_selection import cross_val_score"
   ]
  },
  {
   "cell_type": "code",
   "execution_count": 19,
   "id": "4524fabe",
   "metadata": {},
   "outputs": [],
   "source": [
    "cv = cross_val_score(xgb,X_test,Y_test,cv = 10,n_jobs = -1)"
   ]
  },
  {
   "cell_type": "code",
   "execution_count": 20,
   "id": "cd3aa763",
   "metadata": {},
   "outputs": [
    {
     "data": {
      "text/plain": [
       "array([0.93531254, 0.94204601, 0.93745538, 0.94907645, 0.94422255,\n",
       "       0.94492683, 0.94753711, 0.94365807, 0.9461254 , 0.93821418])"
      ]
     },
     "execution_count": 20,
     "metadata": {},
     "output_type": "execute_result"
    }
   ],
   "source": [
    "cv"
   ]
  },
  {
   "cell_type": "code",
   "execution_count": 21,
   "id": "b87d607f",
   "metadata": {},
   "outputs": [
    {
     "data": {
      "text/plain": [
       "0.9428574534604197"
      ]
     },
     "execution_count": 21,
     "metadata": {},
     "output_type": "execute_result"
    }
   ],
   "source": [
    "cv.mean()"
   ]
  },
  {
   "cell_type": "markdown",
   "id": "5269a83c",
   "metadata": {},
   "source": [
    "It offers a generalization percentage of 94%, which is quite a high percentage, which means that the model is able to describe a high percentage of the data."
   ]
  },
  {
   "cell_type": "code",
   "execution_count": 22,
   "id": "79864c5e",
   "metadata": {},
   "outputs": [],
   "source": [
    "sns.set_style(style = \"whitegrid\")"
   ]
  },
  {
   "cell_type": "code",
   "execution_count": 23,
   "id": "c4dc251a",
   "metadata": {},
   "outputs": [],
   "source": [
    "pred = xgb.predict(X_test)"
   ]
  },
  {
   "cell_type": "code",
   "execution_count": 24,
   "id": "4de743c4",
   "metadata": {},
   "outputs": [],
   "source": [
    "def main():\n",
    "    \n",
    "    fig = plt.subplots(1,1,figsize = (20,8))\n",
    "    plt.scatter(Y_test,pred,marker = \"+\",c= \"#adff2f\",alpha = 0.4,label = \"Predictions\")\n",
    "    plt.plot(Y_test,Y_test,c = \"#4000ff\",lw = 5,label = \"True Values\")\n",
    "    plt.legend()"
   ]
  },
  {
   "cell_type": "code",
   "execution_count": 25,
   "id": "dde78707",
   "metadata": {},
   "outputs": [
    {
     "data": {
      "image/png": "[encoded data removed]",
      "text/plain": [
       "<Figure size 1440x576 with 1 Axes>"
      ]
     },
     "metadata": {},
     "output_type": "display_data"
    }
   ],
   "source": [
    "_ = main()"
   ]
  },
  {
   "cell_type": "code",
   "execution_count": 26,
   "id": "bc33575a",
   "metadata": {},
   "outputs": [],
   "source": [
    "df_predictions = pd.DataFrame({'True Values':Y_test,\"Predictions\":pred})"
   ]
  },
  {
   "cell_type": "code",
   "execution_count": 27,
   "id": "4dbcbd81",
   "metadata": {},
   "outputs": [
    {
     "data": {
      "text/html": [
       "<div><div id=4719c5c7-738b-45f1-a206-557b36112239 style=\"display:none; background-color:#9D6CFF; color:white; width:200px; height:30px; padding-left:5px; border-radius:4px; flex-direction:row; justify-content:space-around; align-items:center;\" onmouseover=\"this.style.backgroundColor='#BA9BF8'\" onmouseout=\"this.style.backgroundColor='#9D6CFF'\" onclick=\"window.commands?.execute('create-mitosheet-from-dataframe-output');\">See Full Dataframe in Mito</div> <script> if (window.commands?.hasCommand('create-mitosheet-from-dataframe-output')) document.getElementById('4719c5c7-738b-45f1-a206-557b36112239').style.display = 'flex' </script> <table border=\"1\" class=\"dataframe\">\n",
       "  <thead>\n",
       "    <tr style=\"text-align: right;\">\n",
       "      <th></th>\n",
       "      <th>True Values</th>\n",
       "      <th>Predictions</th>\n",
       "    </tr>\n",
       "  </thead>\n",
       "  <tbody>\n",
       "    <tr>\n",
       "      <th>14698</th>\n",
       "      <td>12390</td>\n",
       "      <td>14025.065430</td>\n",
       "    </tr>\n",
       "    <tr>\n",
       "      <th>1908</th>\n",
       "      <td>10990</td>\n",
       "      <td>12438.715820</td>\n",
       "    </tr>\n",
       "    <tr>\n",
       "      <th>256</th>\n",
       "      <td>9490</td>\n",
       "      <td>9096.288086</td>\n",
       "    </tr>\n",
       "    <tr>\n",
       "      <th>6873</th>\n",
       "      <td>29995</td>\n",
       "      <td>28047.425781</td>\n",
       "    </tr>\n",
       "    <tr>\n",
       "      <th>2839</th>\n",
       "      <td>8995</td>\n",
       "      <td>9175.329102</td>\n",
       "    </tr>\n",
       "    <tr>\n",
       "      <th>15195</th>\n",
       "      <td>21995</td>\n",
       "      <td>21394.529297</td>\n",
       "    </tr>\n",
       "    <tr>\n",
       "      <th>6296</th>\n",
       "      <td>19240</td>\n",
       "      <td>19425.689453</td>\n",
       "    </tr>\n",
       "    <tr>\n",
       "      <th>3080</th>\n",
       "      <td>4991</td>\n",
       "      <td>5519.269531</td>\n",
       "    </tr>\n",
       "    <tr>\n",
       "      <th>7370</th>\n",
       "      <td>24494</td>\n",
       "      <td>24617.359375</td>\n",
       "    </tr>\n",
       "    <tr>\n",
       "      <th>13346</th>\n",
       "      <td>18970</td>\n",
       "      <td>19823.656250</td>\n",
       "    </tr>\n",
       "  </tbody>\n",
       "</table></div>"
      ],
      "text/plain": [
       "       True Values   Predictions\n",
       "14698        12390  14025.065430\n",
       "1908         10990  12438.715820\n",
       "256           9490   9096.288086\n",
       "6873         29995  28047.425781\n",
       "2839          8995   9175.329102\n",
       "15195        21995  21394.529297\n",
       "6296         19240  19425.689453\n",
       "3080          4991   5519.269531\n",
       "7370         24494  24617.359375\n",
       "13346        18970  19823.656250"
      ]
     },
     "execution_count": 27,
     "metadata": {},
     "output_type": "execute_result"
    }
   ],
   "source": [
    "df_predictions.sample(n = 10,random_state = 50)"
   ]
  },
  {
   "cell_type": "markdown",
   "id": "1b657389",
   "metadata": {},
   "source": [
    "As seen in the graph and in the model metrics, the predictions are very close to the original value."
   ]
  },
  {
   "cell_type": "markdown",
   "id": "4055ae9d",
   "metadata": {},
   "source": [
    "## *Opening the Black Box*"
   ]
  },
  {
   "cell_type": "code",
   "execution_count": 28,
   "id": "5a26957e",
   "metadata": {},
   "outputs": [],
   "source": [
    "features,feature_importances = X.columns,xgb.feature_importances_"
   ]
  },
  {
   "cell_type": "code",
   "execution_count": 29,
   "id": "8f65b629",
   "metadata": {},
   "outputs": [],
   "source": [
    "def relevant_features():\n",
    "    \n",
    "    features_list,feature_important_list = list(),list()\n",
    "    \n",
    "    for i,v in enumerate(feature_importances):\n",
    "        if v > np.quantile(feature_importances,0.95):\n",
    "            features_list.append(features[i])\n",
    "            feature_important_list.append(v)\n",
    "            \n",
    "    return features_list,feature_important_list"
   ]
  },
  {
   "cell_type": "code",
   "execution_count": 30,
   "id": "b59bd80f",
   "metadata": {},
   "outputs": [],
   "source": [
    "features,feature_importances = relevant_features()"
   ]
  },
  {
   "cell_type": "code",
   "execution_count": 31,
   "id": "c74a40d4",
   "metadata": {},
   "outputs": [],
   "source": [
    "df_features_importance = pd.DataFrame({\"Features\":features,\"Importance\":feature_importances})"
   ]
  },
  {
   "cell_type": "code",
   "execution_count": 32,
   "id": "737ee131",
   "metadata": {},
   "outputs": [],
   "source": [
    "df_features_importance = df_features_importance.sort_values(by = \"Importance\",ascending = True)"
   ]
  },
  {
   "cell_type": "code",
   "execution_count": 34,
   "id": "10dc60b9",
   "metadata": {},
   "outputs": [],
   "source": [
    "def plot_importance(colors):\n",
    "    \n",
    "    fig,ax = plt.subplots(1,1,figsize = (20,8))\n",
    "    \n",
    "    _ = ax.set_title(\"Most Important Features\")\n",
    "    _ = plt.barh(df_features_importance[\"Features\"],df_features_importance[\"Importance\"],color = colors)\n",
    "    plt.savefig(\"plot_importance.jpeg\")"
   ]
  },
  {
   "cell_type": "code",
   "execution_count": 35,
   "id": "e6cb1372",
   "metadata": {},
   "outputs": [],
   "source": [
    "colors = ['#808080', '#e30052','#ff8000','#007fff']"
   ]
  },
  {
   "cell_type": "code",
   "execution_count": 36,
   "id": "a125956d",
   "metadata": {},
   "outputs": [
    {
     "data": {
      "image/png": "[encoded data removed]",
      "text/plain": [
       "<Figure size 1440x576 with 1 Axes>"
      ]
     },
     "metadata": {},
     "output_type": "display_data"
    }
   ],
   "source": [
    "_ = plot_importance(colors)"
   ]
  },
  {
   "cell_type": "markdown",
   "id": "69b830d2",
   "metadata": {},
   "source": [
    "* If the vehicle has a Manual transmission, the price of the vehicle generally decreases, it is less expensive with an automatic or semi-automatic transmission.\n",
    "\n",
    "\n",
    "\n",
    "* The engine size is a variable that has a lot of weight. Since the greater the capacity, the greater the technical capacity of the car.\n",
    "\n",
    "\n",
    "\n",
    "* The year of manufacture includes in the price, since if a vehicle of the same model. It will make the price of the car more expensive, since it will be a more recent model.\n",
    "\n",
    "\n",
    "\n",
    "\n",
    "\n",
    "\n",
    "* Other variables that complement the predictions well is the vehicle brand, since for example it is well known that Mercedes-benz vehicles belong to high-end manufacturers, which means that the price per car is much higher. Also the number of miles traveled, since generally a vehicle with higher mileage has more wear, which causes a devaluation of the car."
   ]
  },
  {
   "cell_type": "markdown",
   "id": "87d45a1c",
   "metadata": {},
   "source": [
    "## New Predictions"
   ]
  },
  {
   "cell_type": "code",
   "execution_count": 37,
   "id": "1061deca",
   "metadata": {},
   "outputs": [],
   "source": [
    "columns = X.columns"
   ]
  },
  {
   "cell_type": "code",
   "execution_count": 38,
   "id": "9c7581df",
   "metadata": {},
   "outputs": [],
   "source": [
    "def predict(manufacturer,model,trasmision,year,fuel_type,engineSize,mileage):\n",
    "    \n",
    "    data = np.zeros(len(columns))\n",
    "    \n",
    "    manufacturer_idx = np.where(columns == manufacturer)[0][0]\n",
    "    model_idx = np.where(columns == model)[0][0]\n",
    "    trasmision_idx = np.where(columns == trasmision)[0][0]\n",
    "    fuel_type_idx = np.where(columns == fuel_type)[0][0]\n",
    "    \n",
    "    data[165] = year\n",
    "    data[170] = engineSize\n",
    "    data[171] = mileage\n",
    "\n",
    "    \n",
    "    if manufacturer_idx >=0:\n",
    "        data[manufacturer_idx] = 1\n",
    "\n",
    "    if model_idx >=0:\n",
    "        data[model_idx] = 1\n",
    "        \n",
    "    if trasmision_idx >=0:\n",
    "        data[trasmision_idx] = 1\n",
    "        \n",
    "    if fuel_type_idx >=0:\n",
    "        data[fuel_type_idx] = 1\n",
    "        \n",
    "    data = np.asarray([data])\n",
    "    \n",
    "    return xgb.predict(data)"
   ]
  },
  {
   "cell_type": "markdown",
   "id": "7a089a46",
   "metadata": {},
   "source": [
    "### *Ford Mustang*\n",
    "\n",
    "<img src = \"https://www.ford.mx/content/dam/Ford/website-assets/latam/mx/open-graph/2020/nameplate/fmx-nameplate-mustang-opengraph.jpg\" width = 800>"
   ]
  },
  {
   "cell_type": "code",
   "execution_count": 39,
   "id": "7bd9b37a",
   "metadata": {},
   "outputs": [
    {
     "data": {
      "text/plain": [
       "array([41131.055], dtype=float32)"
      ]
     },
     "execution_count": 39,
     "metadata": {},
     "output_type": "execute_result"
    }
   ],
   "source": [
    "predict('Ford','Mustang','Automatic',2020,'Petrol',5.0,3500)"
   ]
  },
  {
   "cell_type": "markdown",
   "id": "c73e64bd",
   "metadata": {},
   "source": [
    "### *Toyota Corolla*"
   ]
  },
  {
   "cell_type": "markdown",
   "id": "b4d32088",
   "metadata": {},
   "source": [
    "<img src = \"https://img.automexico.com/2021/03/12/23f43741-54ae.jpg\" width = 600>"
   ]
  },
  {
   "cell_type": "code",
   "execution_count": 40,
   "id": "7c780a22",
   "metadata": {},
   "outputs": [
    {
     "data": {
      "text/plain": [
       "array([15010.299], dtype=float32)"
      ]
     },
     "execution_count": 40,
     "metadata": {},
     "output_type": "execute_result"
    }
   ],
   "source": [
    "predict('Toyota','Corolla','Manual',2018,'Petrol',2.0,54000)"
   ]
  },
  {
   "cell_type": "markdown",
   "id": "fb49b455",
   "metadata": {},
   "source": [
    "### *Volkswagen Jetta*"
   ]
  },
  {
   "cell_type": "markdown",
   "id": "edf689a5",
   "metadata": {},
   "source": [
    "<img src = \"https://rodatiautos.mx/images/listings/2022-04/82f15b11-1650543996-824.jpg\" width = 700>"
   ]
  },
  {
   "cell_type": "code",
   "execution_count": 41,
   "id": "86d27780",
   "metadata": {},
   "outputs": [
    {
     "data": {
      "text/plain": [
       "array([10692.3125], dtype=float32)"
      ]
     },
     "execution_count": 41,
     "metadata": {},
     "output_type": "execute_result"
    }
   ],
   "source": [
    "predict('Volkswagen','Jetta','Automatic',2012,'Petrol',2.0,45000)"
   ]
  },
  {
   "cell_type": "markdown",
   "id": "b81249ad",
   "metadata": {},
   "source": [
    "### *Audi R8*\n",
    "\n",
    "\n",
    "<img src = \"https://upload.wikimedia.org/wikipedia/commons/c/c8/Audi_R8_-_Flickr_-_Alexandre_Pr%C3%A9vot_%28109%29_%28cropped%29.jpg\" width = 700>"
   ]
  },
  {
   "cell_type": "code",
   "execution_count": 78,
   "id": "434658cd",
   "metadata": {},
   "outputs": [
    {
     "data": {
      "text/plain": [
       "array([107120.305], dtype=float32)"
      ]
     },
     "execution_count": 78,
     "metadata": {},
     "output_type": "execute_result"
    }
   ],
   "source": [
    "predict('Audi','R8','Semi-Auto',2020,'Diesel',5.2,4200)"
   ]
  },
  {
   "cell_type": "markdown",
   "id": "51e40e0b",
   "metadata": {},
   "source": [
    "### *BMW 3 Series*\n",
    "\n",
    "<img src = \"https://hips.hearstapps.com/hmg-prod/amv-prod-cad-assets/images/media/672263/2017-bmw-3-series-in-depth-model-review-car-and-driver-photo-686405-s-original.jpg?fill=2:1&resize=1200:*\" width = 800>"
   ]
  },
  {
   "cell_type": "code",
   "execution_count": 43,
   "id": "f9fb6f0c",
   "metadata": {},
   "outputs": [
    {
     "data": {
      "text/plain": [
       "array([11271.], dtype=float32)"
      ]
     },
     "execution_count": 43,
     "metadata": {},
     "output_type": "execute_result"
    }
   ],
   "source": [
    "predict('BMW','3 Series','Manual',2017,'Diesel',2.0,91000)"
   ]
  },
  {
   "cell_type": "markdown",
   "id": "7d306ff9",
   "metadata": {},
   "source": [
    "### *Hyundi Santa Fe*\n",
    "\n",
    "<img src = \"https://www.diariomotor.com/imagenes/2014/07/hyundai-grand-santa-fe-portada00-dm-700px.jpg\" width = 800>"
   ]
  },
  {
   "cell_type": "code",
   "execution_count": 46,
   "id": "6c6f4195",
   "metadata": {},
   "outputs": [
    {
     "data": {
      "text/plain": [
       "array([13663.698], dtype=float32)"
      ]
     },
     "execution_count": 46,
     "metadata": {},
     "output_type": "execute_result"
    }
   ],
   "source": [
    "predict('Hyundi','Santa Fe','Automatic',2014,'Diesel',2.2,45000)"
   ]
  },
  {
   "cell_type": "markdown",
   "id": "b71ff248",
   "metadata": {},
   "source": [
    "### *Mercedes-Benz C-Class*\n",
    "\n",
    "<img src = \"https://www.cnet.com/a/img/resize/290c6e1129ba5372a0a96fc8d736069e745042ed/hub/2018/06/18/7b95ee02-e5b1-48cb-a48f-a360eb2e56ea/ogi1-011-2019-mercedes-benz-c300-first-drive.jpg?auto=webp&fit=crop&height=675&width=1200\" width = 800>"
   ]
  },
  {
   "cell_type": "code",
   "execution_count": 48,
   "id": "75ff7627",
   "metadata": {},
   "outputs": [
    {
     "data": {
      "text/plain": [
       "array([22937.723], dtype=float32)"
      ]
     },
     "execution_count": 48,
     "metadata": {},
     "output_type": "execute_result"
    }
   ],
   "source": [
    "predict('Mercedes-Benz','C Class','Automatic',2019,'Petrol',1.5,15000)"
   ]
  },
  {
   "cell_type": "markdown",
   "id": "7603ed2f",
   "metadata": {},
   "source": [
    "### *Skoda Octavia*\n",
    "\n",
    "<img src = \"https://img.autoabc.lv/Skoda-Octavia/Skoda-Octavia_2017_Hecbeks_22318111512_4.jpg\" width = 700 >"
   ]
  },
  {
   "cell_type": "code",
   "execution_count": 52,
   "id": "90b458d6",
   "metadata": {},
   "outputs": [
    {
     "data": {
      "text/plain": [
       "array([11277.338], dtype=float32)"
      ]
     },
     "execution_count": 52,
     "metadata": {},
     "output_type": "execute_result"
    }
   ],
   "source": [
    "predict('Skoda','Octavia','Manual',2017,'Petrol',1.4,32000)"
   ]
  },
  {
   "cell_type": "markdown",
   "id": "379a05f9",
   "metadata": {},
   "source": [
    "### *Vauxhall Corsa*\n",
    "\n",
    "<img src = \"https://www.autocar.co.uk/sites/autocar.co.uk/files/styles/gallery_slide/public/vxl-corsa-vxr-rt-2015004.jpg?itok=vmXBqiT8\" width = 800>"
   ]
  },
  {
   "cell_type": "code",
   "execution_count": 59,
   "id": "08b363f3",
   "metadata": {},
   "outputs": [
    {
     "data": {
      "text/plain": [
       "array([8815.247], dtype=float32)"
      ]
     },
     "execution_count": 59,
     "metadata": {},
     "output_type": "execute_result"
    }
   ],
   "source": [
    "predict('Vauxhall','Corsa','Manual',2018,'Petrol',1.4,17000)"
   ]
  },
  {
   "cell_type": "markdown",
   "id": "1025f2a9",
   "metadata": {},
   "source": [
    "## *Save Model*"
   ]
  },
  {
   "cell_type": "code",
   "execution_count": 60,
   "id": "09720e15",
   "metadata": {},
   "outputs": [],
   "source": [
    "xgb.save_model(\"C:/Users/PC/Desktop/Car-Sales/app/cars_sales_model.json\")"
   ]
  },
  {
   "cell_type": "markdown",
   "id": "28a33b42",
   "metadata": {},
   "source": [
    "## *Save JSON File*\n",
    "\n",
    "Create a JSON file with the name of the input variables. In order to facilitate the pre-processing of new data data. Since categorical variables, such as the streaming model, are in One Hot Encoding format.at."
   ]
  },
  {
   "cell_type": "code",
   "execution_count": 62,
   "id": "29a708f3",
   "metadata": {},
   "outputs": [],
   "source": [
    "import json"
   ]
  },
  {
   "cell_type": "code",
   "execution_count": 63,
   "id": "8e1114f7",
   "metadata": {},
   "outputs": [],
   "source": [
    "columns = {\"data_columns\":[col for col in columns]}"
   ]
  },
  {
   "cell_type": "code",
   "execution_count": 64,
   "id": "7c08d297",
   "metadata": {},
   "outputs": [],
   "source": [
    "with open(\"C:/Users/PC/Desktop/Car-Sales/app/columns.json\",\"w\") as F:\n",
    "\n",
    "    F.write(json.dumps(columns))"
   ]
  }
 ],
 "metadata": {
  "kernelspec": {
   "display_name": "Python 3 (ipykernel)",
   "language": "python",
   "name": "python3"
  },
  "language_info": {
   "codemirror_mode": {
    "name": "ipython",
    "version": 3
   },
   "file_extension": ".py",
   "mimetype": "text/x-python",
   "name": "python",
   "nbconvert_exporter": "python",
   "pygments_lexer": "ipython3",
   "version": "3.9.7"
  }
 },
 "nbformat": 4,
 "nbformat_minor": 5
}
