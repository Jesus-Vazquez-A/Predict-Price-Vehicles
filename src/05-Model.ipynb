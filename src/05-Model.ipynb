{
 "cells": [
  {
   "cell_type": "markdown",
   "id": "121f34c4",
   "metadata": {},
   "source": [
    "## **Import Libraries**"
   ]
  },
  {
   "cell_type": "code",
   "execution_count": 2,
   "id": "ff66f04e",
   "metadata": {},
   "outputs": [],
   "source": [
    "import pandas as pd\n",
    "import numpy as np\n",
    "import matplotlib.pyplot as plt\n",
    "import seaborn as sns\n",
    "import warnings "
   ]
  },
  {
   "cell_type": "code",
   "execution_count": 4,
   "id": "039053a7",
   "metadata": {},
   "outputs": [],
   "source": [
    "warnings.filterwarnings(\"ignore\")"
   ]
  },
  {
   "cell_type": "markdown",
   "id": "8ba775a4",
   "metadata": {},
   "source": [
    "### **Load Data**"
   ]
  },
  {
   "cell_type": "code",
   "execution_count": 5,
   "id": "586dff69",
   "metadata": {},
   "outputs": [],
   "source": [
    "df = pd.read_csv(\"C:/Users/PC/Desktop/Car-Price-Proyect/data/data_preprocessing.csv\")"
   ]
  },
  {
   "cell_type": "markdown",
   "id": "91bbe91a",
   "metadata": {},
   "source": [
    "### *Split Data*"
   ]
  },
  {
   "cell_type": "code",
   "execution_count": 7,
   "id": "c84ee4f1",
   "metadata": {},
   "outputs": [],
   "source": [
    "from sklearn.model_selection import train_test_split"
   ]
  },
  {
   "cell_type": "code",
   "execution_count": 6,
   "id": "6e755153",
   "metadata": {},
   "outputs": [],
   "source": [
    "def load_inputs_outputs():\n",
    "    \n",
    "    X = df.drop([\"price\"],axis = \"columns\")\n",
    "    y = df.price\n",
    "    \n",
    "    return X,y"
   ]
  },
  {
   "cell_type": "code",
   "execution_count": 30,
   "id": "e73b416e",
   "metadata": {},
   "outputs": [],
   "source": [
    "X,y = load_inputs_outputs()"
   ]
  },
  {
   "cell_type": "code",
   "execution_count": 31,
   "id": "9bb205d9",
   "metadata": {},
   "outputs": [],
   "source": [
    "X_train,X_test,Y_train,Y_test = train_test_split(X,y,test_size = 0.2,random_state = 42)"
   ]
  },
  {
   "cell_type": "code",
   "execution_count": 32,
   "id": "1aecc74e",
   "metadata": {},
   "outputs": [
    {
     "data": {
      "text/plain": [
       "((43769, 119), (10943, 119))"
      ]
     },
     "execution_count": 32,
     "metadata": {},
     "output_type": "execute_result"
    }
   ],
   "source": [
    "X_train.shape,X_test.shape"
   ]
  },
  {
   "cell_type": "markdown",
   "id": "eeba6c49",
   "metadata": {},
   "source": [
    "### *Array Transform*"
   ]
  },
  {
   "cell_type": "code",
   "execution_count": 33,
   "id": "e2e506ac",
   "metadata": {},
   "outputs": [],
   "source": [
    "def array(data):\n",
    "    return np.asarray(data)"
   ]
  },
  {
   "cell_type": "code",
   "execution_count": 34,
   "id": "f25756f1",
   "metadata": {},
   "outputs": [],
   "source": [
    "X_train,Y_train = array(X_train),array(Y_train)"
   ]
  },
  {
   "cell_type": "code",
   "execution_count": 35,
   "id": "d477093c",
   "metadata": {},
   "outputs": [],
   "source": [
    "X_test,Y_test = array(X_test),array(Y_test)"
   ]
  },
  {
   "cell_type": "markdown",
   "id": "8ea10d92",
   "metadata": {},
   "source": [
    "## **Model**"
   ]
  },
  {
   "cell_type": "code",
   "execution_count": 36,
   "id": "b6a0ed29",
   "metadata": {},
   "outputs": [],
   "source": [
    "from xgboost import XGBRegressor"
   ]
  },
  {
   "cell_type": "code",
   "execution_count": 39,
   "id": "4261b0b9",
   "metadata": {},
   "outputs": [],
   "source": [
    "params = {'learning_rate': 0.01,\n",
    " 'max_depth': 8,\n",
    " 'n_estimators': 500,\n",
    " 'random_state': 42,\n",
    " 'subsample': 0.85}"
   ]
  },
  {
   "cell_type": "code",
   "execution_count": 40,
   "id": "c1a0bbf4",
   "metadata": {},
   "outputs": [],
   "source": [
    "xgb = XGBRegressor(**params)"
   ]
  },
  {
   "cell_type": "code",
   "execution_count": 41,
   "id": "8aa436c9",
   "metadata": {},
   "outputs": [
    {
     "data": {
      "text/plain": [
       "XGBRegressor(base_score=0.5, booster='gbtree', callbacks=None,\n",
       "             colsample_bylevel=1, colsample_bynode=1, colsample_bytree=1,\n",
       "             early_stopping_rounds=None, enable_categorical=False,\n",
       "             eval_metric=None, gamma=0, gpu_id=-1, grow_policy='depthwise',\n",
       "             importance_type=None, interaction_constraints='',\n",
       "             learning_rate=0.01, max_bin=256, max_cat_to_onehot=4,\n",
       "             max_delta_step=0, max_depth=8, max_leaves=0, min_child_weight=1,\n",
       "             missing=nan, monotone_constraints='()', n_estimators=500, n_jobs=0,\n",
       "             num_parallel_tree=1, predictor='auto', random_state=42,\n",
       "             reg_alpha=0, reg_lambda=1, ...)"
      ]
     },
     "execution_count": 41,
     "metadata": {},
     "output_type": "execute_result"
    }
   ],
   "source": [
    "xgb.fit(X_train,Y_train)"
   ]
  },
  {
   "cell_type": "code",
   "execution_count": 42,
   "id": "84bc8d1f",
   "metadata": {},
   "outputs": [
    {
     "data": {
      "text/plain": [
       "0.9655730714802955"
      ]
     },
     "execution_count": 42,
     "metadata": {},
     "output_type": "execute_result"
    }
   ],
   "source": [
    "xgb.score(X_train,Y_train)"
   ]
  },
  {
   "cell_type": "code",
   "execution_count": 43,
   "id": "5e88637f",
   "metadata": {},
   "outputs": [
    {
     "data": {
      "text/plain": [
       "0.9592566610292895"
      ]
     },
     "execution_count": 43,
     "metadata": {},
     "output_type": "execute_result"
    }
   ],
   "source": [
    "xgb.score(X_test,Y_test)"
   ]
  },
  {
   "cell_type": "markdown",
   "id": "015b77d1",
   "metadata": {},
   "source": [
    "### *Metrics*"
   ]
  },
  {
   "cell_type": "code",
   "execution_count": 44,
   "id": "e1108f73",
   "metadata": {},
   "outputs": [],
   "source": [
    "from sklearn.metrics import mean_squared_error,mean_absolute_error\n",
    "from sklearn.model_selection import cross_val_score"
   ]
  },
  {
   "cell_type": "code",
   "execution_count": 45,
   "id": "1c65ff23",
   "metadata": {},
   "outputs": [],
   "source": [
    "class Metrics():\n",
    "\n",
    "  def __init__(self,pred_train,pred_test):\n",
    "    self.pred_train = pred_train\n",
    "    self.pred_test = pred_test\n",
    "\n",
    "\n",
    "  def MSE(self):\n",
    "\n",
    "    mse_train = mean_squared_error(Y_train,self.pred_train)\n",
    "    mse_test = mean_squared_error(Y_test,self.pred_test)\n",
    "\n",
    "    return mse_train,mse_test\n",
    "\n",
    "\n",
    "  def MAE(self):\n",
    "\n",
    "    mse_train = mean_absolute_error(Y_train,self.pred_train)\n",
    "    mse_test = mean_absolute_error(Y_test,self.pred_test)\n",
    "\n",
    "    return mse_train,mse_test\n",
    "\n",
    "\n",
    "  def CrossValidation(self,model,x,y):\n",
    "\n",
    "    return cross_val_score(model,x,y,cv = 5,n_jobs = -1)"
   ]
  },
  {
   "cell_type": "code",
   "execution_count": 46,
   "id": "1d72adb8",
   "metadata": {},
   "outputs": [],
   "source": [
    "pred_train,pred_test = xgb.predict(X_train),xgb.predict(X_test)"
   ]
  },
  {
   "cell_type": "code",
   "execution_count": 47,
   "id": "6c217818",
   "metadata": {},
   "outputs": [],
   "source": [
    "metrics = Metrics(pred_train,pred_test)"
   ]
  },
  {
   "cell_type": "code",
   "execution_count": 48,
   "id": "e6f1cb92",
   "metadata": {},
   "outputs": [],
   "source": [
    "mse_train,mse_test = metrics.MSE()\n",
    "mae_train,mae_test = metrics.MAE()"
   ]
  },
  {
   "cell_type": "markdown",
   "id": "94600f2e",
   "metadata": {},
   "source": [
    "#### *Mean Square Error*\n",
    "\n",
    "It measures the average error between the original and the predicted value. This metric is very sensitive when the model offers very distant predictions. But at the same time it offers you a better approach to the performance of the model."
   ]
  },
  {
   "cell_type": "code",
   "execution_count": 49,
   "id": "b3909dd9",
   "metadata": {},
   "outputs": [
    {
     "name": "stdout",
     "output_type": "stream",
     "text": [
      "MSE Train 3108813.387428253\n",
      "MSE Test 3734786.388006089\n"
     ]
    }
   ],
   "source": [
    "print(f\"MSE Train {mse_train}\")\n",
    "print(f\"MSE Test {mse_test}\")"
   ]
  },
  {
   "cell_type": "markdown",
   "id": "1fa98382",
   "metadata": {},
   "source": [
    "#### *Mean Aboslute Error*\n",
    "\n",
    "It is similar to the MSE with the difference that it is very robust with outliers."
   ]
  },
  {
   "cell_type": "code",
   "execution_count": 50,
   "id": "2418a8ab",
   "metadata": {},
   "outputs": [
    {
     "name": "stdout",
     "output_type": "stream",
     "text": [
      "MAE Train 1231.5326398037942\n",
      "MAE Test 1304.3153909792861\n"
     ]
    }
   ],
   "source": [
    "print(f\"MAE Train {mae_train}\")\n",
    "print(f\"MAE Test {mae_test}\")"
   ]
  },
  {
   "cell_type": "markdown",
   "id": "5f88903e",
   "metadata": {},
   "source": [
    "#### *Cross Validation*\n",
    "\n",
    "It seeks to obtain the generalization average of the model."
   ]
  },
  {
   "cell_type": "code",
   "execution_count": 51,
   "id": "f9d3e10a",
   "metadata": {},
   "outputs": [],
   "source": [
    "cv = metrics.CrossValidation(xgb,X_test,Y_test)"
   ]
  },
  {
   "cell_type": "code",
   "execution_count": 53,
   "id": "eee47f01",
   "metadata": {},
   "outputs": [
    {
     "data": {
      "text/plain": [
       "array([0.9262154 , 0.94889465, 0.94849989, 0.9469818 , 0.94337736])"
      ]
     },
     "execution_count": 53,
     "metadata": {},
     "output_type": "execute_result"
    }
   ],
   "source": [
    "cv"
   ]
  },
  {
   "cell_type": "code",
   "execution_count": 52,
   "id": "cade4285",
   "metadata": {
    "scrolled": true
   },
   "outputs": [
    {
     "data": {
      "text/plain": [
       "0.9427938184777069"
      ]
     },
     "execution_count": 52,
     "metadata": {},
     "output_type": "execute_result"
    }
   ],
   "source": [
    "cv.mean()"
   ]
  },
  {
   "cell_type": "markdown",
   "id": "87f29d1f",
   "metadata": {},
   "source": [
    "## **Predictions**"
   ]
  },
  {
   "cell_type": "code",
   "execution_count": 54,
   "id": "11f16637",
   "metadata": {},
   "outputs": [],
   "source": [
    "df_predictions = pd.DataFrame({\"True Values\":Y_test,\"Predicted Values\":pred_test})"
   ]
  },
  {
   "cell_type": "code",
   "execution_count": 56,
   "id": "79652700",
   "metadata": {},
   "outputs": [],
   "source": [
    "sns.set_style(style = \"whitegrid\")"
   ]
  },
  {
   "cell_type": "code",
   "execution_count": 63,
   "id": "972f57f3",
   "metadata": {},
   "outputs": [],
   "source": [
    "def main():\n",
    "    \n",
    "    fig,ax = plt.subplots(1,1,figsize = (20,8))\n",
    "    sns.scatterplot(data = df_predictions,x = \"True Values\",y = \"Predicted Values\",ax = ax,color = \"c\")\n",
    "    sns.lineplot(Y_test,Y_test,ax = ax)"
   ]
  },
  {
   "cell_type": "code",
   "execution_count": 64,
   "id": "ce558113",
   "metadata": {},
   "outputs": [
    {
     "data": {
      "image/png": "[encoded data removed]",
      "text/plain": [
       "<Figure size 1440x576 with 1 Axes>"
      ]
     },
     "metadata": {},
     "output_type": "display_data"
    }
   ],
   "source": [
    "_ = main()"
   ]
  },
  {
   "cell_type": "code",
   "execution_count": 69,
   "id": "176157d6",
   "metadata": {},
   "outputs": [
    {
     "data": {
      "text/html": [
       "<div><div id=e4c37703-c10a-4e63-b1c7-482798eb9c36 style=\"display:none; background-color:#9D6CFF; color:white; width:200px; height:30px; padding-left:5px; border-radius:4px; flex-direction:row; justify-content:space-around; align-items:center;\" onmouseover=\"this.style.backgroundColor='#BA9BF8'\" onmouseout=\"this.style.backgroundColor='#9D6CFF'\" onclick=\"window.commands?.execute('create-mitosheet-from-dataframe-output');\">See Full Dataframe in Mito</div> <script> if (window.commands?.hasCommand('create-mitosheet-from-dataframe-output')) document.getElementById('e4c37703-c10a-4e63-b1c7-482798eb9c36').style.display = 'flex' </script> <table border=\"1\" class=\"dataframe\">\n",
       "  <thead>\n",
       "    <tr style=\"text-align: right;\">\n",
       "      <th></th>\n",
       "      <th>True Values</th>\n",
       "      <th>Predicted Values</th>\n",
       "    </tr>\n",
       "  </thead>\n",
       "  <tbody>\n",
       "    <tr>\n",
       "      <th>2254</th>\n",
       "      <td>11000</td>\n",
       "      <td>9550.194336</td>\n",
       "    </tr>\n",
       "    <tr>\n",
       "      <th>10621</th>\n",
       "      <td>15981</td>\n",
       "      <td>15429.638672</td>\n",
       "    </tr>\n",
       "    <tr>\n",
       "      <th>2041</th>\n",
       "      <td>20498</td>\n",
       "      <td>21501.167969</td>\n",
       "    </tr>\n",
       "    <tr>\n",
       "      <th>857</th>\n",
       "      <td>14999</td>\n",
       "      <td>14472.739258</td>\n",
       "    </tr>\n",
       "    <tr>\n",
       "      <th>10409</th>\n",
       "      <td>8991</td>\n",
       "      <td>8962.675781</td>\n",
       "    </tr>\n",
       "    <tr>\n",
       "      <th>10293</th>\n",
       "      <td>7495</td>\n",
       "      <td>7123.083008</td>\n",
       "    </tr>\n",
       "    <tr>\n",
       "      <th>838</th>\n",
       "      <td>23490</td>\n",
       "      <td>23675.994141</td>\n",
       "    </tr>\n",
       "    <tr>\n",
       "      <th>6878</th>\n",
       "      <td>19750</td>\n",
       "      <td>18435.849609</td>\n",
       "    </tr>\n",
       "    <tr>\n",
       "      <th>7941</th>\n",
       "      <td>11695</td>\n",
       "      <td>12979.020508</td>\n",
       "    </tr>\n",
       "    <tr>\n",
       "      <th>914</th>\n",
       "      <td>15921</td>\n",
       "      <td>15148.715820</td>\n",
       "    </tr>\n",
       "  </tbody>\n",
       "</table></div>"
      ],
      "text/plain": [
       "       True Values  Predicted Values\n",
       "2254         11000       9550.194336\n",
       "10621        15981      15429.638672\n",
       "2041         20498      21501.167969\n",
       "857          14999      14472.739258\n",
       "10409         8991       8962.675781\n",
       "10293         7495       7123.083008\n",
       "838          23490      23675.994141\n",
       "6878         19750      18435.849609\n",
       "7941         11695      12979.020508\n",
       "914          15921      15148.715820"
      ]
     },
     "execution_count": 69,
     "metadata": {},
     "output_type": "execute_result"
    }
   ],
   "source": [
    "df_predictions.sample(n = 10,random_state = 2020)"
   ]
  },
  {
   "cell_type": "markdown",
   "id": "9c66e8df",
   "metadata": {},
   "source": [
    "As can be seen in both the graph and the dataframe, the model offers predictions very close to the original value."
   ]
  },
  {
   "cell_type": "markdown",
   "id": "6510cf72",
   "metadata": {},
   "source": [
    "## *New Predictions*"
   ]
  },
  {
   "cell_type": "code",
   "execution_count": 70,
   "id": "618239b6",
   "metadata": {},
   "outputs": [],
   "source": [
    "columns = X.columns"
   ]
  },
  {
   "cell_type": "code",
   "execution_count": 73,
   "id": "ffcf3045",
   "metadata": {},
   "outputs": [],
   "source": [
    "def predict(manufacturer,model,trasmision,year,fuel_type,engineSize,mileage,tax,mpg):\n",
    "    \n",
    "    data = np.zeros(len(columns))\n",
    "    \n",
    "    manufacturer_idx = np.where(columns == manufacturer)[0][0]\n",
    "    model_idx = np.where(columns == model)[0][0]\n",
    "    trasmision_idx = np.where(columns == trasmision)[0][0]\n",
    "    fuel_type_idx = np.where(columns == fuel_type)[0][0]\n",
    "    \n",
    "    data[111] = year\n",
    "    data[115] = engineSize\n",
    "    data[116] = mileage\n",
    "    data[117] = tax\n",
    "    data[118] = mpg\n",
    "    \n",
    "    \n",
    "    \n",
    "    if manufacturer_idx >=0:\n",
    "        data[manufacturer_idx] = 1\n",
    "\n",
    "    if model_idx >=0:\n",
    "        data[model_idx] = 1\n",
    "        \n",
    "    if trasmision_idx >=0:\n",
    "        data[trasmision_idx] = 1\n",
    "        \n",
    "    if fuel_type_idx >=0:\n",
    "        data[fuel_type_idx] = 1\n",
    "        \n",
    "    data = np.asarray([data])\n",
    "    \n",
    "    return xgb.predict(data)"
   ]
  },
  {
   "cell_type": "markdown",
   "id": "a1d91e85",
   "metadata": {},
   "source": [
    "### *Ford Mustang*"
   ]
  },
  {
   "cell_type": "markdown",
   "id": "e6c29f7e",
   "metadata": {},
   "source": [
    "<img src = 'https://cdn.carbuzz.com/gallery-images/840x560/617000/300/617330.jpg' height =\"100\"  width =\"600\">\n",
    "    "
   ]
  },
  {
   "cell_type": "code",
   "execution_count": 74,
   "id": "b23b6e8b",
   "metadata": {},
   "outputs": [
    {
     "data": {
      "text/plain": [
       "array([40409.504], dtype=float32)"
      ]
     },
     "execution_count": 74,
     "metadata": {},
     "output_type": "execute_result"
    }
   ],
   "source": [
    "predict('Ford','Mustang','Automatic',2020,'Petrol',5.0,6000,145,22)"
   ]
  },
  {
   "cell_type": "markdown",
   "id": "4d26c8b0",
   "metadata": {},
   "source": [
    "### *Toyota Corolla*"
   ]
  },
  {
   "cell_type": "markdown",
   "id": "187bf939",
   "metadata": {},
   "source": [
    "<img src = 'https://images.kavak.services/images/30662/toyota-corolla-base2019-frontal-lateral-piloto-lejana-1608341522498.jpg?d=540x310'>"
   ]
  },
  {
   "cell_type": "code",
   "execution_count": 75,
   "id": "95afe04b",
   "metadata": {},
   "outputs": [
    {
     "data": {
      "text/plain": [
       "array([22305.098], dtype=float32)"
      ]
     },
     "execution_count": 75,
     "metadata": {},
     "output_type": "execute_result"
    }
   ],
   "source": [
    "predict('Toyota','Corolla','Manual',2019,'Hybrid',2.0,5000,140,86.23)"
   ]
  },
  {
   "cell_type": "markdown",
   "id": "4a286ec7",
   "metadata": {},
   "source": [
    "### *Hyundi GT86*"
   ]
  },
  {
   "cell_type": "markdown",
   "id": "b348c6f0",
   "metadata": {},
   "source": [
    "<img src = \"https://e00-marca.uecdn.es/assets/multimedia/imagenes/2016/03/19/14583947669790.jpg\" height = \"600\" width = \"600\">"
   ]
  },
  {
   "cell_type": "code",
   "execution_count": 76,
   "id": "753e17dc",
   "metadata": {},
   "outputs": [
    {
     "data": {
      "text/plain": [
       "array([14897.175], dtype=float32)"
      ]
     },
     "execution_count": 76,
     "metadata": {},
     "output_type": "execute_result"
    }
   ],
   "source": [
    "predict('Hyundi','GT86','Manual',2016,'Petrol',2.0,50000,265,36.2)"
   ]
  },
  {
   "cell_type": "markdown",
   "id": "5a05f668",
   "metadata": {},
   "source": [
    "### *Audi A6*"
   ]
  },
  {
   "cell_type": "markdown",
   "id": "3052af68",
   "metadata": {},
   "source": [
    "<img src = \"https://mediaservice.audi.com/media/fast/H4sIAAAAAAAAAFvzloG1tIiBOTrayfuvpGh6-m1zJgaGigIGBgZGoDhTtNOaz-I_2DhCHkCFmZQZWMpTkwoYgSrcmLgycxPTU_VBArz____nZ-RONNNNrSjRzUvNzWcHKhHkOb-ibkWM-qErHf7vJx24fn7uNOll1Qw833LNLySudV57OLXeI96WVUX5mNALBp5asf1a0768mrXrSWyTTPmWHSqVoXMYeOL8QvzWXLq5deKi3KDn-or7fThPeTLw7NJfYSp3q16zSKLhr_Gk9ZNr02qfM_BYPI6SXx0rfDPKXvqsY5aZS9C1V9sYeET0pxzNU9UwClaX6Nvax7Y2-eE7GQYejfM9j15lMnm9qBQ3lZRyVYoO-rCGgWeqrjkPax1f7dLkpcz1j0Qt3yvrz2PgUdvxwXKO5oV6uROCZQxGeQvMVB65MvBcUY1ozPHlk7_6mPPlg1lsjmb9-9kZeOYxftz_577AdIUlkj2vlghLm7y-r8DAc8J9b-X3eV_sudhjzj8XN3gcaMMTy8Czt0LxN0uchcDNJycud_49KZt-3UKQgeevYxGToqOfZnNJ0JeOZqMnygeqkhl4mN691j9lxcaxZOWU_Akbemt2vg8E-m3vzKNXvq4ROqz4TjhxjUHTwaKDu38xsAKjh3EdkGB-ByR4XYAEx0EGMAmKOBOQdByIz_qRmYGB24GBgS2EAQT4hEuLcgoSixJz9YpSiwvy84ozy1IFNQyIBMKsPo6RrkEAm9tGnFYCAAA?mimetype=image/png\" width = 600>"
   ]
  },
  {
   "cell_type": "code",
   "execution_count": 77,
   "id": "2cd1b973",
   "metadata": {},
   "outputs": [
    {
     "data": {
      "text/plain": [
       "array([21410.787], dtype=float32)"
      ]
     },
     "execution_count": 77,
     "metadata": {},
     "output_type": "execute_result"
    }
   ],
   "source": [
    "predict('Audi','A6','Semi-Auto',2018,'Petrol',2.0,30000,150,55.4)"
   ]
  },
  {
   "cell_type": "markdown",
   "id": "da66b782",
   "metadata": {},
   "source": [
    "### *Mercedes Benz G Class* "
   ]
  },
  {
   "cell_type": "markdown",
   "id": "07ee7ec5",
   "metadata": {},
   "source": [
    "<img src = 'https://acnews.blob.core.windows.net/imggallery/800x600/GAZ_836767a50d324bec83096120554e734f.jpg' width = 600>"
   ]
  },
  {
   "cell_type": "code",
   "execution_count": 78,
   "id": "130527ac",
   "metadata": {},
   "outputs": [
    {
     "data": {
      "text/plain": [
       "array([58324.824], dtype=float32)"
      ]
     },
     "execution_count": 78,
     "metadata": {},
     "output_type": "execute_result"
    }
   ],
   "source": [
    "predict('Mercedes','G Class','Automatic',2016,'Petrol',4.0,20000,325,30.4)"
   ]
  },
  {
   "cell_type": "markdown",
   "id": "aa8bad90",
   "metadata": {},
   "source": [
    "### *BMW X7*"
   ]
  },
  {
   "cell_type": "markdown",
   "id": "45292d1c",
   "metadata": {},
   "source": [
    "<img src = \"https://cdn.motor1.com/images/mgl/lA08g/s1/bmw-x7.jpg\" width = 600>"
   ]
  },
  {
   "cell_type": "code",
   "execution_count": 79,
   "id": "3d896d24",
   "metadata": {},
   "outputs": [
    {
     "data": {
      "text/plain": [
       "array([69818.94], dtype=float32)"
      ]
     },
     "execution_count": 79,
     "metadata": {},
     "output_type": "execute_result"
    }
   ],
   "source": [
    "predict('BMW','X7','Semi-Auto',2019,'Diesel',3.0,6000,150,32)"
   ]
  },
  {
   "cell_type": "markdown",
   "id": "f2c260a0",
   "metadata": {},
   "source": [
    "### *Toyota Yaris*"
   ]
  },
  {
   "cell_type": "markdown",
   "id": "ffcea746",
   "metadata": {},
   "source": [
    "<img src = 'https://www.elcarrocolombiano.com/wp-content/uploads/2018/06/20180608-TOYOTA-YARIS-2019-BRASIL-01.jpg' width = 600>"
   ]
  },
  {
   "cell_type": "code",
   "execution_count": 80,
   "id": "83bbdea5",
   "metadata": {},
   "outputs": [
    {
     "data": {
      "text/plain": [
       "array([12424.653], dtype=float32)"
      ]
     },
     "execution_count": 80,
     "metadata": {},
     "output_type": "execute_result"
    }
   ],
   "source": [
    "predict('Toyota','Yaris','Manual',2019,'Hybrid',1.5,15000,140,76.3)"
   ]
  },
  {
   "cell_type": "markdown",
   "id": "e95c15b3",
   "metadata": {},
   "source": [
    "### *Ford Focus*"
   ]
  },
  {
   "cell_type": "markdown",
   "id": "3f5931d3",
   "metadata": {},
   "source": [
    "<img src = \"https://noticias.coches.com/wp-content/uploads/2014/07/ford_focus-3door-2008_r6.jpg\" width = 600>"
   ]
  },
  {
   "cell_type": "code",
   "execution_count": 81,
   "id": "23f90987",
   "metadata": {},
   "outputs": [
    {
     "data": {
      "text/plain": [
       "array([5222.1655], dtype=float32)"
      ]
     },
     "execution_count": 81,
     "metadata": {},
     "output_type": "execute_result"
    }
   ],
   "source": [
    "predict('Ford','Focus','Manual',2008,'Petrol',1.6,50000,20,68)"
   ]
  },
  {
   "cell_type": "markdown",
   "id": "031d7433",
   "metadata": {},
   "source": [
    "### *Save Model*"
   ]
  },
  {
   "cell_type": "markdown",
   "id": "d0146f44",
   "metadata": {},
   "source": [
    "We save it in JSON format in order to make the model run faster.In addition, we save the installation of more libraries in the file requirements.txt."
   ]
  },
  {
   "cell_type": "code",
   "execution_count": 82,
   "id": "4d739522",
   "metadata": {},
   "outputs": [],
   "source": [
    "xgb.save_model(\"xgb_car_price.json\")"
   ]
  },
  {
   "cell_type": "markdown",
   "id": "e1ee5d77",
   "metadata": {},
   "source": [
    "### *Save JSON File*"
   ]
  },
  {
   "cell_type": "markdown",
   "id": "c64ca03e",
   "metadata": {},
   "source": [
    "We create a JSON file with the name of the input variables. In order to facilitate the preprocessing of new data data. Since the categorical variables such as the Transmission Model are in One Hot Encoding format."
   ]
  },
  {
   "cell_type": "code",
   "execution_count": 83,
   "id": "4a45c28f",
   "metadata": {},
   "outputs": [],
   "source": [
    "import json"
   ]
  },
  {
   "cell_type": "code",
   "execution_count": 84,
   "id": "b0dbf59e",
   "metadata": {},
   "outputs": [],
   "source": [
    "columns = {\"data_column\":[col for col in columns]}"
   ]
  },
  {
   "cell_type": "code",
   "execution_count": 23,
   "id": "9dcad7d0",
   "metadata": {},
   "outputs": [],
   "source": [
    "with open(\"C:/Users/amado/Desktop/Vehicules/app/columns.json\",\"w\") as F:\n",
    "\n",
    "    F.write(json.dumps(columns))"
   ]
  }
 ],
 "metadata": {
  "kernelspec": {
   "display_name": "Python 3 (ipykernel)",
   "language": "python",
   "name": "python3"
  },
  "language_info": {
   "codemirror_mode": {
    "name": "ipython",
    "version": 3
   },
   "file_extension": ".py",
   "mimetype": "text/x-python",
   "name": "python",
   "nbconvert_exporter": "python",
   "pygments_lexer": "ipython3",
   "version": "3.9.7"
  }
 },
 "nbformat": 4,
 "nbformat_minor": 5
}
