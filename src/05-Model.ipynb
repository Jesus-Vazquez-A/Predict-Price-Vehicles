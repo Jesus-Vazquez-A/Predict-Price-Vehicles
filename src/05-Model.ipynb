{
 "cells": [
  {
   "cell_type": "markdown",
   "id": "121f34c4",
   "metadata": {},
   "source": [
    "## **Import Libraries**"
   ]
  },
  {
   "cell_type": "code",
   "execution_count": 1,
   "id": "ff66f04e",
   "metadata": {},
   "outputs": [],
   "source": [
    "import pandas as pd\n",
    "import numpy as np\n",
    "import matplotlib.pyplot as plt\n",
    "import seaborn as sns\n",
    "import warnings "
   ]
  },
  {
   "cell_type": "code",
   "execution_count": 2,
   "id": "039053a7",
   "metadata": {},
   "outputs": [],
   "source": [
    "warnings.filterwarnings(\"ignore\")"
   ]
  },
  {
   "cell_type": "markdown",
   "id": "8ba775a4",
   "metadata": {},
   "source": [
    "### **Load Data**"
   ]
  },
  {
   "cell_type": "code",
   "execution_count": 3,
   "id": "586dff69",
   "metadata": {},
   "outputs": [],
   "source": [
    "df = pd.read_csv(\"C:/Users/PC/Desktop/Car-Price-Proyect/data/cars_ohe.csv\")"
   ]
  },
  {
   "cell_type": "markdown",
   "id": "91bbe91a",
   "metadata": {},
   "source": [
    "### *Split Data*"
   ]
  },
  {
   "cell_type": "code",
   "execution_count": 4,
   "id": "c84ee4f1",
   "metadata": {},
   "outputs": [],
   "source": [
    "from sklearn.model_selection import train_test_split"
   ]
  },
  {
   "cell_type": "code",
   "execution_count": 5,
   "id": "6e755153",
   "metadata": {},
   "outputs": [],
   "source": [
    "def load_inputs_outputs():\n",
    "    \n",
    "    X = df.drop([\"price\"],axis = \"columns\")\n",
    "    y = df.price\n",
    "    \n",
    "    return X,y"
   ]
  },
  {
   "cell_type": "code",
   "execution_count": 6,
   "id": "e73b416e",
   "metadata": {},
   "outputs": [],
   "source": [
    "X,y = load_inputs_outputs()"
   ]
  },
  {
   "cell_type": "code",
   "execution_count": 7,
   "id": "9bb205d9",
   "metadata": {},
   "outputs": [],
   "source": [
    "X_train,X_test,Y_train,Y_test = train_test_split(X,y,test_size = 0.2,random_state = 42)"
   ]
  },
  {
   "cell_type": "code",
   "execution_count": 8,
   "id": "1aecc74e",
   "metadata": {},
   "outputs": [
    {
     "data": {
      "text/plain": [
       "((44299, 119), (11075, 119))"
      ]
     },
     "execution_count": 8,
     "metadata": {},
     "output_type": "execute_result"
    }
   ],
   "source": [
    "X_train.shape,X_test.shape"
   ]
  },
  {
   "cell_type": "markdown",
   "id": "eeba6c49",
   "metadata": {},
   "source": [
    "### *Array Transform*"
   ]
  },
  {
   "cell_type": "code",
   "execution_count": 9,
   "id": "e2e506ac",
   "metadata": {},
   "outputs": [],
   "source": [
    "def array(data):\n",
    "    return np.asarray(data)"
   ]
  },
  {
   "cell_type": "code",
   "execution_count": 10,
   "id": "f25756f1",
   "metadata": {},
   "outputs": [],
   "source": [
    "X_train,Y_train = array(X_train),array(Y_train)"
   ]
  },
  {
   "cell_type": "code",
   "execution_count": 11,
   "id": "d477093c",
   "metadata": {},
   "outputs": [],
   "source": [
    "X_test,Y_test = array(X_test),array(Y_test)"
   ]
  },
  {
   "cell_type": "markdown",
   "id": "8ea10d92",
   "metadata": {},
   "source": [
    "## **Model**"
   ]
  },
  {
   "cell_type": "code",
   "execution_count": 12,
   "id": "b6a0ed29",
   "metadata": {},
   "outputs": [],
   "source": [
    "from xgboost import XGBRegressor"
   ]
  },
  {
   "cell_type": "code",
   "execution_count": 13,
   "id": "4261b0b9",
   "metadata": {},
   "outputs": [],
   "source": [
    "params={'gamma': 10,\n",
    "     'learning_rate': 0.01,\n",
    "     'max_depth': 7,\n",
    "     'n_estimators': 1000,\n",
    "     'random_state': 42,\n",
    "     'subsample': 0.85,\n",
    "     'n_jobs':-1}"
   ]
  },
  {
   "cell_type": "code",
   "execution_count": 14,
   "id": "c1a0bbf4",
   "metadata": {},
   "outputs": [],
   "source": [
    "xgb = XGBRegressor(**params)"
   ]
  },
  {
   "cell_type": "code",
   "execution_count": 15,
   "id": "8aa436c9",
   "metadata": {},
   "outputs": [
    {
     "data": {
      "text/plain": [
       "XGBRegressor(base_score=0.5, booster='gbtree', callbacks=None,\n",
       "             colsample_bylevel=1, colsample_bynode=1, colsample_bytree=1,\n",
       "             early_stopping_rounds=None, enable_categorical=False,\n",
       "             eval_metric=None, gamma=10, gpu_id=-1, grow_policy='depthwise',\n",
       "             importance_type=None, interaction_constraints='',\n",
       "             learning_rate=0.01, max_bin=256, max_cat_to_onehot=4,\n",
       "             max_delta_step=0, max_depth=7, max_leaves=0, min_child_weight=1,\n",
       "             missing=nan, monotone_constraints='()', n_estimators=1000,\n",
       "             n_jobs=-1, num_parallel_tree=1, predictor='auto', random_state=42,\n",
       "             reg_alpha=0, reg_lambda=1, ...)"
      ]
     },
     "execution_count": 15,
     "metadata": {},
     "output_type": "execute_result"
    }
   ],
   "source": [
    "xgb.fit(X_train,Y_train)"
   ]
  },
  {
   "cell_type": "code",
   "execution_count": 16,
   "id": "84bc8d1f",
   "metadata": {},
   "outputs": [
    {
     "data": {
      "text/plain": [
       "0.9659736879480013"
      ]
     },
     "execution_count": 16,
     "metadata": {},
     "output_type": "execute_result"
    }
   ],
   "source": [
    "xgb.score(X_train,Y_train)"
   ]
  },
  {
   "cell_type": "code",
   "execution_count": 17,
   "id": "5e88637f",
   "metadata": {},
   "outputs": [
    {
     "data": {
      "text/plain": [
       "0.959877667150209"
      ]
     },
     "execution_count": 17,
     "metadata": {},
     "output_type": "execute_result"
    }
   ],
   "source": [
    "xgb.score(X_test,Y_test)"
   ]
  },
  {
   "cell_type": "markdown",
   "id": "015b77d1",
   "metadata": {},
   "source": [
    "### *Metrics*"
   ]
  },
  {
   "cell_type": "code",
   "execution_count": 18,
   "id": "e1108f73",
   "metadata": {},
   "outputs": [],
   "source": [
    "from sklearn.metrics import mean_squared_error,mean_absolute_error\n",
    "from sklearn.model_selection import cross_val_score"
   ]
  },
  {
   "cell_type": "code",
   "execution_count": 19,
   "id": "1c65ff23",
   "metadata": {},
   "outputs": [],
   "source": [
    "class Metrics():\n",
    "\n",
    "  def __init__(self,pred_train,pred_test):\n",
    "    self.pred_train = pred_train\n",
    "    self.pred_test = pred_test\n",
    "\n",
    "\n",
    "  def MSE(self):\n",
    "\n",
    "    mse_train = mean_squared_error(Y_train,self.pred_train)\n",
    "    mse_test = mean_squared_error(Y_test,self.pred_test)\n",
    "\n",
    "    return mse_train,mse_test\n",
    "\n",
    "\n",
    "  def MAE(self):\n",
    "\n",
    "    mse_train = mean_absolute_error(Y_train,self.pred_train)\n",
    "    mse_test = mean_absolute_error(Y_test,self.pred_test)\n",
    "\n",
    "    return mse_train,mse_test\n",
    "\n",
    "\n",
    "  def CrossValidation(self,model,x,y):\n",
    "\n",
    "    return cross_val_score(model,x,y,cv = 5,n_jobs = -1)"
   ]
  },
  {
   "cell_type": "code",
   "execution_count": 20,
   "id": "1d72adb8",
   "metadata": {},
   "outputs": [],
   "source": [
    "pred_train,pred_test = xgb.predict(X_train),xgb.predict(X_test)"
   ]
  },
  {
   "cell_type": "code",
   "execution_count": 21,
   "id": "6c217818",
   "metadata": {},
   "outputs": [],
   "source": [
    "metrics = Metrics(pred_train,pred_test)"
   ]
  },
  {
   "cell_type": "code",
   "execution_count": 22,
   "id": "e6f1cb92",
   "metadata": {},
   "outputs": [],
   "source": [
    "mse_train,mse_test = metrics.MSE()\n",
    "mae_train,mae_test = metrics.MAE()"
   ]
  },
  {
   "cell_type": "markdown",
   "id": "94600f2e",
   "metadata": {},
   "source": [
    "#### *Mean Square Error*\n",
    "\n",
    "It measures the average error between the original and the predicted value. This metric is very sensitive when the model offers very distant predictions. But at the same time it offers you a better approach to the performance of the model."
   ]
  },
  {
   "cell_type": "code",
   "execution_count": 23,
   "id": "b3909dd9",
   "metadata": {},
   "outputs": [
    {
     "name": "stdout",
     "output_type": "stream",
     "text": [
      "MSE Train 3051744.4845426655\n",
      "MSE Test 3672442.6224558135\n"
     ]
    }
   ],
   "source": [
    "print(f\"MSE Train {mse_train}\")\n",
    "print(f\"MSE Test {mse_test}\")"
   ]
  },
  {
   "cell_type": "markdown",
   "id": "1fa98382",
   "metadata": {},
   "source": [
    "#### *Mean Aboslute Error*\n",
    "\n",
    "It is similar to the MSE with the difference that it is very robust with outliers."
   ]
  },
  {
   "cell_type": "code",
   "execution_count": 24,
   "id": "2418a8ab",
   "metadata": {},
   "outputs": [
    {
     "name": "stdout",
     "output_type": "stream",
     "text": [
      "MAE Train 1232.71592213191\n",
      "MAE Test 1292.600782264038\n"
     ]
    }
   ],
   "source": [
    "print(f\"MAE Train {mae_train}\")\n",
    "print(f\"MAE Test {mae_test}\")"
   ]
  },
  {
   "cell_type": "markdown",
   "id": "5f88903e",
   "metadata": {},
   "source": [
    "#### *Cross Validation*\n",
    "\n",
    "It seeks to obtain the generalization average of the model."
   ]
  },
  {
   "cell_type": "code",
   "execution_count": 25,
   "id": "f9d3e10a",
   "metadata": {},
   "outputs": [],
   "source": [
    "cv = metrics.CrossValidation(xgb,X_test,Y_test)"
   ]
  },
  {
   "cell_type": "code",
   "execution_count": 26,
   "id": "eee47f01",
   "metadata": {},
   "outputs": [
    {
     "data": {
      "text/plain": [
       "array([0.94775098, 0.94239008, 0.95086455, 0.93691561, 0.9444738 ])"
      ]
     },
     "execution_count": 26,
     "metadata": {},
     "output_type": "execute_result"
    }
   ],
   "source": [
    "cv"
   ]
  },
  {
   "cell_type": "code",
   "execution_count": 27,
   "id": "cade4285",
   "metadata": {
    "scrolled": true
   },
   "outputs": [
    {
     "data": {
      "text/plain": [
       "0.9444790061713633"
      ]
     },
     "execution_count": 27,
     "metadata": {},
     "output_type": "execute_result"
    }
   ],
   "source": [
    "cv.mean()"
   ]
  },
  {
   "cell_type": "markdown",
   "id": "8356861c",
   "metadata": {},
   "source": [
    "## **Opening the Black Box**"
   ]
  },
  {
   "cell_type": "markdown",
   "id": "93b00b98",
   "metadata": {},
   "source": [
    "### *Most Important Features*"
   ]
  },
  {
   "cell_type": "code",
   "execution_count": 118,
   "id": "a076661a",
   "metadata": {},
   "outputs": [],
   "source": [
    "features,feature_importances = X.columns,xgb.feature_importances_"
   ]
  },
  {
   "cell_type": "code",
   "execution_count": 119,
   "id": "904b7e96",
   "metadata": {},
   "outputs": [],
   "source": [
    "def relevant_features():\n",
    "    features_list,feature_important_list = list(),list()\n",
    "    for i,v in enumerate(feature_importances):\n",
    "        if v >= 0.029782:\n",
    "            features_list.append(features[i])\n",
    "            feature_important_list.append(v)\n",
    "            \n",
    "    return features_list,feature_important_list"
   ]
  },
  {
   "cell_type": "code",
   "execution_count": 120,
   "id": "de7017da",
   "metadata": {},
   "outputs": [],
   "source": [
    "features,feature_importances = relevant_features()"
   ]
  },
  {
   "cell_type": "code",
   "execution_count": 121,
   "id": "c8f40c81",
   "metadata": {},
   "outputs": [],
   "source": [
    "df_features_importance = pd.DataFrame({\"Features\":features,\"Importance\":feature_importances})"
   ]
  },
  {
   "cell_type": "code",
   "execution_count": 127,
   "id": "8b796de6",
   "metadata": {},
   "outputs": [],
   "source": [
    "df_features_importance = df_features_importance.sort_values(by = \"Importance\",ascending = True)"
   ]
  },
  {
   "cell_type": "code",
   "execution_count": 128,
   "id": "409a4bac",
   "metadata": {},
   "outputs": [
    {
     "data": {
      "text/html": [
       "<div><div id=85ea718f-34f7-47fc-93bf-eb7d097af63f style=\"display:none; background-color:#9D6CFF; color:white; width:200px; height:30px; padding-left:5px; border-radius:4px; flex-direction:row; justify-content:space-around; align-items:center;\" onmouseover=\"this.style.backgroundColor='#BA9BF8'\" onmouseout=\"this.style.backgroundColor='#9D6CFF'\" onclick=\"window.commands?.execute('create-mitosheet-from-dataframe-output');\">See Full Dataframe in Mito</div> <script> if (window.commands?.hasCommand('create-mitosheet-from-dataframe-output')) document.getElementById('85ea718f-34f7-47fc-93bf-eb7d097af63f').style.display = 'flex' </script> <table border=\"1\" class=\"dataframe\">\n",
       "  <thead>\n",
       "    <tr style=\"text-align: right;\">\n",
       "      <th></th>\n",
       "      <th>Features</th>\n",
       "      <th>Importance</th>\n",
       "    </tr>\n",
       "  </thead>\n",
       "  <tbody>\n",
       "    <tr>\n",
       "      <th>1</th>\n",
       "      <td>year</td>\n",
       "      <td>0.029782</td>\n",
       "    </tr>\n",
       "    <tr>\n",
       "      <th>3</th>\n",
       "      <td>mpg</td>\n",
       "      <td>0.031242</td>\n",
       "    </tr>\n",
       "    <tr>\n",
       "      <th>2</th>\n",
       "      <td>engineSize</td>\n",
       "      <td>0.049080</td>\n",
       "    </tr>\n",
       "    <tr>\n",
       "      <th>0</th>\n",
       "      <td>Manual</td>\n",
       "      <td>0.408114</td>\n",
       "    </tr>\n",
       "  </tbody>\n",
       "</table></div>"
      ],
      "text/plain": [
       "     Features  Importance\n",
       "1        year    0.029782\n",
       "3         mpg    0.031242\n",
       "2  engineSize    0.049080\n",
       "0      Manual    0.408114"
      ]
     },
     "execution_count": 128,
     "metadata": {},
     "output_type": "execute_result"
    }
   ],
   "source": [
    "df_features_importance"
   ]
  },
  {
   "cell_type": "code",
   "execution_count": 35,
   "id": "a5e2949b",
   "metadata": {},
   "outputs": [],
   "source": [
    "sns.set_style(\"whitegrid\")"
   ]
  },
  {
   "cell_type": "markdown",
   "id": "b3f6f374",
   "metadata": {},
   "source": [
    "### *Plot Importance*"
   ]
  },
  {
   "cell_type": "code",
   "execution_count": 124,
   "id": "ff0e9ebf",
   "metadata": {},
   "outputs": [],
   "source": [
    "def plot_importance(colors):\n",
    "    \n",
    "    fig,ax = plt.subplots(1,1,figsize = (20,8))\n",
    "    \n",
    "    _ = ax.set_title(\"Plot Importance\")\n",
    "    _ = plt.barh(df_features_importance[\"Features\"],df_features_importance[\"Importance\"],color = colors)\n",
    "    plt.savefig(\"plot_importance.jpeg\")"
   ]
  },
  {
   "cell_type": "code",
   "execution_count": 138,
   "id": "8f0d5e48",
   "metadata": {},
   "outputs": [],
   "source": [
    "colors = ['#808080', '#e30052','#ff8000','#007fff']"
   ]
  },
  {
   "cell_type": "code",
   "execution_count": 139,
   "id": "31cb101e",
   "metadata": {},
   "outputs": [
    {
     "data": {
      "image/png": "[encoded data removed]",
      "text/plain": [
       "<Figure size 1440x576 with 1 Axes>"
      ]
     },
     "metadata": {},
     "output_type": "display_data"
    }
   ],
   "source": [
    "_ = plot_importance(colors)"
   ]
  },
  {
   "cell_type": "markdown",
   "id": "ec9f68db",
   "metadata": {},
   "source": [
    "* If the vehicle has a Manual transmission, the price of the vehicle generally decreases, it is less expensive with an automatic or semi-automatic transmission.\n",
    "\n",
    "\n",
    "\n",
    "* The engine size is a variable that has a lot of weight. Since the greater the capacity, the greater the technical capacity of the car.\n",
    "\n",
    "\n",
    "\n",
    "* The MPG in some countries is the main producer, for the purchase of a vehicle. Since there will be people looking for an economical car in terms of fuel consumption.\n",
    "\n",
    "\n",
    "\n",
    "* The year of manufacture includes in the price, since if a vehicle of the same model. It will make the price of the car more expensive, since it will be a more recent model.\n",
    "\n",
    "\n",
    "\n",
    "\n",
    "These are the variables that most influence the model. The other variables can help complement the result.\n",
    "\n",
    "\n",
    "\n",
    "For example, in this list of the most important variables, the mileage variable does not appear. It is well known that generally a vehicle with more mileage tends to lower the price."
   ]
  },
  {
   "cell_type": "markdown",
   "id": "87f29d1f",
   "metadata": {},
   "source": [
    "## **Predictions**"
   ]
  },
  {
   "cell_type": "code",
   "execution_count": 140,
   "id": "11f16637",
   "metadata": {},
   "outputs": [],
   "source": [
    "df_predictions = pd.DataFrame({\"True Values\":Y_test,\"Predicted Values\":pred_test})"
   ]
  },
  {
   "cell_type": "code",
   "execution_count": 141,
   "id": "79652700",
   "metadata": {},
   "outputs": [],
   "source": [
    "sns.set_style(style = \"whitegrid\")"
   ]
  },
  {
   "cell_type": "code",
   "execution_count": 142,
   "id": "972f57f3",
   "metadata": {},
   "outputs": [],
   "source": [
    "def main():\n",
    "    \n",
    "    fig,ax = plt.subplots(1,1,figsize = (20,8))\n",
    "    sns.scatterplot(data = df_predictions,x = \"True Values\",y = \"Predicted Values\",ax = ax,color = \"c\")\n",
    "    sns.lineplot(Y_test,Y_test,ax = ax)"
   ]
  },
  {
   "cell_type": "code",
   "execution_count": 143,
   "id": "ce558113",
   "metadata": {},
   "outputs": [
    {
     "data": {
      "image/png": "[encoded data removed]",
      "text/plain": [
       "<Figure size 1440x576 with 1 Axes>"
      ]
     },
     "metadata": {},
     "output_type": "display_data"
    }
   ],
   "source": [
    "_ = main()"
   ]
  },
  {
   "cell_type": "code",
   "execution_count": 144,
   "id": "176157d6",
   "metadata": {},
   "outputs": [
    {
     "data": {
      "text/html": [
       "<div><div id=8d5612ba-a7f8-4a76-b4c0-4350fba47fc7 style=\"display:none; background-color:#9D6CFF; color:white; width:200px; height:30px; padding-left:5px; border-radius:4px; flex-direction:row; justify-content:space-around; align-items:center;\" onmouseover=\"this.style.backgroundColor='#BA9BF8'\" onmouseout=\"this.style.backgroundColor='#9D6CFF'\" onclick=\"window.commands?.execute('create-mitosheet-from-dataframe-output');\">See Full Dataframe in Mito</div> <script> if (window.commands?.hasCommand('create-mitosheet-from-dataframe-output')) document.getElementById('8d5612ba-a7f8-4a76-b4c0-4350fba47fc7').style.display = 'flex' </script> <table border=\"1\" class=\"dataframe\">\n",
       "  <thead>\n",
       "    <tr style=\"text-align: right;\">\n",
       "      <th></th>\n",
       "      <th>True Values</th>\n",
       "      <th>Predicted Values</th>\n",
       "    </tr>\n",
       "  </thead>\n",
       "  <tbody>\n",
       "    <tr>\n",
       "      <th>9930</th>\n",
       "      <td>12900</td>\n",
       "      <td>12186.975586</td>\n",
       "    </tr>\n",
       "    <tr>\n",
       "      <th>4783</th>\n",
       "      <td>19995</td>\n",
       "      <td>19124.804688</td>\n",
       "    </tr>\n",
       "    <tr>\n",
       "      <th>10153</th>\n",
       "      <td>19750</td>\n",
       "      <td>19056.869141</td>\n",
       "    </tr>\n",
       "    <tr>\n",
       "      <th>5693</th>\n",
       "      <td>11000</td>\n",
       "      <td>12087.282227</td>\n",
       "    </tr>\n",
       "    <tr>\n",
       "      <th>11048</th>\n",
       "      <td>11850</td>\n",
       "      <td>10779.148438</td>\n",
       "    </tr>\n",
       "    <tr>\n",
       "      <th>1250</th>\n",
       "      <td>9999</td>\n",
       "      <td>9320.934570</td>\n",
       "    </tr>\n",
       "    <tr>\n",
       "      <th>8423</th>\n",
       "      <td>18495</td>\n",
       "      <td>16465.187500</td>\n",
       "    </tr>\n",
       "    <tr>\n",
       "      <th>1437</th>\n",
       "      <td>13998</td>\n",
       "      <td>13783.101562</td>\n",
       "    </tr>\n",
       "    <tr>\n",
       "      <th>7322</th>\n",
       "      <td>11290</td>\n",
       "      <td>12074.627930</td>\n",
       "    </tr>\n",
       "    <tr>\n",
       "      <th>3804</th>\n",
       "      <td>9990</td>\n",
       "      <td>10812.479492</td>\n",
       "    </tr>\n",
       "  </tbody>\n",
       "</table></div>"
      ],
      "text/plain": [
       "       True Values  Predicted Values\n",
       "9930         12900      12186.975586\n",
       "4783         19995      19124.804688\n",
       "10153        19750      19056.869141\n",
       "5693         11000      12087.282227\n",
       "11048        11850      10779.148438\n",
       "1250          9999       9320.934570\n",
       "8423         18495      16465.187500\n",
       "1437         13998      13783.101562\n",
       "7322         11290      12074.627930\n",
       "3804          9990      10812.479492"
      ]
     },
     "execution_count": 144,
     "metadata": {},
     "output_type": "execute_result"
    }
   ],
   "source": [
    "df_predictions.sample(n = 10,random_state = 2020)"
   ]
  },
  {
   "cell_type": "markdown",
   "id": "9c66e8df",
   "metadata": {},
   "source": [
    "As can be seen in both the graph and the dataframe, the model offers predictions very close to the original value."
   ]
  },
  {
   "cell_type": "markdown",
   "id": "6510cf72",
   "metadata": {},
   "source": [
    "## *New Predictions*"
   ]
  },
  {
   "cell_type": "code",
   "execution_count": 145,
   "id": "618239b6",
   "metadata": {},
   "outputs": [],
   "source": [
    "columns = X.columns"
   ]
  },
  {
   "cell_type": "code",
   "execution_count": 146,
   "id": "ffcf3045",
   "metadata": {},
   "outputs": [],
   "source": [
    "def predict(manufacturer,model,trasmision,year,fuel_type,engineSize,mileage,tax,mpg):\n",
    "    \n",
    "    data = np.zeros(len(columns))\n",
    "    \n",
    "    manufacturer_idx = np.where(columns == manufacturer)[0][0]\n",
    "    model_idx = np.where(columns == model)[0][0]\n",
    "    trasmision_idx = np.where(columns == trasmision)[0][0]\n",
    "    fuel_type_idx = np.where(columns == fuel_type)[0][0]\n",
    "    \n",
    "    data[111] = year\n",
    "    data[115] = engineSize\n",
    "    data[116] = mileage\n",
    "    data[117] = tax\n",
    "    data[118] = mpg\n",
    "    \n",
    "    \n",
    "    \n",
    "    if manufacturer_idx >=0:\n",
    "        data[manufacturer_idx] = 1\n",
    "\n",
    "    if model_idx >=0:\n",
    "        data[model_idx] = 1\n",
    "        \n",
    "    if trasmision_idx >=0:\n",
    "        data[trasmision_idx] = 1\n",
    "        \n",
    "    if fuel_type_idx >=0:\n",
    "        data[fuel_type_idx] = 1\n",
    "        \n",
    "    data = np.asarray([data])\n",
    "    \n",
    "    return xgb.predict(data)"
   ]
  },
  {
   "cell_type": "markdown",
   "id": "a1d91e85",
   "metadata": {},
   "source": [
    "### *Ford Mustang*"
   ]
  },
  {
   "cell_type": "markdown",
   "id": "e6c29f7e",
   "metadata": {},
   "source": [
    "<img src = 'https://cdn.carbuzz.com/gallery-images/840x560/617000/300/617330.jpg' height =\"100\"  width =\"600\">\n",
    "    "
   ]
  },
  {
   "cell_type": "code",
   "execution_count": 150,
   "id": "b23b6e8b",
   "metadata": {},
   "outputs": [
    {
     "data": {
      "text/plain": [
       "array([42365.203], dtype=float32)"
      ]
     },
     "execution_count": 150,
     "metadata": {},
     "output_type": "execute_result"
    }
   ],
   "source": [
    "predict('Ford','Mustang','Automatic',2020,'Petrol',5.0,3500,145,22.01)"
   ]
  },
  {
   "cell_type": "markdown",
   "id": "4d26c8b0",
   "metadata": {},
   "source": [
    "### *Toyota Corolla*"
   ]
  },
  {
   "cell_type": "markdown",
   "id": "187bf939",
   "metadata": {},
   "source": [
    "<img src = 'https://images.kavak.services/images/30662/toyota-corolla-base2019-frontal-lateral-piloto-lejana-1608341522498.jpg?d=540x310'>"
   ]
  },
  {
   "cell_type": "code",
   "execution_count": 151,
   "id": "95afe04b",
   "metadata": {},
   "outputs": [
    {
     "data": {
      "text/plain": [
       "array([21687.107], dtype=float32)"
      ]
     },
     "execution_count": 151,
     "metadata": {},
     "output_type": "execute_result"
    }
   ],
   "source": [
    "predict('Toyota','Corolla','Manual',2019,'Hybrid',2.0,5000,140,86.23)"
   ]
  },
  {
   "cell_type": "markdown",
   "id": "4a286ec7",
   "metadata": {},
   "source": [
    "### *Hyundi GT86*"
   ]
  },
  {
   "cell_type": "markdown",
   "id": "b348c6f0",
   "metadata": {},
   "source": [
    "<img src = \"https://e00-marca.uecdn.es/assets/multimedia/imagenes/2016/03/19/14583947669790.jpg\" height = \"600\" width = \"600\">"
   ]
  },
  {
   "cell_type": "code",
   "execution_count": 152,
   "id": "753e17dc",
   "metadata": {},
   "outputs": [
    {
     "data": {
      "text/plain": [
       "array([14738.581], dtype=float32)"
      ]
     },
     "execution_count": 152,
     "metadata": {},
     "output_type": "execute_result"
    }
   ],
   "source": [
    "predict('Hyundi','GT86','Manual',2016,'Petrol',2.0,50000,265,36.2)"
   ]
  },
  {
   "cell_type": "markdown",
   "id": "5a05f668",
   "metadata": {},
   "source": [
    "### *Audi A6*"
   ]
  },
  {
   "cell_type": "markdown",
   "id": "3052af68",
   "metadata": {},
   "source": [
    "<img src = \"https://mediaservice.audi.com/media/fast/H4sIAAAAAAAAAFvzloG1tIiBOTrayfuvpGh6-m1zJgaGigIGBgZGoDhTtNOaz-I_2DhCHkCFmZQZWMpTkwoYgSrcmLgycxPTU_VBArz____nZ-RONNNNrSjRzUvNzWcHKhHkOb-ibkWM-qErHf7vJx24fn7uNOll1Qw833LNLySudV57OLXeI96WVUX5mNALBp5asf1a0768mrXrSWyTTPmWHSqVoXMYeOL8QvzWXLq5deKi3KDn-or7fThPeTLw7NJfYSp3q16zSKLhr_Gk9ZNr02qfM_BYPI6SXx0rfDPKXvqsY5aZS9C1V9sYeET0pxzNU9UwClaX6Nvax7Y2-eE7GQYejfM9j15lMnm9qBQ3lZRyVYoO-rCGgWeqrjkPax1f7dLkpcz1j0Qt3yvrz2PgUdvxwXKO5oV6uROCZQxGeQvMVB65MvBcUY1ozPHlk7_6mPPlg1lsjmb9-9kZeOYxftz_577AdIUlkj2vlghLm7y-r8DAc8J9b-X3eV_sudhjzj8XN3gcaMMTy8Czt0LxN0uchcDNJycud_49KZt-3UKQgeevYxGToqOfZnNJ0JeOZqMnygeqkhl4mN691j9lxcaxZOWU_Akbemt2vg8E-m3vzKNXvq4ROqz4TjhxjUHTwaKDu38xsAKjh3EdkGB-ByR4XYAEx0EGMAmKOBOQdByIz_qRmYGB24GBgS2EAQT4hEuLcgoSixJz9YpSiwvy84ozy1IFNQyIBMKsPo6RrkEAm9tGnFYCAAA?mimetype=image/png\" width = 600>"
   ]
  },
  {
   "cell_type": "code",
   "execution_count": 153,
   "id": "2cd1b973",
   "metadata": {},
   "outputs": [
    {
     "data": {
      "text/plain": [
       "array([22378.328], dtype=float32)"
      ]
     },
     "execution_count": 153,
     "metadata": {},
     "output_type": "execute_result"
    }
   ],
   "source": [
    "predict('Audi','A6','Semi-Auto',2018,'Petrol',2.0,30000,150,55.4)"
   ]
  },
  {
   "cell_type": "markdown",
   "id": "da66b782",
   "metadata": {},
   "source": [
    "### *Mercedes Benz G Class* "
   ]
  },
  {
   "cell_type": "markdown",
   "id": "07ee7ec5",
   "metadata": {},
   "source": [
    "<img src = 'https://acnews.blob.core.windows.net/imggallery/800x600/GAZ_836767a50d324bec83096120554e734f.jpg' width = 600>"
   ]
  },
  {
   "cell_type": "code",
   "execution_count": 154,
   "id": "130527ac",
   "metadata": {},
   "outputs": [
    {
     "data": {
      "text/plain": [
       "array([59196.305], dtype=float32)"
      ]
     },
     "execution_count": 154,
     "metadata": {},
     "output_type": "execute_result"
    }
   ],
   "source": [
    "predict('Mercedes-Benz','G Class','Automatic',2016,'Petrol',4.0,20000,325,30.4)"
   ]
  },
  {
   "cell_type": "markdown",
   "id": "aa8bad90",
   "metadata": {},
   "source": [
    "### *BMW X7*"
   ]
  },
  {
   "cell_type": "markdown",
   "id": "45292d1c",
   "metadata": {},
   "source": [
    "<img src = \"https://cdn.motor1.com/images/mgl/lA08g/s1/bmw-x7.jpg\" width = 600>"
   ]
  },
  {
   "cell_type": "code",
   "execution_count": 155,
   "id": "3d896d24",
   "metadata": {},
   "outputs": [
    {
     "data": {
      "text/plain": [
       "array([69644.33], dtype=float32)"
      ]
     },
     "execution_count": 155,
     "metadata": {},
     "output_type": "execute_result"
    }
   ],
   "source": [
    "predict('BMW','X7','Semi-Auto',2019,'Diesel',3.0,6000,150,32)"
   ]
  },
  {
   "cell_type": "markdown",
   "id": "f2c260a0",
   "metadata": {},
   "source": [
    "### *Toyota Yaris*"
   ]
  },
  {
   "cell_type": "markdown",
   "id": "ffcea746",
   "metadata": {},
   "source": [
    "<img src = 'https://www.elcarrocolombiano.com/wp-content/uploads/2018/06/20180608-TOYOTA-YARIS-2019-BRASIL-01.jpg' width = 600>"
   ]
  },
  {
   "cell_type": "code",
   "execution_count": 156,
   "id": "83bbdea5",
   "metadata": {},
   "outputs": [
    {
     "data": {
      "text/plain": [
       "array([11853.546], dtype=float32)"
      ]
     },
     "execution_count": 156,
     "metadata": {},
     "output_type": "execute_result"
    }
   ],
   "source": [
    "predict('Toyota','Yaris','Manual',2019,'Hybrid',1.5,15000,140,76.3)"
   ]
  },
  {
   "cell_type": "markdown",
   "id": "e95c15b3",
   "metadata": {},
   "source": [
    "### *Ford Focus*"
   ]
  },
  {
   "cell_type": "markdown",
   "id": "3f5931d3",
   "metadata": {},
   "source": [
    "<img src = \"https://noticias.coches.com/wp-content/uploads/2014/07/ford_focus-3door-2008_r6.jpg\" width = 600>"
   ]
  },
  {
   "cell_type": "code",
   "execution_count": 157,
   "id": "23f90987",
   "metadata": {},
   "outputs": [
    {
     "data": {
      "text/plain": [
       "array([4882.4873], dtype=float32)"
      ]
     },
     "execution_count": 157,
     "metadata": {},
     "output_type": "execute_result"
    }
   ],
   "source": [
    "predict('Ford','Focus','Manual',2008,'Petrol',1.6,50000,20,68)"
   ]
  },
  {
   "cell_type": "markdown",
   "id": "031d7433",
   "metadata": {},
   "source": [
    "### *Save Model*"
   ]
  },
  {
   "cell_type": "markdown",
   "id": "d0146f44",
   "metadata": {},
   "source": [
    "We save it in JSON format in order to make the model run faster.In addition, we save the installation of more libraries in the file requirements.txt."
   ]
  },
  {
   "cell_type": "code",
   "execution_count": 158,
   "id": "4d739522",
   "metadata": {},
   "outputs": [],
   "source": [
    "xgb.save_model(\"C:/Users/PC/Desktop/Car-Price-Proyect/app/xgb_price.json\")"
   ]
  },
  {
   "cell_type": "markdown",
   "id": "e1ee5d77",
   "metadata": {},
   "source": [
    "### *Save JSON File*"
   ]
  },
  {
   "cell_type": "markdown",
   "id": "c64ca03e",
   "metadata": {},
   "source": [
    "We create a JSON file with the name of the input variables. In order to facilitate the preprocessing of new data data. Since the categorical variables such as the Transmission Model are in One Hot Encoding format."
   ]
  },
  {
   "cell_type": "code",
   "execution_count": 159,
   "id": "4a45c28f",
   "metadata": {},
   "outputs": [],
   "source": [
    "import json"
   ]
  },
  {
   "cell_type": "code",
   "execution_count": 160,
   "id": "b0dbf59e",
   "metadata": {},
   "outputs": [],
   "source": [
    "columns = {\"data_column\":[col for col in columns]}"
   ]
  },
  {
   "cell_type": "code",
   "execution_count": 162,
   "id": "9dcad7d0",
   "metadata": {},
   "outputs": [],
   "source": [
    "with open(\"C:/Users/PC/Desktop/Car-Price-Proyect/app/columns.json\",\"w\") as F:\n",
    "\n",
    "    F.write(json.dumps(columns))"
   ]
  }
 ],
 "metadata": {
  "kernelspec": {
   "display_name": "Python 3 (ipykernel)",
   "language": "python",
   "name": "python3"
  },
  "language_info": {
   "codemirror_mode": {
    "name": "ipython",
    "version": 3
   },
   "file_extension": ".py",
   "mimetype": "text/x-python",
   "name": "python",
   "nbconvert_exporter": "python",
   "pygments_lexer": "ipython3",
   "version": "3.9.7"
  }
 },
 "nbformat": 4,
 "nbformat_minor": 5
}
