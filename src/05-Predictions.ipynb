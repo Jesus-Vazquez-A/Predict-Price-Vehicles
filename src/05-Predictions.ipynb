{
 "cells": [
  {
   "cell_type": "code",
   "execution_count": 5,
   "id": "2d704e10",
   "metadata": {},
   "outputs": [],
   "source": [
    "import xgboost as xgb\n",
    "import numpy as np \n",
    "import json\n",
    "import pandas as pd"
   ]
  },
  {
   "cell_type": "markdown",
   "id": "8ea10d92",
   "metadata": {},
   "source": [
    "## *Load Old Model*"
   ]
  },
  {
   "cell_type": "code",
   "execution_count": 2,
   "id": "c1a0bbf4",
   "metadata": {},
   "outputs": [],
   "source": [
    "old_model = xgb.XGBRegressor()"
   ]
  },
  {
   "cell_type": "code",
   "execution_count": 4,
   "id": "8aa436c9",
   "metadata": {},
   "outputs": [
    {
     "name": "stdout",
     "output_type": "stream",
     "text": [
      "[10:38:34] WARNING: C:/Jenkins/workspace/xgboost-win64_release_0.90/src/objective/regression_obj.cu:152: reg:linear is now deprecated in favor of reg:squarederror.\n"
     ]
    }
   ],
   "source": [
    "old_model.load_model(\"C:/Users/amado/Desktop/Car-Predict-Price/app/xgb_car_price.json\")"
   ]
  },
  {
   "cell_type": "markdown",
   "id": "42b5b775",
   "metadata": {},
   "source": [
    "## *Predictions*"
   ]
  },
  {
   "cell_type": "code",
   "execution_count": 9,
   "id": "546dae48",
   "metadata": {},
   "outputs": [],
   "source": [
    "df_inputs = pd.read_csv(\"C:/Users/amado/Desktop/Car-Predict-Price/data/inputs.csv\")"
   ]
  },
  {
   "cell_type": "code",
   "execution_count": 10,
   "id": "e2e85ef6",
   "metadata": {},
   "outputs": [],
   "source": [
    "X = np.asarray(df_inputs)"
   ]
  },
  {
   "cell_type": "code",
   "execution_count": 11,
   "id": "63a3507f",
   "metadata": {},
   "outputs": [],
   "source": [
    "pred = old_model.predict(X)"
   ]
  },
  {
   "cell_type": "code",
   "execution_count": 12,
   "id": "94f5cfab",
   "metadata": {},
   "outputs": [],
   "source": [
    "df_inputs[\"predictions\"] = pred"
   ]
  },
  {
   "cell_type": "code",
   "execution_count": 15,
   "id": "1f55d1b3",
   "metadata": {},
   "outputs": [],
   "source": [
    "df_inputs.to_csv(\"C:/Users/amado/Desktop/Car-Predict-Price/data/predictions.csv\",index = False)"
   ]
  },
  {
   "cell_type": "markdown",
   "id": "6510cf72",
   "metadata": {},
   "source": [
    "## *New Predictions*"
   ]
  },
  {
   "cell_type": "code",
   "execution_count": 17,
   "id": "117e5853",
   "metadata": {},
   "outputs": [],
   "source": [
    "with open(\"C:/Users/amado/Desktop/Car-Predict-Price//app/columns.json\") as json_file:\n",
    "    \n",
    "    columns = json.loads(json_file.read())\n",
    "    columns = np.asarray(columns['columns_data'])"
   ]
  },
  {
   "cell_type": "code",
   "execution_count": 18,
   "id": "ffcf3045",
   "metadata": {},
   "outputs": [],
   "source": [
    "def predict(manufacturer,model,trasmision,year,fuel_type,engineSize,mileage,tax,mpg):\n",
    "    \n",
    "    data = np.zeros(len(columns))\n",
    "    \n",
    "    manufacturer_idx = np.where(columns == manufacturer)[0][0]\n",
    "    model_idx = np.where(columns == model)[0][0]\n",
    "    trasmision_idx = np.where(columns == trasmision)[0][0]\n",
    "    fuel_type_idx = np.where(columns == fuel_type)[0][0]\n",
    "    \n",
    "    data[111] = year\n",
    "    data[115] = engineSize\n",
    "    data[116] = mileage\n",
    "    data[117] = tax\n",
    "    data[118] = mpg\n",
    "    \n",
    "    if manufacturer_idx >=0:\n",
    "        data[manufacturer_idx] = 1\n",
    "\n",
    "    if model_idx >=0:\n",
    "        data[model_idx] = 1\n",
    "        \n",
    "    if trasmision_idx >=0:\n",
    "        data[trasmision_idx] = 1\n",
    "        \n",
    "    if fuel_type_idx >=0:\n",
    "        data[fuel_type_idx] = 1\n",
    "        \n",
    "    data = np.asarray([data])\n",
    "    \n",
    "    return old_model.predict(data)"
   ]
  },
  {
   "cell_type": "markdown",
   "id": "a1d91e85",
   "metadata": {},
   "source": [
    "### *Ford Mustang*"
   ]
  },
  {
   "cell_type": "markdown",
   "id": "e6c29f7e",
   "metadata": {},
   "source": [
    "<img src = 'https://cdn.carbuzz.com/gallery-images/840x560/617000/300/617330.jpg' height =\"100\"  width =\"600\">\n",
    "    "
   ]
  },
  {
   "cell_type": "code",
   "execution_count": 20,
   "id": "b23b6e8b",
   "metadata": {},
   "outputs": [
    {
     "data": {
      "text/plain": [
       "array([40409.504], dtype=float32)"
      ]
     },
     "execution_count": 20,
     "metadata": {},
     "output_type": "execute_result"
    }
   ],
   "source": [
    "predict('Ford','Mustang','Automatic',2020,'Petrol',5.0,6000,145,22)"
   ]
  },
  {
   "cell_type": "markdown",
   "id": "4d26c8b0",
   "metadata": {},
   "source": [
    "### *Toyota Corolla*"
   ]
  },
  {
   "cell_type": "markdown",
   "id": "187bf939",
   "metadata": {},
   "source": [
    "<img src = 'https://images.kavak.services/images/30662/toyota-corolla-base2019-frontal-lateral-piloto-lejana-1608341522498.jpg?d=540x310'>"
   ]
  },
  {
   "cell_type": "code",
   "execution_count": 21,
   "id": "95afe04b",
   "metadata": {},
   "outputs": [
    {
     "data": {
      "text/plain": [
       "array([22305.098], dtype=float32)"
      ]
     },
     "execution_count": 21,
     "metadata": {},
     "output_type": "execute_result"
    }
   ],
   "source": [
    "predict('Toyota','Corolla','Manual',2019,'Hybrid',2.0,5000,140,86.23)"
   ]
  },
  {
   "cell_type": "markdown",
   "id": "4a286ec7",
   "metadata": {},
   "source": [
    "### *Hyundi GT86*"
   ]
  },
  {
   "cell_type": "markdown",
   "id": "b348c6f0",
   "metadata": {},
   "source": [
    "<img src = \"https://e00-marca.uecdn.es/assets/multimedia/imagenes/2016/03/19/14583947669790.jpg\" height = \"600\" width = \"600\">"
   ]
  },
  {
   "cell_type": "code",
   "execution_count": 22,
   "id": "753e17dc",
   "metadata": {},
   "outputs": [
    {
     "data": {
      "text/plain": [
       "array([14897.175], dtype=float32)"
      ]
     },
     "execution_count": 22,
     "metadata": {},
     "output_type": "execute_result"
    }
   ],
   "source": [
    "predict('Hyundi','GT86','Manual',2016,'Petrol',2.0,50000,265,36.2)"
   ]
  },
  {
   "cell_type": "markdown",
   "id": "5a05f668",
   "metadata": {},
   "source": [
    "### *Audi A6*"
   ]
  },
  {
   "cell_type": "markdown",
   "id": "3052af68",
   "metadata": {},
   "source": [
    "<img src = \"https://mediaservice.audi.com/media/fast/H4sIAAAAAAAAAFvzloG1tIiBOTrayfuvpGh6-m1zJgaGigIGBgZGoDhTtNOaz-I_2DhCHkCFmZQZWMpTkwoYgSrcmLgycxPTU_VBArz____nZ-RONNNNrSjRzUvNzWcHKhHkOb-ibkWM-qErHf7vJx24fn7uNOll1Qw833LNLySudV57OLXeI96WVUX5mNALBp5asf1a0768mrXrSWyTTPmWHSqVoXMYeOL8QvzWXLq5deKi3KDn-or7fThPeTLw7NJfYSp3q16zSKLhr_Gk9ZNr02qfM_BYPI6SXx0rfDPKXvqsY5aZS9C1V9sYeET0pxzNU9UwClaX6Nvax7Y2-eE7GQYejfM9j15lMnm9qBQ3lZRyVYoO-rCGgWeqrjkPax1f7dLkpcz1j0Qt3yvrz2PgUdvxwXKO5oV6uROCZQxGeQvMVB65MvBcUY1ozPHlk7_6mPPlg1lsjmb9-9kZeOYxftz_577AdIUlkj2vlghLm7y-r8DAc8J9b-X3eV_sudhjzj8XN3gcaMMTy8Czt0LxN0uchcDNJycud_49KZt-3UKQgeevYxGToqOfZnNJ0JeOZqMnygeqkhl4mN691j9lxcaxZOWU_Akbemt2vg8E-m3vzKNXvq4ROqz4TjhxjUHTwaKDu38xsAKjh3EdkGB-ByR4XYAEx0EGMAmKOBOQdByIz_qRmYGB24GBgS2EAQT4hEuLcgoSixJz9YpSiwvy84ozy1IFNQyIBMKsPo6RrkEAm9tGnFYCAAA?mimetype=image/png\" width = 600>"
   ]
  },
  {
   "cell_type": "code",
   "execution_count": 26,
   "id": "2cd1b973",
   "metadata": {},
   "outputs": [
    {
     "data": {
      "text/plain": [
       "array([21410.787], dtype=float32)"
      ]
     },
     "execution_count": 26,
     "metadata": {},
     "output_type": "execute_result"
    }
   ],
   "source": [
    "predict('Audi','A6','Semi-Auto',2018,'Petrol',2.0,30000,150,55.4)"
   ]
  },
  {
   "cell_type": "markdown",
   "id": "da66b782",
   "metadata": {},
   "source": [
    "### *Mercedes Benz G Class* "
   ]
  },
  {
   "cell_type": "markdown",
   "id": "07ee7ec5",
   "metadata": {},
   "source": [
    "<img src = 'https://acnews.blob.core.windows.net/imggallery/800x600/GAZ_836767a50d324bec83096120554e734f.jpg' width = 600>"
   ]
  },
  {
   "cell_type": "code",
   "execution_count": 27,
   "id": "130527ac",
   "metadata": {},
   "outputs": [
    {
     "data": {
      "text/plain": [
       "array([58324.824], dtype=float32)"
      ]
     },
     "execution_count": 27,
     "metadata": {},
     "output_type": "execute_result"
    }
   ],
   "source": [
    "predict('Mercedes','G Class','Automatic',2016,'Petrol',4.0,20000,325,30.4)"
   ]
  },
  {
   "cell_type": "markdown",
   "id": "aa8bad90",
   "metadata": {},
   "source": [
    "### *BMW X7*"
   ]
  },
  {
   "cell_type": "markdown",
   "id": "45292d1c",
   "metadata": {},
   "source": [
    "<img src = \"https://cdn.motor1.com/images/mgl/lA08g/s1/bmw-x7.jpg\" width = 600>"
   ]
  },
  {
   "cell_type": "code",
   "execution_count": 28,
   "id": "3d896d24",
   "metadata": {},
   "outputs": [
    {
     "data": {
      "text/plain": [
       "array([69818.94], dtype=float32)"
      ]
     },
     "execution_count": 28,
     "metadata": {},
     "output_type": "execute_result"
    }
   ],
   "source": [
    "predict('BMW','X7','Semi-Auto',2019,'Diesel',3.0,6000,150,32)"
   ]
  },
  {
   "cell_type": "markdown",
   "id": "f2c260a0",
   "metadata": {},
   "source": [
    "### *Toyota Yaris*"
   ]
  },
  {
   "cell_type": "markdown",
   "id": "ffcea746",
   "metadata": {},
   "source": [
    "<img src = 'https://www.elcarrocolombiano.com/wp-content/uploads/2018/06/20180608-TOYOTA-YARIS-2019-BRASIL-01.jpg' width = 600>"
   ]
  },
  {
   "cell_type": "code",
   "execution_count": 29,
   "id": "83bbdea5",
   "metadata": {},
   "outputs": [
    {
     "data": {
      "text/plain": [
       "array([12424.653], dtype=float32)"
      ]
     },
     "execution_count": 29,
     "metadata": {},
     "output_type": "execute_result"
    }
   ],
   "source": [
    "predict('Toyota','Yaris','Manual',2019,'Hybrid',1.5,15000,140,76.3)"
   ]
  },
  {
   "cell_type": "markdown",
   "id": "e95c15b3",
   "metadata": {},
   "source": [
    "### *Ford Focus*"
   ]
  },
  {
   "cell_type": "markdown",
   "id": "3f5931d3",
   "metadata": {},
   "source": [
    "<img src = \"https://noticias.coches.com/wp-content/uploads/2014/07/ford_focus-3door-2008_r6.jpg\" width = 600>"
   ]
  },
  {
   "cell_type": "code",
   "execution_count": 30,
   "id": "23f90987",
   "metadata": {},
   "outputs": [
    {
     "data": {
      "text/plain": [
       "array([5222.1655], dtype=float32)"
      ]
     },
     "execution_count": 30,
     "metadata": {},
     "output_type": "execute_result"
    }
   ],
   "source": [
    "predict('Ford','Focus','Manual',2008,'Petrol',1.6,50000,20,68)"
   ]
  }
 ],
 "metadata": {
  "kernelspec": {
   "display_name": "Python 3",
   "language": "python",
   "name": "python3"
  },
  "language_info": {
   "codemirror_mode": {
    "name": "ipython",
    "version": 3
   },
   "file_extension": ".py",
   "mimetype": "text/x-python",
   "name": "python",
   "nbconvert_exporter": "python",
   "pygments_lexer": "ipython3",
   "version": "3.8.8"
  }
 },
 "nbformat": 4,
 "nbformat_minor": 5
}
