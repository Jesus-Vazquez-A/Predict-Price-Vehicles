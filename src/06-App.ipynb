{
 "cells": [
  {
   "cell_type": "markdown",
   "id": "097703d1",
   "metadata": {},
   "source": [
    "## *Import Libraries*"
   ]
  },
  {
   "cell_type": "code",
   "execution_count": 1,
   "id": "52fab6f1",
   "metadata": {},
   "outputs": [],
   "source": [
    "import streamlit as st\n",
    "import xgboost as xgb\n",
    "import numpy as np\n",
    "import json"
   ]
  },
  {
   "cell_type": "markdown",
   "id": "bc3f57b1",
   "metadata": {},
   "source": [
    "### *Load JSON File*\n",
    "\n",
    "We load the JSON file that will help us to preprocess One Hot Encoding data."
   ]
  },
  {
   "cell_type": "code",
   "execution_count": 2,
   "id": "49ef52b7",
   "metadata": {},
   "outputs": [],
   "source": [
    "st.cache(allow_output_mutation=True)\n",
    "\n",
    "def json_file():\n",
    "    \n",
    "    with open(\"columns.json\") as columns:\n",
    "        \n",
    "        data_json = json.loads(columns.read())\n",
    "        data_json = np.asarray(data_json['columns_data'])\n",
    "\n",
    "    return data_json"
   ]
  },
  {
   "cell_type": "markdown",
   "id": "3b4a2c68",
   "metadata": {},
   "source": [
    "## *User Inputs Widgets*\n",
    "\n",
    "We create the widgets so that the user enters the data in a comfortable way."
   ]
  },
  {
   "cell_type": "code",
   "execution_count": 3,
   "id": "52bc051e",
   "metadata": {},
   "outputs": [],
   "source": [
    "st.cache(allow_output_mutation=True)\n",
    "\n",
    "def UserInputs():\n",
    "    \n",
    "    manufacturer = st.selectbox(\"Manufacturer\",(\"Ford\",\"Toyota\",\"Hyundai\",\"BMW\",\"Audi\",\"Mercedes-Benz\"))\n",
    "    if manufacturer == \"Ford\":\n",
    "        \n",
    "        model_car = st.selectbox(\"Model\",('Fiesta', 'Focus', 'Kuga', 'EcoSport', 'C-MAX', 'Ka+',\n",
    "       'Tourneo Custom', 'S-MAX', 'B-MAX', 'Edge', 'Tourneo Connect',\n",
    "       'Mondeo', 'KA', 'Grand C-MAX', 'Galaxy', 'Mustang',\n",
    "       'Grand Tourneo Connect', 'Fusion'))\n",
    "        \n",
    "        \n",
    "    if manufacturer == \"Toyota\":\n",
    "        \n",
    "        \n",
    "        model_car = st.selectbox(\"Model\",('GT86', 'Corolla', 'RAV4', 'Yaris', 'Auris', 'Aygo', 'C-HR',\n",
    "       'Prius', 'Avensis', 'Verso', 'Hilux', 'Camry','Land Cruiser'))\n",
    "    \n",
    "        \n",
    "    if manufacturer == \"Hyundai\":\n",
    "        \n",
    "        model_car = st.selectbox(\"Model\",('I20', 'Tucson', 'I10', 'IX35', 'I30', 'I40', 'Ioniq',\n",
    "       'Kona', 'I800', 'IX20', 'Santa Fe'))\n",
    "        \n",
    "        \n",
    "    if manufacturer == \"BMW\":\n",
    "        \n",
    "        model_car = st.selectbox(\"Model\",('5 Series', '6 Series', '1 Series', '7 Series', '2 Series',\n",
    "       '4 Series', 'X3', '3 Series', 'X4', 'X1', 'M4', 'X6', 'X5',\n",
    "       'Z4', 'X7', 'X2', 'M5', 'i8', 'M2', '8 Series', 'M3'))\n",
    "        \n",
    "        \n",
    "    if manufacturer == \"Audi\":\n",
    "        \n",
    "        model_car = st.selectbox(\"Model\",('A1', 'A6', 'A4', 'A3', 'Q3', 'Q5', 'A5', 'Q2', 'A7',\n",
    "       'RS6', 'Q7', 'A8', 'TT', 'Q8', 'RS4', 'RS5', 'RS3', 'SQ5',\n",
    "       'S3', 'R8'))\n",
    "        \n",
    "        \n",
    "    if manufacturer == \"Mercedes-Benz\":\n",
    "        \n",
    "        model_car = st.selectbox(\"Model\",('S Class', 'SL CLASS', 'G Class', 'GLE Class', 'GLA Class',\n",
    "       'GLC Class', 'B Class', 'C Class', 'E Class', 'GL Class',\n",
    "       'CLS Class', 'A Class', 'SLK', 'V Class', 'CLA Class',\n",
    "       'CL Class', 'GLS Class', 'M Class', 'X-CLASS'))\n",
    "    \n",
    "    trasmission = st.radio('Trasmission',('Automatic','Manual','Semi-Auto'))\n",
    "    year = st.slider('Year',min_value = 2000,max_value = 2020,step = 1)\n",
    "    fuelType = st.radio('Fuel Type',('Diesel','Hybrid','Petrol'))\n",
    "    \n",
    "    engineSize = st.selectbox('Engine Size',(0.0,1.0, 1.1,1.2,1.3,1.4,1.5,1.6,1.7,1.8,2.0,2.1,2.2,\n",
    "       2.3,2.4,2.5,2.8,2.9,3.0,3.5,4.0,4.2,4.4,4.7,5.0,5.2,5.5))\n",
    "     \n",
    "    mileage = st.number_input('Mile Age',min_value = 5000,max_value = 74000)\n",
    "    tax = st.slider('Tax',min_value = 0,max_value = 280,step = 1)\n",
    "    mpg = st.number_input('MPG',min_value = 20.80,max_value = 250.0)\n",
    "    \n",
    "    return manufacturer,model_car,trasmission,year,fuelType,engineSize,mileage,tax,mpg"
   ]
  },
  {
   "cell_type": "markdown",
   "id": "3325eddf",
   "metadata": {},
   "source": [
    "## *One Hot Encoding Preprocessing*"
   ]
  },
  {
   "cell_type": "code",
   "execution_count": 4,
   "id": "45713ad0",
   "metadata": {},
   "outputs": [],
   "source": [
    "st.cache(allow_output_mutation=True)\n",
    "\n",
    "def preprocess():\n",
    "    \n",
    "    columns = json_file()\n",
    "    model_car,manufacturer,trasmision,year,fuelType,engineSize,mileage,tax,mpg = UserInputs()\n",
    "    \n",
    "    data = np.zeros(len(columns))\n",
    "    \n",
    "    model_idx = np.where(columns == model_car)[0][0]\n",
    "    trasmision_idx = np.where(columns == trasmision)[0][0]\n",
    "    fuel_type_idx = np.where(columns == fuelType)[0][0]\n",
    "    \n",
    "    data[111] = year\n",
    "    data[115] = engineSize\n",
    "    data[116] = mileage\n",
    "    data[117] = tax\n",
    "    data[118] = mpg\n",
    "    \n",
    "    if model_idx >=0:\n",
    "        data[model_idx] = 1\n",
    "        \n",
    "    if trasmision_idx >=0:\n",
    "        data[trasmision_idx] = 1\n",
    "        \n",
    "    if fuel_type_idx >=0:\n",
    "        data[fuel_type_idx] = 1\n",
    "        \n",
    "    return np.asarray([data])"
   ]
  },
  {
   "cell_type": "markdown",
   "id": "8d86d8ad",
   "metadata": {},
   "source": [
    "## *Load Model*\n",
    "\n",
    "We load the model that we previously trained.So that it takes the user data already processed to be able to generate new predictions."
   ]
  },
  {
   "cell_type": "code",
   "execution_count": 5,
   "id": "eeeb0308",
   "metadata": {},
   "outputs": [],
   "source": [
    "st.cache(allow_output_mutation=True)\n",
    "\n",
    "def predict(new_data):\n",
    "    model = xgb.XGBRegressor().load_model(\"xgb_car_price.json\")\n",
    "    return np.round(model.predict(new_data)).astype(int)"
   ]
  },
  {
   "cell_type": "markdown",
   "id": "5f0c3f7e",
   "metadata": {},
   "source": [
    "## *Generate Predictions*\n",
    "\n",
    "The user clicks the \"Predict\" button to generate the prediction."
   ]
  },
  {
   "cell_type": "code",
   "execution_count": 6,
   "id": "fbc653b5",
   "metadata": {},
   "outputs": [],
   "source": [
    "st.cache(allow_output_mutation=True)\n",
    "\n",
    "def main():\n",
    "    \n",
    "    st.subheader(\"User Input\")\n",
    "    new_data = preprocess()\n",
    "    if st.button(label = 'Predict'):\n",
    "        \n",
    "        price=predict(new_data)\n",
    "        st.success(f'The estimated price of the vehicle is: $ {price} £')"
   ]
  },
  {
   "cell_type": "code",
   "execution_count": 7,
   "id": "71aa7348",
   "metadata": {},
   "outputs": [
    {
     "name": "stderr",
     "output_type": "stream",
     "text": [
      "2022-08-31 12:20:22.013 \n",
      "  \u001b[33m\u001b[1mWarning:\u001b[0m to view this Streamlit app on a browser, run it with the following\n",
      "  command:\n",
      "\n",
      "    streamlit run C:\\Users\\amado\\anaconda3\\lib\\site-packages\\ipykernel_launcher.py [ARGUMENTS]\n"
     ]
    }
   ],
   "source": [
    "st.cache(allow_output_mutation=True)\n",
    "\n",
    "if __name__ == '__main__':\n",
    "    main()"
   ]
  }
 ],
 "metadata": {
  "kernelspec": {
   "display_name": "Python 3",
   "language": "python",
   "name": "python3"
  },
  "language_info": {
   "codemirror_mode": {
    "name": "ipython",
    "version": 3
   },
   "file_extension": ".py",
   "mimetype": "text/x-python",
   "name": "python",
   "nbconvert_exporter": "python",
   "pygments_lexer": "ipython3",
   "version": "3.8.8"
  }
 },
 "nbformat": 4,
 "nbformat_minor": 5
}
