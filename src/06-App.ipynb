{
 "cells": [
  {
   "cell_type": "markdown",
   "id": "24c9cfbe",
   "metadata": {},
   "source": [
    "## *Import Libraries*"
   ]
  },
  {
   "cell_type": "code",
   "execution_count": 25,
   "id": "008329b5",
   "metadata": {},
   "outputs": [],
   "source": [
    "import streamlit as st\n",
    "import numpy as np\n",
    "import xgboost as xgb\n",
    "import json"
   ]
  },
  {
   "cell_type": "markdown",
   "id": "cef516b1",
   "metadata": {},
   "source": [
    "## *Load JSON File*\n",
    "We load the JSON file that will help us to preprocess One Hot Encoding data."
   ]
  },
  {
   "cell_type": "code",
   "execution_count": 32,
   "id": "dbfb769d",
   "metadata": {},
   "outputs": [],
   "source": [
    "\n",
    "st.cache(allow_output_mutation=True)\n",
    "\n",
    "def json_file():\n",
    "    \n",
    "    with open(\"columns.json\") as columns:\n",
    "        \n",
    "        data_json = json.loads(columns.read())\n",
    "        data_json = np.asarray(data_json['data_columns'])\n",
    "\n",
    "    return data_json"
   ]
  },
  {
   "cell_type": "markdown",
   "id": "013119dc",
   "metadata": {},
   "source": [
    "## *User Inputs Widgets*\n",
    "Create the widgets so that the user enters the data in a comfortable way."
   ]
  },
  {
   "cell_type": "code",
   "execution_count": 33,
   "id": "ac9dde58",
   "metadata": {},
   "outputs": [],
   "source": [
    "st.cache(allow_output_mutation=True)\n",
    "\n",
    "def UserInputs():\n",
    "    \n",
    "    manufacturer = st.selectbox(\"Manufacturer\",(\"Ford\",\"Toyota\",\"Hyundai\",\n",
    "                                                \"Volkswagen\",\"Skoda\",\"Vauxhall\",\n",
    "                                                \"BMW\",\"Audi\",\"Mercedes-Benz\"))\n",
    "    \n",
    "    if manufacturer == \"Ford\":\n",
    "        \n",
    "        model_car = st.selectbox(\"Model\",('Fiesta', 'Focus', 'Kuga', 'EcoSport', 'C-MAX', 'Ka+',\n",
    "       'Tourneo Custom', 'S-MAX', 'B-MAX', 'Edge', 'Tourneo Connect',\n",
    "       'Puma', 'Mondeo', 'KA', 'Grand C-MAX', 'Galaxy', 'Mustang',\n",
    "       'Grand Tourneo Connect', 'Fusion'))\n",
    "        \n",
    "        \n",
    "    if manufacturer == \"Toyota\":\n",
    "        \n",
    "        \n",
    "        model_car = st.selectbox(\"Model\",('GT86', 'Corolla', 'RAV4', 'Yaris', 'Auris', 'Aygo', 'C-HR',\n",
    "       'Prius', 'Avensis', 'Verso', 'Hilux', 'Land Cruiser', 'Camry'))\n",
    "    \n",
    "        \n",
    "    if manufacturer == \"Hyundai\":\n",
    "        \n",
    "        model_car = st.selectbox(\"Model\",('I20', 'Tucson', 'I10', 'IX35', 'I30', 'I40', 'Ioniq', 'Kona',\n",
    "       'I800', 'IX20', 'Santa Fe'))\n",
    "        \n",
    "        \n",
    "    if manufacturer == \"Volkswagen\":\n",
    "        model_car = st.selectbox(\"Model\",('T-Roc', 'Golf', 'Passat', \n",
    "                                          'T-Cross', 'Polo', 'Tiguan', 'Sharan',\n",
    "                                           'Up', 'Scirocco', 'Beetle', \n",
    "                                          'Caddy Maxi Life', 'Caravelle',\n",
    "                                           'Touareg', 'Arteon', \n",
    "                                          'Touran', 'Golf SV', 'Amarok',\n",
    "                                           'Tiguan Allspace', 'Shuttle',\n",
    "                                          'Jetta', 'CC', 'California'))\n",
    "        \n",
    "    if manufacturer == \"Skoda\":\n",
    "        model_car = st.selectbox(\"Model\",('Octavia', 'Yeti Outdoor', \n",
    "                                          'Superb', 'Rapid', 'Karoq', 'Fabia',\n",
    "                                        'Yeti', 'Kodiaq', 'Scala', \n",
    "                                          'Citigo', 'Roomster', 'Kamiq'))\n",
    "                                         \n",
    "    \n",
    "    \n",
    "    if manufacturer == \"Vauxhall\":\n",
    "        model_car = st.selectbox(\"Model\",('Corsa', 'Astra', 'Viva', 'Mokka', 'Mokka X', 'Crossland X',\n",
    "       'Zafira', 'Meriva', 'Zafira Tourer', 'Adam', 'Grandland X',\n",
    "       'Antara', 'Insignia', 'GTC', 'Combo Life', 'Vivaro', 'Agila')) \n",
    "        \n",
    "        \n",
    "        \n",
    "    if manufacturer == \"BMW\":\n",
    "        \n",
    "        model_car = st.selectbox(\"Model\",('5 Series', '6 Series', '1 Series', '7 Series', '2 Series',\n",
    "       '4 Series', 'X3', '3 Series', 'X5', 'X4', 'X1', 'M4', 'X6', 'Z4',\n",
    "       'X2', 'i8', 'M2', 'i3', '8 Series', 'M3', 'M5'))\n",
    "        \n",
    "        \n",
    "    if manufacturer == \"Audi\":\n",
    "        \n",
    "        model_car = st.selectbox(\"Model\",('A1', 'A6', 'A4', 'A3', 'Q3', 'Q5', 'A5', 'Q2', 'A7', 'RS6', 'Q7',\n",
    "       'A8', 'TT', 'Q8', 'RS4', 'RS5', 'RS3', 'R8', 'SQ5', 'S3'))\n",
    "        \n",
    "        \n",
    "    if manufacturer == \"Mercedes-Benz\":\n",
    "        \n",
    "        model_car = st.selectbox(\"Model\",('SL CLASS', 'GLE Class', 'GLA Class', 'GLC Class', 'B Class',\n",
    "       'C Class', 'E Class', 'GL Class', 'CLS Class', 'A Class', 'SLK',\n",
    "       'CLA Class', 'V Class', 'CL Class', 'GLS Class', 'M Class',\n",
    "       'X-CLASS', 'S Class'))\n",
    "                                                    \n",
    "    \n",
    "    trasmission = st.radio('Trasmission',('Automatic','Manual','Semi-Auto'))\n",
    "    \n",
    "    year = st.slider('Year',min_value = 2000,max_value = 2020,step = 1)\n",
    "    \n",
    "    \n",
    "    fuelType = st.radio('Fuel Type',('Diesel','Hybrid','Petrol'))\n",
    "    \n",
    "    engineSize = st.selectbox('Engine Size',(0.0, 1.0,1.1,1.2,1.3,1.4,1.5,1.6,1.7,1.8,2,2.1,2.2,\n",
    "       2.3,2.4,2.5,2.8,2.9,3.0,3.2,3.5,4.0,4.2,4.4,4.7,5.0,5.2, 5.5, 6.2))\n",
    "   \n",
    "     \n",
    "    mileage = st.number_input('Mile Age',min_value = 3100,max_value = 100000)\n",
    "   \n",
    "\n",
    "    return manufacturer,model_car,trasmission,year,fuelType,engineSize,mileage"
   ]
  },
  {
   "cell_type": "markdown",
   "id": "ffa1db6d",
   "metadata": {},
   "source": [
    "## *One Hot Encoding*"
   ]
  },
  {
   "cell_type": "code",
   "execution_count": 37,
   "id": "559282d0",
   "metadata": {},
   "outputs": [],
   "source": [
    "st.cache(allow_output_mutation=True)\n",
    "\n",
    "def preprocess():\n",
    "    \n",
    "    columns = json_file()\n",
    "    model_car,manufacturer,trasmision,year,fuelType,engineSize,mileage= UserInputs()\n",
    "    \n",
    "    data = np.zeros(len(columns))\n",
    "    \n",
    "    model_idx = np.where(columns == model_car)[0][0]\n",
    "    trasmision_idx = np.where(columns == trasmision)[0][0]\n",
    "    fuel_type_idx = np.where(columns == fuelType)[0][0]\n",
    "    \n",
    "    data[165] = year\n",
    "    data[170] = engineSize\n",
    "    data[171] = mileage\n",
    "\n",
    "    \n",
    "    if model_idx >=0:\n",
    "        data[model_idx] = 1\n",
    "        \n",
    "    if trasmision_idx >=0:\n",
    "        data[trasmision_idx] = 1\n",
    "        \n",
    "    if fuel_type_idx >=0:\n",
    "        data[fuel_type_idx] = 1\n",
    "        \n",
    "    return np.asarray([data])"
   ]
  },
  {
   "cell_type": "markdown",
   "id": "499222f0",
   "metadata": {},
   "source": [
    "## *Load Model*"
   ]
  },
  {
   "cell_type": "code",
   "execution_count": 35,
   "id": "9fd3d806",
   "metadata": {},
   "outputs": [],
   "source": [
    "st.cache(allow_output_mutation=True)\n",
    "\n",
    "def predict(new_data):\n",
    "    model = xgb.XGBRegressor().load_model(\"cars_sales_model.json\")\n",
    "    return  np.round(model.predict(new_data)).astype(int)"
   ]
  },
  {
   "cell_type": "markdown",
   "id": "ff7c143e",
   "metadata": {},
   "source": [
    "## *Generate Predictions*\n",
    "The user clicks the \"Predict\" button to generate the prediction."
   ]
  },
  {
   "cell_type": "code",
   "execution_count": 36,
   "id": "14e3b72d",
   "metadata": {},
   "outputs": [],
   "source": [
    "st.cache(allow_output_mutation=True)\n",
    "\n",
    "def main():\n",
    "    \n",
    "    st.subheader(\"User Input\")\n",
    "    new_data = preprocess()\n",
    "    if st.button(label = 'Predict'):\n",
    "        \n",
    "        price=predict(new_data)\n",
    "        st.success(f'The estimated price of the vehicle is: $ {price} £')"
   ]
  }
 ],
 "metadata": {
  "kernelspec": {
   "display_name": "Python 3 (ipykernel)",
   "language": "python",
   "name": "python3"
  },
  "language_info": {
   "codemirror_mode": {
    "name": "ipython",
    "version": 3
   },
   "file_extension": ".py",
   "mimetype": "text/x-python",
   "name": "python",
   "nbconvert_exporter": "python",
   "pygments_lexer": "ipython3",
   "version": "3.9.7"
  }
 },
 "nbformat": 4,
 "nbformat_minor": 5
}
